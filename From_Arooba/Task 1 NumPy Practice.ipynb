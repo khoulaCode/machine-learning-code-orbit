{
 "cells": [
  {
   "cell_type": "code",
   "execution_count": 5,
   "id": "c8cdb43f-1b31-4cd4-84d0-3b6439ba62f5",
   "metadata": {},
   "outputs": [
    {
     "name": "stdout",
     "output_type": "stream",
     "text": [
      "arr1d: [0 1 2 3 4 5 6 7 8 9]\n"
     ]
    }
   ],
   "source": [
    "import numpy as np\n",
    "\n",
    "arr1d = np.arange(10)\n",
    "print(\"arr1d:\", arr1d)"
   ]
  },
  {
   "cell_type": "markdown",
   "id": "2b7e7e33",
   "metadata": {},
   "source": [
    "#Part 1: Array Creation and Properties"
   ]
  },
  {
   "cell_type": "code",
   "execution_count": 6,
   "id": "3eddfbf6-9182-447b-981d-8c4c7841779d",
   "metadata": {},
   "outputs": [
    {
     "name": "stdout",
     "output_type": "stream",
     "text": [
      "arr2d:\n",
      " [[1. 1. 1.]\n",
      " [1. 1. 1.]\n",
      " [1. 1. 1.]]\n"
     ]
    }
   ],
   "source": [
    "arr2d = np.ones((3, 3))\n",
    "print(\"arr2d:\\n\", arr2d)"
   ]
  },
  {
   "cell_type": "code",
   "execution_count": 7,
   "id": "fca44dc6-0749-46ca-a8d6-bbf65c0a90be",
   "metadata": {},
   "outputs": [
    {
     "name": "stdout",
     "output_type": "stream",
     "text": [
      "random_matrix:\n",
      " [[-0.72399839 -2.23660685  0.46245371]\n",
      " [ 0.44036526 -0.60210651 -0.08529459]\n",
      " [ 0.77856531  0.646151    0.51678057]]\n"
     ]
    }
   ],
   "source": [
    "random_matrix = np.random.randn(3, 3)\n",
    "print(\"random_matrix:\\n\", random_matrix)"
   ]
  },
  {
   "cell_type": "code",
   "execution_count": 9,
   "id": "57585622-6247-4976-81d6-3de791241e88",
   "metadata": {},
   "outputs": [
    {
     "name": "stdout",
     "output_type": "stream",
     "text": [
      "even_numbers: [10 12 14 16 18 20 22 24 26 28 30 32 34 36 38 40 42 44 46 48 50]\n"
     ]
    }
   ],
   "source": [
    "even_numbers = np.arange(10, 51, 2)\n",
    "print(\"even_numbers:\", even_numbers)"
   ]
  },
  {
   "cell_type": "code",
   "execution_count": 15,
   "id": "a0319d52",
   "metadata": {},
   "outputs": [
    {
     "name": "stdout",
     "output_type": "stream",
     "text": [
      "linspace_array:\n",
      " [0.         0.16666667 0.33333333 0.5        0.66666667 0.83333333\n",
      " 1.        ]\n"
     ]
    }
   ],
   "source": [
    "linspace_array = np.linspace(0, 1, 7)\n",
    "print(\"linspace_array:\\n\", linspace_array)"
   ]
  },
  {
   "cell_type": "code",
   "execution_count": 16,
   "id": "9688d4f3",
   "metadata": {},
   "outputs": [
    {
     "name": "stdout",
     "output_type": "stream",
     "text": [
      "Shape: (2, 3)\n",
      "Dimensions (ndim): 2\n",
      "Data type (dtype): int64\n"
     ]
    }
   ],
   "source": [
    "arr = np.array([[1, 2, 3], [4, 5, 6]])\n",
    "print(\"Shape:\", arr.shape)\n",
    "print(\"Dimensions (ndim):\", arr.ndim)\n",
    "print(\"Data type (dtype):\", arr.dtype)"
   ]
  },
  {
   "cell_type": "markdown",
   "id": "352204c7",
   "metadata": {},
   "source": [
    "#Part 2: Array Manipulation"
   ]
  },
  {
   "cell_type": "code",
   "execution_count": 17,
   "id": "5d26b8e2",
   "metadata": {},
   "outputs": [
    {
     "name": "stdout",
     "output_type": "stream",
     "text": [
      "reshaped_arr:\n",
      " [[0 1 2 3 4]\n",
      " [5 6 7 8 9]]\n"
     ]
    }
   ],
   "source": [
    "reshaped_arr = arr1d.reshape(2, 5)\n",
    "print(\"reshaped_arr:\\n\", reshaped_arr)"
   ]
  },
  {
   "cell_type": "code",
   "execution_count": 18,
   "id": "fe1d24f3",
   "metadata": {},
   "outputs": [
    {
     "name": "stdout",
     "output_type": "stream",
     "text": [
      "transposed_arr:\n",
      " [[0 5]\n",
      " [1 6]\n",
      " [2 7]\n",
      " [3 8]\n",
      " [4 9]]\n"
     ]
    }
   ],
   "source": [
    "transposed_arr = reshaped_arr.T\n",
    "print(\"transposed_arr:\\n\", transposed_arr)"
   ]
  },
  {
   "cell_type": "code",
   "execution_count": 19,
   "id": "b93f2505",
   "metadata": {},
   "outputs": [
    {
     "name": "stdout",
     "output_type": "stream",
     "text": [
      "Stacked Vertically:\n",
      " [[1 2 3]\n",
      " [4 5 6]]\n"
     ]
    }
   ],
   "source": [
    "a = np.array([1, 2, 3])\n",
    "b = np.array([4, 5, 6])\n",
    "stacked_vertically = np.vstack((a, b))\n",
    "print(\"Stacked Vertically:\\n\", stacked_vertically)"
   ]
  },
  {
   "cell_type": "code",
   "execution_count": 20,
   "id": "eb6dad9c",
   "metadata": {},
   "outputs": [
    {
     "name": "stdout",
     "output_type": "stream",
     "text": [
      "Stacked Horizontally:\n",
      " [[1 2 5 6]\n",
      " [3 4 7 8]]\n"
     ]
    }
   ],
   "source": [
    "m1 = np.array([[1, 2], [3, 4]])\n",
    "m2 = np.array([[5, 6], [7, 8]])\n",
    "stacked_horizontally = np.hstack((m1, m2))\n",
    "print(\"Stacked Horizontally:\\n\", stacked_horizontally)"
   ]
  },
  {
   "cell_type": "code",
   "execution_count": 21,
   "id": "73a35248",
   "metadata": {},
   "outputs": [
    {
     "name": "stdout",
     "output_type": "stream",
     "text": [
      "Split Horizontally (2 parts):\n",
      "Part 1:\n",
      " [[ 0  1]\n",
      " [ 4  5]\n",
      " [ 8  9]\n",
      " [12 13]]\n",
      "Part 2:\n",
      " [[ 2  3]\n",
      " [ 6  7]\n",
      " [10 11]\n",
      " [14 15]]\n"
     ]
    }
   ],
   "source": [
    "arr_to_split = np.arange(16).reshape(4, 4)\n",
    "split_horizontally = np.hsplit(arr_to_split, 2)\n",
    "print(\"Split Horizontally (2 parts):\")\n",
    "for i, part in enumerate(split_horizontally, start=1):\n",
    "    print(f\"Part {i}:\\n\", part)"
   ]
  },
  {
   "cell_type": "code",
   "execution_count": 22,
   "id": "79fcff54",
   "metadata": {},
   "outputs": [
    {
     "name": "stdout",
     "output_type": "stream",
     "text": [
      "Split Vertically (at index 2):\n",
      "Part 1:\n",
      " [[0 1 2 3]\n",
      " [4 5 6 7]]\n",
      "Part 2:\n",
      " [[ 8  9 10 11]\n",
      " [12 13 14 15]]\n"
     ]
    }
   ],
   "source": [
    "split_vertically = np.vsplit(arr_to_split, [2])\n",
    "print(\"Split Vertically (at index 2):\")\n",
    "for i, part in enumerate(split_vertically, start=1):\n",
    "    print(f\"Part {i}:\\n\", part)"
   ]
  },
  {
   "cell_type": "markdown",
   "id": "2f8a36f5",
   "metadata": {},
   "source": [
    "Part 3: Indexing, Slicing, and Boolean Indexing"
   ]
  },
  {
   "cell_type": "code",
   "execution_count": 23,
   "id": "782d312d",
   "metadata": {},
   "outputs": [
    {
     "name": "stdout",
     "output_type": "stream",
     "text": [
      "Element at row 1, column 2: 15\n"
     ]
    }
   ],
   "source": [
    "data = np.array([[10, 11, 12],\n",
    "                 [13, 14, 15],\n",
    "                 [16, 17, 18]])\n",
    "\n",
    "element = data[1, 2]\n",
    "print(\"Element at row 1, column 2:\", element)"
   ]
  },
  {
   "cell_type": "code",
   "execution_count": 24,
   "id": "c1f17414",
   "metadata": {},
   "outputs": [
    {
     "name": "stdout",
     "output_type": "stream",
     "text": [
      "First two rows:\n",
      " [[10 11 12]\n",
      " [13 14 15]]\n"
     ]
    }
   ],
   "source": [
    "first_two_rows = data[:2, :]\n",
    "print(\"First two rows:\\n\", first_two_rows)"
   ]
  },
  {
   "cell_type": "code",
   "execution_count": 25,
   "id": "e13d4ec4",
   "metadata": {},
   "outputs": [
    {
     "name": "stdout",
     "output_type": "stream",
     "text": [
      "Fancy indexed elements: [11 15 17]\n"
     ]
    }
   ],
   "source": [
    "fancy_elements = data[[0, 1, 2], [1, 2, 1]]  # data[0,1], data[1,2], data[2,1]\n",
    "print(\"Fancy indexed elements:\", fancy_elements)"
   ]
  },
  {
   "cell_type": "code",
   "execution_count": 26,
   "id": "31c1a803",
   "metadata": {},
   "outputs": [
    {
     "name": "stdout",
     "output_type": "stream",
     "text": [
      "Scores greater than 80: [85 92 95 88]\n"
     ]
    }
   ],
   "source": [
    "scores = np.array([85, 92, 78, 65, 95, 88])\n",
    "high_scores = scores[scores > 80]\n",
    "print(\"Scores greater than 80:\", high_scores)"
   ]
  },
  {
   "cell_type": "markdown",
   "id": "cc30c01a",
   "metadata": {},
   "source": [
    "Part 4: Numerical Operations and Aggregations"
   ]
  },
  {
   "cell_type": "code",
   "execution_count": 27,
   "id": "faa95643",
   "metadata": {},
   "outputs": [
    {
     "name": "stdout",
     "output_type": "stream",
     "text": [
      "Element-wise multiplication: [ 20  80 180]\n",
      "Element-wise division: [5. 5. 5.]\n"
     ]
    }
   ],
   "source": [
    "arr_op1 = np.array([10, 20, 30])\n",
    "arr_op2 = np.array([2, 4, 6])\n",
    "\n",
    "multiplication = arr_op1 * arr_op2\n",
    "division = arr_op1 / arr_op2\n",
    "\n",
    "print(\"Element-wise multiplication:\", multiplication)\n",
    "print(\"Element-wise division:\", division)"
   ]
  },
  {
   "cell_type": "code",
   "execution_count": 28,
   "id": "73692651",
   "metadata": {},
   "outputs": [
    {
     "name": "stdout",
     "output_type": "stream",
     "text": [
      "Sum of all elements: 45\n"
     ]
    }
   ],
   "source": [
    "matrix = np.array([[1, 2, 3],\n",
    "                   [4, 5, 6],\n",
    "                   [7, 8, 9]])\n",
    "\n",
    "total_sum = matrix.sum()\n",
    "print(\"Sum of all elements:\", total_sum)"
   ]
  },
  {
   "cell_type": "code",
   "execution_count": 29,
   "id": "39a518ed",
   "metadata": {},
   "outputs": [
    {
     "name": "stdout",
     "output_type": "stream",
     "text": [
      "Mean of each column: [4. 5. 6.]\n"
     ]
    }
   ],
   "source": [
    "column_means = matrix.mean(axis=0)\n",
    "print(\"Mean of each column:\", column_means)"
   ]
  },
  {
   "cell_type": "code",
   "execution_count": 30,
   "id": "dc613aad",
   "metadata": {},
   "outputs": [
    {
     "name": "stdout",
     "output_type": "stream",
     "text": [
      "Discounted prices: [ 90. 135. 180. 225.]\n"
     ]
    }
   ],
   "source": [
    "price_array = np.array([100, 150, 200, 250])\n",
    "discount_percentage = 0.10\n",
    "\n",
    "discounted_prices = price_array * (1 - discount_percentage)\n",
    "print(\"Discounted prices:\", discounted_prices)"
   ]
  }
 ],
 "metadata": {
  "kernelspec": {
   "display_name": "Python 3",
   "language": "python",
   "name": "python3"
  },
  "language_info": {
   "codemirror_mode": {
    "name": "ipython",
    "version": 3
   },
   "file_extension": ".py",
   "mimetype": "text/x-python",
   "name": "python",
   "nbconvert_exporter": "python",
   "pygments_lexer": "ipython3",
   "version": "3.13.3"
  }
 },
 "nbformat": 4,
 "nbformat_minor": 5
}
