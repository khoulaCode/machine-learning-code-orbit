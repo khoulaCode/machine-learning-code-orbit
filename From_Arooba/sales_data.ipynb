{
 "cells": [
  {
   "cell_type": "markdown",
   "id": "9ea8d77c",
   "metadata": {},
   "source": [
    "## 1. Sales Data Generation:"
   ]
  },
  {
   "cell_type": "code",
   "execution_count": 15,
   "id": "6f5c1269",
   "metadata": {},
   "outputs": [
    {
     "name": "stdout",
     "output_type": "stream",
     "text": [
      "Sales Revenue (30 days): [1099.34  972.35 1129.54 1304.61  953.17  953.17 1315.84 1153.49  906.11\n",
      " 1108.51  907.32  906.85 1048.39  617.34  655.02  887.54  797.43 1062.85\n",
      "  818.4   717.54 1293.13  954.84 1013.51  715.05  891.12 1022.18  769.8\n",
      " 1075.14  879.87  941.66]\n",
      "Units Sold (30 days): [52. 58. 56. 58. 52. 42. 67. 46. 39. 57. 49. 46. 52. 30. 28. 41. 38. 59.\n",
      " 42. 30. 67. 46. 47. 38. 49. 56. 35. 52. 45. 52.]\n"
     ]
    }
   ],
   "source": [
    "import numpy as np\n",
    "\n",
    "# Set seed for reproducibility\n",
    "np.random.seed(42)\n",
    "\n",
    "# Generate sales revenue (30 days)\n",
    "base_revenue = 1000\n",
    "revenue_noise = np.random.normal(0, 200, 30)\n",
    "sales_revenue = base_revenue + revenue_noise\n",
    "\n",
    "# Ensure no negative revenues\n",
    "sales_revenue = np.clip(sales_revenue, 0, None)\n",
    "\n",
    "# Simulate units sold (correlated to sales revenue)\n",
    "# Roughly 1 unit per $20 of revenue with ±10% noise\n",
    "units_base = sales_revenue / 20\n",
    "units_noise = units_base * np.random.normal(0, 0.1, 30)\n",
    "units_sold = units_base + units_noise\n",
    "\n",
    "# Ensure no negative units\n",
    "units_sold = np.clip(units_sold, 0, None)\n",
    "\n",
    "# Round for realistic output\n",
    "sales_revenue = np.round(sales_revenue, 2)\n",
    "units_sold = np.round(units_sold, 0)\n",
    "\n",
    "# Print results\n",
    "print(\"Sales Revenue (30 days):\", sales_revenue)\n",
    "print(\"Units Sold (30 days):\", units_sold)\n"
   ]
  },
  {
   "cell_type": "markdown",
   "id": "d205a3d5",
   "metadata": {},
   "source": [
    "# 2. Combine Data:"
   ]
  },
  {
   "cell_type": "code",
   "execution_count": 16,
   "id": "d8d221ba",
   "metadata": {},
   "outputs": [
    {
     "name": "stdout",
     "output_type": "stream",
     "text": [
      "Sales Data (Revenue | Units Sold):\n",
      " [[1099.34   52.  ]\n",
      " [ 972.35   58.  ]\n",
      " [1129.54   56.  ]\n",
      " [1304.61   58.  ]\n",
      " [ 953.17   52.  ]\n",
      " [ 953.17   42.  ]\n",
      " [1315.84   67.  ]\n",
      " [1153.49   46.  ]\n",
      " [ 906.11   39.  ]\n",
      " [1108.51   57.  ]\n",
      " [ 907.32   49.  ]\n",
      " [ 906.85   46.  ]\n",
      " [1048.39   52.  ]\n",
      " [ 617.34   30.  ]\n",
      " [ 655.02   28.  ]\n",
      " [ 887.54   41.  ]\n",
      " [ 797.43   38.  ]\n",
      " [1062.85   59.  ]\n",
      " [ 818.4    42.  ]\n",
      " [ 717.54   30.  ]\n",
      " [1293.13   67.  ]\n",
      " [ 954.84   46.  ]\n",
      " [1013.51   47.  ]\n",
      " [ 715.05   38.  ]\n",
      " [ 891.12   49.  ]\n",
      " [1022.18   56.  ]\n",
      " [ 769.8    35.  ]\n",
      " [1075.14   52.  ]\n",
      " [ 879.87   45.  ]\n",
      " [ 941.66   52.  ]]\n"
     ]
    }
   ],
   "source": [
    "# Combine into a 2D array: shape (30, 2)\n",
    "sales_data = np.column_stack((sales_revenue, units_sold))\n",
    "\n",
    "print(\"Sales Data (Revenue | Units Sold):\\n\", sales_data)\n"
   ]
  },
  {
   "cell_type": "markdown",
   "id": "bf528718",
   "metadata": {},
   "source": [
    "# 3. Key Performance Indicators (KPIs):"
   ]
  },
  {
   "cell_type": "code",
   "execution_count": 17,
   "id": "bcc856d7",
   "metadata": {},
   "outputs": [
    {
     "name": "stdout",
     "output_type": "stream",
     "text": [
      "Total Revenue for the Month: $ 28871.11\n",
      "Average Units Sold per Day: 47.63\n",
      "Max Daily Revenue: $ 1315.84 on Day Index: 6\n",
      "Average Revenue per Unit Sold: $ 20.2\n"
     ]
    }
   ],
   "source": [
    "# Total sales revenue for the month\n",
    "total_revenue = np.sum(sales_data[:, 0])\n",
    "\n",
    "# Average units sold per day\n",
    "average_units_per_day = np.mean(sales_data[:, 1])\n",
    "\n",
    "# Maximum daily sales revenue and corresponding day (index)\n",
    "max_revenue = np.max(sales_data[:, 0])\n",
    "max_revenue_day = np.argmax(sales_data[:, 0])  # 0-based index\n",
    "\n",
    "# Average revenue per unit sold for the month\n",
    "total_units = np.sum(sales_data[:, 1])\n",
    "average_revenue_per_unit = total_revenue / total_units if total_units != 0 else 0\n",
    "\n",
    "# Print KPIs\n",
    "print(\"Total Revenue for the Month: $\", round(total_revenue, 2))\n",
    "print(\"Average Units Sold per Day:\", round(average_units_per_day, 2))\n",
    "print(\"Max Daily Revenue: $\", max_revenue, \"on Day Index:\", max_revenue_day)\n",
    "print(\"Average Revenue per Unit Sold: $\", round(average_revenue_per_unit, 2))\n"
   ]
  },
  {
   "cell_type": "markdown",
   "id": "da3a720b",
   "metadata": {},
   "source": [
    "# 4. Conditional Analysis:"
   ]
  },
  {
   "cell_type": "code",
   "execution_count": 18,
   "id": "490159fd",
   "metadata": {},
   "outputs": [
    {
     "name": "stdout",
     "output_type": "stream",
     "text": [
      "Number of days with revenue > $1200: 3\n"
     ]
    }
   ],
   "source": [
    "# 1. Days with revenue above a target ($1200)\n",
    "\n",
    "# Target threshold\n",
    "target_revenue = 1200\n",
    "\n",
    "# Boolean mask for days above the target\n",
    "high_revenue_days = sales_data[:, 0] > target_revenue\n",
    "\n",
    "# Count those days\n",
    "num_high_revenue_days = np.sum(high_revenue_days)\n",
    "\n",
    "print(\"Number of days with revenue > $1200:\", num_high_revenue_days)\n"
   ]
  },
  {
   "cell_type": "code",
   "execution_count": 19,
   "id": "1d140d7b",
   "metadata": {},
   "outputs": [
    {
     "name": "stdout",
     "output_type": "stream",
     "text": [
      "Average units sold on days with revenue < $900: 37.6\n"
     ]
    }
   ],
   "source": [
    "# 2. Average units sold on days with revenue < $900\n",
    "\n",
    "# Threshold\n",
    "low_revenue_threshold = 900\n",
    "\n",
    "# Boolean mask\n",
    "low_revenue_days = sales_data[:, 0] < low_revenue_threshold\n",
    "\n",
    "# Extract units_sold for those days\n",
    "units_on_low_revenue_days = sales_data[low_revenue_days, 1]\n",
    "\n",
    "# Compute average\n",
    "average_units_on_low_revenue_days = np.mean(units_on_low_revenue_days) if units_on_low_revenue_days.size > 0 else 0\n",
    "\n",
    "print(\"Average units sold on days with revenue < $900:\", round(average_units_on_low_revenue_days, 2))\n"
   ]
  },
  {
   "cell_type": "markdown",
   "id": "084f74bf",
   "metadata": {},
   "source": [
    "## 5. Weekly Aggregations:"
   ]
  },
  {
   "cell_type": "code",
   "execution_count": 20,
   "id": "eb0bab26",
   "metadata": {},
   "outputs": [
    {
     "name": "stdout",
     "output_type": "stream",
     "text": [
      "Week 1 Total Revenue: $7728.02\n",
      "Week 2 Total Revenue: $6648.01\n",
      "Week 3 Total Revenue: $6231.91\n",
      "Week 4 Total Revenue: $6441.64\n"
     ]
    }
   ],
   "source": [
    "# Extract the first 28 days (4 full weeks)\n",
    "first_28_days = sales_data[:28, 0]  # only sales_revenue column\n",
    "\n",
    "# Reshape to (4 weeks, 7 days)\n",
    "weekly_revenue_matrix = first_28_days.reshape(4, 7)\n",
    "\n",
    "# Sum across each row (week)\n",
    "weekly_totals = np.sum(weekly_revenue_matrix, axis=1)\n",
    "\n",
    "# Print results\n",
    "for week_num, total in enumerate(weekly_totals, start=1):\n",
    "    print(f\"Week {week_num} Total Revenue: ${round(total, 2)}\")\n"
   ]
  }
 ],
 "metadata": {
  "kernelspec": {
   "display_name": "Python 3",
   "language": "python",
   "name": "python3"
  },
  "language_info": {
   "codemirror_mode": {
    "name": "ipython",
    "version": 3
   },
   "file_extension": ".py",
   "mimetype": "text/x-python",
   "name": "python",
   "nbconvert_exporter": "python",
   "pygments_lexer": "ipython3",
   "version": "3.13.3"
  }
 },
 "nbformat": 4,
 "nbformat_minor": 5
}
