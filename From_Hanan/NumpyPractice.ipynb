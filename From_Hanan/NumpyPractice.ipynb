{
 "cells": [
  {
   "cell_type": "code",
   "execution_count": 2,
   "id": "83448d6c-6153-4c66-b4be-274bd0feee34",
   "metadata": {},
   "outputs": [],
   "source": [
    "import numpy as np"
   ]
  },
  {
   "cell_type": "markdown",
   "id": "cc2ca05b-8897-416b-8169-b4f4c8f9ee8e",
   "metadata": {},
   "source": [
    "# Part 1: Array Creation and Properties\n",
    "1. Create a 1D array named arr1d with integers from 0 to 9."
   ]
  },
  {
   "cell_type": "code",
   "execution_count": 2,
   "id": "3e0308ee-4bda-4dc9-addc-e7660ccda91b",
   "metadata": {},
   "outputs": [
    {
     "data": {
      "text/plain": [
       "array([0, 1, 2, 3, 4, 5, 6, 7, 8, 9])"
      ]
     },
     "execution_count": 2,
     "metadata": {},
     "output_type": "execute_result"
    }
   ],
   "source": [
    "arr1d = np.arange(0,10)\n",
    "arr1d"
   ]
  },
  {
   "cell_type": "markdown",
   "id": "6acebbd5-4f70-4e24-a76f-471a992f8691",
   "metadata": {},
   "source": [
    "2. Create a 2D array named arr2d with shape (3, 3) filled with ones."
   ]
  },
  {
   "cell_type": "code",
   "execution_count": 3,
   "id": "59144a92-590c-442d-a7f9-3c553f2b60fc",
   "metadata": {},
   "outputs": [
    {
     "data": {
      "text/plain": [
       "array([[1., 1., 1.],\n",
       "       [1., 1., 1.],\n",
       "       [1., 1., 1.]])"
      ]
     },
     "execution_count": 3,
     "metadata": {},
     "output_type": "execute_result"
    }
   ],
   "source": [
    "arr2d = np.ones((3,3))\n",
    "arr2d"
   ]
  },
  {
   "cell_type": "markdown",
   "id": "f565e959-ccc4-4804-bd5f-4b955b6ec138",
   "metadata": {},
   "source": [
    "3. Create a 3x3 array named random_matrix with random floating-point numbers from a standard normal distribution."
   ]
  },
  {
   "cell_type": "code",
   "execution_count": 7,
   "id": "052999d2-f3f6-43a7-a19f-fbfa0f1a8976",
   "metadata": {},
   "outputs": [
    {
     "data": {
      "text/plain": [
       "array([[ 0.18214388,  1.2635193 ,  0.34314998],\n",
       "       [-0.78751097, -0.82748523,  1.00723272],\n",
       "       [ 0.51152419, -0.62255301,  0.4180028 ]])"
      ]
     },
     "execution_count": 7,
     "metadata": {},
     "output_type": "execute_result"
    }
   ],
   "source": [
    "random_matrix = np.random.randn(3,3)\n",
    "random_matrix"
   ]
  },
  {
   "cell_type": "markdown",
   "id": "713b8962-2ef5-45bd-a31d-2fcbd8c919c8",
   "metadata": {},
   "source": [
    "4. Create an array named even_numbers containing even numbers from 10 to 50 (inclusive)."
   ]
  },
  {
   "cell_type": "code",
   "execution_count": 8,
   "id": "7f281fdf-e7bf-458c-8ae0-ea55aa7a43ac",
   "metadata": {},
   "outputs": [
    {
     "data": {
      "text/plain": [
       "array([10, 12, 14, 16, 18, 20, 22, 24, 26, 28, 30, 32, 34, 36, 38, 40, 42,\n",
       "       44, 46, 48, 50])"
      ]
     },
     "execution_count": 8,
     "metadata": {},
     "output_type": "execute_result"
    }
   ],
   "source": [
    "even_numbers = np.arange(10,51,2)\n",
    "even_numbers"
   ]
  },
  {
   "cell_type": "markdown",
   "id": "eac6bd85-3e5c-4226-8385-91cb75645077",
   "metadata": {},
   "source": [
    "5. Create an array named linspace_array containing 7 equally spaced numbers between 0 and 1 (inclusive)."
   ]
  },
  {
   "cell_type": "code",
   "execution_count": 11,
   "id": "8ee68da4-a2a0-437d-9af9-7aa952068ae9",
   "metadata": {},
   "outputs": [
    {
     "data": {
      "text/plain": [
       "array([0.        , 0.16666667, 0.33333333, 0.5       , 0.66666667,\n",
       "       0.83333333, 1.        ])"
      ]
     },
     "execution_count": 11,
     "metadata": {},
     "output_type": "execute_result"
    }
   ],
   "source": [
    "linspace_array = np.linspace(0,1,7)\n",
    "linspace_array"
   ]
  },
  {
   "cell_type": "markdown",
   "id": "c9b75a1f-b9ed-4edd-be0d-0f956e079926",
   "metadata": {},
   "source": [
    "6. Given arr = np.array([[1, 2, 3], [4, 5, 6]]), what is its shape, ndim, and dtype? Print them."
   ]
  },
  {
   "cell_type": "code",
   "execution_count": 13,
   "id": "eb42ca93-e68e-422f-b29d-604ee3bedd8e",
   "metadata": {},
   "outputs": [
    {
     "name": "stdout",
     "output_type": "stream",
     "text": [
      "shape:  (2, 3)\n",
      "ndim:  2\n",
      "dtype:  int64\n"
     ]
    }
   ],
   "source": [
    "arr = np.array([[1, 2, 3], [4, 5, 6]])\n",
    "print(\"shape: \", arr.shape)\n",
    "print(\"ndim: \",arr.ndim)\n",
    "print(\"dtype: \",arr.dtype)"
   ]
  },
  {
   "cell_type": "markdown",
   "id": "0b59a650-aa0a-4951-8fe3-976da931a486",
   "metadata": {},
   "source": [
    "# Part 2: Array Manipulation\n",
    "1. Reshape arr1d (from Q1) into a 2x5 2D array. Name the new array reshaped_arr."
   ]
  },
  {
   "cell_type": "code",
   "execution_count": 14,
   "id": "2f11a6df-fa71-4668-9f88-cfa28bf1a40c",
   "metadata": {},
   "outputs": [
    {
     "data": {
      "text/plain": [
       "array([[0, 1, 2, 3, 4],\n",
       "       [5, 6, 7, 8, 9]])"
      ]
     },
     "execution_count": 14,
     "metadata": {},
     "output_type": "execute_result"
    }
   ],
   "source": [
    "reshaped_arr = arr1d.reshape((2,5))\n",
    "reshaped_arr"
   ]
  },
  {
   "cell_type": "markdown",
   "id": "2ce89829-fcae-4953-9c1b-c7dd7f0d8e3f",
   "metadata": {},
   "source": [
    "2. Transpose reshaped_arr (from Q7). Name the result transposed_arr."
   ]
  },
  {
   "cell_type": "code",
   "execution_count": 15,
   "id": "2c5c762b-ed27-4bd0-a0b3-5e59b23dcd97",
   "metadata": {},
   "outputs": [
    {
     "data": {
      "text/plain": [
       "array([[0, 5],\n",
       "       [1, 6],\n",
       "       [2, 7],\n",
       "       [3, 8],\n",
       "       [4, 9]])"
      ]
     },
     "execution_count": 15,
     "metadata": {},
     "output_type": "execute_result"
    }
   ],
   "source": [
    "transposed_arr = reshaped_arr.T\n",
    "transposed_arr"
   ]
  },
  {
   "cell_type": "markdown",
   "id": "10e6677b-ca74-4c8e-94eb-6f448b041d0d",
   "metadata": {},
   "source": [
    "3. Stack two 1D arrays a = np.array([1, 2, 3]) and b = np.array([4, 5, 6]) vertically."
   ]
  },
  {
   "cell_type": "code",
   "execution_count": 19,
   "id": "def832b3-7e29-4290-a12e-fad35c78f76f",
   "metadata": {},
   "outputs": [
    {
     "name": "stdout",
     "output_type": "stream",
     "text": [
      "a: [[1]\n",
      " [2]\n",
      " [3]]\n",
      "\n",
      "b: [[4]\n",
      " [5]\n",
      " [6]]\n"
     ]
    }
   ],
   "source": [
    "a = np.array([1, 2, 3])\n",
    "print(\"a:\", np.vstack(a))\n",
    "b = np.array([4, 5, 6])\n",
    "print()\n",
    "print(\"b:\", np.vstack(b))"
   ]
  },
  {
   "cell_type": "markdown",
   "id": "7270a012-635c-4398-b028-e6a756397032",
   "metadata": {},
   "source": [
    "4. Stack two 2D arrays m1 = np.array([[1, 2], [3, 4]]) and m2 = np.array([[5, 6], [7, 8]]) horizontally."
   ]
  },
  {
   "cell_type": "code",
   "execution_count": 21,
   "id": "dfec16dc-0392-4a68-a690-698d04857bf9",
   "metadata": {},
   "outputs": [
    {
     "name": "stdout",
     "output_type": "stream",
     "text": [
      "m1 =  [1 2 3 4]\n",
      "m2 =  [5 6 7 8]\n"
     ]
    }
   ],
   "source": [
    "m1 = np.array([[1, 2], [3, 4]])\n",
    "m2 = np.array([[5, 6], [7, 8]])\n",
    "arr1 = np.hstack(m1)\n",
    "print(\"m1 = \", arr1)\n",
    "arr2 = np.hstack(m2)\n",
    "print(\"m2 = \", arr2)"
   ]
  },
  {
   "cell_type": "markdown",
   "id": "1642cad7-a195-44b7-96b2-1bd0ae06f52f",
   "metadata": {},
   "source": [
    "5. Split the array arr_to_split = np.arange(16).reshape(4, 4) horizontally into 2 equal parts. Print both parts."
   ]
  },
  {
   "cell_type": "code",
   "execution_count": 23,
   "id": "029aaff8-aa7b-406d-b00a-13c51ef04040",
   "metadata": {},
   "outputs": [
    {
     "name": "stdout",
     "output_type": "stream",
     "text": [
      "[[ 0  1]\n",
      " [ 4  5]\n",
      " [ 8  9]\n",
      " [12 13]]\n",
      "===============\n",
      "[[ 2  3]\n",
      " [ 6  7]\n",
      " [10 11]\n",
      " [14 15]]\n"
     ]
    }
   ],
   "source": [
    "arr_to_split = np.arange(16).reshape(4, 4)\n",
    "splitted = np.hsplit(arr_to_split,2)\n",
    "print(splitted[0])\n",
    "print(\"===============\")\n",
    "print(splitted[1])"
   ]
  },
  {
   "cell_type": "markdown",
   "id": "0843fb21-6159-4422-a755-564d79e3c490",
   "metadata": {},
   "source": [
    "6. Split the array arr_to_split (from Q11) vertically at index 2 (i.e., into two parts: first two rows, and last two rows). Print both parts."
   ]
  },
  {
   "cell_type": "code",
   "execution_count": 31,
   "id": "68e78fdf-2c3c-4f43-b53a-23b0c20faf7e",
   "metadata": {},
   "outputs": [
    {
     "name": "stdout",
     "output_type": "stream",
     "text": [
      "[[ 0  1]\n",
      " [ 4  5]\n",
      " [ 8  9]\n",
      " [12 13]]\n",
      "===========\n",
      "[[ 2  3]\n",
      " [ 6  7]\n",
      " [10 11]\n",
      " [14 15]]\n",
      "===========\n"
     ]
    }
   ],
   "source": [
    "indexSplit = np.split(arr_to_split, [2] , axis=1)\n",
    "for split in indexSplit:\n",
    "    print(split)\n",
    "    print(\"===========\")"
   ]
  },
  {
   "cell_type": "markdown",
   "id": "b0e9cd97-74ba-4485-ab73-2750e5fe9c61",
   "metadata": {},
   "source": [
    "# Part 3: Indexing, Slicing, and Boolean Indexing\n",
    "1. Given data = np.array([[10, 11, 12], [13, 14, 15], [16, 17, 18]]), extract the element at row 1, column 2"
   ]
  },
  {
   "cell_type": "code",
   "execution_count": 33,
   "id": "0a04abcd-fd32-4fa4-bd39-efcf37c6eefe",
   "metadata": {},
   "outputs": [
    {
     "name": "stdout",
     "output_type": "stream",
     "text": [
      "11\n"
     ]
    }
   ],
   "source": [
    "data = np.array([[10, 11, 12], [13, 14, 15], [16, 17, 18]])\n",
    "print(data[0,1])"
   ]
  },
  {
   "cell_type": "markdown",
   "id": "688e2a1c-e388-4f2a-a508-916fa3553b74",
   "metadata": {},
   "source": [
    "2. From the data array (from Q13), extract the first two rows and all columns."
   ]
  },
  {
   "cell_type": "code",
   "execution_count": 35,
   "id": "40cb76af-a7c0-424f-b9e4-ea3998cc147d",
   "metadata": {},
   "outputs": [
    {
     "name": "stdout",
     "output_type": "stream",
     "text": [
      "[[10 11 12]\n",
      " [13 14 15]]\n"
     ]
    }
   ],
   "source": [
    "print(data[0:2,:])"
   ]
  },
  {
   "cell_type": "markdown",
   "id": "5e5162c4-37bc-419c-bd88-f5358b03d9e4",
   "metadata": {},
   "source": [
    "3. From the data array (from Q13), extract the elements 11, 15, and 17 using fancy indexing (hint: you'll need to specify rows and columns)."
   ]
  },
  {
   "cell_type": "code",
   "execution_count": 36,
   "id": "b6410b0c-f5e4-4642-a4b4-000b1870c41c",
   "metadata": {},
   "outputs": [
    {
     "name": "stdout",
     "output_type": "stream",
     "text": [
      "11 15 17\n"
     ]
    }
   ],
   "source": [
    "print(data[0,1], data[1,2], data[2,1])"
   ]
  },
  {
   "cell_type": "markdown",
   "id": "4c6a29d2-9e06-4ce6-a624-d085a8938b7e",
   "metadata": {},
   "source": [
    "4. Given scores = np.array([85, 92, 78, 65, 95, 88]), use boolean indexing to find all scores greater than 80."
   ]
  },
  {
   "cell_type": "code",
   "execution_count": 5,
   "id": "2c5bbb1d-3b8a-4f25-832c-049d707afab1",
   "metadata": {},
   "outputs": [
    {
     "data": {
      "text/plain": [
       "array([85, 92, 95, 88])"
      ]
     },
     "execution_count": 5,
     "metadata": {},
     "output_type": "execute_result"
    }
   ],
   "source": [
    "scores = np.array([85, 92, 78, 65, 95, 88])\n",
    "scores[scores > 80]"
   ]
  },
  {
   "cell_type": "markdown",
   "id": "10378dab-6281-47e5-b798-95210dc86a70",
   "metadata": {},
   "source": [
    "# Part 4: Numerical Operations and Aggregations\n",
    "1. Given arr_op1 = np.array([10, 20, 30]) and arr_op2 = np.array([2, 4, 6]), perform element-wise multiplication and division (arr_op1 / arr_op2)."
   ]
  },
  {
   "cell_type": "code",
   "execution_count": 6,
   "id": "7cda9c1c-452a-45c0-80aa-6c53fff89f9a",
   "metadata": {},
   "outputs": [
    {
     "name": "stdout",
     "output_type": "stream",
     "text": [
      "Multiplication:  [ 20  80 180]\n",
      "Division:  [5. 5. 5.]\n"
     ]
    }
   ],
   "source": [
    "arr_op1 = np.array([10, 20, 30])\n",
    "arr_op2 = np.array([2, 4, 6])\n",
    "print('Multiplication: ',arr_op1 * arr_op2)\n",
    "print('Division: ',arr_op1 / arr_op2)"
   ]
  },
  {
   "cell_type": "markdown",
   "id": "8e38a0e7-eed2-4e6e-89d7-ee6ddcf86108",
   "metadata": {},
   "source": [
    "2. Given matrix = np.array([[1, 2, 3], [4, 5, 6], [7, 8, 9]]), calculatethe sum of all elements in the matrix."
   ]
  },
  {
   "cell_type": "code",
   "execution_count": 7,
   "id": "6fa0ff16-929c-4cc2-9ebc-6ebbdf2a21ce",
   "metadata": {},
   "outputs": [
    {
     "name": "stdout",
     "output_type": "stream",
     "text": [
      "Sum =  45\n"
     ]
    }
   ],
   "source": [
    "matrix = np.array([[1, 2, 3], [4, 5, 6], [7, 8, 9]])\n",
    "print(\"Sum = \", np.sum(matrix))"
   ]
  },
  {
   "cell_type": "markdown",
   "id": "304e7ad9-97fd-45cb-a893-9b2513998061",
   "metadata": {},
   "source": [
    "3. From the matrix (from Q18), calculate the mean of each column."
   ]
  },
  {
   "cell_type": "code",
   "execution_count": 10,
   "id": "cb933b7f-6ae8-45ff-813f-bfb57b1bf768",
   "metadata": {},
   "outputs": [
    {
     "name": "stdout",
     "output_type": "stream",
     "text": [
      "Mean =  [4. 5. 6.]\n"
     ]
    }
   ],
   "source": [
    "print(\"Mean = \", np.mean(matrix,axis=0))"
   ]
  },
  {
   "cell_type": "markdown",
   "id": "1a7c21f2-4bff-4522-9ebe-965237d731b1",
   "metadata": {},
   "source": [
    "4. Given price_array = np.array([100, 150, 200, 250]) and discount_percentage = 0.10, apply a 10% discount to all prices using broadcasting."
   ]
  },
  {
   "cell_type": "code",
   "execution_count": 13,
   "id": "2be24183-2968-43c7-b8e7-90b6833a0a42",
   "metadata": {},
   "outputs": [
    {
     "name": "stdout",
     "output_type": "stream",
     "text": [
      "prices after discount:  [ 90. 135. 180. 225.]\n"
     ]
    }
   ],
   "source": [
    "price_array = np.array([100, 150, 200, 250])\n",
    "discount_percentage = 0.10\n",
    "print(\"prices after discount: \",price_array - (discount_percentage * price_array))"
   ]
  },
  {
   "cell_type": "code",
   "execution_count": null,
   "id": "f7babd3d-3e66-4301-ac26-b4bf968f3cfa",
   "metadata": {},
   "outputs": [],
   "source": []
  }
 ],
 "metadata": {
  "kernelspec": {
   "display_name": "Python 3 (ipykernel)",
   "language": "python",
   "name": "python3"
  },
  "language_info": {
   "codemirror_mode": {
    "name": "ipython",
    "version": 3
   },
   "file_extension": ".py",
   "mimetype": "text/x-python",
   "name": "python",
   "nbconvert_exporter": "python",
   "pygments_lexer": "ipython3",
   "version": "3.13.3"
  }
 },
 "nbformat": 4,
 "nbformat_minor": 5
}
