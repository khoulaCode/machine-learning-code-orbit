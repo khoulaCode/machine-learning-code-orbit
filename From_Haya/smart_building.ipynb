{
 "cells": [
  {
   "cell_type": "markdown",
   "id": "51e3a229",
   "metadata": {},
   "source": [
    "# Smart Building Sensor Data Analysis\n",
    "This notebook simulates and analyzes environmental sensor data collected from a smart building over 24 hours."
   ]
  },
  {
   "cell_type": "code",
   "execution_count": 12,
   "id": "945561fd",
   "metadata": {},
   "outputs": [],
   "source": [
    "import numpy as np\n",
    "import pandas as pd\n",
    "\n",
    "# Set random seed for reproducibility\n",
    "np.random.seed(42)\n",
    "\n",
    "# 1. Data Generation\n",
    "time_in_minutes = np.arange(0, 1440)\n",
    "temperature = 22 + np.random.normal(0, 1, 1440)\n",
    "humidity = np.clip(55 + np.random.normal(0, 5, 1440), 0, 100)\n",
    "pressure = 1012 + np.random.normal(0, 1, 1440)\n",
    "combined_data = np.column_stack((time_in_minutes, temperature, humidity, pressure))"
   ]
  },
  {
   "cell_type": "code",
   "execution_count": 10,
   "id": "fe0546b9",
   "metadata": {},
   "outputs": [],
   "source": [
    "# 2. Basic Statistics\n",
    "avg_temp = np.mean(temperature)\n",
    "min_temp = np.min(temperature)\n",
    "max_temp = np.max(temperature)\n",
    "std_temp = np.std(temperature)\n",
    "\n",
    "avg_humidity = np.mean(humidity)\n",
    "min_humidity = np.min(humidity)\n",
    "max_humidity = np.max(humidity)\n",
    "std_humidity = np.std(humidity)\n",
    "\n",
    "avg_pressure = np.mean(pressure)\n",
    "min_pressure = np.min(pressure)\n",
    "max_pressure = np.max(pressure)\n",
    "std_pressure = np.std(pressure)"
   ]
  },
  {
   "cell_type": "code",
   "execution_count": 13,
   "id": "d7dd9dfc",
   "metadata": {},
   "outputs": [
    {
     "data": {
      "text/html": [
       "<div>\n",
       "<style scoped>\n",
       "    .dataframe tbody tr th:only-of-type {\n",
       "        vertical-align: middle;\n",
       "    }\n",
       "\n",
       "    .dataframe tbody tr th {\n",
       "        vertical-align: top;\n",
       "    }\n",
       "\n",
       "    .dataframe thead th {\n",
       "        text-align: right;\n",
       "    }\n",
       "</style>\n",
       "<table border=\"1\" class=\"dataframe\">\n",
       "  <thead>\n",
       "    <tr style=\"text-align: right;\">\n",
       "      <th></th>\n",
       "      <th>Hour</th>\n",
       "      <th>Avg_Temperature</th>\n",
       "      <th>Avg_Humidity</th>\n",
       "      <th>Avg_Pressure</th>\n",
       "    </tr>\n",
       "  </thead>\n",
       "  <tbody>\n",
       "    <tr>\n",
       "      <th>0</th>\n",
       "      <td>0</td>\n",
       "      <td>21.845345</td>\n",
       "      <td>56.349887</td>\n",
       "      <td>1012.016094</td>\n",
       "    </tr>\n",
       "    <tr>\n",
       "      <th>1</th>\n",
       "      <td>1</td>\n",
       "      <td>21.996317</td>\n",
       "      <td>55.000500</td>\n",
       "      <td>1011.990238</td>\n",
       "    </tr>\n",
       "    <tr>\n",
       "      <th>2</th>\n",
       "      <td>2</td>\n",
       "      <td>22.091914</td>\n",
       "      <td>54.370007</td>\n",
       "      <td>1011.739909</td>\n",
       "    </tr>\n",
       "    <tr>\n",
       "      <th>3</th>\n",
       "      <td>3</td>\n",
       "      <td>22.056814</td>\n",
       "      <td>56.154033</td>\n",
       "      <td>1012.080333</td>\n",
       "    </tr>\n",
       "    <tr>\n",
       "      <th>4</th>\n",
       "      <td>4</td>\n",
       "      <td>21.981867</td>\n",
       "      <td>55.616770</td>\n",
       "      <td>1011.707128</td>\n",
       "    </tr>\n",
       "  </tbody>\n",
       "</table>\n",
       "</div>"
      ],
      "text/plain": [
       "   Hour  Avg_Temperature  Avg_Humidity  Avg_Pressure\n",
       "0     0        21.845345     56.349887   1012.016094\n",
       "1     1        21.996317     55.000500   1011.990238\n",
       "2     2        22.091914     54.370007   1011.739909\n",
       "3     3        22.056814     56.154033   1012.080333\n",
       "4     4        21.981867     55.616770   1011.707128"
      ]
     },
     "execution_count": 13,
     "metadata": {},
     "output_type": "execute_result"
    }
   ],
   "source": [
    "# 3. Hourly Averages\n",
    "temperature_hourly_avg = temperature.reshape(24, 60).mean(axis=1)\n",
    "humidity_hourly_avg = humidity.reshape(24, 60).mean(axis=1)\n",
    "pressure_hourly_avg = pressure.reshape(24, 60).mean(axis=1)\n",
    "\n",
    "hourly_df = pd.DataFrame({\n",
    "    'Hour': np.arange(24),\n",
    "    'Avg_Temperature': temperature_hourly_avg,\n",
    "    'Avg_Humidity': humidity_hourly_avg,\n",
    "    'Avg_Pressure': pressure_hourly_avg\n",
    "})\n",
    "hourly_df.head()"
   ]
  },
  {
   "cell_type": "code",
   "execution_count": 14,
   "id": "392d3172",
   "metadata": {},
   "outputs": [
    {
     "data": {
      "text/plain": [
       "(np.int64(2), np.int64(262))"
      ]
     },
     "execution_count": 14,
     "metadata": {},
     "output_type": "execute_result"
    }
   ],
   "source": [
    "# 4. Anomaly Detection\n",
    "threshold = 25\n",
    "temperature_exceeds_threshold = np.sum(temperature > threshold)\n",
    "min_temperature_time = time_in_minutes[np.argmin(temperature)]\n",
    "\n",
    "temperature_exceeds_threshold, min_temperature_time"
   ]
  },
  {
   "cell_type": "code",
   "execution_count": 17,
   "id": "eab503d8",
   "metadata": {},
   "outputs": [],
   "source": [
    "# 5. Save to CSV\n",
    "np.savetxt('environmental_data.csv', combined_data, delimiter=',', header='Time,Temperature,Humidity,Pressure', comments='')"
   ]
  }
 ],
 "metadata": {
  "kernelspec": {
   "display_name": "Python 3",
   "language": "python",
   "name": "python3"
  },
  "language_info": {
   "codemirror_mode": {
    "name": "ipython",
    "version": 3
   },
   "file_extension": ".py",
   "mimetype": "text/x-python",
   "name": "python",
   "nbconvert_exporter": "python",
   "pygments_lexer": "ipython3",
   "version": "3.13.3"
  }
 },
 "nbformat": 4,
 "nbformat_minor": 5
}
