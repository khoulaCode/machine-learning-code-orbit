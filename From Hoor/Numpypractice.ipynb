{
 "cells": [
  {
   "cell_type": "code",
   "execution_count": 1,
   "id": "573495b3-1cf5-4f04-bf7c-135cbf629f56",
   "metadata": {},
   "outputs": [
    {
     "ename": "NameError",
     "evalue": "name 'np' is not defined",
     "output_type": "error",
     "traceback": [
      "\u001b[31m---------------------------------------------------------------------------\u001b[39m",
      "\u001b[31mNameError\u001b[39m                                 Traceback (most recent call last)",
      "\u001b[36mCell\u001b[39m\u001b[36m \u001b[39m\u001b[32mIn[1]\u001b[39m\u001b[32m, line 2\u001b[39m\n\u001b[32m      1\u001b[39m \u001b[38;5;66;03m# create 1D array arr1d\u001b[39;00m\n\u001b[32m----> \u001b[39m\u001b[32m2\u001b[39m arr1d = \u001b[43mnp\u001b[49m.array([i \u001b[38;5;28;01mfor\u001b[39;00m i \u001b[38;5;129;01min\u001b[39;00m \u001b[38;5;28mrange\u001b[39m(\u001b[32m10\u001b[39m)])\n\u001b[32m      3\u001b[39m \u001b[38;5;28mprint\u001b[39m(\u001b[33m\"\u001b[39m\u001b[33m1D array (arr1d):\u001b[39m\u001b[33m\"\u001b[39m, arr1d)\n",
      "\u001b[31mNameError\u001b[39m: name 'np' is not defined"
     ]
    }
   ],
   "source": [
    "# create 1D array arr1d\n",
    "arr1d = np.array([i for i in range(10)])\n",
    "print(\"1D array (arr1d):\", arr1d)\n"
   ]
  },
  {
   "cell_type": "code",
   "execution_count": 1,
   "id": "0c548e88-4f41-46ab-b931-6e88dd20a9cd",
   "metadata": {},
   "outputs": [],
   "source": [
    "import numpy as np"
   ]
  },
  {
   "cell_type": "code",
   "execution_count": null,
   "id": "eb406173-d93d-4ef8-a2a0-ea01efc2189e",
   "metadata": {},
   "outputs": [],
   "source": []
  },
  {
   "cell_type": "code",
   "execution_count": 1,
   "id": "e7601e9c-521e-4410-8ab2-c7e7e39fadad",
   "metadata": {},
   "outputs": [
    {
     "ename": "NameError",
     "evalue": "name 'np' is not defined",
     "output_type": "error",
     "traceback": [
      "\u001b[31m---------------------------------------------------------------------------\u001b[39m",
      "\u001b[31mNameError\u001b[39m                                 Traceback (most recent call last)",
      "\u001b[36mCell\u001b[39m\u001b[36m \u001b[39m\u001b[32mIn[1]\u001b[39m\u001b[32m, line 2\u001b[39m\n\u001b[32m      1\u001b[39m \u001b[38;5;66;03m# create 1D array arr1d\u001b[39;00m\n\u001b[32m----> \u001b[39m\u001b[32m2\u001b[39m arr1d = \u001b[43mnp\u001b[49m.array([i \u001b[38;5;28;01mfor\u001b[39;00m i \u001b[38;5;129;01min\u001b[39;00m \u001b[38;5;28mrange\u001b[39m(\u001b[32m10\u001b[39m)])\n\u001b[32m      3\u001b[39m \u001b[38;5;28mprint\u001b[39m(\u001b[33m\"\u001b[39m\u001b[33m1D array (arr1d):\u001b[39m\u001b[33m\"\u001b[39m, arr1d)\n",
      "\u001b[31mNameError\u001b[39m: name 'np' is not defined"
     ]
    }
   ],
   "source": [
    "# create 1D array arr1d\n",
    "arr1d = np.array([i for i in range(10)])\n",
    "print(\"1D array (arr1d):\", arr1d)\n"
   ]
  },
  {
   "cell_type": "code",
   "execution_count": 2,
   "id": "daff2fad-06cf-4ec6-85a5-707ff5b886c0",
   "metadata": {},
   "outputs": [
    {
     "name": "stdout",
     "output_type": "stream",
     "text": [
      "1D array (arr1d): [0 1 2 3 4 5 6 7 8 9]\n"
     ]
    }
   ],
   "source": [
    "arr1d = np.arange(10)\n",
    "print(\"1D array (arr1d):\", arr1d)"
   ]
  },
  {
   "cell_type": "code",
   "execution_count": 3,
   "id": "e0f791f5-acfd-4d7b-8640-c7905ab6d93a",
   "metadata": {},
   "outputs": [],
   "source": [
    "#Step 3: Create a 2D array arr2d (3x3) filled with ones"
   ]
  },
  {
   "cell_type": "code",
   "execution_count": 4,
   "id": "fb57b4cb-a85d-4a84-af8a-2addbaab6a7d",
   "metadata": {},
   "outputs": [
    {
     "name": "stdout",
     "output_type": "stream",
     "text": [
      "2D array filled with ones (arr2d):\n",
      " [[1. 1. 1.]\n",
      " [1. 1. 1.]\n",
      " [1. 1. 1.]]\n"
     ]
    }
   ],
   "source": [
    "arr2d = np.ones((3, 3))\n",
    "print(\"2D array filled with ones (arr2d):\\n\", arr2d)\n"
   ]
  },
  {
   "cell_type": "code",
   "execution_count": 5,
   "id": "2ec66983-ebe3-4cc1-8c77-369e36e7b92e",
   "metadata": {},
   "outputs": [
    {
     "name": "stdout",
     "output_type": "stream",
     "text": [
      "Random 3x3 matrix (random_matrix):\n",
      " [[-0.17432658 -0.01016921  1.54940686]\n",
      " [ 0.30338492 -0.66513383 -0.4466211 ]\n",
      " [-1.07226377 -0.5610626  -1.57481975]]\n"
     ]
    }
   ],
   "source": [
    "#Create a 3x3 array random_matrix with random numbers\n",
    "random_matrix = np.random.randn(3, 3)\n",
    "print(\"Random 3x3 matrix (random_matrix):\\n\", random_matrix)\n"
   ]
  },
  {
   "cell_type": "code",
   "execution_count": 6,
   "id": "753f7735-a936-4ded-ab2f-58b00d5724ea",
   "metadata": {},
   "outputs": [
    {
     "name": "stdout",
     "output_type": "stream",
     "text": [
      "1D array (arr1d): [0 1 2 3 4 5 6 7 8 9]\n"
     ]
    }
   ],
   "source": [
    "# create 1D array arr1d\n",
    "arr1d = np.array([i for i in range(10)])\n",
    "print(\"1D array (arr1d):\", arr1d)\n"
   ]
  },
  {
   "cell_type": "code",
   "execution_count": 7,
   "id": "6f47426a-1cf4-4f3e-9ac6-74c1d42bf86f",
   "metadata": {},
   "outputs": [
    {
     "name": "stdout",
     "output_type": "stream",
     "text": [
      "Even numbers from 10 to 50: [10 12 14 16 18 20 22 24 26 28 30 32 34 36 38 40 42 44 46 48 50]\n"
     ]
    }
   ],
   "source": [
    "#Create even_numbers from 10 to 50 (inclusive)\n",
    "even_numbers = np.arange(10, 51, 2)\n",
    "print(\"Even numbers from 10 to 50:\", even_numbers)\n"
   ]
  },
  {
   "cell_type": "code",
   "execution_count": 8,
   "id": "70bc0b27-5e72-45b9-be83-53ffcc7789ec",
   "metadata": {},
   "outputs": [
    {
     "name": "stdout",
     "output_type": "stream",
     "text": [
      "7 equally spaced numbers between 0 and 1: [0.         0.16666667 0.33333333 0.5        0.66666667 0.83333333\n",
      " 1.        ]\n"
     ]
    }
   ],
   "source": [
    "# Create linspace_array with 7 equally spaced numbers from 0 to 1\n",
    "linspace_array = np.linspace(0, 1, 7)\n",
    "print(\"7 equally spaced numbers between 0 and 1:\", linspace_array)\n"
   ]
  },
  {
   "cell_type": "code",
   "execution_count": 9,
   "id": "ab2c950b-0290-4898-932c-ddb143a35125",
   "metadata": {},
   "outputs": [
    {
     "name": "stdout",
     "output_type": "stream",
     "text": [
      "Array arr:\n",
      " [[1 2 3]\n",
      " [4 5 6]]\n",
      "Shape of arr: (2, 3)\n",
      "Number of dimensions (ndim): 2\n",
      "Data type (dtype): int64\n"
     ]
    }
   ],
   "source": [
    "#Analyze the array arr\n",
    "arr = np.array([[1, 2, 3], [4, 5, 6]])\n",
    "print(\"Array arr:\\n\", arr)\n",
    "\n",
    "print(\"Shape of arr:\", arr.shape)\n",
    "print(\"Number of dimensions (ndim):\", arr.ndim)\n",
    "print(\"Data type (dtype):\", arr.dtype)\n"
   ]
  },
  {
   "cell_type": "code",
   "execution_count": 10,
   "id": "dfedd5a9-17f6-44fa-9a3f-3d0f781cd6bd",
   "metadata": {},
   "outputs": [
    {
     "name": "stdout",
     "output_type": "stream",
     "text": [
      "Reshaped array (2x5):\n",
      " [[0 1 2 3 4]\n",
      " [5 6 7 8 9]]\n"
     ]
    }
   ],
   "source": [
    "#Reshape arr1d into a 2x5 array\n",
    "arr1d = np.arange(10)  # Recreate arr1d if not already defined\n",
    "reshaped_arr = arr1d.reshape(2, 5)\n",
    "print(\"Reshaped array (2x5):\\n\", reshaped_arr)\n"
   ]
  },
  {
   "cell_type": "code",
   "execution_count": 11,
   "id": "73fe50bf-fec4-4200-a655-36ce0376e2a1",
   "metadata": {},
   "outputs": [
    {
     "name": "stdout",
     "output_type": "stream",
     "text": [
      "Transposed array:\n",
      " [[0 5]\n",
      " [1 6]\n",
      " [2 7]\n",
      " [3 8]\n",
      " [4 9]]\n"
     ]
    }
   ],
   "source": [
    "# Transpose reshaped_arr\n",
    "transposed_arr = reshaped_arr.T  # Or use reshaped_arr.transpose()\n",
    "print(\"Transposed array:\\n\", transposed_arr)\n"
   ]
  },
  {
   "cell_type": "code",
   "execution_count": 12,
   "id": "c39dff2a-766f-456a-9811-103ba9072e61",
   "metadata": {},
   "outputs": [
    {
     "ename": "NameError",
     "evalue": "name 'python' is not defined",
     "output_type": "error",
     "traceback": [
      "\u001b[31m---------------------------------------------------------------------------\u001b[39m",
      "\u001b[31mNameError\u001b[39m                                 Traceback (most recent call last)",
      "\u001b[36mCell\u001b[39m\u001b[36m \u001b[39m\u001b[32mIn[12]\u001b[39m\u001b[32m, line 2\u001b[39m\n\u001b[32m      1\u001b[39m  \u001b[38;5;66;03m#Stack 1D arrays vertically\u001b[39;00m\n\u001b[32m----> \u001b[39m\u001b[32m2\u001b[39m \u001b[43mpython\u001b[49m\n\u001b[32m      3\u001b[39m Copy\n\u001b[32m      4\u001b[39m Edit\n",
      "\u001b[31mNameError\u001b[39m: name 'python' is not defined"
     ]
    }
   ],
   "source": [
    " #Stack 1D arrays vertically\n",
    "python\n",
    "Copy\n",
    "Edit\n",
    "a = np.array([1, 2, 3])\n",
    "b = np.array([4, 5, 6])\n",
    "stacked_vert = np.vstack((a, b))\n",
    "print(\"Vertical stack of 1D arrays:\\n\", stacked_vert)"
   ]
  },
  {
   "cell_type": "code",
   "execution_count": 13,
   "id": "2ae82da5-e562-44ff-a4b0-f3298e6f7919",
   "metadata": {},
   "outputs": [
    {
     "name": "stdout",
     "output_type": "stream",
     "text": [
      "Vertical stack of 1D arrays:\n",
      " [[1 2 3]\n",
      " [4 5 6]]\n"
     ]
    }
   ],
   "source": [
    "a = np.array([1, 2, 3])\n",
    "b = np.array([4, 5, 6])\n",
    "stacked_vert = np.vstack((a, b))\n",
    "print(\"Vertical stack of 1D arrays:\\n\", stacked_vert)\n"
   ]
  },
  {
   "cell_type": "code",
   "execution_count": 14,
   "id": "0f0ca684-a284-44da-875e-c4226ce87669",
   "metadata": {},
   "outputs": [
    {
     "name": "stdout",
     "output_type": "stream",
     "text": [
      "Horizontal stack of 2D arrays:\n",
      " [[1 2 5 6]\n",
      " [3 4 7 8]]\n"
     ]
    }
   ],
   "source": [
    "#Stack 2D arrays horizontally\n",
    "m1 = np.array([[1, 2], [3, 4]])\n",
    "m2 = np.array([[5, 6], [7, 8]])\n",
    "stacked_horiz = np.hstack((m1, m2))\n",
    "print(\"Horizontal stack of 2D arrays:\\n\", stacked_horiz)\n"
   ]
  },
  {
   "cell_type": "code",
   "execution_count": 15,
   "id": "a2c6a12b-49e3-48cb-ad27-bbaf9e0baa53",
   "metadata": {},
   "outputs": [
    {
     "name": "stdout",
     "output_type": "stream",
     "text": [
      "First half (left):\n",
      " [[ 0  1]\n",
      " [ 4  5]\n",
      " [ 8  9]\n",
      " [12 13]]\n",
      "Second half (right):\n",
      " [[ 2  3]\n",
      " [ 6  7]\n",
      " [10 11]\n",
      " [14 15]]\n"
     ]
    }
   ],
   "source": [
    "# Split a 4x4 array horizontally into 2 equal parts\n",
    "arr_to_split = np.arange(16).reshape(4, 4)\n",
    "h_split = np.hsplit(arr_to_split, 2)\n",
    "print(\"First half (left):\\n\", h_split[0])\n",
    "print(\"Second half (right):\\n\", h_split[1])\n"
   ]
  },
  {
   "cell_type": "code",
   "execution_count": 16,
   "id": "52315730-f7fd-4ba5-be67-5c7f5286ffb0",
   "metadata": {},
   "outputs": [
    {
     "name": "stdout",
     "output_type": "stream",
     "text": [
      "Top half (first two rows):\n",
      " [[0 1 2 3]\n",
      " [4 5 6 7]]\n",
      "Bottom half (last two rows):\n",
      " [[ 8  9 10 11]\n",
      " [12 13 14 15]]\n"
     ]
    }
   ],
   "source": [
    "#Split arr_to_split vertically at row index 2\n",
    "v_split = np.vsplit(arr_to_split, 2)\n",
    "print(\"Top half (first two rows):\\n\", v_split[0])\n",
    "print(\"Bottom half (last two rows):\\n\", v_split[1])\n"
   ]
  },
  {
   "cell_type": "code",
   "execution_count": 17,
   "id": "40e9f616-43da-4142-a0d7-04fa1b065b79",
   "metadata": {},
   "outputs": [
    {
     "name": "stdout",
     "output_type": "stream",
     "text": [
      "Element at row 1, column 2: 15\n"
     ]
    }
   ],
   "source": [
    "#. Extract the element at row 1, column 2 from data\n",
    "data = np.array([[10, 11, 12],\n",
    "                 [13, 14, 15],\n",
    "                 [16, 17, 18]])\n",
    "\n",
    "element = data[1, 2]\n",
    "print(\"Element at row 1, column 2:\", element)\n"
   ]
  },
  {
   "cell_type": "code",
   "execution_count": 18,
   "id": "c70226a3-b46c-4c64-b35e-a33760d55aec",
   "metadata": {},
   "outputs": [
    {
     "name": "stdout",
     "output_type": "stream",
     "text": [
      "First two rows, all columns:\n",
      " [[10 11 12]\n",
      " [13 14 15]]\n"
     ]
    }
   ],
   "source": [
    "# Extract the first two rows and all columns\n",
    "subset = data[:2, :]\n",
    "print(\"First two rows, all columns:\\n\", subset)\n"
   ]
  },
  {
   "cell_type": "code",
   "execution_count": 19,
   "id": "2f191662-9f28-4006-985f-e0b7946b8ef8",
   "metadata": {},
   "outputs": [
    {
     "name": "stdout",
     "output_type": "stream",
     "text": [
      "Fancy indexed elements: [11 15 17]\n"
     ]
    }
   ],
   "source": [
    "#Extract elements 11, 15, and 17 using fancy indexing\n",
    "# Row indices: [0, 1, 2]\n",
    "# Col indices: [1, 2, 1]\n",
    "fancy = data[[0, 1, 2], [1, 2, 1]]\n",
    "print(\"Fancy indexed elements:\", fancy)\n"
   ]
  },
  {
   "cell_type": "code",
   "execution_count": 20,
   "id": "f63e797a-75e7-492a-8dc9-a5c3c8c0cb14",
   "metadata": {},
   "outputs": [
    {
     "name": "stdout",
     "output_type": "stream",
     "text": [
      "Scores greater than 80: [85 92 95 88]\n"
     ]
    }
   ],
   "source": [
    "# Use boolean indexing to find scores > 80\n",
    "scores = np.array([85, 92, 78, 65, 95, 88])\n",
    "high_scores = scores[scores > 80]\n",
    "print(\"Scores greater than 80:\", high_scores)\n"
   ]
  },
  {
   "cell_type": "code",
   "execution_count": 21,
   "id": "b6178520-8913-47e5-81c8-0ba008bfc898",
   "metadata": {
    "scrolled": true
   },
   "outputs": [
    {
     "name": "stdout",
     "output_type": "stream",
     "text": [
      "Element-wise multiplication: [ 20  80 180]\n",
      "Element-wise division: [5. 5. 5.]\n"
     ]
    }
   ],
   "source": [
    " #Element-wise Multiplication and Division\n",
    "arr_op1 = np.array([10, 20, 30])\n",
    "arr_op2 = np.array([2, 4, 6])\n",
    "\n",
    "# Element-wise multiplication\n",
    "multiplication = arr_op1 * arr_op2\n",
    "print(\"Element-wise multiplication:\", multiplication)\n",
    "\n",
    "# Element-wise division\n",
    "division = arr_op1 / arr_op2\n",
    "print(\"Element-wise division:\", division)\n"
   ]
  },
  {
   "cell_type": "code",
   "execution_count": 22,
   "id": "ef9e092c-d525-40a6-9063-5bf6d744d550",
   "metadata": {},
   "outputs": [
    {
     "name": "stdout",
     "output_type": "stream",
     "text": [
      "Sum of all elements in the matrix: 45\n"
     ]
    }
   ],
   "source": [
    "# Sum of All Elements in a 2D Matrix\n",
    "matrix = np.array([[1, 2, 3],\n",
    "                   [4, 5, 6],\n",
    "                   [7, 8, 9]])\n",
    "\n",
    "total_sum = np.sum(matrix)\n",
    "print(\"Sum of all elements in the matrix:\", total_sum)\n"
   ]
  },
  {
   "cell_type": "code",
   "execution_count": 23,
   "id": "15c0a83a-6353-4307-bf17-a9ea3ff97339",
   "metadata": {},
   "outputs": [
    {
     "name": "stdout",
     "output_type": "stream",
     "text": [
      "Mean of each column: [4. 5. 6.]\n"
     ]
    }
   ],
   "source": [
    "#Mean of Each Column\n",
    "column_means = np.mean(matrix, axis=0)\n",
    "print(\"Mean of each column:\", column_means)\n"
   ]
  },
  {
   "cell_type": "code",
   "execution_count": 24,
   "id": "456755b8-5e51-4a0a-962a-6b8e4fe7ee49",
   "metadata": {},
   "outputs": [
    {
     "name": "stdout",
     "output_type": "stream",
     "text": [
      "Prices after 10% discount: [ 90. 135. 180. 225.]\n"
     ]
    }
   ],
   "source": [
    "#Apply 10% Discount Using Broadcasting\n",
    "price_array = np.array([100, 150, 200, 250])\n",
    "discount_percentage = 0.10\n",
    "\n",
    "discounted_prices = price_array * (1 - discount_percentage)\n",
    "print(\"Prices after 10% discount:\", discounted_prices)\n"
   ]
  },
  {
   "cell_type": "code",
   "execution_count": null,
   "id": "2ef3d709-521b-4cf1-afd0-54eec98284ec",
   "metadata": {},
   "outputs": [],
   "source": []
  },
  {
   "cell_type": "code",
   "execution_count": null,
   "id": "5a47490b-c0c1-4cb3-aa67-d4e458ea5896",
   "metadata": {},
   "outputs": [],
   "source": []
  }
 ],
 "metadata": {
  "kernelspec": {
   "display_name": "Python 3 (ipykernel)",
   "language": "python",
   "name": "python3"
  },
  "language_info": {
   "codemirror_mode": {
    "name": "ipython",
    "version": 3
   },
   "file_extension": ".py",
   "mimetype": "text/x-python",
   "name": "python",
   "nbconvert_exporter": "python",
   "pygments_lexer": "ipython3",
   "version": "3.11.9"
  }
 },
 "nbformat": 4,
 "nbformat_minor": 5
}
