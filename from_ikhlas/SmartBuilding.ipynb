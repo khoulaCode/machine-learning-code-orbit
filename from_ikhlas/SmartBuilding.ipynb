{
 "cells": [
  {
   "cell_type": "code",
   "execution_count": 2,
   "id": "ad47dcdb-45f9-4b5c-a621-e89ff88e6c32",
   "metadata": {},
   "outputs": [],
   "source": [
    "import numpy as np"
   ]
  },
  {
   "cell_type": "markdown",
   "id": "f1de37f9-eb46-4029-ba88-29bb21cfe9e7",
   "metadata": {},
   "source": [
    "1. Data Generation:"
   ]
  },
  {
   "cell_type": "code",
   "execution_count": 3,
   "id": "55a4cb44-25f0-46b5-98e2-ea4e274e37b7",
   "metadata": {},
   "outputs": [
    {
     "name": "stdout",
     "output_type": "stream",
     "text": [
      "[   0    1    2 ... 1437 1438 1439]\n"
     ]
    }
   ],
   "source": [
    "#Create a NumPy array for time_in_minutes from 0 to 1439 (24 hours * 60 minutes).\n",
    "time_in_minuts = np.arange(1440)\n",
    "print(time_in_minuts)"
   ]
  },
  {
   "cell_type": "code",
   "execution_count": 8,
   "id": "d920aa25-a04a-4e03-b1f5-fcc3436e73be",
   "metadata": {},
   "outputs": [
    {
     "name": "stdout",
     "output_type": "stream",
     "text": [
      "[ 0.58635131  0.65513718 -0.03823749 ... -0.92341404 -0.0867282\n",
      " -2.06620114]\n"
     ]
    }
   ],
   "source": [
    "#Generate synthetic temperature data: a base temperature (e.g., 22°C) with some random fluctuations (use np.random.normal).\n",
    "#0 --> start 1 --> standard deviation and generate 1440 values one for each minute in the 24 hours\n",
    "base_temp = 22\n",
    "temp = np.random.normal(0,1,size=1440) \n",
    "print(temp)"
   ]
  },
  {
   "cell_type": "code",
   "execution_count": 11,
   "id": "d1b09993-74e1-4773-86ba-c2987319bf22",
   "metadata": {},
   "outputs": [
    {
     "name": "stdout",
     "output_type": "stream",
     "text": [
      "[52.81029528 51.14383077 56.30468731 ... 62.34308003 59.94864366\n",
      " 51.89659404]\n"
     ]
    }
   ],
   "source": [
    "#Generate synthetic humidity data: a base humidity (e.g., 55%) with random fluctuations, ensuring values stay realistic (0-100%).\n",
    "#Any value less than minimum becomes min_value and any value greater than maximum becomes max_value and values in between stay the same.\n",
    "base_hum = 55\n",
    "hum = np.random.normal(0,5,size=1440) + base_hum\n",
    "hum = np.clip(hum,0,100)\n",
    "print(hum)"
   ]
  },
  {
   "cell_type": "code",
   "execution_count": 10,
   "id": "361f783a-cc0d-41dd-ba5e-7d2eaa85a53f",
   "metadata": {},
   "outputs": [
    {
     "name": "stdout",
     "output_type": "stream",
     "text": [
      "[-1.47938033  1.79649515 -2.79294697 ... -0.29857993 -4.15384612\n",
      "  4.41363253]\n"
     ]
    }
   ],
   "source": [
    "#Generate synthetic pressure data: a base pressure (e.g., 1012 hPa) with random fluctuations.\n",
    "base_pressure = 1012\n",
    "pressure = np.random.normal(0,2,size=1440)\n",
    "print(pressure)"
   ]
  },
  {
   "cell_type": "code",
   "execution_count": 6,
   "id": "af429294-beca-4924-8369-5795e8a5999f",
   "metadata": {},
   "outputs": [
    {
     "name": "stdout",
     "output_type": "stream",
     "text": [
      "[[ 0.00000000e+00  1.70000386e+00  6.09812482e+01 -6.43826497e-01]\n",
      " [ 1.00000000e+00 -3.22382643e-01  5.62611448e+01  1.93001530e+00]\n",
      " [ 2.00000000e+00 -1.26003371e+00  5.83948152e+01  1.40012210e+00]\n",
      " ...\n",
      " [ 1.43700000e+03  1.83241395e+00  5.73847854e+01  1.03034704e+00]\n",
      " [ 1.43800000e+03 -3.36007351e-01  5.26614846e+01  2.73189743e+00]\n",
      " [ 1.43900000e+03  2.62476294e-01  5.65523468e+01 -3.53433181e+00]]\n"
     ]
    }
   ],
   "source": [
    "#Combine these into a single 2D NumPy array where each row represents a minute and columns are [time, temperature, humidity, pressure].\n",
    "comb_data = np.column_stack((time_in_minuts,temp,hum,pressure))\n",
    "print(comb_data)"
   ]
  },
  {
   "cell_type": "markdown",
   "id": "614256ad-8f2e-4706-bf7d-5ce9cd2f8ea5",
   "metadata": {},
   "source": [
    "2. Basic Statistics:"
   ]
  },
  {
   "cell_type": "code",
   "execution_count": 7,
   "id": "75d66e2b-ee79-4f19-9b9e-0a84d76b7dbc",
   "metadata": {},
   "outputs": [
    {
     "name": "stdout",
     "output_type": "stream",
     "text": [
      "Avg temprature is: -0.01607100946107916\n",
      "Min temprature is: -3.2931938773936986\n",
      "Max temprature is: 3.079516134210938\n",
      "Avg humidity is: 54.9881250032439\n",
      "Min humidity is: 37.660558045610756\n",
      "Max humidity is: 71.82249678929193\n",
      "Avg pressure is: -0.014405718856169786\n",
      "Min pressure is: -6.144358866510921\n",
      "Max pressure is: 6.3462940053534735\n"
     ]
    }
   ],
   "source": [
    "#Calculate the average, minimum, maximum temperature, humidity, and pressure for the entire 24-hour period.\n",
    "avg_temp = np.mean(temp)\n",
    "print(\"Avg temprature is:\", avg_temp)\n",
    "min_temp = np.min(temp)\n",
    "print(\"Min temprature is:\", min_temp)\n",
    "max_temp = np.max(temp)\n",
    "print(\"Max temprature is:\", max_temp)\n",
    "\n",
    "avg_humidity = np.mean(hum)\n",
    "print(\"Avg humidity is:\", avg_humidity)\n",
    "min_humidity = np.min(hum)\n",
    "print(\"Min humidity is:\", min_humidity)\n",
    "max_humidity = np.max(hum)\n",
    "print(\"Max humidity is:\", max_humidity)\n",
    "\n",
    "avg_pressure = np.mean(pressure)\n",
    "print(\"Avg pressure is:\", avg_pressure)\n",
    "min_pressure = np.min(pressure)\n",
    "print(\"Min pressure is:\", min_pressure)\n",
    "max_pressure = np.max(pressure)\n",
    "print(\"Max pressure is:\", max_pressure)"
   ]
  },
  {
   "cell_type": "code",
   "execution_count": 12,
   "id": "02fdc84f-7b55-40d8-bc82-1534dc36020b",
   "metadata": {},
   "outputs": [
    {
     "name": "stdout",
     "output_type": "stream",
     "text": [
      "Temparture standard deviation is: 0.9995999651809164\n",
      "Humidity standard deviation is: 5.08507266872832\n",
      "Pressure standard deviation is: 2.030772118473159\n"
     ]
    }
   ],
   "source": [
    "#Find the standard deviation for each of these parameters.\n",
    "std_temp = np.std(temp)\n",
    "print(\"Temparture standard deviation is:\",std_temp)\n",
    "std_humidity = np.std(hum)\n",
    "print(\"Humidity standard deviation is:\",std_humidity)\n",
    "std_pressure = np.std(pressure)\n",
    "print(\"Pressure standard deviation is:\",std_pressure)"
   ]
  },
  {
   "cell_type": "markdown",
   "id": "71b412af-df8b-4db4-8a85-f56eb0237270",
   "metadata": {},
   "source": [
    "3. Hourly Averages:"
   ]
  },
  {
   "cell_type": "code",
   "execution_count": 9,
   "id": "334b4522-bcec-49d5-833c-131d8307ec42",
   "metadata": {},
   "outputs": [
    {
     "name": "stdout",
     "output_type": "stream",
     "text": [
      "[[ 1.70000386 -0.32238264 -1.26003371 ...  2.09434341 -1.0743181\n",
      "  -0.21589707]\n",
      " [-0.21580677 -0.53635731  1.01686043 ... -1.66513823 -1.93076457\n",
      "   0.25741609]\n",
      " [ 1.64768737 -0.9455606   0.07021885 ... -0.84225537  0.86134638\n",
      "  -0.98682466]\n",
      " ...\n",
      " [ 0.2777638   0.73189424  0.82949012 ... -0.32100927 -1.02734796\n",
      "   2.97415936]\n",
      " [-2.03778408 -0.10312714 -0.57282131 ...  0.9292685   1.88147449\n",
      "   0.0443436 ]\n",
      " [ 0.4364547   1.78017004  0.04544673 ...  1.83241395 -0.33600735\n",
      "   0.26247629]]\n",
      "[[60.98124824 56.26114479 58.39481517 ... 57.56906991 57.94502344\n",
      "  53.73460503]\n",
      " [51.57139108 55.46469082 51.58094022 ... 56.45382461 56.93717005\n",
      "  62.38482287]\n",
      " [59.49765602 61.2637917  53.70157383 ... 54.64197779 64.50742586\n",
      "  57.00687864]\n",
      " ...\n",
      " [53.06122879 57.29310715 51.25411748 ... 47.28669464 53.42159685\n",
      "  56.31833672]\n",
      " [54.38845428 55.45928085 52.98506897 ... 62.9803452  62.53404253\n",
      "  52.74557931]\n",
      " [61.43756445 59.86151071 54.16206524 ... 57.38478539 52.66148461\n",
      "  56.55234678]]\n",
      "[[-0.6438265   1.9300153   1.4001221  ...  1.01590005  1.67575465\n",
      "  -0.12322537]\n",
      " [ 3.0640041  -3.51414907 -2.12037928 ...  0.6625116  -1.195174\n",
      "  -2.55382963]\n",
      " [ 2.61634412 -1.13119941  0.83239306 ... -0.98070738  1.04465056\n",
      "   4.37422549]\n",
      " ...\n",
      " [ 0.48828527 -0.60618982  0.43532681 ... -2.32436373  3.81670113\n",
      "   0.87696048]\n",
      " [ 1.22568687 -0.09452473  1.87218654 ... -0.68971782 -0.9776322\n",
      "   1.05714716]\n",
      " [ 0.31189535  0.22823123  0.46753611 ...  1.03034704  2.73189743\n",
      "  -3.53433181]]\n",
      "[ 0.02354387 -0.02335536  0.00102988 -0.13421962 -0.04387034 -0.13904835\n",
      " -0.01051167 -0.09786099 -0.12685828 -0.16505603  0.0603799  -0.04545783\n",
      " -0.09838067  0.03409049 -0.10807475  0.37894015 -0.05590186  0.00747223\n",
      "  0.07779591 -0.09314218 -0.07094216  0.14414586 -0.19651969  0.29609728]\n",
      "[56.03170296 55.53672429 54.4700878  54.66007212 55.40954346 54.97259908\n",
      " 55.14472765 55.24796112 55.14131192 55.76742332 55.80296296 53.27454394\n",
      " 54.26567133 54.69666568 55.35365222 55.02321922 56.060884   55.03259439\n",
      " 54.35434503 54.85088625 54.16578697 54.07769157 55.68970508 54.68423771]\n",
      "[-0.17566344 -0.230458    0.29227726  0.11554869  0.09623592  0.06968193\n",
      " -0.17211515  0.21455219 -0.28932549 -0.34542817 -0.02654872  0.31635265\n",
      "  0.24434998  0.02188172 -0.08986523 -0.113103   -0.3927134   0.07656581\n",
      "  0.1302374  -0.26513609  0.10511234 -0.03017508  0.06767358  0.03432504]\n"
     ]
    }
   ],
   "source": [
    "#Reshape the data (or use slicing/aggregation) to calculate the average temperature, humidity, and pressure for each hour of the day.\n",
    "#You should end up with 24 average values for each parameter (24*60=1440min)\n",
    "temp_in_hour = temp.reshape(24,60)\n",
    "print(temp_in_hour)\n",
    "hum_in_hour = hum.reshape(24,60)\n",
    "print(hum_in_hour)\n",
    "pressure_in_hour = pressure.reshape(24,60)\n",
    "print(pressure_in_hour)\n",
    "\n",
    "#Calculate the avg\n",
    "temp_avg_in_hour = np.mean(temp_in_hour,axis=1)\n",
    "print(temp_avg_in_hour)\n",
    "hum_avg_in_hour = np.mean(hum_in_hour,axis=1)\n",
    "print(hum_avg_in_hour)\n",
    "pressure_avg_in_hour = np.mean(pressure_in_hour,axis=1)\n",
    "print(pressure_avg_in_hour)"
   ]
  },
  {
   "cell_type": "markdown",
   "id": "ca286316-288a-4645-bfb9-9a2e8a3aa9b2",
   "metadata": {},
   "source": [
    "4. Anomaly Detection (Simple):"
   ]
  },
  {
   "cell_type": "code",
   "execution_count": 13,
   "id": "6f5d6db5-f8e9-4d3d-aaa7-a41b87351789",
   "metadata": {},
   "outputs": [
    {
     "name": "stdout",
     "output_type": "stream",
     "text": [
      "Min temperature occurred at minute 428 → 07:08\n"
     ]
    }
   ],
   "source": [
    "#Identify and count how many minutes the temperature exceeded a certain threshold (e.g., 25°C).\n",
    "anomalies = time_in_minuts [temp > 25]\n",
    "anomalies_num = len(anomalies)\n",
    "\n",
    "#Find the time (in minutes) when the minimum temperature occurred.\n",
    "min_temp_and_time = time_in_minuts [np.argmin(temp)] #function that returns index of minimum value in an array\n",
    "min_temp_in_hour = min_temp_and_time // 60\n",
    "min_temp_in_minute = min_temp_and_time % 60\n",
    "print(f\"Min temperature occurred at minute {min_temp_and_time} → {min_temp_in_hour:02d}:{min_temp_in_minute:02d}\")"
   ]
  },
  {
   "cell_type": "code",
   "execution_count": 11,
   "id": "aa163ba7-8a88-4606-b206-813235dee474",
   "metadata": {},
   "outputs": [],
   "source": [
    "#Save the combined 2D array to a .csv file using NumPy's saving functions.\n",
    "np.savetxt(\"environmental_condition_data.csv\", comb_data, delimiter=\",\",\n",
    "           header=\"Time(min),Temperature(°C),Humidity(%),Pressure(hPa)\", comments='')\n",
    "#Data exported successfully as .csv file "
   ]
  }
 ],
 "metadata": {
  "kernelspec": {
   "display_name": "Python 3 (ipykernel)",
   "language": "python",
   "name": "python3"
  },
  "language_info": {
   "codemirror_mode": {
    "name": "ipython",
    "version": 3
   },
   "file_extension": ".py",
   "mimetype": "text/x-python",
   "name": "python",
   "nbconvert_exporter": "python",
   "pygments_lexer": "ipython3",
   "version": "3.13.3"
  }
 },
 "nbformat": 4,
 "nbformat_minor": 5
}
