{
 "cells": [
  {
   "cell_type": "markdown",
   "id": "e739c230-1ffe-4d27-9b2b-57fa9c9f70d2",
   "metadata": {},
   "source": [
    "**1. Sales Data Generation:**"
   ]
  },
  {
   "cell_type": "code",
   "execution_count": 1,
   "id": "c75ed0a7-5bc8-4449-8dc3-b3f1b4626693",
   "metadata": {},
   "outputs": [],
   "source": [
    "import numpy as np"
   ]
  },
  {
   "cell_type": "code",
   "execution_count": 14,
   "id": "b83faaca-fd10-4efb-aa18-43e84c28555e",
   "metadata": {},
   "outputs": [
    {
     "name": "stdout",
     "output_type": "stream",
     "text": [
      "Sales revenue for 30 days is: [ 983.19271613 1054.77553273  872.59036497 1090.88244179  763.16416087\n",
      "  872.88739728 1198.35500194  948.36967024 1067.57009229  923.48611741\n",
      " 1157.73114991  901.17689657 1116.85833719 1033.70880302 1132.53998753\n",
      " 1044.97003811 1529.00003564  770.68150835 1324.62804887 1086.48070167\n",
      " 1076.83397181 1098.79757319 1228.50390857  891.48234324 1061.7023183\n",
      " 1050.8962771  1198.43772086 1019.15341989  667.84256667 1034.6113093 ]\n"
     ]
    }
   ],
   "source": [
    "days=30\n",
    "base_revenue=1000\n",
    "sales_revenue = np.random.normal(base_revenue,200,days)\n",
    "sales_revenue = np.clip(sales_revenue,0,None)\n",
    "print(\"Sales revenue for 30 days is:\",sales_revenue)"
   ]
  },
  {
   "cell_type": "code",
   "execution_count": 3,
   "id": "2c511c39-53c7-47e2-bf8f-89a1d5c1b9b2",
   "metadata": {},
   "outputs": [
    {
     "name": "stdout",
     "output_type": "stream",
     "text": [
      "Unit sold for 30 days is: [39.8160314  53.76268951 45.94928028 42.29683209 53.7933984  59.64906633\n",
      " 45.74146687 42.2383992  34.55461855 50.33455398 49.92462187 58.51580871\n",
      " 40.91445223 43.82856161 29.65209334 56.81873499 53.46255651 48.92090115\n",
      " 59.26705333 44.37142825 72.95178797 49.64958173 54.7716687  51.79484649\n",
      " 57.55086407 30.16267437 57.75108376 48.99571876 63.65373121 73.55307247]\n"
     ]
    }
   ],
   "source": [
    "funit_sold=(sales_revenue/20) + np.random.normal(0, 5, days) #assuming average price per unit is 20\n",
    "funit_sold=np.clip(funit_sold,0,None)\n",
    "print(\"Unit sold for 30 days is:\",funit_sold)"
   ]
  },
  {
   "cell_type": "markdown",
   "id": "3ce71d10-d8c7-4f5f-ba44-8fbf700ddd5a",
   "metadata": {},
   "source": [
    "**2. Combine Data:**"
   ]
  },
  {
   "cell_type": "code",
   "execution_count": 18,
   "id": "564edf2b-f89f-4d15-ac05-bea24069cd0f",
   "metadata": {},
   "outputs": [
    {
     "name": "stdout",
     "output_type": "stream",
     "text": [
      "[[ 983.19271613   39.8160314 ]\n",
      " [1054.77553273   53.76268951]\n",
      " [ 872.59036497   45.94928028]\n",
      " [1090.88244179   42.29683209]\n",
      " [ 763.16416087   53.7933984 ]\n",
      " [ 872.88739728   59.64906633]\n",
      " [1198.35500194   45.74146687]\n",
      " [ 948.36967024   42.2383992 ]\n",
      " [1067.57009229   34.55461855]\n",
      " [ 923.48611741   50.33455398]\n",
      " [1157.73114991   49.92462187]\n",
      " [ 901.17689657   58.51580871]\n",
      " [1116.85833719   40.91445223]\n",
      " [1033.70880302   43.82856161]\n",
      " [1132.53998753   29.65209334]\n",
      " [1044.97003811   56.81873499]\n",
      " [1529.00003564   53.46255651]\n",
      " [ 770.68150835   48.92090115]\n",
      " [1324.62804887   59.26705333]\n",
      " [1086.48070167   44.37142825]\n",
      " [1076.83397181   72.95178797]\n",
      " [1098.79757319   49.64958173]\n",
      " [1228.50390857   54.7716687 ]\n",
      " [ 891.48234324   51.79484649]\n",
      " [1061.7023183    57.55086407]\n",
      " [1050.8962771    30.16267437]\n",
      " [1198.43772086   57.75108376]\n",
      " [1019.15341989   48.99571876]\n",
      " [ 667.84256667   63.65373121]\n",
      " [1034.6113093    73.55307247]]\n"
     ]
    }
   ],
   "source": [
    "data_sales = np.column_stack((sales_revenue,funit_sold))\n",
    "print(data_sales)"
   ]
  },
  {
   "cell_type": "markdown",
   "id": "3f990b60-6f14-4039-b99d-14755ba60b5b",
   "metadata": {},
   "source": [
    "**3. Key Performance Indicators (KPIs):**"
   ]
  },
  {
   "cell_type": "code",
   "execution_count": 5,
   "id": "814bfc7a-75a3-4f84-84f1-86b0ae10dd5c",
   "metadata": {},
   "outputs": [
    {
     "name": "stdout",
     "output_type": "stream",
     "text": [
      "Total sales revenue: 29517.182001621324\n"
     ]
    }
   ],
   "source": [
    "#total sales_revenue for the month\n",
    "total_sales_revenue=np.sum(sales_revenue)\n",
    "print(\"Total sales revenue:\", total_sales_revenue)"
   ]
  },
  {
   "cell_type": "code",
   "execution_count": 6,
   "id": "dfea262e-72b5-4a16-a0a6-857022ae56cb",
   "metadata": {},
   "outputs": [
    {
     "name": "stdout",
     "output_type": "stream",
     "text": [
      "Average unit sold: 50.48825260515607\n"
     ]
    }
   ],
   "source": [
    "#average units_sold per day\n",
    "avg_unit_sold=np.mean(funit_sold)\n",
    "print(\"Average unit sold:\", avg_unit_sold)"
   ]
  },
  {
   "cell_type": "code",
   "execution_count": 7,
   "id": "b790b668-eb55-40c4-ba45-b65ab69670a6",
   "metadata": {},
   "outputs": [
    {
     "name": "stdout",
     "output_type": "stream",
     "text": [
      "Max sales revenue: 1414.0189420085849 at the index(day): 29\n"
     ]
    }
   ],
   "source": [
    "#maximum daily sales_revenue and the day (index) it occurred\n",
    "max_sales_revenue = np.max(sales_revenue)\n",
    "day_of_max=np.argmax(sales_revenue)\n",
    "print(f\"Max sales revenue: {max_sales_revenue} at the index(day): {day_of_max}\")"
   ]
  },
  {
   "cell_type": "code",
   "execution_count": 17,
   "id": "ccc029d8-3ff3-4377-8927-340fb130fe9b",
   "metadata": {},
   "outputs": [
    {
     "name": "stdout",
     "output_type": "stream",
     "text": [
      "Average revenue/unit for a month is: 19.487821739749222\n"
     ]
    }
   ],
   "source": [
    "#the average revenue per unit sold for the entire month (total revenue / total units sold)\n",
    "avg_revenue_per_unit=total_sales_revenue/np.sum(funit_sold)\n",
    "print(\"Average revenue/unit for a month is:\",avg_revenue_per_unit)"
   ]
  },
  {
   "cell_type": "markdown",
   "id": "c2f34860-bf8d-4dff-84de-72e1ba84d85c",
   "metadata": {},
   "source": [
    "**4. Conditional Analysis:**"
   ]
  },
  {
   "cell_type": "code",
   "execution_count": 9,
   "id": "802d70ae-4d64-404d-8fc9-1765a6af95de",
   "metadata": {},
   "outputs": [
    {
     "name": "stdout",
     "output_type": "stream",
     "text": [
      "Number of days with sales revenue > 1200 is: 2\n"
     ]
    }
   ],
   "source": [
    "#how many days had sales_revenue above a certain target (e.g., $1200)\n",
    "above_sales_rev = np.sum(sales_revenue >1200)\n",
    "print(\"Number of days with sales revenue > 1200 is:\",above_sales_rev)"
   ]
  },
  {
   "cell_type": "code",
   "execution_count": 16,
   "id": "9f1b4181-e028-4d0e-ab76-a5ee1634af12",
   "metadata": {},
   "outputs": [
    {
     "name": "stdout",
     "output_type": "stream",
     "text": [
      "The avg unit sold at days below threshold is: 53.96020397711925\n"
     ]
    }
   ],
   "source": [
    "#average units_sold only for days when sales_revenue was below a certain threshold (e.g., $900)\n",
    "avg_unit_sold_below_th=np.mean(funit_sold[sales_revenue<900])\n",
    "print(\"The avg unit sold at days below threshold is:\",avg_unit_sold_below_th)"
   ]
  },
  {
   "cell_type": "markdown",
   "id": "bedb2d3d-18d3-4b2f-ab05-33d29b63eca2",
   "metadata": {},
   "source": [
    "**5. Weekly Aggregations:**"
   ]
  },
  {
   "cell_type": "code",
   "execution_count": 13,
   "id": "32998833-0225-43d0-b5d8-5902b0a84662",
   "metadata": {},
   "outputs": [
    {
     "name": "stdout",
     "output_type": "stream",
     "text": [
      "Week1 :$6639.98079827147\n",
      "Week2 :$6106.716254694055\n",
      "Week3 :$7345.736259471897\n",
      "Week4 :$6824.7144464775465\n"
     ]
    }
   ],
   "source": [
    "weekly_total=sales_revenue[:28].reshape(4,7).sum(axis=1)\n",
    "for i,t_revenue in enumerate(weekly_total,start=1):\n",
    "    print(f\"Week{i} :${t_revenue}\")"
   ]
  },
  {
   "cell_type": "code",
   "execution_count": null,
   "id": "4c3621b4-6ef0-4aec-a39d-b1b3e278af11",
   "metadata": {},
   "outputs": [],
   "source": []
  }
 ],
 "metadata": {
  "kernelspec": {
   "display_name": "Python 3 (ipykernel)",
   "language": "python",
   "name": "python3"
  },
  "language_info": {
   "codemirror_mode": {
    "name": "ipython",
    "version": 3
   },
   "file_extension": ".py",
   "mimetype": "text/x-python",
   "name": "python",
   "nbconvert_exporter": "python",
   "pygments_lexer": "ipython3",
   "version": "3.13.3"
  }
 },
 "nbformat": 4,
 "nbformat_minor": 5
}
