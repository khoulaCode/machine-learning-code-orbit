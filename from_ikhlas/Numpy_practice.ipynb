{
 "cells": [
  {
   "cell_type": "markdown",
   "id": "8458555b-8833-4ba5-acca-7cab09a8b86c",
   "metadata": {},
   "source": [
    "**Part 1: Array Creation and Properties**"
   ]
  },
  {
   "cell_type": "markdown",
   "id": "fb8d2a9f-1378-436b-8619-6f6b84d34609",
   "metadata": {},
   "source": [
    "1- Create a 1D array named arr1d with integers from 0 to 9."
   ]
  },
  {
   "cell_type": "code",
   "execution_count": 1,
   "id": "65ec6789-05a3-421f-966c-e5a92f075717",
   "metadata": {},
   "outputs": [],
   "source": [
    "import numpy as np"
   ]
  },
  {
   "cell_type": "code",
   "execution_count": 2,
   "id": "58b503e7-4236-49a8-bc20-e29f57729299",
   "metadata": {},
   "outputs": [
    {
     "name": "stdout",
     "output_type": "stream",
     "text": [
      "[0 1 2 3 4 5 6 7 8 9]\n"
     ]
    }
   ],
   "source": [
    "arr1d = np.arange(10)\n",
    "print(arr1d)"
   ]
  },
  {
   "cell_type": "markdown",
   "id": "4629052e-816f-4c74-8d97-c18f71c0298e",
   "metadata": {},
   "source": [
    "2- Create a 2D array named arr2d with shape (3, 3) filled with ones."
   ]
  },
  {
   "cell_type": "code",
   "execution_count": 4,
   "id": "3606b0b3-a82c-47d9-bbdf-7ec04ce10ccc",
   "metadata": {},
   "outputs": [
    {
     "name": "stdout",
     "output_type": "stream",
     "text": [
      "[[1. 1. 1.]\n",
      " [1. 1. 1.]\n",
      " [1. 1. 1.]]\n"
     ]
    }
   ],
   "source": [
    "arr2d = np.ones((3,3))\n",
    "print(arr2d)"
   ]
  },
  {
   "cell_type": "markdown",
   "id": "390d9dda-5a0f-4d68-91a1-0fa8f6e22169",
   "metadata": {},
   "source": [
    "3- Create a 3x3 array named random_matrix with random floating-point numbers from a standard normal distribution."
   ]
  },
  {
   "cell_type": "code",
   "execution_count": 7,
   "id": "e4ec8a0b-4942-4dfc-af66-71c4ed6a48e1",
   "metadata": {},
   "outputs": [
    {
     "name": "stdout",
     "output_type": "stream",
     "text": [
      "[[-1.97523752  0.49815531 -0.23358217]\n",
      " [-0.03399026 -0.14227621  0.48222329]\n",
      " [ 0.52306656 -0.71639677  1.49107937]]\n"
     ]
    }
   ],
   "source": [
    "random_matrix = np.random.randn(3,3)\n",
    "print(random_matrix)"
   ]
  },
  {
   "cell_type": "markdown",
   "id": "1f12bdf4-ee52-4e2a-8719-3d290aa0432c",
   "metadata": {},
   "source": [
    "4- Create an array named even_numbers containing even numbers from 10 to 50 (inclusive)."
   ]
  },
  {
   "cell_type": "code",
   "execution_count": 11,
   "id": "3006fe6c-e7c3-4a0f-b2ce-87bace12f95f",
   "metadata": {},
   "outputs": [
    {
     "name": "stdout",
     "output_type": "stream",
     "text": [
      "[10 12 14 16 18 20 22 24 26 28 30 32 34 36 38 40 42 44 46 48 50]\n"
     ]
    }
   ],
   "source": [
    "even_numbers = np.arange(10,51,2)\n",
    "print(even_numbers)"
   ]
  },
  {
   "cell_type": "markdown",
   "id": "f469346a-ce30-4c11-8ffd-bdb361c64366",
   "metadata": {},
   "source": [
    "5- Create an array named linspace_array containing 7 equally spaced numbers between 0 and 1 (inclusive)."
   ]
  },
  {
   "cell_type": "code",
   "execution_count": 12,
   "id": "627771f3-df92-4c30-b80a-40846644fab8",
   "metadata": {},
   "outputs": [
    {
     "name": "stdout",
     "output_type": "stream",
     "text": [
      "[0.         0.16666667 0.33333333 0.5        0.66666667 0.83333333\n",
      " 1.        ]\n"
     ]
    }
   ],
   "source": [
    "linspace_array = np.linspace(0,1,7)\n",
    "print(linspace_array)"
   ]
  },
  {
   "cell_type": "markdown",
   "id": "77eb7ac0-6ebc-4a7e-89f9-50b869d48ee2",
   "metadata": {},
   "source": [
    "6- Given arr = np.array([[1, 2, 3], [4, 5, 6]]), what is its shape, ndim, and dtype? Print them."
   ]
  },
  {
   "cell_type": "code",
   "execution_count": 13,
   "id": "9826bdaa-b2c0-45f3-9c4e-b3980014cb7d",
   "metadata": {},
   "outputs": [
    {
     "name": "stdout",
     "output_type": "stream",
     "text": [
      "Array shape: (2, 3)\n",
      "Array dimension: 2\n",
      "Array data type: int64\n"
     ]
    }
   ],
   "source": [
    "arr = np.array([[1, 2, 3], [4, 5, 6]])\n",
    "print(\"Array shape:\", arr.shape)\n",
    "print(\"Array dimension:\", arr.ndim)\n",
    "print(\"Array data type:\", arr.dtype)"
   ]
  },
  {
   "cell_type": "markdown",
   "id": "1f014d15-a78d-4bc5-923b-729984a61357",
   "metadata": {},
   "source": [
    "**Part 2: Array Manipulation**"
   ]
  },
  {
   "cell_type": "markdown",
   "id": "9872a7c3-268c-4d0a-bc69-b6f9d2ec4e06",
   "metadata": {},
   "source": [
    "1- Reshape arr1d (from Q1) into a 2x5 2D array. Name the new array reshaped_arr."
   ]
  },
  {
   "cell_type": "code",
   "execution_count": 14,
   "id": "7202bf51-a91f-4e6b-a296-dec6d290e996",
   "metadata": {},
   "outputs": [
    {
     "name": "stdout",
     "output_type": "stream",
     "text": [
      "[[0 1 2 3 4]\n",
      " [5 6 7 8 9]]\n"
     ]
    }
   ],
   "source": [
    "reshaped_arr = arr1d.reshape((2,5))\n",
    "print(reshaped_arr)"
   ]
  },
  {
   "cell_type": "markdown",
   "id": "a495745a-94de-4503-8c81-30b847c638ae",
   "metadata": {},
   "source": [
    "2- Transpose reshaped_arr (from Q7). Name the result transposed_arr."
   ]
  },
  {
   "cell_type": "code",
   "execution_count": 16,
   "id": "bfafed79-cdad-4464-9db6-25fc4763220a",
   "metadata": {},
   "outputs": [
    {
     "name": "stdout",
     "output_type": "stream",
     "text": [
      "[[0 5]\n",
      " [1 6]\n",
      " [2 7]\n",
      " [3 8]\n",
      " [4 9]]\n"
     ]
    }
   ],
   "source": [
    "transposed_arr = reshaped_arr.T\n",
    "print(transposed_arr)"
   ]
  },
  {
   "cell_type": "markdown",
   "id": "66dbaa73-5ac3-46b8-8f56-c4ddc740fbc6",
   "metadata": {},
   "source": [
    "3- Stack two 1D arrays a = np.array([1, 2, 3]) and b = np.array([4, 5, 6]) vertically."
   ]
  },
  {
   "cell_type": "code",
   "execution_count": 17,
   "id": "5c7b060e-08c3-497a-af1a-ada00ee135cf",
   "metadata": {},
   "outputs": [
    {
     "name": "stdout",
     "output_type": "stream",
     "text": [
      "Vertical stack:\n",
      " [[1 2 3]\n",
      " [4 5 6]]\n"
     ]
    }
   ],
   "source": [
    "a = np.array([1,2,3])\n",
    "b = np.array([4,5,6])\n",
    "v_stack = np.vstack((a,b))\n",
    "print(\"Vertical stack:\\n\",v_stack)"
   ]
  },
  {
   "cell_type": "markdown",
   "id": "92472990-6b40-4d27-9e86-b1feb2335689",
   "metadata": {},
   "source": [
    "4- Stack two 2D arrays m1 = np.array([[1, 2], [3, 4]]) and m2 = np.array([[5, 6], [7, 8]]) horizontally."
   ]
  },
  {
   "cell_type": "code",
   "execution_count": 19,
   "id": "5372fc29-a337-4f99-ae76-e10b2a822acc",
   "metadata": {},
   "outputs": [
    {
     "name": "stdout",
     "output_type": "stream",
     "text": [
      "Horizontal stack:\n",
      " [[1 2 5 6]\n",
      " [3 4 7 8]]\n"
     ]
    }
   ],
   "source": [
    "m1 = np.array([[1,2],[3,4]])\n",
    "m2 = np.array([[5,6],[7,8]])\n",
    "h_stack = np.hstack((m1,m2))\n",
    "print(\"Horizontal stack:\\n\",h_stack)"
   ]
  },
  {
   "cell_type": "markdown",
   "id": "0904397a-ceff-4ec9-8a90-1963c206bb0f",
   "metadata": {},
   "source": [
    "5- Split the array arr_to_split = np.arange(16).reshape(4, 4) horizontally into 2 equal parts. Print both parts."
   ]
  },
  {
   "cell_type": "code",
   "execution_count": 20,
   "id": "6cdb2401-7aee-4c75-a6a1-372e6f927470",
   "metadata": {},
   "outputs": [
    {
     "name": "stdout",
     "output_type": "stream",
     "text": [
      "Left split is:\n",
      " [[ 0  1]\n",
      " [ 4  5]\n",
      " [ 8  9]\n",
      " [12 13]]\n",
      "\n",
      "Right split is:\n",
      " [[ 2  3]\n",
      " [ 6  7]\n",
      " [10 11]\n",
      " [14 15]]\n"
     ]
    }
   ],
   "source": [
    "arr_to_split = np.arange(16).reshape(4,4)\n",
    "splited_part = np.hsplit(arr_to_split,2)\n",
    "left_split = splited_part[0]\n",
    "right_split = splited_part[1]\n",
    "print(\"Left split is:\\n\",left_split)\n",
    "print(\"\\nRight split is:\\n\",right_split)"
   ]
  },
  {
   "cell_type": "markdown",
   "id": "acf9cda6-b205-471f-8b19-aeafd1733267",
   "metadata": {},
   "source": [
    "6- Split the array arr_to_split (from Q11) vertically at index 2 (i.e., into two parts: first two rows, and last two rows). Print both parts."
   ]
  },
  {
   "cell_type": "code",
   "execution_count": 21,
   "id": "4fa0b84f-bdfd-4836-a236-60177827f551",
   "metadata": {},
   "outputs": [
    {
     "name": "stdout",
     "output_type": "stream",
     "text": [
      "Upper rows is:\n",
      " [[0 1 2 3]\n",
      " [4 5 6 7]]\n",
      "\n",
      "Lower rows is:\n",
      " [[ 8  9 10 11]\n",
      " [12 13 14 15]]\n"
     ]
    }
   ],
   "source": [
    "arr_to_split = np.arange(16).reshape(4,4)\n",
    "parts = np.vsplit(arr_to_split,2)\n",
    "upper_rows = parts[0]\n",
    "lower_rows = parts[1]\n",
    "print(\"Upper rows is:\\n\",upper_rows)\n",
    "print(\"\\nLower rows is:\\n\",lower_rows)"
   ]
  },
  {
   "cell_type": "markdown",
   "id": "c66105a5-6c28-4428-85e3-b04c11e54e1e",
   "metadata": {},
   "source": [
    "**Part 3: Indexing, Slicing, and Boolean Indexing**"
   ]
  },
  {
   "cell_type": "markdown",
   "id": "0eeaea3f-f51c-47a1-a899-23968f661a91",
   "metadata": {},
   "source": [
    "1- Given data = np.array([[10, 11, 12], [13, 14, 15], [16, 17, 18]]), extract the element at row 1, column 2."
   ]
  },
  {
   "cell_type": "code",
   "execution_count": 22,
   "id": "237f53c9-8a45-4b84-8285-dd8ff3c89d59",
   "metadata": {},
   "outputs": [
    {
     "name": "stdout",
     "output_type": "stream",
     "text": [
      "15\n"
     ]
    }
   ],
   "source": [
    "data = np.array([[10,11,12],[13,14,15],[16,17,18]])\n",
    "extracted_element = data[1,2]\n",
    "print(extracted_element)"
   ]
  },
  {
   "cell_type": "markdown",
   "id": "44bdd1e4-df9a-4e78-87db-6243354f8f7b",
   "metadata": {},
   "source": [
    "2- From the data array (from Q13), extract the first two rows and all columns."
   ]
  },
  {
   "cell_type": "code",
   "execution_count": 23,
   "id": "55c17647-435c-424d-b1ed-9e9511c73da7",
   "metadata": {},
   "outputs": [
    {
     "name": "stdout",
     "output_type": "stream",
     "text": [
      "[[10 11 12]\n",
      " [13 14 15]]\n"
     ]
    }
   ],
   "source": [
    "data = np.array([[10,11,12],[13,14,15],[16,17,18]])\n",
    "extracted_element = data[:2 , : ]\n",
    "print(extracted_element)"
   ]
  },
  {
   "cell_type": "markdown",
   "id": "4d00df58-5282-482a-8467-a9063c40691d",
   "metadata": {},
   "source": [
    "3- From the data array (from Q13), extract the elements 11, 15, and 17 using fancy indexing (hint: you'll need to specify rows and columns)."
   ]
  },
  {
   "cell_type": "code",
   "execution_count": 24,
   "id": "82f83f02-3d47-43d3-8f43-07cb15cc2a85",
   "metadata": {},
   "outputs": [
    {
     "name": "stdout",
     "output_type": "stream",
     "text": [
      "[11 15 17]\n"
     ]
    }
   ],
   "source": [
    "data = np.array([[10,11,12],[13,14,15],[16,17,18]])\n",
    "data_11 = [0,1]\n",
    "data_15 = [1,2]\n",
    "data_17 = [2,1]\n",
    "rows = [0,1,2]\n",
    "column = [1,2,1]\n",
    "extracted_element = data[rows,column]\n",
    "print(extracted_element)"
   ]
  },
  {
   "cell_type": "markdown",
   "id": "1e020277-0c42-4513-833a-95c5d755928b",
   "metadata": {},
   "source": [
    "4- Given scores = np.array([85, 92, 78, 65, 95, 88]), use boolean indexing to find all scores greater than 80."
   ]
  },
  {
   "cell_type": "code",
   "execution_count": 26,
   "id": "ba863c08-ac95-48ec-8952-34d5044ad165",
   "metadata": {},
   "outputs": [
    {
     "name": "stdout",
     "output_type": "stream",
     "text": [
      "Original scores:\n",
      " [85 92 78 65 95 88]\n",
      "\n",
      "Boolean scores:\n",
      " [ True  True False False  True  True]\n"
     ]
    }
   ],
   "source": [
    "scores = np.array([85,92,78,65,95,88])\n",
    "print(\"Original scores:\\n\", scores)\n",
    "condition = scores>80\n",
    "print(\"\\nBoolean scores:\\n\", condition)"
   ]
  },
  {
   "cell_type": "markdown",
   "id": "041ad3cc-0ca1-4dac-a6d5-c3b470ba4d6b",
   "metadata": {},
   "source": [
    "**Part 4: Numerical Operations and Aggregations**"
   ]
  },
  {
   "cell_type": "markdown",
   "id": "4ee239ce-b131-40f6-9138-7b7e38c2717f",
   "metadata": {},
   "source": [
    "1- Given arr_op1 = np.array([10, 20, 30]) and arr_op2 = np.array([2, 4, 6]), perform element-wise multiplication and division (arr_op1 / arr_op2)."
   ]
  },
  {
   "cell_type": "code",
   "execution_count": 29,
   "id": "4e6d9727-543b-4557-a8f2-2976d36188b8",
   "metadata": {},
   "outputs": [
    {
     "name": "stdout",
     "output_type": "stream",
     "text": [
      "Multiplication operation result:\n",
      " [ 20  80 180]\n",
      "\n",
      "Division operation result:\n",
      " [5. 5. 5.]\n"
     ]
    }
   ],
   "source": [
    "arr_op1 = np.array([10,20,30])\n",
    "arr_op2 = np.array([2,4,6])\n",
    "arr_mul = arr_op1 * arr_op2 \n",
    "arr_div = arr_op1 / arr_op2 \n",
    "print(\"Multiplication operation result:\\n\", arr_mul)\n",
    "print(\"\\nDivision operation result:\\n\",arr_div)"
   ]
  },
  {
   "cell_type": "markdown",
   "id": "ddf7681e-cd22-46b9-ba5c-38b75dfa01e4",
   "metadata": {},
   "source": [
    "2- Given matrix = np.array([[1, 2, 3], [4, 5, 6], [7, 8, 9]]), calculatethe sum of all elements in the matrix."
   ]
  },
  {
   "cell_type": "code",
   "execution_count": 30,
   "id": "65dd741b-c94c-479f-999d-b2146afa0344",
   "metadata": {},
   "outputs": [
    {
     "name": "stdout",
     "output_type": "stream",
     "text": [
      "Sum result:\n",
      " 45\n"
     ]
    }
   ],
   "source": [
    "matrix = np.array([[1,2,3], [4,5,6], [7,8,9]])\n",
    "arr_sum = matrix.sum()\n",
    "print(\"Sum result:\\n\", arr_sum)"
   ]
  },
  {
   "cell_type": "markdown",
   "id": "76774b21-b323-4fbc-9186-87b4ac6f4c67",
   "metadata": {},
   "source": [
    "3- From the matrix (from Q18), calculate the mean of each column."
   ]
  },
  {
   "cell_type": "code",
   "execution_count": 33,
   "id": "20033103-d154-4090-9caf-45e5d924c1ef",
   "metadata": {},
   "outputs": [
    {
     "name": "stdout",
     "output_type": "stream",
     "text": [
      "Mean value:\n",
      " [4. 5. 6.]\n"
     ]
    }
   ],
   "source": [
    "matrix = np.array([[1,2,3], [4,5,6], [7,8,9]])\n",
    "columns_mean = np.mean(matrix, axis = 0)\n",
    "print(\"Mean value:\\n\", columns_mean)"
   ]
  },
  {
   "cell_type": "markdown",
   "id": "adbe5dca-e5b1-4546-a991-25d5f0769597",
   "metadata": {},
   "source": [
    "4- Given price_array = np.array([100, 150, 200, 250]) and discount_percentage = 0.10, apply a 10% discount to all prices using broadcasting."
   ]
  },
  {
   "cell_type": "code",
   "execution_count": 35,
   "id": "87090ff1-716f-45c2-a16e-897ee4bd0d12",
   "metadata": {},
   "outputs": [
    {
     "name": "stdout",
     "output_type": "stream",
     "text": [
      "Result:\n",
      " [ 90. 135. 180. 225.]\n"
     ]
    }
   ],
   "source": [
    "price_array = np.array([100,150,200,250])\n",
    "discount_percentage = 0.10\n",
    "result = price_array *(1 - discount_percentage)\n",
    "print(\"Result:\\n\", result)"
   ]
  },
  {
   "cell_type": "code",
   "execution_count": null,
   "id": "7810b07a-c989-4eb2-b626-d586c8447285",
   "metadata": {},
   "outputs": [],
   "source": []
  }
 ],
 "metadata": {
  "kernelspec": {
   "display_name": "Python 3 (ipykernel)",
   "language": "python",
   "name": "python3"
  },
  "language_info": {
   "codemirror_mode": {
    "name": "ipython",
    "version": 3
   },
   "file_extension": ".py",
   "mimetype": "text/x-python",
   "name": "python",
   "nbconvert_exporter": "python",
   "pygments_lexer": "ipython3",
   "version": "3.13.3"
  }
 },
 "nbformat": 4,
 "nbformat_minor": 5
}
