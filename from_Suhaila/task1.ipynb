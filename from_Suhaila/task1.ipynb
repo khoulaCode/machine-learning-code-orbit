{
 "cells": [
  {
   "cell_type": "code",
   "execution_count": 1,
   "id": "ddc8fde1-9a92-4fac-b551-43f4a8ce2d43",
   "metadata": {},
   "outputs": [],
   "source": [
    "import numpy as np"
   ]
  },
  {
   "cell_type": "markdown",
   "id": "db18aaea-4988-4666-8cf3-e793acb143d3",
   "metadata": {},
   "source": [
    "Create a 1D array named arr1d with integers from 0 to 9."
   ]
  },
  {
   "cell_type": "code",
   "execution_count": 2,
   "id": "c3d39537-6064-48f1-a896-257356e4c3e9",
   "metadata": {},
   "outputs": [
    {
     "name": "stdout",
     "output_type": "stream",
     "text": [
      "arr1d: [0 1 2 3 4 5 6 7 8 9]\n"
     ]
    }
   ],
   "source": [
    "arr1d = np.arange(10)\n",
    "print(\"arr1d:\", arr1d)"
   ]
  },
  {
   "cell_type": "markdown",
   "id": "284feca9-3829-4137-a4f1-06460b458e2e",
   "metadata": {},
   "source": [
    "Create a 2D array named arr2d with shape (3, 3) filled with ones."
   ]
  },
  {
   "cell_type": "code",
   "execution_count": 3,
   "id": "df765d4e-1f23-40fd-9e76-f13b54797113",
   "metadata": {},
   "outputs": [
    {
     "name": "stdout",
     "output_type": "stream",
     "text": [
      "arr2d:\n",
      " [[1. 1. 1.]\n",
      " [1. 1. 1.]\n",
      " [1. 1. 1.]]\n"
     ]
    }
   ],
   "source": [
    "arr2d = np.ones((3, 3))\n",
    "print(\"arr2d:\\n\", arr2d)"
   ]
  },
  {
   "cell_type": "markdown",
   "id": "1959fe72-e1a0-4aec-920a-17a1219f6a12",
   "metadata": {},
   "source": [
    "Create a 3x3 array named random_matrix with random floating-point numbers from a standard normal distribution."
   ]
  },
  {
   "cell_type": "code",
   "execution_count": 9,
   "id": "38c5558b-34c2-4066-8051-dc3534527cc3",
   "metadata": {},
   "outputs": [
    {
     "name": "stdout",
     "output_type": "stream",
     "text": [
      "random_matrix:\n",
      " [[-1.32972985  0.88575682 -0.01787568]\n",
      " [ 0.92158756 -0.9908581  -0.33768149]\n",
      " [ 1.21887354  0.07919373  0.9179337 ]]\n"
     ]
    }
   ],
   "source": [
    "random_matrix = np.random.randn(3, 3)\n",
    "print(\"random_matrix:\\n\", random_matrix)"
   ]
  },
  {
   "cell_type": "markdown",
   "id": "3b390ab1-ca18-4863-a6cb-4c77aa7015d1",
   "metadata": {},
   "source": [
    "Create an array named even_numbers containing even numbers from 10 to 50 (inclusive)."
   ]
  },
  {
   "cell_type": "code",
   "execution_count": 5,
   "id": "9b360b44-5e3b-42a0-b84f-cc673595d40b",
   "metadata": {},
   "outputs": [
    {
     "name": "stdout",
     "output_type": "stream",
     "text": [
      "even_numbers: [10 12 14 16 18 20 22 24 26 28 30 32 34 36 38 40 42 44 46 48 50]\n"
     ]
    }
   ],
   "source": [
    "even_numbers = np.arange(10, 51, 2)\n",
    "print(\"even_numbers:\", even_numbers)"
   ]
  },
  {
   "cell_type": "markdown",
   "id": "6eb781ff-fe67-494f-9e5b-ef5f3bc5a6a3",
   "metadata": {},
   "source": [
    "Create an array named linspace_array containing 7 equally spaced numbers between 0 and 1 (inclusive)."
   ]
  },
  {
   "cell_type": "code",
   "execution_count": 6,
   "id": "b2d75a99-ad9e-4be9-8b7e-f551b726c305",
   "metadata": {},
   "outputs": [
    {
     "name": "stdout",
     "output_type": "stream",
     "text": [
      "linspace_array: [0.         0.16666667 0.33333333 0.5        0.66666667 0.83333333\n",
      " 1.        ]\n"
     ]
    }
   ],
   "source": [
    "linspace_array = np.linspace(0, 1, 7)\n",
    "print(\"linspace_array:\", linspace_array)"
   ]
  },
  {
   "cell_type": "markdown",
   "id": "b1b41f7f-17f0-4471-879b-40cc1e971125",
   "metadata": {},
   "source": [
    "Given arr = np.array([[1, 2, 3], [4, 5, 6]]), what is its shape, ndim, and dtype? Print them."
   ]
  },
  {
   "cell_type": "code",
   "execution_count": 7,
   "id": "a9b4c4a4-eebd-4f05-b094-5fd3c03cb2ce",
   "metadata": {},
   "outputs": [
    {
     "name": "stdout",
     "output_type": "stream",
     "text": [
      "Shape: (2, 3)\n",
      "Number of dimensions (ndim): 2\n",
      "Data type (dtype): int64\n"
     ]
    }
   ],
   "source": [
    "arr = np.array([[1, 2, 3], [4, 5, 6]])\n",
    "\n",
    "print(\"Shape:\", arr.shape)\n",
    "print(\"Number of dimensions (ndim):\", arr.ndim)\n",
    "print(\"Data type (dtype):\", arr.dtype)"
   ]
  },
  {
   "cell_type": "markdown",
   "id": "ff8cbcae-1332-45c3-a5e7-c3e5e1ccdcbc",
   "metadata": {},
   "source": [
    "# part2 "
   ]
  },
  {
   "cell_type": "markdown",
   "id": "307356ee-c5b6-48ae-a101-1ff337ebb5d7",
   "metadata": {},
   "source": [
    "Reshape arr1d (from Q1) into a 2x5 2D array. Name the new array reshaped_arr."
   ]
  },
  {
   "cell_type": "code",
   "execution_count": 10,
   "id": "282be357-29af-4219-b21c-1dccbe09ade0",
   "metadata": {},
   "outputs": [
    {
     "name": "stdout",
     "output_type": "stream",
     "text": [
      "reshaped_arr:\n",
      " [[0 1 2 3 4]\n",
      " [5 6 7 8 9]]\n"
     ]
    }
   ],
   "source": [
    "arr1d = np.arange(10)\n",
    "reshaped_arr = arr1d.reshape(2, 5)\n",
    "print(\"reshaped_arr:\\n\", reshaped_arr)"
   ]
  },
  {
   "cell_type": "markdown",
   "id": "32276410-4b10-4347-8c06-e4c1fb684798",
   "metadata": {},
   "source": [
    "Transpose reshaped_arr (from part 2 Q1). Name the result transposed_arr."
   ]
  },
  {
   "cell_type": "code",
   "execution_count": 11,
   "id": "ce305b0e-e0cd-4383-8f5c-9c0d26463499",
   "metadata": {},
   "outputs": [
    {
     "name": "stdout",
     "output_type": "stream",
     "text": [
      "transposed_arr:\n",
      " [[0 5]\n",
      " [1 6]\n",
      " [2 7]\n",
      " [3 8]\n",
      " [4 9]]\n"
     ]
    }
   ],
   "source": [
    "transposed_arr = reshaped_arr.T\n",
    "print(\"transposed_arr:\\n\", transposed_arr)"
   ]
  },
  {
   "cell_type": "markdown",
   "id": "0b610989-d83e-406b-9247-c72931a6a267",
   "metadata": {},
   "source": [
    "Stack two 1D arrays a = np.array([1, 2, 3]) and b = np.array([4, 5, 6]) vertically."
   ]
  },
  {
   "cell_type": "code",
   "execution_count": 12,
   "id": "66e5fa56-bd8b-4b1b-ab33-4625f94944b8",
   "metadata": {},
   "outputs": [
    {
     "name": "stdout",
     "output_type": "stream",
     "text": [
      "stacked_vertically:\n",
      " [[1 2 3]\n",
      " [4 5 6]]\n"
     ]
    }
   ],
   "source": [
    "a = np.array([1, 2, 3])\n",
    "b = np.array([4, 5, 6])\n",
    "\n",
    "stacked_vertically = np.vstack((a, b))\n",
    "print(\"stacked_vertically:\\n\", stacked_vertically)"
   ]
  },
  {
   "cell_type": "markdown",
   "id": "5b2cb829-85ca-4614-96cc-99eee26f7ffd",
   "metadata": {},
   "source": [
    "Stack two 2D arrays m1 = np.array([[1, 2], [3, 4]]) and m2 = np.array([[5, 6], [7, 8]]) horizontally."
   ]
  },
  {
   "cell_type": "code",
   "execution_count": 13,
   "id": "f361ec82-cdce-424a-82d4-615b5f1cec64",
   "metadata": {},
   "outputs": [
    {
     "name": "stdout",
     "output_type": "stream",
     "text": [
      "stacked_horizontally:\n",
      " [[1 2 5 6]\n",
      " [3 4 7 8]]\n"
     ]
    }
   ],
   "source": [
    "m1 = np.array([[1, 2], [3, 4]])\n",
    "m2 = np.array([[5, 6], [7, 8]])\n",
    "\n",
    "stacked_horizontally = np.hstack((m1, m2))\n",
    "print(\"stacked_horizontally:\\n\", stacked_horizontally)"
   ]
  },
  {
   "cell_type": "markdown",
   "id": "9389e321-7914-4219-98f9-198bd7ec3447",
   "metadata": {},
   "source": [
    "Split the array arr_to_split = np.arange(16).reshape(4, 4) horizontally into 2 equal parts. Print both parts."
   ]
  },
  {
   "cell_type": "code",
   "execution_count": 14,
   "id": "da342782-d5b7-4e3e-a2b0-75e991515698",
   "metadata": {},
   "outputs": [
    {
     "name": "stdout",
     "output_type": "stream",
     "text": [
      "arr_to_split:\n",
      " [[ 0  1  2  3]\n",
      " [ 4  5  6  7]\n",
      " [ 8  9 10 11]\n",
      " [12 13 14 15]]\n",
      "Horizontal Split - Part 1:\n",
      " [[ 0  1]\n",
      " [ 4  5]\n",
      " [ 8  9]\n",
      " [12 13]]\n",
      "Horizontal Split - Part 2:\n",
      " [[ 2  3]\n",
      " [ 6  7]\n",
      " [10 11]\n",
      " [14 15]]\n"
     ]
    }
   ],
   "source": [
    "arr_to_split = np.arange(16).reshape(4, 4)\n",
    "print(\"arr_to_split:\\n\", arr_to_split)\n",
    "\n",
    "split_horizontal = np.hsplit(arr_to_split, 2)\n",
    "print(\"Horizontal Split - Part 1:\\n\", split_horizontal[0])\n",
    "print(\"Horizontal Split - Part 2:\\n\", split_horizontal[1])"
   ]
  },
  {
   "cell_type": "markdown",
   "id": "9537827e-f716-421b-8d51-9b7549084432",
   "metadata": {},
   "source": [
    "Split the array arr_to_split (from part 2 Q5 ) vertically at index 2 (i.e., into two parts: first two rows, and last two rows). Print both parts."
   ]
  },
  {
   "cell_type": "code",
   "execution_count": 15,
   "id": "066bf981-4d96-4de0-bd56-4d933809f859",
   "metadata": {},
   "outputs": [
    {
     "name": "stdout",
     "output_type": "stream",
     "text": [
      "Vertical Split - Part 1:\n",
      " [[0 1 2 3]\n",
      " [4 5 6 7]]\n",
      "Vertical Split - Part 2:\n",
      " [[ 8  9 10 11]\n",
      " [12 13 14 15]]\n"
     ]
    }
   ],
   "source": [
    "split_vertical = np.vsplit(arr_to_split, 2)\n",
    "print(\"Vertical Split - Part 1:\\n\", split_vertical[0])\n",
    "print(\"Vertical Split - Part 2:\\n\", split_vertical[1])"
   ]
  },
  {
   "cell_type": "markdown",
   "id": "ed0905a8-aed9-4d56-9d07-72b455b7379c",
   "metadata": {},
   "source": [
    "# Part 3"
   ]
  },
  {
   "cell_type": "markdown",
   "id": "7efd08f3-290a-4482-b4d6-dbe36a8c0320",
   "metadata": {},
   "source": [
    "Given data = np.array([[10, 11, 12], [13, 14, 15], [16, 17, 18]]), extract the element at row 1, column 2."
   ]
  },
  {
   "cell_type": "code",
   "execution_count": 18,
   "id": "ee4b3ab3-f693-4d4a-b8c5-35bb1dde6d9e",
   "metadata": {},
   "outputs": [
    {
     "name": "stdout",
     "output_type": "stream",
     "text": [
      "Element at row 1, column 2: 15\n"
     ]
    }
   ],
   "source": [
    "data = np.array([[10, 11, 12],\n",
    "                  [13, 14, 15],\n",
    "                  [16, 17, 18]])\n",
    "\n",
    "element = data[1, 2]\n",
    "print(\"Element at row 1, column 2:\", element)\n"
   ]
  },
  {
   "cell_type": "markdown",
   "id": "fa0e7d22-f5d1-48a9-87dd-b9bc2cb781d2",
   "metadata": {},
   "source": [
    "From data, extract the first two rows and all columns."
   ]
  },
  {
   "cell_type": "code",
   "execution_count": 19,
   "id": "eba02456-701b-4b57-9f2f-3b87c3e32e7a",
   "metadata": {},
   "outputs": [
    {
     "name": "stdout",
     "output_type": "stream",
     "text": [
      "First two rows:\n",
      " [[10 11 12]\n",
      " [13 14 15]]\n"
     ]
    }
   ],
   "source": [
    "first_two_rows = data[0:2, :]\n",
    "print(\"First two rows:\\n\", first_two_rows)\n"
   ]
  },
  {
   "cell_type": "markdown",
   "id": "ece842a1-f9b3-47df-a704-1bb50d4bebd6",
   "metadata": {},
   "source": [
    "From data, extract the elements 11, 15, and 17 using fancy indexing."
   ]
  },
  {
   "cell_type": "code",
   "execution_count": 20,
   "id": "75301d11-ce34-4f4c-a5aa-9b2476d9727d",
   "metadata": {},
   "outputs": [
    {
     "name": "stdout",
     "output_type": "stream",
     "text": [
      "Elements 11, 15, 17: [11 15 17]\n"
     ]
    }
   ],
   "source": [
    "rows = np.array([0, 1, 2])\n",
    "cols = np.array([1, 2, 1])\n",
    "\n",
    "fancy_selected = data[rows, cols]\n",
    "print(\"Elements 11, 15, 17:\", fancy_selected)\n"
   ]
  },
  {
   "cell_type": "markdown",
   "id": "c2db3190-4c34-47f0-9ea5-7be61055cbde",
   "metadata": {},
   "source": [
    " Given scores = np.array([85, 92, 78, 65, 95, 88]), use boolean indexing to find all scores greater than 80."
   ]
  },
  {
   "cell_type": "code",
   "execution_count": 21,
   "id": "82632a36-68e5-4d76-b0f0-26a00b4eae6d",
   "metadata": {},
   "outputs": [
    {
     "name": "stdout",
     "output_type": "stream",
     "text": [
      "Scores greater than 80: [85 92 95 88]\n"
     ]
    }
   ],
   "source": [
    "scores = np.array([85, 92, 78, 65, 95, 88])\n",
    "\n",
    "greater_than_80 = scores[scores > 80]\n",
    "print(\"Scores greater than 80:\", greater_than_80)\n"
   ]
  },
  {
   "cell_type": "markdown",
   "id": "8f5592aa-9bde-4535-9a90-127123c05aef",
   "metadata": {},
   "source": [
    "# part 4"
   ]
  },
  {
   "cell_type": "markdown",
   "id": "bfeccf7a-8194-4056-8f1f-2879a7342403",
   "metadata": {},
   "source": [
    " Given arr_op1 = np.array([10, 20, 30]) and arr_op2 = np.array([2, 4, 6]), perform element-wise multiplication and division (arr_op1 / arr_op2)."
   ]
  },
  {
   "cell_type": "code",
   "execution_count": 23,
   "id": "5f3452e3-c0dd-4295-8f29-20d6a8651248",
   "metadata": {},
   "outputs": [
    {
     "name": "stdout",
     "output_type": "stream",
     "text": [
      "Element-wise multiplication: [ 20  80 180]\n",
      "Element-wise division: [5. 5. 5.]\n"
     ]
    }
   ],
   "source": [
    "arr_op1 = np.array([10, 20, 30])\n",
    "arr_op2 = np.array([2, 4, 6])\n",
    "\n",
    "# Element-wise multiplication\n",
    "multiplication_result = arr_op1 * arr_op2\n",
    "print(\"Element-wise multiplication:\", multiplication_result)\n",
    "\n",
    "# Element-wise division\n",
    "division_result = arr_op1 / arr_op2\n",
    "print(\"Element-wise division:\", division_result)\n"
   ]
  },
  {
   "cell_type": "markdown",
   "id": "8224ab97-47bf-436b-88dc-a3c57156b446",
   "metadata": {},
   "source": [
    "Given matrix = np.array([[1, 2, 3], [4, 5, 6], [7, 8, 9]]), calculate the sum of all elements in the matrix."
   ]
  },
  {
   "cell_type": "code",
   "execution_count": 24,
   "id": "56941f3a-f974-4c35-8e5e-c4eb42c419b9",
   "metadata": {},
   "outputs": [
    {
     "name": "stdout",
     "output_type": "stream",
     "text": [
      "Sum of all elements: 45\n"
     ]
    }
   ],
   "source": [
    "matrix = np.array([[1, 2, 3],\n",
    "                    [4, 5, 6],\n",
    "                    [7, 8, 9]])\n",
    "\n",
    "total_sum = matrix.sum()\n",
    "print(\"Sum of all elements:\", total_sum)\n"
   ]
  },
  {
   "cell_type": "markdown",
   "id": "78e06bfa-e312-4db4-9cd6-da0a32e4917d",
   "metadata": {},
   "source": [
    "From the matrix (from part 4 Q2), calculate the mean of each column"
   ]
  },
  {
   "cell_type": "code",
   "execution_count": 25,
   "id": "0c960f92-41c0-4485-a3ff-f7993d3ee4d0",
   "metadata": {},
   "outputs": [
    {
     "name": "stdout",
     "output_type": "stream",
     "text": [
      "Mean of each column: [4. 5. 6.]\n"
     ]
    }
   ],
   "source": [
    "column_means = matrix.mean(axis=0)\n",
    "print(\"Mean of each column:\", column_means)\n"
   ]
  },
  {
   "cell_type": "markdown",
   "id": "b7882ead-d62b-4d09-b988-b4fdb05d9caf",
   "metadata": {},
   "source": [
    "Given price_array = np.array([100, 150, 200, 250]) and discount_percentage = 0.10, apply a 10% discount to all prices using broadcasting.\n"
   ]
  },
  {
   "cell_type": "code",
   "execution_count": 26,
   "id": "cd69ba22-434a-4480-8acc-68d9a426b06e",
   "metadata": {},
   "outputs": [
    {
     "name": "stdout",
     "output_type": "stream",
     "text": [
      "Discounted prices: [ 90. 135. 180. 225.]\n"
     ]
    }
   ],
   "source": [
    "price_array = np.array([100, 150, 200, 250])\n",
    "discount_percentage = 0.10\n",
    "\n",
    "discounted_prices = price_array * (1 - discount_percentage)\n",
    "print(\"Discounted prices:\", discounted_prices)\n"
   ]
  },
  {
   "cell_type": "code",
   "execution_count": null,
   "id": "c15a93c3-6375-4620-a3a6-a96bd69fc47d",
   "metadata": {},
   "outputs": [],
   "source": []
  }
 ],
 "metadata": {
  "kernelspec": {
   "display_name": "Python 3 (ipykernel)",
   "language": "python",
   "name": "python3"
  },
  "language_info": {
   "codemirror_mode": {
    "name": "ipython",
    "version": 3
   },
   "file_extension": ".py",
   "mimetype": "text/x-python",
   "name": "python",
   "nbconvert_exporter": "python",
   "pygments_lexer": "ipython3",
   "version": "3.13.3"
  }
 },
 "nbformat": 4,
 "nbformat_minor": 5
}
