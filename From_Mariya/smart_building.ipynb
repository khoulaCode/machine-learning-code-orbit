{
 "cells": [
  {
   "cell_type": "code",
   "execution_count": 7,
   "id": "952b5849",
   "metadata": {},
   "outputs": [
    {
     "name": "stdout",
     "output_type": "stream",
     "text": [
      "\n",
      "Minutes with temperature >25 °C: 32\n",
      "Minimum temperature occurred at minute: 589\n"
     ]
    }
   ],
   "source": [
    "# 4. Anomaly Detection (Simple)\n",
    "\n",
    "hot_minutes = temperature > 25\n",
    "n_hot       = hot_minutes.sum()\n",
    "time_min_t  = int(time_in_minutes[temperature.argmin()])\n",
    "\n",
    "print(f\"\\nMinutes with temperature >25 °C: {n_hot}\")\n",
    "print(f\"Minimum temperature occurred at minute: {time_min_t}\")"
   ]
  },
  {
   "cell_type": "code",
   "execution_count": 6,
   "id": "f2930e88",
   "metadata": {},
   "outputs": [
    {
     "name": "stdout",
     "output_type": "stream",
     "text": [
      "\n",
      "First 5 hourly avg temps: [22.12 22.28 22.02 21.87 21.92]\n"
     ]
    }
   ],
   "source": [
    "# 3. Hourly Averages\n",
    "\n",
    "temp_hourly = temperature.reshape(24, 60).mean(axis=1)\n",
    "hum_hourly  = humidity.reshape(24, 60).mean(axis=1)\n",
    "pres_hourly = pressure.reshape(24, 60).mean(axis=1)\n",
    "\n",
    "print(\"\\nFirst 5 hourly avg temps:\", np.round(temp_hourly[:5], 2))"
   ]
  },
  {
   "cell_type": "code",
   "execution_count": 5,
   "id": "8c925ff3",
   "metadata": {},
   "outputs": [
    {
     "name": "stdout",
     "output_type": "stream",
     "text": [
      "\n",
      "----- 24-hour Summary -----\n",
      "Temperature  →  avg 21.97°C   min 17.43   max 26.76   std 1.47\n",
      "Humidity  →  avg 54.80%    min 30.07   max 78.43   std 7.68\n",
      "Pressure  →  avg 1011.86hPa min 997.04 max 1027.21 std 4.02\n"
     ]
    }
   ],
   "source": [
    "# 2. Basic statistics\n",
    "\n",
    "avg_temp   = temperature.mean()     ; min_temp = temperature.min() ; max_temp = temperature.max() ; std_temp = temperature.std()\n",
    "avg_hum    = humidity.mean()        ; min_hum  = humidity.min()    ; max_hum  = humidity.max()    ; std_hum  = humidity.std()\n",
    "avg_press  = pressure.mean()        ; min_press= pressure.min()    ; max_press= pressure.max()    ; std_press= pressure.std()\n",
    "\n",
    "print(\"\\n----- 24-hour Summary -----\")\n",
    "print(f\"Temperature  →  avg {avg_temp:.2f}°C   min {min_temp:.2f}   max {max_temp:.2f}   std {std_temp:.2f}\")\n",
    "print(f\"Humidity  →  avg {avg_hum:.2f}%    min {min_hum:.2f}   max {max_hum:.2f}   std {std_hum:.2f}\")\n",
    "print(f\"Pressure  →  avg {avg_press:.2f}hPa min {min_press:.2f} max {max_press:.2f} std {std_press:.2f}\")"
   ]
  },
  {
   "cell_type": "code",
   "execution_count": 2,
   "id": "b48a5e8d",
   "metadata": {},
   "outputs": [],
   "source": [
    "# 1. Data Generation\n",
    "\n",
    "import numpy as np\n",
    "np.random.seed(0)\n",
    "\n",
    "time_in_minutes = np.arange(1440)\n",
    "\n",
    "temperature = 22 + np.random.normal(0, 1.5, 1440)\n",
    "humidity    = 55 + np.random.normal(0, 8,   1440)\n",
    "humidity    = np.clip(humidity, 0, 100)\n",
    "pressure    = 1012 + np.random.normal(0, 4,  1440)\n",
    "\n",
    "data = np.column_stack((time_in_minutes,\n",
    "                        temperature,\n",
    "                        humidity,\n",
    "                        pressure))"
   ]
  }
 ],
 "metadata": {
  "kernelspec": {
   "display_name": "Python 3",
   "language": "python",
   "name": "python3"
  },
  "language_info": {
   "codemirror_mode": {
    "name": "ipython",
    "version": 3
   },
   "file_extension": ".py",
   "mimetype": "text/x-python",
   "name": "python",
   "nbconvert_exporter": "python",
   "pygments_lexer": "ipython3",
   "version": "3.11.9"
  }
 },
 "nbformat": 4,
 "nbformat_minor": 5
}
