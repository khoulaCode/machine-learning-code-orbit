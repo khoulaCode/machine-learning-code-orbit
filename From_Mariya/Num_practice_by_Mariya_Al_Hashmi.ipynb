{
 "cells": [
  {
   "cell_type": "code",
   "execution_count": 2,
   "id": "ab6516f6-5cda-4998-8794-a22421f8fb82",
   "metadata": {},
   "outputs": [],
   "source": [
    "# Part 1: Array Creation and Properties"
   ]
  },
  {
   "cell_type": "code",
   "execution_count": 7,
   "id": "09625a6f-ba4c-49df-9a85-7d2a511691c6",
   "metadata": {},
   "outputs": [
    {
     "name": "stdout",
     "output_type": "stream",
     "text": [
      "Requirement already satisfied: numpy in c:\\users\\admin\\appdata\\local\\packages\\pythonsoftwarefoundation.python.3.11_qbz5n2kfra8p0\\localcache\\local-packages\\python311\\site-packages (2.3.1)\n"
     ]
    },
    {
     "data": {
      "text/plain": [
       "array([0, 1, 2, 3, 4, 5, 6, 7, 8, 9])"
      ]
     },
     "execution_count": 7,
     "metadata": {},
     "output_type": "execute_result"
    }
   ],
   "source": [
    "## 1. Create a 1D array named arr1d with integers from 0 to 9 \n",
    "\n",
    "!pip install numpy\n",
    "import numpy as np\n",
    "\n",
    "arr1d = np.array([0,1,2,3,4,5,6,7,8,9])\n",
    "arr1d"
   ]
  },
  {
   "cell_type": "code",
   "execution_count": 8,
   "id": "9021e3a8-741b-4dbc-8f41-3dff8961a4d7",
   "metadata": {},
   "outputs": [
    {
     "data": {
      "text/plain": [
       "array([[1., 1., 1.],\n",
       "       [1., 1., 1.],\n",
       "       [1., 1., 1.]])"
      ]
     },
     "execution_count": 8,
     "metadata": {},
     "output_type": "execute_result"
    }
   ],
   "source": [
    "## 2. Creat a 2D array named arr2d with shape (3,3) filled with ones\n",
    "\n",
    "import numpy as np\n",
    "\n",
    "arr2d = np.ones((3,3))\n",
    "arr2d"
   ]
  },
  {
   "cell_type": "code",
   "execution_count": 9,
   "id": "ce98ed79-1d57-46d9-9c0e-2e95e24fc3a1",
   "metadata": {},
   "outputs": [
    {
     "data": {
      "text/plain": [
       "array([[0.55124724, 0.66297851, 0.00577092],\n",
       "       [0.36983964, 0.34713614, 0.20227634],\n",
       "       [0.18427641, 0.41033748, 0.6860457 ]])"
      ]
     },
     "execution_count": 9,
     "metadata": {},
     "output_type": "execute_result"
    }
   ],
   "source": [
    "## 3. Create a 3x3 array named random_matrix with random floating-point numbers from a standard normal distribution.\n",
    "\n",
    "random_matrix = np.random.rand(3,3)\n",
    "random_matrix"
   ]
  },
  {
   "cell_type": "code",
   "execution_count": 10,
   "id": "954d19be-dbb6-402c-91fd-99e5d5554bd7",
   "metadata": {},
   "outputs": [
    {
     "data": {
      "text/plain": [
       "array([10, 12, 14, 16, 18, 20, 22, 24, 26, 28, 30, 32, 34, 36, 38, 40, 42,\n",
       "       44, 46, 48, 50])"
      ]
     },
     "execution_count": 10,
     "metadata": {},
     "output_type": "execute_result"
    }
   ],
   "source": [
    "## 4. Create an array named even_numbers containing even numbers from 10 to 50 (inclusive).\n",
    "\n",
    "even_number = np.arange(10,51,2)\n",
    "even_number"
   ]
  },
  {
   "cell_type": "code",
   "execution_count": 14,
   "id": "c40e929b-c1b8-4cb8-8668-a7c5a59bf01a",
   "metadata": {},
   "outputs": [
    {
     "data": {
      "text/plain": [
       "array([0.        , 0.16666667, 0.33333333, 0.5       , 0.66666667,\n",
       "       0.83333333, 1.        ])"
      ]
     },
     "execution_count": 14,
     "metadata": {},
     "output_type": "execute_result"
    }
   ],
   "source": [
    "## 5. Create an array named linspace_array containing 7 equally spaced numbers between 0 and 1 (inclusive).\n",
    "\n",
    "linspace_array = np.linspace(0,1,7)\n",
    "linspace_array"
   ]
  },
  {
   "cell_type": "code",
   "execution_count": 17,
   "id": "bb4af1ff-ba61-49ab-ab21-12adc143c0c2",
   "metadata": {},
   "outputs": [
    {
     "name": "stdout",
     "output_type": "stream",
     "text": [
      "Array:\n",
      " [[1 2 3]\n",
      " [4 5 6]]\n",
      "Shape: (2, 3)\n",
      "Dimensions: 2\n",
      "Data type: int64\n"
     ]
    }
   ],
   "source": [
    "## 6. Given arr = np.array([[1, 2, 3], [4, 5, 6]]), what is its shape, ndim, and dtype? Print them.\n",
    "\n",
    "arr = np.array([[1, 2, 3], [4, 5, 6]])\n",
    "\n",
    "print(\"Array:\\n\", arr)\n",
    "print(\"Shape:\", arr.shape)\n",
    "print(\"Dimensions:\", arr.ndim)\n",
    "print(\"Data type:\", arr.dtype)"
   ]
  },
  {
   "cell_type": "code",
   "execution_count": 18,
   "id": "30d785c3-0756-4174-9d57-f0601d26c0a0",
   "metadata": {},
   "outputs": [],
   "source": [
    "# Part 2: Array Manipulation"
   ]
  },
  {
   "cell_type": "code",
   "execution_count": 19,
   "id": "ac0255b6-0442-4b58-9142-5eb4f8e19461",
   "metadata": {},
   "outputs": [
    {
     "data": {
      "text/plain": [
       "array([[0, 1, 2, 3, 4],\n",
       "       [5, 6, 7, 8, 9]])"
      ]
     },
     "execution_count": 19,
     "metadata": {},
     "output_type": "execute_result"
    }
   ],
   "source": [
    "## 1. Reshape arr1d (from Q1) into a 2x5 2D array. Name the new array reshaped_arr.\n",
    "\n",
    "reshaped_arr = arr1d.reshape(2, 5)\n",
    "reshaped_arr"
   ]
  },
  {
   "cell_type": "code",
   "execution_count": 20,
   "id": "2c933c2d-0ef8-47e5-807f-d5f5aca4eab9",
   "metadata": {},
   "outputs": [
    {
     "data": {
      "text/plain": [
       "array([[0, 5],\n",
       "       [1, 6],\n",
       "       [2, 7],\n",
       "       [3, 8],\n",
       "       [4, 9]])"
      ]
     },
     "execution_count": 20,
     "metadata": {},
     "output_type": "execute_result"
    }
   ],
   "source": [
    "## 2. Transpose reshaped_arr (from part 2 Q1). Name the result transposed_arr.\n",
    "\n",
    "transposed_arr = reshaped_arr.T \n",
    "transposed_arr"
   ]
  },
  {
   "cell_type": "code",
   "execution_count": 21,
   "id": "c56f1f48-cae7-43e8-a323-e282bef8b30b",
   "metadata": {},
   "outputs": [
    {
     "data": {
      "text/plain": [
       "array([[1, 2, 3],\n",
       "       [4, 5, 6]])"
      ]
     },
     "execution_count": 21,
     "metadata": {},
     "output_type": "execute_result"
    }
   ],
   "source": [
    "## 3. Stack two 1D arrays a = np.array([1, 2, 3]) and b = np.array([4, 5, 6]) vertically.\n",
    "\n",
    "a = np.array([1, 2, 3])\n",
    "b = np.array([4, 5, 6])\n",
    "\n",
    "v_stacked = np.vstack((a, b)) \n",
    "v_stacked"
   ]
  },
  {
   "cell_type": "code",
   "execution_count": 25,
   "id": "f133243f-f87f-43ca-a35f-00354bc9a3d3",
   "metadata": {},
   "outputs": [
    {
     "data": {
      "text/plain": [
       "array([[1, 2, 5, 6],\n",
       "       [3, 4, 7, 8]])"
      ]
     },
     "execution_count": 25,
     "metadata": {},
     "output_type": "execute_result"
    }
   ],
   "source": [
    "## 4. Stack two 2D arrays m1 = np.array([[1, 2], [3, 4]]) and m2 = np.array([[5, 6], [7, 8]]) horizontally.\n",
    "\n",
    "m1 = np.array([[1, 2],\n",
    "               [3, 4]])\n",
    "m2 = np.array([[5, 6],\n",
    "               [7, 8]])\n",
    "\n",
    "h_stack = np.hstack((m1, m2))\n",
    "h_stack"
   ]
  },
  {
   "cell_type": "code",
   "execution_count": 27,
   "id": "0490bce2-fffb-44af-9f5c-0885191281fd",
   "metadata": {},
   "outputs": [
    {
     "name": "stdout",
     "output_type": "stream",
     "text": [
      "Original 4×4 array:\n",
      " [[ 0  1  2  3]\n",
      " [ 4  5  6  7]\n",
      " [ 8  9 10 11]\n",
      " [12 13 14 15]]\n"
     ]
    },
    {
     "data": {
      "text/plain": [
       "(array([[ 0,  1],\n",
       "        [ 4,  5],\n",
       "        [ 8,  9],\n",
       "        [12, 13]]),\n",
       " array([[ 2,  3],\n",
       "        [ 6,  7],\n",
       "        [10, 11],\n",
       "        [14, 15]]))"
      ]
     },
     "execution_count": 27,
     "metadata": {},
     "output_type": "execute_result"
    }
   ],
   "source": [
    "## 5. Split the array arr_to_split = np.arange(16).reshape(4, 4) horizontally into 2 equal parts. Print both parts.\n",
    "\n",
    "arr_to_split = np.arange(16).reshape(4, 4)\n",
    "print(\"Original 4×4 array:\\n\", arr_to_split)\n",
    "\n",
    "left_half, right_half = np.hsplit(arr_to_split, 2) \n",
    "left_half, right_half"
   ]
  },
  {
   "cell_type": "code",
   "execution_count": 30,
   "id": "98ca0e0a-0431-4e22-ade8-92e9d5cf0efc",
   "metadata": {},
   "outputs": [
    {
     "name": "stdout",
     "output_type": "stream",
     "text": [
      "Top half (2×4):\n",
      " [[0 1 2 3]\n",
      " [4 5 6 7]]\n",
      "\n",
      "Bottom half (2×4):\n",
      " [[ 8  9 10 11]\n",
      " [12 13 14 15]]\n"
     ]
    }
   ],
   "source": [
    "## 6. Split the array arr_to_split (from part 2 Q5 ) vertically at index 2 (i.e., into two parts: first two rows, and last two rows). Print both parts.\n",
    "\n",
    "top_half, bottom_half = np.vsplit(arr_to_split, [2])\n",
    "print(\"Top half (2×4):\\n\", top_half)\n",
    "print(\"\\nBottom half (2×4):\\n\", bottom_half)"
   ]
  },
  {
   "cell_type": "code",
   "execution_count": 31,
   "id": "0886d66d-302c-4ae0-8096-c21d532daf64",
   "metadata": {},
   "outputs": [],
   "source": [
    "# Part 3: Indexing, Slicing, and Boolean Indexing"
   ]
  },
  {
   "cell_type": "code",
   "execution_count": 32,
   "id": "d99f0850-dc05-4e3a-81bc-3c92f1dbeea1",
   "metadata": {},
   "outputs": [
    {
     "data": {
      "text/plain": [
       "np.int64(15)"
      ]
     },
     "execution_count": 32,
     "metadata": {},
     "output_type": "execute_result"
    }
   ],
   "source": [
    "## 1. Given data = np.array([[10, 11, 12], [13, 14, 15], [16, 17, 18]]), extract the element at row 1, column 2.\n",
    "\n",
    "data = np.array([[10, 11, 12],\n",
    "                 [13, 14, 15],\n",
    "                 [16, 17, 18]])\n",
    "\n",
    "element = data[1, 2]\n",
    "element"
   ]
  },
  {
   "cell_type": "code",
   "execution_count": 33,
   "id": "afa18f34-50bf-4c37-b15f-65757b0ba355",
   "metadata": {},
   "outputs": [
    {
     "data": {
      "text/plain": [
       "array([[10, 11, 12],\n",
       "       [13, 14, 15]])"
      ]
     },
     "execution_count": 33,
     "metadata": {},
     "output_type": "execute_result"
    }
   ],
   "source": [
    "## 2. From the data array (from part 3 Q1), extract the first two rows and all columns.\n",
    "\n",
    "subset = data[0:2, :] \n",
    "subset"
   ]
  },
  {
   "cell_type": "code",
   "execution_count": 34,
   "id": "c5420fd8-708a-40a1-a5b7-1e6a08295d8f",
   "metadata": {},
   "outputs": [
    {
     "data": {
      "text/plain": [
       "array([11, 15, 17])"
      ]
     },
     "execution_count": 34,
     "metadata": {},
     "output_type": "execute_result"
    }
   ],
   "source": [
    "## 3. From the data array (from part 3 Q1), extract the elements 11, 15, and 17 using fancy indexing (hint: you'll need to specify rows and columns).\n",
    "\n",
    "fancy_elements = data[[0, 1, 2], [1, 2, 1]]\n",
    "fancy_elements"
   ]
  },
  {
   "cell_type": "code",
   "execution_count": 35,
   "id": "5e3c48c1-a8a0-42f0-bf49-91ecb548a444",
   "metadata": {},
   "outputs": [
    {
     "data": {
      "text/plain": [
       "array([85, 92, 95, 88])"
      ]
     },
     "execution_count": 35,
     "metadata": {},
     "output_type": "execute_result"
    }
   ],
   "source": [
    "## 4. Given scores = np.array([85, 92, 78, 65, 95, 88]), use boolean indexing to find all scores greater than 80.\n",
    "\n",
    "scores = np.array([85, 92, 78, 65, 95, 88])\n",
    "high_scores = scores[scores > 80]\n",
    "high_scores"
   ]
  },
  {
   "cell_type": "code",
   "execution_count": 36,
   "id": "35be1e9b-52b0-4f39-8e87-35e1a9835947",
   "metadata": {},
   "outputs": [],
   "source": [
    "# Part 4: Numerical Operations and Aggregations"
   ]
  },
  {
   "cell_type": "code",
   "execution_count": 38,
   "id": "1362466d-922b-42d0-98b3-7ad3a1560fe6",
   "metadata": {},
   "outputs": [
    {
     "name": "stdout",
     "output_type": "stream",
     "text": [
      "Element-wise multiplication: [ 20  80 180]\n",
      "Element-wise division: [5. 5. 5.]\n"
     ]
    }
   ],
   "source": [
    "## 1. Given arr_op1 = np.array([10, 20, 30]) and arr_op2 = np.array([2, 4, 6]), perform element-wise multiplication and division (arr_op1 / arr_op2).\n",
    "\n",
    "arr_op1 = np.array([10, 20, 30])\n",
    "arr_op2 = np.array([2, 4, 6])\n",
    "\n",
    "multiplication = arr_op1 * arr_op2\n",
    "division = arr_op1 / arr_op2\n",
    "\n",
    "print(\"Element-wise multiplication:\", multiplication)\n",
    "print(\"Element-wise division:\", division)"
   ]
  },
  {
   "cell_type": "code",
   "execution_count": 39,
   "id": "effd1e8c-6eac-4513-8894-b508f048b0a2",
   "metadata": {},
   "outputs": [
    {
     "data": {
      "text/plain": [
       "np.int64(45)"
      ]
     },
     "execution_count": 39,
     "metadata": {},
     "output_type": "execute_result"
    }
   ],
   "source": [
    "## 2. Given matrix = np.array([[1, 2, 3], [4, 5, 6], [7, 8, 9]]), calculate the sum of all elements in the matrix.\n",
    "\n",
    "matrix = np.array([[1, 2, 3],\n",
    "                   [4, 5, 6],\n",
    "                   [7, 8, 9]])\n",
    "\n",
    "total_sum = np.sum(matrix)\n",
    "total_sum"
   ]
  },
  {
   "cell_type": "code",
   "execution_count": 40,
   "id": "ac6cb877-4ef9-46ad-b1a0-93d83dc12f58",
   "metadata": {},
   "outputs": [
    {
     "data": {
      "text/plain": [
       "array([4., 5., 6.])"
      ]
     },
     "execution_count": 40,
     "metadata": {},
     "output_type": "execute_result"
    }
   ],
   "source": [
    "## 3. From the matrix (from part 4 Q2), calculate the mean of each column.\n",
    "\n",
    "column_means = np.mean(matrix, axis=0)\n",
    "column_means"
   ]
  },
  {
   "cell_type": "code",
   "execution_count": 41,
   "id": "4ce1832c-0249-4f51-a7de-6e599dbb851f",
   "metadata": {},
   "outputs": [
    {
     "data": {
      "text/plain": [
       "array([ 90., 135., 180., 225.])"
      ]
     },
     "execution_count": 41,
     "metadata": {},
     "output_type": "execute_result"
    }
   ],
   "source": [
    "## 4. Given price_array = np.array([100, 150, 200, 250]) and discount_percentage = 0.10, apply a 10% discount to all prices using broadcasting.\n",
    "\n",
    "price_array = np.array([100, 150, 200, 250])\n",
    "discount_percentage = 0.10\n",
    "\n",
    "discounted_prices = price_array * (1 - discount_percentage)\n",
    "discounted_prices"
   ]
  },
  {
   "cell_type": "code",
   "execution_count": null,
   "id": "297b9f40-1878-46e1-bdfc-fa9e1d6f6471",
   "metadata": {},
   "outputs": [],
   "source": []
  }
 ],
 "metadata": {
  "kernelspec": {
   "display_name": "Python 3 (ipykernel)",
   "language": "python",
   "name": "python3"
  },
  "language_info": {
   "codemirror_mode": {
    "name": "ipython",
    "version": 3
   },
   "file_extension": ".py",
   "mimetype": "text/x-python",
   "name": "python",
   "nbconvert_exporter": "python",
   "pygments_lexer": "ipython3",
   "version": "3.11.9"
  }
 },
 "nbformat": 4,
 "nbformat_minor": 5
}
