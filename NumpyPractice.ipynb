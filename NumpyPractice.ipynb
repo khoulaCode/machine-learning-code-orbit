{
 "cells": [
  {
   "cell_type": "code",
   "execution_count": 13,
   "id": "1590fc01-3e85-42ba-905a-66acecfafca5",
   "metadata": {},
   "outputs": [],
   "source": [
    "import numpy as np"
   ]
  },
  {
   "cell_type": "markdown",
   "id": "389d8b67-9889-4a47-a958-0b48e91c5957",
   "metadata": {},
   "source": [
    "1.Create a 1D array named arr1d with integers from 0 to 9"
   ]
  },
  {
   "cell_type": "markdown",
   "id": "00a5c3aa-4e66-410e-9e80-cfd45a15df7f",
   "metadata": {},
   "source": [
    "# PART 1 : Array Creation and Properties"
   ]
  },
  {
   "cell_type": "code",
   "execution_count": 3,
   "id": "c2048f68-9086-40ce-b5ec-8e2e2ef6a34a",
   "metadata": {},
   "outputs": [
    {
     "data": {
      "text/plain": [
       "array([0, 1, 2, 3, 4, 5, 6, 7, 8, 9])"
      ]
     },
     "execution_count": 3,
     "metadata": {},
     "output_type": "execute_result"
    }
   ],
   "source": [
    "arr1d = np.arange(10)\n",
    "arr1d"
   ]
  },
  {
   "cell_type": "markdown",
   "id": "2b113331-12ca-4f91-ab60-54032d01b518",
   "metadata": {},
   "source": [
    "2.Create a 2D array named arr2d with shape (3, 3) filled with ones"
   ]
  },
  {
   "cell_type": "code",
   "execution_count": 4,
   "id": "8a2105ba-d313-47d4-a933-b1b8ab8f840c",
   "metadata": {},
   "outputs": [
    {
     "name": "stdout",
     "output_type": "stream",
     "text": [
      "[1. 1. 1. 1. 1. 1. 1. 1. 1.]\n"
     ]
    }
   ],
   "source": [
    "arr2d = np.ones(9)\n",
    "print(arr2d)"
   ]
  },
  {
   "cell_type": "code",
   "execution_count": 5,
   "id": "72d76e20-4a1c-4b11-a671-7e4453670e4f",
   "metadata": {},
   "outputs": [
    {
     "data": {
      "text/plain": [
       "array([[1., 1., 1.],\n",
       "       [1., 1., 1.],\n",
       "       [1., 1., 1.]])"
      ]
     },
     "execution_count": 5,
     "metadata": {},
     "output_type": "execute_result"
    }
   ],
   "source": [
    "arr2d.reshape(3,3)"
   ]
  },
  {
   "cell_type": "markdown",
   "id": "7faf6584-ebf7-48a0-b26e-dc0546f527e7",
   "metadata": {},
   "source": [
    "3. Create a 3x3 array named random_matrix with random floating-point numbers from a standard normal distribution."
   ]
  },
  {
   "cell_type": "code",
   "execution_count": 6,
   "id": "366c0521-d25b-42eb-9223-72cca4f8e4c7",
   "metadata": {},
   "outputs": [
    {
     "name": "stdout",
     "output_type": "stream",
     "text": [
      "[[ 0.21380138 -1.6192938   0.13576963]\n",
      " [-0.94378921  0.35686222  1.90829921]\n",
      " [ 0.05153518 -0.20626973  0.09066609]]\n"
     ]
    }
   ],
   "source": [
    "random_matrix = np.random.randn(3, 3)\n",
    "print(random_matrix)"
   ]
  },
  {
   "cell_type": "markdown",
   "id": "0b9f5383-ef6a-4ba4-bfef-3a7a27b09162",
   "metadata": {},
   "source": [
    "4. Create an array named even_numbers containing even numbers from 10 to 50 (inclusive)"
   ]
  },
  {
   "cell_type": "code",
   "execution_count": 7,
   "id": "bd3739d2-9877-4b64-9b58-84d007b1e271",
   "metadata": {},
   "outputs": [
    {
     "name": "stdout",
     "output_type": "stream",
     "text": [
      "[10 12 14 16 18 20 22 24 26 28 30 32 34 36 38 40 42 44 46 48 50]\n"
     ]
    }
   ],
   "source": [
    "even_numbers = np.arange(10, 51, 2)\n",
    "print(even_numbers)"
   ]
  },
  {
   "cell_type": "markdown",
   "id": "9582f6d3-32d3-4b2f-98c2-3ccd9c235d78",
   "metadata": {},
   "source": [
    "5. Create an array named linspace_array containing 7 equally spaced numbers between 0 and 1 (inclusive)."
   ]
  },
  {
   "cell_type": "code",
   "execution_count": 8,
   "id": "d399d759-df22-4183-b8df-711388875173",
   "metadata": {},
   "outputs": [
    {
     "name": "stdout",
     "output_type": "stream",
     "text": [
      "[0.         0.16666667 0.33333333 0.5        0.66666667 0.83333333\n",
      " 1.        ]\n"
     ]
    }
   ],
   "source": [
    "linspace_array = np.linspace(0, 1, 7)\n",
    "print(linspace_array)"
   ]
  },
  {
   "cell_type": "markdown",
   "id": "3319c852-b4e3-43c9-815e-72402d2a298f",
   "metadata": {},
   "source": [
    "6. Given arr = np.array([[1, 2, 3], [4, 5, 6]]), what is its shape, ndim, and dtype? Print them."
   ]
  },
  {
   "cell_type": "code",
   "execution_count": 9,
   "id": "984bc259-d302-4b98-860c-d3c5d44f187b",
   "metadata": {},
   "outputs": [
    {
     "name": "stdout",
     "output_type": "stream",
     "text": [
      "Shape: (2, 3)\n",
      "Dimensions: 2\n",
      "Data type: int64\n"
     ]
    }
   ],
   "source": [
    "arr = np.array([[1, 2, 3], [4, 5, 6]])\n",
    "\n",
    "print(\"Shape:\", arr.shape)\n",
    "print(\"Dimensions:\", arr.ndim)\n",
    "print(\"Data type:\", arr.dtype)"
   ]
  },
  {
   "cell_type": "markdown",
   "id": "6677f4dc-7447-4e24-a8f4-c2688fb5a099",
   "metadata": {},
   "source": [
    "# PART 2 : Array Manipulation"
   ]
  },
  {
   "cell_type": "markdown",
   "id": "d02631a3-d328-4150-b97e-27a97a50dc62",
   "metadata": {},
   "source": [
    "1. Reshape arr1d (from Q1) into a 2x5 2D array. Name the new array reshaped_arr."
   ]
  },
  {
   "cell_type": "code",
   "execution_count": 10,
   "id": "c3095c0d-2ca2-4179-a18c-e30a881745b3",
   "metadata": {},
   "outputs": [
    {
     "data": {
      "text/plain": [
       "array([[0, 1, 2, 3, 4],\n",
       "       [5, 6, 7, 8, 9]])"
      ]
     },
     "execution_count": 10,
     "metadata": {},
     "output_type": "execute_result"
    }
   ],
   "source": [
    "reshaped_arr = arr1d.reshape(2, 5)\n",
    "reshaped_arr"
   ]
  },
  {
   "cell_type": "markdown",
   "id": "1d57e671-bc44-422f-bf82-f71fcc5002b5",
   "metadata": {},
   "source": [
    "2. Transpose reshaped_arr (from part 2 Q1). Name the result transposed_arr."
   ]
  },
  {
   "cell_type": "code",
   "execution_count": 11,
   "id": "bdd78af4-b672-45e0-9ce8-b96eec681130",
   "metadata": {},
   "outputs": [
    {
     "data": {
      "text/plain": [
       "array([[0, 5],\n",
       "       [1, 6],\n",
       "       [2, 7],\n",
       "       [3, 8],\n",
       "       [4, 9]])"
      ]
     },
     "execution_count": 11,
     "metadata": {},
     "output_type": "execute_result"
    }
   ],
   "source": [
    "transposed_arr = reshaped_arr.T\n",
    "transposed_arr"
   ]
  },
  {
   "cell_type": "markdown",
   "id": "0917d25d-adee-46ee-9399-b6220d73a37d",
   "metadata": {},
   "source": [
    "3. Stack two 1D arrays a = np.array([1, 2, 3]) and b = np.array([4, 5, 6]) vertically."
   ]
  },
  {
   "cell_type": "code",
   "execution_count": 28,
   "id": "0d49db69",
   "metadata": {},
   "outputs": [
    {
     "data": {
      "text/plain": [
       "array([[1, 2, 3],\n",
       "       [4, 5, 6]])"
      ]
     },
     "execution_count": 28,
     "metadata": {},
     "output_type": "execute_result"
    }
   ],
   "source": [
    "a = np.array([1,2,3])\n",
    "b = np.array([4,5,6])\n",
    "\n",
    "vertical_stacking = np.stack((a, b), axis = 0)\n",
    "vertical_stacking\n"
   ]
  },
  {
   "cell_type": "markdown",
   "id": "aeec9f6e",
   "metadata": {},
   "source": [
    "4. Stack two 2D arrays m1 = np.array([[1, 2], [3, 4]]) and m2 = np.array([[5, 6], [7, 8]]) horizontally."
   ]
  },
  {
   "cell_type": "markdown",
   "id": "560c10e6",
   "metadata": {},
   "source": []
  },
  {
   "cell_type": "code",
   "execution_count": 43,
   "id": "b839cbbd",
   "metadata": {},
   "outputs": [
    {
     "name": "stdout",
     "output_type": "stream",
     "text": [
      "[[1 2 5 6]\n",
      " [3 4 7 8]]\n"
     ]
    }
   ],
   "source": [
    "m1 = np.array([[1, 2], [3, 4]])\n",
    "m2 = np.array([[5, 6], [7, 8]])\n",
    "\n",
    "horizental_stack = np.hstack((m1,m2))\n",
    "print(horizental_stack)\n"
   ]
  },
  {
   "cell_type": "markdown",
   "id": "f3e51aa9",
   "metadata": {},
   "source": [
    "5. Split the array arr_to_split = np.arange(16).reshape(4, 4) horizontally into 2 equal parts. Print both parts."
   ]
  },
  {
   "cell_type": "code",
   "execution_count": null,
   "id": "0290654d",
   "metadata": {},
   "outputs": [
    {
     "name": "stdout",
     "output_type": "stream",
     "text": [
      "Part 1:\n",
      " [[ 0  1]\n",
      " [ 4  5]\n",
      " [ 8  9]\n",
      " [12 13]]\n",
      "Part 2:\n",
      " [[ 2  3]\n",
      " [ 6  7]\n",
      " [10 11]\n",
      " [14 15]]\n"
     ]
    }
   ],
   "source": [
    "arr_to_split = np.arange(16).reshape(4,4)\n",
    "\n",
    "part1, part2 = np.hsplit(arr_to_split, 2)\n",
    "\n",
    "print(\"part 1:\\n\" , part1)\n",
    "print(\"Part 2:\\n\", part2)"
   ]
  },
  {
   "cell_type": "markdown",
   "id": "f3ccea8c",
   "metadata": {},
   "source": [
    "6. Split the array arr_to_split (from part 2 Q5 ) vertically at index 2 (i.e., into two parts: first two rows, and last two rows). Print both parts."
   ]
  },
  {
   "cell_type": "code",
   "execution_count": 46,
   "id": "e1ad0ee6",
   "metadata": {},
   "outputs": [
    {
     "name": "stdout",
     "output_type": "stream",
     "text": [
      "Top part:\n",
      " [[0 1 2 3]\n",
      " [4 5 6 7]]\n",
      "Bottom part:\n",
      " [[ 8  9 10 11]\n",
      " [12 13 14 15]]\n"
     ]
    }
   ],
   "source": [
    "top_part, bottom_part = np.vsplit(arr_to_split, [2])\n",
    "\n",
    "print(\"Top part:\\n\", top_part)\n",
    "print(\"Bottom part:\\n\", bottom_part)"
   ]
  },
  {
   "cell_type": "markdown",
   "id": "cc6e2a99",
   "metadata": {},
   "source": [
    "# PART 3 : Indexing, Slicing, and Boolean Indexing"
   ]
  },
  {
   "cell_type": "markdown",
   "id": "4fb2a77c",
   "metadata": {},
   "source": []
  },
  {
   "cell_type": "markdown",
   "id": "861fb709",
   "metadata": {},
   "source": [
    "1. Given data = np.array([[10, 11, 12], [13, 14, 15], [16, 17, 18]]), extract the element at row 1, column 2."
   ]
  },
  {
   "cell_type": "code",
   "execution_count": 47,
   "id": "77373b0e",
   "metadata": {},
   "outputs": [
    {
     "name": "stdout",
     "output_type": "stream",
     "text": [
      "Element at row 1, column 2: 15\n"
     ]
    }
   ],
   "source": [
    "data = np.array([[10, 11, 12], \n",
    "                 [13, 14, 15], \n",
    "                 [16, 17, 18]])\n",
    "\n",
    "element = data[1, 2]\n",
    "print(\"Element at row 1, column 2:\", element)"
   ]
  },
  {
   "cell_type": "markdown",
   "id": "4600607f",
   "metadata": {},
   "source": [
    "2. From the data array (from part 3 Q1), extract the first two rows and all columns."
   ]
  },
  {
   "cell_type": "code",
   "execution_count": 48,
   "id": "55c58ef3",
   "metadata": {},
   "outputs": [
    {
     "data": {
      "text/plain": [
       "array([[10, 11, 12],\n",
       "       [13, 14, 15]])"
      ]
     },
     "execution_count": 48,
     "metadata": {},
     "output_type": "execute_result"
    }
   ],
   "source": [
    "element = data[:2,:]\n",
    "element"
   ]
  },
  {
   "cell_type": "markdown",
   "id": "97f0c0ab",
   "metadata": {},
   "source": [
    "3. From the data array (from part 3 Q1), extract the elements 11, 15, and 17 using fancy indexing (hint: you'll need to specify rows and columns)."
   ]
  },
  {
   "cell_type": "code",
   "execution_count": 50,
   "id": "eb6fd3b9",
   "metadata": {},
   "outputs": [
    {
     "name": "stdout",
     "output_type": "stream",
     "text": [
      "Selected elements: [11 15 17]\n"
     ]
    }
   ],
   "source": [
    "\n",
    "rows = [0, 1, 2]\n",
    "cols = [1, 2, 1]\n",
    "\n",
    "elements = data[rows, cols]\n",
    "print(\"Selected elements:\", elements)"
   ]
  },
  {
   "cell_type": "markdown",
   "id": "0633e2e2",
   "metadata": {},
   "source": [
    "4. Given scores = np.array([85, 92, 78, 65, 95, 88]), use boolean indexing to find all scores greater than 80."
   ]
  },
  {
   "cell_type": "code",
   "execution_count": 52,
   "id": "e16e4e15",
   "metadata": {},
   "outputs": [
    {
     "name": "stdout",
     "output_type": "stream",
     "text": [
      "Scores greater than 80: [85 92 95 88]\n"
     ]
    }
   ],
   "source": [
    "scores = np.array([85, 92, 78, 65, 95, 88])\n",
    "\n",
    "\n",
    "high_scores = scores[scores > 80]\n",
    "print(\"Scores greater than 80:\", high_scores)"
   ]
  },
  {
   "cell_type": "markdown",
   "id": "8f815325",
   "metadata": {},
   "source": [
    "# PART 4 : Numerical Operations and Aggregations"
   ]
  },
  {
   "cell_type": "markdown",
   "id": "c2a14a0c",
   "metadata": {},
   "source": [
    "1. Given arr_op1 = np.array([10, 20, 30]) and arr_op2 = np.array([2, 4, 6]), perform element-wise multiplication and division (arr_op1 / arr_op2)."
   ]
  },
  {
   "cell_type": "code",
   "execution_count": 54,
   "id": "ffc53337",
   "metadata": {},
   "outputs": [
    {
     "name": "stdout",
     "output_type": "stream",
     "text": [
      "Multiplication [ 20  80 180]\n",
      "divition [5. 5. 5.]\n"
     ]
    }
   ],
   "source": [
    "arr_op1 = np.array([10,20,30])\n",
    "arr_op2 = np.array([2,4,6])\n",
    "\n",
    "multi = arr_op1 * arr_op2\n",
    "dev = arr_op1 / arr_op2\n",
    "print(\"Multiplication\",multi)\n",
    "print(\"divition\", dev)"
   ]
  },
  {
   "cell_type": "markdown",
   "id": "65c53b69",
   "metadata": {},
   "source": [
    "2. Given matrix = np.array([[1, 2, 3], [4, 5, 6], [7, 8, 9]]), calculate the sum of all elements in the matrix."
   ]
  },
  {
   "cell_type": "code",
   "execution_count": 57,
   "id": "628b2bc3",
   "metadata": {},
   "outputs": [
    {
     "name": "stdout",
     "output_type": "stream",
     "text": [
      "45\n"
     ]
    }
   ],
   "source": [
    "matrix = np.array([1,2,3]),[4,5,6],[7,8,9]\n",
    "total = np.sum(matrix)\n",
    "print(total)"
   ]
  },
  {
   "cell_type": "markdown",
   "id": "5717bcfd",
   "metadata": {},
   "source": [
    "3. From the matrix (from part 4 Q2), calculate the mean of each column."
   ]
  },
  {
   "cell_type": "code",
   "execution_count": 61,
   "id": "8444f9a4",
   "metadata": {},
   "outputs": [
    {
     "name": "stdout",
     "output_type": "stream",
     "text": [
      "[4. 5. 6.]\n"
     ]
    }
   ],
   "source": [
    "mean1 = np.mean(matrix , axis= 0)\n",
    "print(mean1)"
   ]
  },
  {
   "cell_type": "markdown",
   "id": "54520e50",
   "metadata": {},
   "source": [
    "4. Given price_array = np.array([100, 150, 200, 250]) and discount_percentage = 0.10, apply a 10% discount to all prices using broadcasting."
   ]
  },
  {
   "cell_type": "code",
   "execution_count": 62,
   "id": "5f3068ec",
   "metadata": {},
   "outputs": [
    {
     "name": "stdout",
     "output_type": "stream",
     "text": [
      "[ 90. 135. 180. 225.]\n"
     ]
    }
   ],
   "source": [
    "price_array = np.array([100,150,200,250])\n",
    "discount_percentage = 0.10\n",
    "\n",
    "price_after_discount = price_array * (1 - discount_percentage)\n",
    "print(price_after_discount)"
   ]
  }
 ],
 "metadata": {
  "kernelspec": {
   "display_name": "Python 3",
   "language": "python",
   "name": "python3"
  },
  "language_info": {
   "codemirror_mode": {
    "name": "ipython",
    "version": 3
   },
   "file_extension": ".py",
   "mimetype": "text/x-python",
   "name": "python",
   "nbconvert_exporter": "python",
   "pygments_lexer": "ipython3",
   "version": "3.13.3"
  }
 },
 "nbformat": 4,
 "nbformat_minor": 5
}
