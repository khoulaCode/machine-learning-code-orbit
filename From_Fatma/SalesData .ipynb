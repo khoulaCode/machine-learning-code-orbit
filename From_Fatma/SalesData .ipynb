{
 "cells": [
  {
   "cell_type": "code",
   "execution_count": 2,
   "id": "2f71cd38-1bce-4171-8ce2-1acf70343298",
   "metadata": {},
   "outputs": [],
   "source": [
    "import numpy as np"
   ]
  },
  {
   "cell_type": "code",
   "execution_count": 4,
   "id": "3f8f7f3e-e227-45fa-9a4f-f1855ef9852c",
   "metadata": {},
   "outputs": [
    {
     "name": "stdout",
     "output_type": "stream",
     "text": [
      "Sales Revenue for 30 days: \n",
      " [1099.3428306   972.34713977 1129.53770762 1304.60597128  953.16932506\n",
      "  953.17260861 1315.8425631  1153.48694583  906.10512281 1108.51200872\n",
      "  907.31646144  906.85404929 1048.39245431  617.34395107  655.0164335\n",
      "  887.54249415  797.43377593 1062.84946652  818.3951849   717.53925973\n",
      " 1293.12975378  954.8447399  1013.50564094  715.05036276  891.12345509\n",
      " 1022.18451794  769.80128452 1075.13960367  879.87226202  941.66125004]\n",
      "\n",
      "Units Sold for 30 days: \n",
      " [49. 59. 53. 52. 53. 43. 59. 44. 41. 54. 51. 49. 51. 39. 34. 44. 43. 57.\n",
      " 47. 34. 59. 47. 47. 46. 52. 55. 40. 50. 49. 53.]\n"
     ]
    }
   ],
   "source": [
    "# 1. Sales Data Generation:\n",
    "days = 30\n",
    "base_revenue = 1000  \n",
    "base_units = 50      \n",
    "\n",
    "np.random.seed(42)\n",
    "sales_revenue = base_revenue + np.random.normal(0, 200, days)\n",
    "\n",
    "sales_revenue = np.clip(sales_revenue, 0, None)\n",
    "\n",
    "units_sold = base_units + (sales_revenue - base_revenue) / 40 + np.random.normal(0, 5, days)\n",
    "\n",
    "units_sold = np.clip(units_sold, 0, None).round()\n",
    "\n",
    "print(\"Sales Revenue for 30 days: \\n\", sales_revenue)\n",
    "print(\"\\nUnits Sold for 30 days: \\n\", units_sold)"
   ]
  },
  {
   "cell_type": "code",
   "execution_count": 5,
   "id": "4c47c633-982d-435e-a8be-501312088cd9",
   "metadata": {},
   "outputs": [
    {
     "name": "stdout",
     "output_type": "stream",
     "text": [
      "Combined Sales Data (Revenue and Units Sold):\n",
      "[[1099.3428306    49.        ]\n",
      " [ 972.34713977   59.        ]\n",
      " [1129.53770762   53.        ]\n",
      " [1304.60597128   52.        ]\n",
      " [ 953.16932506   53.        ]\n",
      " [ 953.17260861   43.        ]\n",
      " [1315.8425631    59.        ]\n",
      " [1153.48694583   44.        ]\n",
      " [ 906.10512281   41.        ]\n",
      " [1108.51200872   54.        ]\n",
      " [ 907.31646144   51.        ]\n",
      " [ 906.85404929   49.        ]\n",
      " [1048.39245431   51.        ]\n",
      " [ 617.34395107   39.        ]\n",
      " [ 655.0164335    34.        ]\n",
      " [ 887.54249415   44.        ]\n",
      " [ 797.43377593   43.        ]\n",
      " [1062.84946652   57.        ]\n",
      " [ 818.3951849    47.        ]\n",
      " [ 717.53925973   34.        ]\n",
      " [1293.12975378   59.        ]\n",
      " [ 954.8447399    47.        ]\n",
      " [1013.50564094   47.        ]\n",
      " [ 715.05036276   46.        ]\n",
      " [ 891.12345509   52.        ]\n",
      " [1022.18451794   55.        ]\n",
      " [ 769.80128452   40.        ]\n",
      " [1075.13960367   50.        ]\n",
      " [ 879.87226202   49.        ]\n",
      " [ 941.66125004   53.        ]]\n"
     ]
    }
   ],
   "source": [
    "# 2. Combine Data:\n",
    "combined_data = np.column_stack((sales_revenue, units_sold))\n",
    "print(\"Combined Sales Data (Revenue and Units Sold):\")\n",
    "print(combined_data)"
   ]
  },
  {
   "cell_type": "code",
   "execution_count": 6,
   "id": "c88d9ecb-a418-4d47-92a2-e3fd20732176",
   "metadata": {},
   "outputs": [
    {
     "name": "stdout",
     "output_type": "stream",
     "text": [
      "1. Total Sales Revenue for the Month: \n",
      " 28871.11862489377\n",
      "2. Average Units Sold per Day: \n",
      "  48.46666666666667\n",
      "3. Maximum Daily Revenue: \n",
      " 6\n",
      "4. Average Revenue per Unit Sold: \n",
      " 19.856340182182784\n"
     ]
    }
   ],
   "source": [
    "# 3. Key Performance Indicators (KPIs):\n",
    "# 1. Total sales revenue for the month\n",
    "total_revenue = np.sum(sales_revenue)\n",
    "\n",
    "# 2. Average units sold per day\n",
    "average_units = np.mean(units_sold)\n",
    "\n",
    "# 3. Maximum daily revenue and its index (day)\n",
    "max_revenue = np.max(sales_revenue)\n",
    "max_day_index = np.argmax(sales_revenue)  \n",
    "\n",
    "# 4. Average revenue per unit sold\n",
    "total_units = np.sum(units_sold)\n",
    "average_revenue_per_unit = total_revenue / total_units\n",
    "\n",
    "print(\"1. Total Sales Revenue for the Month: \\n\", total_revenue)\n",
    "print(\"2. Average Units Sold per Day: \\n \", average_units)\n",
    "print(\"3. Maximum Daily Revenue: \\n\", max_day_index)\n",
    "print(\"4. Average Revenue per Unit Sold: \\n\", average_revenue_per_unit)\n"
   ]
  },
  {
   "cell_type": "code",
   "execution_count": 9,
   "id": "243c1aa1-9ba4-46dc-aad3-475f33f742dc",
   "metadata": {},
   "outputs": [
    {
     "name": "stdout",
     "output_type": "stream",
     "text": [
      "Number of days with sales revenue above a target: 3\n",
      "Average units sold on days with sales revenue below: 42.8\n"
     ]
    }
   ],
   "source": [
    "# 4. Conditional Analysis:\n",
    "target_revenue = 1200\n",
    "low_revenue_threshold = 900\n",
    "\n",
    "days_above_target = np.sum(sales_revenue > target_revenue)\n",
    "\n",
    "units_low_revenue = units_sold[sales_revenue < low_revenue_threshold]\n",
    "average_units_low_revenue = np.mean(units_low_revenue)\n",
    "\n",
    "print(\"Number of days with sales revenue above a target:\", days_above_target)\n",
    "print(\"Average units sold on days with sales revenue below:\",average_units_low_revenue)\n"
   ]
  },
  {
   "cell_type": "code",
   "execution_count": 10,
   "id": "64cda8e5-dd81-4a72-8309-efbf9cddd346",
   "metadata": {},
   "outputs": [
    {
     "name": "stdout",
     "output_type": "stream",
     "text": [
      "Total Sales Revenue for Week 1 : 7728.02\n",
      "Total Sales Revenue for Week 2 : 6648.01\n",
      "Total Sales Revenue for Week 3 : 6231.91\n",
      "Total Sales Revenue for Week 4 : 6441.65\n"
     ]
    }
   ],
   "source": [
    "# 5. Weekly Aggregations:\n",
    "sales_28days = sales_revenue[:28]\n",
    "weekly_data = sales_28days.reshape(4, 7)\n",
    "weekly_totals = weekly_data.sum(axis=1)\n",
    "week_number = 1\n",
    "for total in weekly_totals:\n",
    "    print(\"Total Sales Revenue for Week\", week_number, \":\", round(total, 2))\n",
    "    week_number += 1"
   ]
  },
  {
   "cell_type": "code",
   "execution_count": null,
   "id": "59eb07d8-54c6-482b-8705-ad9806abc970",
   "metadata": {},
   "outputs": [],
   "source": []
  }
 ],
 "metadata": {
  "kernelspec": {
   "display_name": "Python 3 (ipykernel)",
   "language": "python",
   "name": "python3"
  },
  "language_info": {
   "codemirror_mode": {
    "name": "ipython",
    "version": 3
   },
   "file_extension": ".py",
   "mimetype": "text/x-python",
   "name": "python",
   "nbconvert_exporter": "python",
   "pygments_lexer": "ipython3",
   "version": "3.13.3"
  }
 },
 "nbformat": 4,
 "nbformat_minor": 5
}
