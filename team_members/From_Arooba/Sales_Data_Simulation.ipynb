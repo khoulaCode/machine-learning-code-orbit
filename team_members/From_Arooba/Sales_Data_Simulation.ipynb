{
 "cells": [
  {
   "cell_type": "code",
   "execution_count": 27,
   "id": "cca639e6-8cf1-4831-aa29-7940c2585c3c",
   "metadata": {},
   "outputs": [],
   "source": [
    "import numpy as np"
   ]
  },
  {
   "cell_type": "markdown",
   "id": "2dcf2b06",
   "metadata": {},
   "source": [
    "## 1. Sales Data Generation:"
   ]
  },
  {
   "cell_type": "code",
   "execution_count": 28,
   "id": "7bba4e2b-7ebb-4024-a281-2627245d631a",
   "metadata": {},
   "outputs": [],
   "source": [
    "# Add random fluctuations using normal distribution (mean=0, std=200)\n",
    "sales_revenue = 1000 + np.random.normal(loc=0, scale=200, size=30)\n",
    "# Assume average price per unit around 30 with variation\n",
    "avg_price_per_unit = np.random.normal(loc=30, scale=2, size=30)\n",
    "# Calculate base units_sold = revenue / price per unit\n",
    "units_sold = sales_revenue / avg_price_per_unit\n",
    "# Add noise to units sold\n",
    "units_sold += np.random.normal(loc=0, scale=3, size=30)"
   ]
  },
  {
   "cell_type": "code",
   "execution_count": 29,
   "id": "d742d80d-0032-4411-9e6b-aba85c120fc3",
   "metadata": {},
   "outputs": [
    {
     "data": {
      "text/plain": [
       "array([32.65056558, 28.2800733 , 30.85911256, 29.02887295, 30.81797293,\n",
       "       32.32004696, 28.12774027, 28.99008368, 29.73764208, 30.68937848,\n",
       "       29.10574245, 29.69711119, 29.89034787, 30.36324455, 26.30220713,\n",
       "       26.65904557, 25.50062059, 32.36391289, 30.38217052, 29.59998887,\n",
       "       31.9391866 , 30.20332021, 27.37131188, 27.81297136, 31.58278314,\n",
       "       30.28620085, 30.40743521, 30.99773847, 31.83582931, 31.20031099])"
      ]
     },
     "execution_count": 29,
     "metadata": {},
     "output_type": "execute_result"
    }
   ],
   "source": [
    "avg_price_per_unit"
   ]
  },
  {
   "cell_type": "code",
   "execution_count": 30,
   "id": "d276a6b6-2e0f-4359-baa4-9254a26d1fcc",
   "metadata": {},
   "outputs": [
    {
     "data": {
      "text/plain": [
       "array([ 752.00972504, 1037.7745383 ,  709.93871792, 1097.92346907,\n",
       "        744.8063196 ,  817.8079462 ,  747.46553495,  877.4006541 ,\n",
       "       1188.02192544, 1003.61026098,  775.67075578, 1509.09173955,\n",
       "        970.55081044, 1085.35020511, 1000.08737076, 1220.71956945,\n",
       "       1034.49823017,  844.59353416, 1337.19443051,  922.89384033,\n",
       "       1095.86286737, 1527.89206624,  876.52277747,  698.02008076,\n",
       "        690.96290849,  823.61357493,  929.45737017,  654.20635996,\n",
       "       1030.25874005,  934.37480379])"
      ]
     },
     "execution_count": 30,
     "metadata": {},
     "output_type": "execute_result"
    }
   ],
   "source": [
    "sales_revenue"
   ]
  },
  {
   "cell_type": "code",
   "execution_count": 31,
   "id": "45d300a4-107c-4547-b53a-e8060118012f",
   "metadata": {},
   "outputs": [
    {
     "data": {
      "text/plain": [
       "array([22., 39., 26., 33., 21., 26., 28., 31., 42., 31., 25., 50., 34.,\n",
       "       35., 37., 43., 36., 26., 45., 35., 35., 47., 31., 22., 27., 31.,\n",
       "       27., 17., 38., 28.])"
      ]
     },
     "execution_count": 31,
     "metadata": {},
     "output_type": "execute_result"
    }
   ],
   "source": [
    "units_sold = units_sold.round()\n",
    "units_sold"
   ]
  },
  {
   "cell_type": "markdown",
   "id": "dbd43fe5",
   "metadata": {},
   "source": [
    "## 2. Combine Data:"
   ]
  },
  {
   "cell_type": "code",
   "execution_count": 32,
   "id": "5aa3b34d-80be-49d8-bffc-bae75295d978",
   "metadata": {},
   "outputs": [
    {
     "data": {
      "text/plain": [
       "array([[ 752.00972504,   22.        ],\n",
       "       [1037.7745383 ,   39.        ],\n",
       "       [ 709.93871792,   26.        ],\n",
       "       [1097.92346907,   33.        ],\n",
       "       [ 744.8063196 ,   21.        ],\n",
       "       [ 817.8079462 ,   26.        ],\n",
       "       [ 747.46553495,   28.        ],\n",
       "       [ 877.4006541 ,   31.        ],\n",
       "       [1188.02192544,   42.        ],\n",
       "       [1003.61026098,   31.        ],\n",
       "       [ 775.67075578,   25.        ],\n",
       "       [1509.09173955,   50.        ],\n",
       "       [ 970.55081044,   34.        ],\n",
       "       [1085.35020511,   35.        ],\n",
       "       [1000.08737076,   37.        ],\n",
       "       [1220.71956945,   43.        ],\n",
       "       [1034.49823017,   36.        ],\n",
       "       [ 844.59353416,   26.        ],\n",
       "       [1337.19443051,   45.        ],\n",
       "       [ 922.89384033,   35.        ],\n",
       "       [1095.86286737,   35.        ],\n",
       "       [1527.89206624,   47.        ],\n",
       "       [ 876.52277747,   31.        ],\n",
       "       [ 698.02008076,   22.        ],\n",
       "       [ 690.96290849,   27.        ],\n",
       "       [ 823.61357493,   31.        ],\n",
       "       [ 929.45737017,   27.        ],\n",
       "       [ 654.20635996,   17.        ],\n",
       "       [1030.25874005,   38.        ],\n",
       "       [ 934.37480379,   28.        ]])"
      ]
     },
     "execution_count": 32,
     "metadata": {},
     "output_type": "execute_result"
    }
   ],
   "source": [
    "sales_revenue = sales_revenue.reshape(30, 1)\n",
    "units_sold = units_sold.reshape(30,1)\n",
    "arr1 = np.hstack((sales_revenue, units_sold))\n",
    "arr1"
   ]
  },
  {
   "cell_type": "markdown",
   "id": "d44dd435",
   "metadata": {},
   "source": [
    "## 3. Key Performance Indicators (KPIs):"
   ]
  },
  {
   "cell_type": "markdown",
   "id": "4ee71075-bf5c-4bb2-bd57-09a0d58ac59e",
   "metadata": {},
   "source": [
    "* Calculate the total sales_revenue for the month."
   ]
  },
  {
   "cell_type": "code",
   "execution_count": 33,
   "id": "09398be7-f074-4b29-b939-2fd474158328",
   "metadata": {},
   "outputs": [
    {
     "name": "stdout",
     "output_type": "stream",
     "text": [
      "Total Sales Revenue =  28938.581127092824\n"
     ]
    }
   ],
   "source": [
    "print(\"Total Sales Revenue = \", np.sum(arr1[:,0]))"
   ]
  },
  {
   "cell_type": "markdown",
   "id": "6470efe3-d064-43fd-94c4-23317e3e48fc",
   "metadata": {},
   "source": [
    "* Calculate the average units_sold per day."
   ]
  },
  {
   "cell_type": "code",
   "execution_count": 34,
   "id": "cb1acda4-d4a4-4064-bc85-89bbf3407da2",
   "metadata": {},
   "outputs": [
    {
     "name": "stdout",
     "output_type": "stream",
     "text": [
      "Average Units Sold per Day =  32\n"
     ]
    }
   ],
   "source": [
    "print(\"Average Units Sold per Day = \", round(np.sum(arr1[:,1])/30))"
   ]
  },
  {
   "cell_type": "markdown",
   "id": "6dc7d3da-4890-4e86-8d19-dcba0490284e",
   "metadata": {},
   "source": [
    "* Determine the maximum daily sales_revenue and the day (index) it occurred."
   ]
  },
  {
   "cell_type": "code",
   "execution_count": 35,
   "id": "3b74882c-5b62-4ffd-aafe-d6d13a374470",
   "metadata": {},
   "outputs": [
    {
     "name": "stdout",
     "output_type": "stream",
     "text": [
      "Max Sales Revenue =  1527.8920662393139 Day =  21\n"
     ]
    }
   ],
   "source": [
    "print(\"Max Sales Revenue = \", np.max(arr1[:,0]), \"Day = \", np.argmax(arr1[:,0]))"
   ]
  },
  {
   "cell_type": "markdown",
   "id": "eb6cdf81-1f77-4ea4-826b-eeaaa671e682",
   "metadata": {},
   "source": [
    "* Calculate the average revenue per unit sold for the entire month (total revenue / total units sold)."
   ]
  },
  {
   "cell_type": "code",
   "execution_count": 36,
   "id": "b1154316-4f49-413a-9f22-8ae2e194e2f0",
   "metadata": {},
   "outputs": [
    {
     "name": "stdout",
     "output_type": "stream",
     "text": [
      "Average Revenue for the Month =  29.895228437079364\n"
     ]
    }
   ],
   "source": [
    "print(\"Average Revenue for the Month = \", np.sum(arr1[:,0]) / np.sum(arr1[:,1]))"
   ]
  },
  {
   "cell_type": "markdown",
   "id": "02f4eaf6",
   "metadata": {},
   "source": [
    "## 4. Conditional Analysis:"
   ]
  },
  {
   "cell_type": "markdown",
   "id": "eeb34342-9eb6-436a-bbc5-b9256d247cfd",
   "metadata": {},
   "source": [
    "* Identify and count how many days had sales_revenue above a certain target (e.g., $1200)."
   ]
  },
  {
   "cell_type": "code",
   "execution_count": 37,
   "id": "3fdfff9c-9e62-4c6a-b939-7449af701df8",
   "metadata": {},
   "outputs": [
    {
     "name": "stdout",
     "output_type": "stream",
     "text": [
      "No. of days where sales_revenue > 1200:  4 days\n"
     ]
    }
   ],
   "source": [
    "count = arr1[arr1[:,0] > 1200]\n",
    "print(\"No. of days where sales_revenue > 1200: \", count.shape[0], \"days\")"
   ]
  },
  {
   "cell_type": "markdown",
   "id": "dfb8ba2e-14d7-4cc3-b139-0fbdae50a100",
   "metadata": {},
   "source": [
    "* Calculate the average units_sold only for days when sales_revenue was below a certain threshold (e.g., $900)."
   ]
  },
  {
   "cell_type": "code",
   "execution_count": 38,
   "id": "c32046ef-6c2d-42ec-9cc6-c465cca61dbc",
   "metadata": {},
   "outputs": [
    {
     "name": "stdout",
     "output_type": "stream",
     "text": [
      "Average units_sold for days when sales_revenue was below 900 =  26\n"
     ]
    }
   ],
   "source": [
    "below = arr1[arr1[:,0] < 900]\n",
    "print(\"Average units_sold for days when sales_revenue was below 900 = \", round(np.sum(below[:,1])/below.shape[0]))"
   ]
  },
  {
   "cell_type": "markdown",
   "id": "9f7123ae",
   "metadata": {},
   "source": [
    "## 5. Weekly Aggregations:"
   ]
  },
  {
   "cell_type": "markdown",
   "id": "6e5cff0a-9322-4d5c-b67a-289db446b4df",
   "metadata": {},
   "source": [
    "* Assume the 30 days start on a Monday. Calculate the total sales_revenue for each of the 4 full weeks (days 1-7, 8-14, 15-21, 22-28). You will need to reshape or carefully slice your data."
   ]
  },
  {
   "cell_type": "code",
   "execution_count": 39,
   "id": "dc230151-6964-465a-bbbe-c348543cdb1f",
   "metadata": {},
   "outputs": [
    {
     "name": "stdout",
     "output_type": "stream",
     "text": [
      "Week1 sales =  5907.73\n",
      "Week2 sales =  7409.70\n",
      "Week3 sales =  7455.85\n",
      "Week4 sales =  6200.68\n"
     ]
    }
   ],
   "source": [
    "print(f\"Week1 sales = {np.sum(sales_revenue[0:7]): .2f}\")\n",
    "print(f\"Week2 sales = {np.sum(sales_revenue[7:14]): .2f}\")\n",
    "print(f\"Week3 sales = {np.sum(sales_revenue[14:21]): .2f}\")\n",
    "print(f\"Week4 sales = {np.sum(sales_revenue[21:28]): .2f}\")"
   ]
  }
 ],
 "metadata": {
  "kernelspec": {
   "display_name": "Python 3",
   "language": "python",
   "name": "python3"
  },
  "language_info": {
   "codemirror_mode": {
    "name": "ipython",
    "version": 3
   },
   "file_extension": ".py",
   "mimetype": "text/x-python",
   "name": "python",
   "nbconvert_exporter": "python",
   "pygments_lexer": "ipython3",
   "version": "3.13.3"
  }
 },
 "nbformat": 4,
 "nbformat_minor": 5
}
