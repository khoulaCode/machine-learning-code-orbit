{
 "cells": [
  {
   "cell_type": "markdown",
   "id": "44090ee6",
   "metadata": {},
   "source": [
    "## 1. Image Representation:"
   ]
  },
  {
   "cell_type": "markdown",
   "id": "2ebf11c1",
   "metadata": {},
   "source": [
    "Create a 2D NumPy array (e.g., 10x10) to represent a grayscale image. Initialize it with random integer pixel values between 0 and 255."
   ]
  },
  {
   "cell_type": "code",
   "execution_count": 16,
   "id": "ea95863a",
   "metadata": {},
   "outputs": [
    {
     "name": "stdout",
     "output_type": "stream",
     "text": [
      "[[ 66 119  68 134 201 217 106 103 117  61]\n",
      " [253 158 185 197  47 184 145  58 171 252]\n",
      " [ 78 154 211 161 180 104 126 137  40 131]\n",
      " [154 235  69  14  49 223 147 108 235  19]\n",
      " [179 155 107 169 168 130  16 117   5  62]\n",
      " [ 71 176 143 130 201 100  63 167 213  93]\n",
      " [ 63 241  39 152   8  47 183  27  52 130]\n",
      " [245  91 214  43 140 115   8  38 128 229]\n",
      " [ 74 146 248 156  29  18 205 163  98 153]\n",
      " [141  44 181 186 253 163 190 237 210 123]]\n"
     ]
    }
   ],
   "source": [
    "import numpy as np\n",
    "image = np.random.randint(0, 256, size=(10, 10), dtype=np.uint8)\n",
    "print(image)"
   ]
  },
  {
   "cell_type": "markdown",
   "id": "974bfb0f",
   "metadata": {},
   "source": [
    "## 2. Display (Conceptual):\n",
    "Describe how you would conceptually \"display\" this image (e.g., using a library like Matplotlib, though you don't need to actually plot it unless you wish to)."
   ]
  },
  {
   "cell_type": "code",
   "execution_count": 17,
   "id": "fcb0106a",
   "metadata": {},
   "outputs": [
    {
     "data": {
      "image/png": "[encoded data removed]",
      "text/plain": [
       "<Figure size 640x480 with 2 Axes>"
      ]
     },
     "metadata": {},
     "output_type": "display_data"
    }
   ],
   "source": [
    "import matplotlib.pyplot as plt\n",
    "plt.imshow(image, cmap='gray')   # Display the image in grayscale , imshow()\tتحويل المصفوفة إلى صورة\n",
    "plt.colorbar()                   \n",
    "plt.title(\"Grayscale Image\")\n",
    "plt.show()"
   ]
  },
  {
   "cell_type": "markdown",
   "id": "acc341b7",
   "metadata": {},
   "source": [
    "## 3. Grayscale Inversion:\n",
    "Invert the image (black becomes white, white becomes black). For a pixel value p, the inverted value is 255 - p."
   ]
  },
  {
   "cell_type": "code",
   "execution_count": 18,
   "id": "5dd8d515",
   "metadata": {},
   "outputs": [
    {
     "name": "stdout",
     "output_type": "stream",
     "text": [
      "Original Image:\n",
      " [[120 114 183 213  89 103 140 164 154 184]\n",
      " [ 44 233 167 247 124 184 120  27  10 229]\n",
      " [183 212 116  81 128 200 228 151  88  44]\n",
      " [ 93 238 249 160  68  35  75 169 120  68]\n",
      " [247 153 183 127 253 132  30 157  79  40]\n",
      " [250 125   2  54  71 221 126 126 202 103]\n",
      " [226 150 170 103 216 247 130 218  68 146]\n",
      " [183  44   5  96   4 167 183 217 238  16]\n",
      " [ 34 196  68  31 127 149 173 100 147  62]\n",
      " [125 229   5  63 186  70  81 182 159  84]]\n",
      "\n",
      "Inverted Image:\n",
      " [[135 141  72  42 166 152 115  91 101  71]\n",
      " [211  22  88   8 131  71 135 228 245  26]\n",
      " [ 72  43 139 174 127  55  27 104 167 211]\n",
      " [162  17   6  95 187 220 180  86 135 187]\n",
      " [  8 102  72 128   2 123 225  98 176 215]\n",
      " [  5 130 253 201 184  34 129 129  53 152]\n",
      " [ 29 105  85 152  39   8 125  37 187 109]\n",
      " [ 72 211 250 159 251  88  72  38  17 239]\n",
      " [221  59 187 224 128 106  82 155 108 193]\n",
      " [130  26 250 192  69 185 174  73  96 171]]\n"
     ]
    }
   ],
   "source": [
    "import numpy as np\n",
    "image = np.random.randint(0, 256, size=(10, 10), dtype=np.uint8)\n",
    "inverted_image = 255 - image        # Invert the image (black becomes white, white becomes black)\n",
    "print(\"Original Image:\\n\", image)                # Display the original image\n",
    "print(\"\\nInverted Image:\\n\", inverted_image)     # Display the inverted image"
   ]
  },
  {
   "cell_type": "markdown",
   "id": "df54bd15",
   "metadata": {},
   "source": [
    "## 4. Thresholding:\n",
    "Apply a simple thresholding operation: all pixels below a certain value (e.g., 128) become 0 (black), and all pixels equal to or above become 255 (white)."
   ]
  },
  {
   "cell_type": "code",
   "execution_count": 25,
   "id": "59227237",
   "metadata": {},
   "outputs": [
    {
     "name": "stdout",
     "output_type": "stream",
     "text": [
      "Original Image:\n",
      " [[119  45 236 166 224 201 138 238 105 174]\n",
      " [  7  96 195 117 182 152 251 193   1  54]\n",
      " [104  74 237 155   0  83 131  88  44  72]\n",
      " [230 252 127  90  86  13 197  38 237 179]\n",
      " [ 89 249 103 209 147 148  57  57 205  73]\n",
      " [ 21 105  25 215 199 206 154  53  60 115]\n",
      " [141   1 178 226 102  91  68  76 254 122]\n",
      " [194 128 237 238 240  26 211  98 113  36]\n",
      " [  1 245 117 165  56 217 138  30 238 255]\n",
      " [253 212 163 134 113 114 222 135 163 227]]\n",
      "\n",
      "Binary Image (after thresholding):\n",
      " [[  0   0 255 255 255 255 255 255   0 255]\n",
      " [  0   0 255   0 255 255 255 255   0   0]\n",
      " [  0   0 255 255   0   0 255   0   0   0]\n",
      " [255 255   0   0   0   0 255   0 255 255]\n",
      " [  0 255   0 255 255 255   0   0 255   0]\n",
      " [  0   0   0 255 255 255 255   0   0   0]\n",
      " [255   0 255 255   0   0   0   0 255   0]\n",
      " [255 255 255 255 255   0 255   0   0   0]\n",
      " [  0 255   0 255   0 255 255   0 255 255]\n",
      " [255 255 255 255   0   0 255 255 255 255]]\n"
     ]
    }
   ],
   "source": [
    "import numpy as np\n",
    "image = np.random.randint(0, 256, size=(10, 10), dtype=np.uint8)\n",
    "\n",
    "# Apply thresholding\n",
    "threshold_value = 128\n",
    "binary_image = np.where(image < threshold_value, 0, 255)\n",
    "\n",
    "print(\"Original Image:\\n\", image)\n",
    "print(\"\\nBinary Image (after thresholding):\\n\", binary_image)"
   ]
  },
  {
   "cell_type": "markdown",
   "id": "b142d659",
   "metadata": {},
   "source": [
    "## 5. Cropping:\n",
    "Extract a smaller \"region of interest\" (e.g., a 4x4 sub-image from the center) using array slicing."
   ]
  },
  {
   "cell_type": "code",
   "execution_count": 26,
   "id": "abcd7197",
   "metadata": {},
   "outputs": [
    {
     "name": "stdout",
     "output_type": "stream",
     "text": [
      "Original Image:\n",
      " [[ 32 225 222  33  86 141  97  80 228  33]\n",
      " [190  98  14   2  56  75 108 115  62 189]\n",
      " [  2  17 214 254 252 154 155 109  47  46]\n",
      " [152  78 163 250  50 246 148  62  97 173]\n",
      " [206 167 227 107 224  84 241 171 214 216]\n",
      " [154 137  69 238  34  54 246 117 181  88]\n",
      " [207  29 126 224 205 188   4  28  80   4]\n",
      " [ 87  73 246  33  36 169  41  75 128  32]\n",
      " [184 191  31 224 236 112  87  36  24  13]\n",
      " [160 241 107 128 129 176  54 206 225 138]]\n",
      "\n",
      "Cropped 4x4 Center:\n",
      " [[250  50 246 148]\n",
      " [107 224  84 241]\n",
      " [238  34  54 246]\n",
      " [224 205 188   4]]\n"
     ]
    }
   ],
   "source": [
    "import numpy as np\n",
    "image = np.random.randint(0, 256, size=(10, 10), dtype=np.uint8)\n",
    "start_row = (image.shape[0] - 4) // 2\n",
    "start_col = (image.shape[1] - 4) // 2\n",
    "cropped = image[start_row:start_row + 4, start_col:start_col + 4]\n",
    "\n",
    "print(\"Original Image:\\n\", image)\n",
    "print(\"\\nCropped 4x4 Center:\\n\", cropped)"
   ]
  },
  {
   "cell_type": "markdown",
   "id": "1ad79625",
   "metadata": {},
   "source": [
    "## 6. Edge Detection (Simple - Convolution Concept):\n",
    "Implement a very basic horizontal edge detection filter. This can be done by applying a convolution kernel (e.g., [-1, 0, 1] horizontally) to each row. For simplicity, you can just calculate the difference between adjacent pixels image[i, j+1] - image[i, j]for each pixel. Handle boundaries carefully (e.g., by skipping the last column)"
   ]
  },
  {
   "cell_type": "code",
   "execution_count": null,
   "id": "0fd028a5",
   "metadata": {},
   "outputs": [
    {
     "name": "stdout",
     "output_type": "stream",
     "text": [
      "Original Image:\n",
      " [[ 29 117 141 121  98 162 165   6  49  62]\n",
      " [ 62  99  91 106  26 190 159  86 174 148]\n",
      " [ 99 229 158  73 220 108 208 127 246  32]\n",
      " [ 14 255 155 170   3 115 106  31 133   1]\n",
      " [ 39 202 204 181  50  46  11 196   9 224]\n",
      " [178 202 122 121  87 120  90 252 182 118]\n",
      " [173  30 148 193  51 198 139 142 171  81]\n",
      " [ 58  66 219 184 183  82 217 156  89 197]\n",
      " [ 90 248 232  36 213 152  24 152 240 127]\n",
      " [ 36  93 186 136  28  33 139  74 126 244]]\n",
      "\n",
      "Horizontal Edge Detection:\n",
      " [[  88   24  -20  -23   64    3 -159   43   13    0]\n",
      " [  37   -8   15  -80  164  -31  -73   88  -26    0]\n",
      " [ 130  -71  -85  147 -112  100  -81  119 -214    0]\n",
      " [ 241 -100   15 -167  112   -9  -75  102 -132    0]\n",
      " [ 163    2  -23 -131   -4  -35  185 -187  215    0]\n",
      " [  24  -80   -1  -34   33  -30  162  -70  -64    0]\n",
      " [-143  118   45 -142  147  -59    3   29  -90    0]\n",
      " [   8  153  -35   -1 -101  135  -61  -67  108    0]\n",
      " [ 158  -16 -196  177  -61 -128  128   88 -113    0]\n",
      " [  57   93  -50 -108    5  106  -65   52  118    0]]\n"
     ]
    }
   ],
   "source": [
    "import numpy as np\n",
    "image = np.random.randint(0, 256, size=(10, 10), dtype=np.uint8)\n",
    "edges = np.zeros_like(image, dtype=int)  # Initialize edges array with the same shape as image\n",
    "for i in range(image.shape[0]):       \n",
    "    for j in range(image.shape[1] - 1):  \n",
    "        edges[i, j] = int(image[i, j+1]) - int(image[i, j]) # Handle boundaries by skipping the last column\n",
    "\n",
    "print(\"Original Image:\\n\", image)\n",
    "print(\"\\nHorizontal Edge Detection:\\n\", edges)"
   ]
  }
 ],
 "metadata": {
  "kernelspec": {
   "display_name": "Python 3",
   "language": "python",
   "name": "python3"
  },
  "language_info": {
   "codemirror_mode": {
    "name": "ipython",
    "version": 3
   },
   "file_extension": ".py",
   "mimetype": "text/x-python",
   "name": "python",
   "nbconvert_exporter": "python",
   "pygments_lexer": "ipython3",
   "version": "3.13.3"
  }
 },
 "nbformat": 4,
 "nbformat_minor": 5
}
