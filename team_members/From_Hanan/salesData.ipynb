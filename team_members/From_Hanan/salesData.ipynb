{
 "cells": [
  {
   "cell_type": "code",
   "execution_count": 31,
   "id": "cca639e6-8cf1-4831-aa29-7940c2585c3c",
   "metadata": {},
   "outputs": [],
   "source": [
    "import numpy as np"
   ]
  },
  {
   "cell_type": "code",
   "execution_count": 32,
   "id": "7bba4e2b-7ebb-4024-a281-2627245d631a",
   "metadata": {},
   "outputs": [],
   "source": [
    "# Add random fluctuations using normal distribution (mean=0, std=200)\n",
    "sales_revenue = 1000 + np.random.normal(loc=0, scale=200, size=30)\n",
    "# Assume average price per unit around 30 with variation\n",
    "avg_price_per_unit = np.random.normal(loc=30, scale=2, size=30)\n",
    "# Calculate base units_sold = revenue / price per unit\n",
    "units_sold = sales_revenue / avg_price_per_unit\n",
    "# Add noise to units sold\n",
    "units_sold += np.random.normal(loc=0, scale=3, size=30)"
   ]
  },
  {
   "cell_type": "code",
   "execution_count": 33,
   "id": "d742d80d-0032-4411-9e6b-aba85c120fc3",
   "metadata": {},
   "outputs": [
    {
     "data": {
      "text/plain": [
       "array([25.89206301, 27.00647103, 33.34844347, 30.27996229, 33.09776691,\n",
       "       31.75297404, 31.18868891, 31.17290876, 29.44224113, 28.5365184 ,\n",
       "       31.54275898, 29.05694341, 30.26813011, 30.59790309, 31.55799433,\n",
       "       28.88259119, 28.80582826, 31.54834026, 28.67493152, 28.48954532,\n",
       "       28.98653996, 26.34786509, 30.43458195, 24.59654857, 34.35485483,\n",
       "       30.45637218, 33.68395102, 29.46150984, 28.83482087, 27.56812667])"
      ]
     },
     "execution_count": 33,
     "metadata": {},
     "output_type": "execute_result"
    }
   ],
   "source": [
    "avg_price_per_unit"
   ]
  },
  {
   "cell_type": "code",
   "execution_count": 34,
   "id": "d276a6b6-2e0f-4359-baa4-9254a26d1fcc",
   "metadata": {},
   "outputs": [
    {
     "data": {
      "text/plain": [
       "array([ 704.46209201,  924.98982965,  811.70479595, 1112.76395513,\n",
       "        859.21537138,  415.52602993, 1150.06846583, 1098.86085849,\n",
       "       1064.90815235,  853.87670434,  819.44357191, 1006.81793679,\n",
       "       1042.6198017 ,  791.88785649,  996.46338749,  978.45084212,\n",
       "        741.47488512,  819.14865248, 1114.55214863, 1091.37267291,\n",
       "       1308.1552242 , 1084.98234328, 1111.71165295,  657.45882282,\n",
       "       1176.9456205 , 1113.90034849,  836.34627324, 1194.11967214,\n",
       "       1092.98423951,  754.7552117 ])"
      ]
     },
     "execution_count": 34,
     "metadata": {},
     "output_type": "execute_result"
    }
   ],
   "source": [
    "sales_revenue"
   ]
  },
  {
   "cell_type": "code",
   "execution_count": 35,
   "id": "45d300a4-107c-4547-b53a-e8060118012f",
   "metadata": {},
   "outputs": [
    {
     "data": {
      "text/plain": [
       "array([18., 41., 25., 33., 29., 11., 35., 38., 40., 30., 28., 38., 36.,\n",
       "       27., 27., 31., 26., 26., 42., 40., 43., 43., 36., 27., 33., 33.,\n",
       "       30., 36., 34., 21.])"
      ]
     },
     "execution_count": 35,
     "metadata": {},
     "output_type": "execute_result"
    }
   ],
   "source": [
    "units_sold = units_sold.round()\n",
    "units_sold"
   ]
  },
  {
   "cell_type": "code",
   "execution_count": 36,
   "id": "5aa3b34d-80be-49d8-bffc-bae75295d978",
   "metadata": {},
   "outputs": [
    {
     "data": {
      "text/plain": [
       "array([[ 704.46209201,   18.        ],\n",
       "       [ 924.98982965,   41.        ],\n",
       "       [ 811.70479595,   25.        ],\n",
       "       [1112.76395513,   33.        ],\n",
       "       [ 859.21537138,   29.        ],\n",
       "       [ 415.52602993,   11.        ],\n",
       "       [1150.06846583,   35.        ],\n",
       "       [1098.86085849,   38.        ],\n",
       "       [1064.90815235,   40.        ],\n",
       "       [ 853.87670434,   30.        ],\n",
       "       [ 819.44357191,   28.        ],\n",
       "       [1006.81793679,   38.        ],\n",
       "       [1042.6198017 ,   36.        ],\n",
       "       [ 791.88785649,   27.        ],\n",
       "       [ 996.46338749,   27.        ],\n",
       "       [ 978.45084212,   31.        ],\n",
       "       [ 741.47488512,   26.        ],\n",
       "       [ 819.14865248,   26.        ],\n",
       "       [1114.55214863,   42.        ],\n",
       "       [1091.37267291,   40.        ],\n",
       "       [1308.1552242 ,   43.        ],\n",
       "       [1084.98234328,   43.        ],\n",
       "       [1111.71165295,   36.        ],\n",
       "       [ 657.45882282,   27.        ],\n",
       "       [1176.9456205 ,   33.        ],\n",
       "       [1113.90034849,   33.        ],\n",
       "       [ 836.34627324,   30.        ],\n",
       "       [1194.11967214,   36.        ],\n",
       "       [1092.98423951,   34.        ],\n",
       "       [ 754.7552117 ,   21.        ]])"
      ]
     },
     "execution_count": 36,
     "metadata": {},
     "output_type": "execute_result"
    }
   ],
   "source": [
    "sales_revenue = sales_revenue.reshape(30, 1)\n",
    "units_sold = units_sold.reshape(30,1)\n",
    "arr1 = np.hstack((sales_revenue, units_sold))\n",
    "arr1"
   ]
  },
  {
   "cell_type": "markdown",
   "id": "4ee71075-bf5c-4bb2-bd57-09a0d58ac59e",
   "metadata": {},
   "source": [
    "* Calculate the total sales_revenue for the month."
   ]
  },
  {
   "cell_type": "code",
   "execution_count": 37,
   "id": "09398be7-f074-4b29-b939-2fd474158328",
   "metadata": {},
   "outputs": [
    {
     "name": "stdout",
     "output_type": "stream",
     "text": [
      "Total Sales Revenue =  28729.967419532302\n"
     ]
    }
   ],
   "source": [
    "print(\"Total Sales Revenue = \", np.sum(arr1[:,0]))"
   ]
  },
  {
   "cell_type": "markdown",
   "id": "6470efe3-d064-43fd-94c4-23317e3e48fc",
   "metadata": {},
   "source": [
    "* Calculate the average units_sold per day."
   ]
  },
  {
   "cell_type": "code",
   "execution_count": 38,
   "id": "cb1acda4-d4a4-4064-bc85-89bbf3407da2",
   "metadata": {},
   "outputs": [
    {
     "name": "stdout",
     "output_type": "stream",
     "text": [
      "Average Units Sold per Day =  32\n"
     ]
    }
   ],
   "source": [
    "print(\"Average Units Sold per Day = \", round(np.sum(arr1[:,1])/30))"
   ]
  },
  {
   "cell_type": "markdown",
   "id": "6dc7d3da-4890-4e86-8d19-dcba0490284e",
   "metadata": {},
   "source": [
    "* Determine the maximum daily sales_revenue and the day (index) it occurred."
   ]
  },
  {
   "cell_type": "code",
   "execution_count": 39,
   "id": "3b74882c-5b62-4ffd-aafe-d6d13a374470",
   "metadata": {},
   "outputs": [
    {
     "name": "stdout",
     "output_type": "stream",
     "text": [
      "Max Sales Revenue =  1308.1552242008943 Day =  20\n"
     ]
    }
   ],
   "source": [
    "print(\"Max Sales Revenue = \", np.max(arr1[:,0]), \"Day = \", np.argmax(arr1[:,0]))"
   ]
  },
  {
   "cell_type": "markdown",
   "id": "eb6cdf81-1f77-4ea4-826b-eeaaa671e682",
   "metadata": {},
   "source": [
    "* Calculate the average revenue per unit sold for the entire month (total revenue / total units sold)."
   ]
  },
  {
   "cell_type": "code",
   "execution_count": 40,
   "id": "b1154316-4f49-413a-9f22-8ae2e194e2f0",
   "metadata": {},
   "outputs": [
    {
     "name": "stdout",
     "output_type": "stream",
     "text": [
      "Average Revenue for the Month =  30.020864597212437\n"
     ]
    }
   ],
   "source": [
    "print(\"Average Revenue for the Month = \", np.sum(arr1[:,0]) / np.sum(arr1[:,1]))"
   ]
  },
  {
   "cell_type": "markdown",
   "id": "eeb34342-9eb6-436a-bbc5-b9256d247cfd",
   "metadata": {},
   "source": [
    "* Identify and count how many days had sales_revenue above a certain target (e.g., $1200)."
   ]
  },
  {
   "cell_type": "code",
   "execution_count": 41,
   "id": "3fdfff9c-9e62-4c6a-b939-7449af701df8",
   "metadata": {},
   "outputs": [
    {
     "name": "stdout",
     "output_type": "stream",
     "text": [
      "No. of days where sales_revenue > 1200:  1 days\n"
     ]
    }
   ],
   "source": [
    "count = arr1[arr1[:,0] > 1200]\n",
    "print(\"No. of days where sales_revenue > 1200: \", count.shape[0], \"days\")"
   ]
  },
  {
   "cell_type": "markdown",
   "id": "dfb8ba2e-14d7-4cc3-b139-0fbdae50a100",
   "metadata": {},
   "source": [
    "* Calculate the average units_sold only for days when sales_revenue was below a certain threshold (e.g., $900)."
   ]
  },
  {
   "cell_type": "code",
   "execution_count": 42,
   "id": "c32046ef-6c2d-42ec-9cc6-c465cca61dbc",
   "metadata": {},
   "outputs": [
    {
     "name": "stdout",
     "output_type": "stream",
     "text": [
      "Average units_sold for days when sales_revenue was below 900 =  25\n"
     ]
    }
   ],
   "source": [
    "below = arr1[arr1[:,0] < 900]\n",
    "print(\"Average units_sold for days when sales_revenue was below 900 = \", round(np.sum(below[:,1])/below.shape[0]))"
   ]
  },
  {
   "cell_type": "markdown",
   "id": "6e5cff0a-9322-4d5c-b67a-289db446b4df",
   "metadata": {},
   "source": [
    "* Assume the 30 days start on a Monday. Calculate the total sales_revenue for each of the 4 full weeks (days 1-7, 8-14, 15-21, 22-28). You will need to reshape or carefully slice your data."
   ]
  },
  {
   "cell_type": "code",
   "execution_count": 43,
   "id": "dc230151-6964-465a-bbbe-c348543cdb1f",
   "metadata": {},
   "outputs": [
    {
     "name": "stdout",
     "output_type": "stream",
     "text": [
      "Week1 sales =  5978.73\n",
      "Week2 sales =  6678.41\n",
      "Week3 sales =  7049.62\n",
      "Week4 sales =  7175.46\n"
     ]
    }
   ],
   "source": [
    "print(f\"Week1 sales = {np.sum(sales_revenue[0:7]): .2f}\")\n",
    "print(f\"Week2 sales = {np.sum(sales_revenue[7:14]): .2f}\")\n",
    "print(f\"Week3 sales = {np.sum(sales_revenue[14:21]): .2f}\")\n",
    "print(f\"Week4 sales = {np.sum(sales_revenue[21:28]): .2f}\")"
   ]
  }
 ],
 "metadata": {
  "kernelspec": {
   "display_name": "Python 3 (ipykernel)",
   "language": "python",
   "name": "python3"
  },
  "language_info": {
   "codemirror_mode": {
    "name": "ipython",
    "version": 3
   },
   "file_extension": ".py",
   "mimetype": "text/x-python",
   "name": "python",
   "nbconvert_exporter": "python",
   "pygments_lexer": "ipython3",
   "version": "3.13.3"
  }
 },
 "nbformat": 4,
 "nbformat_minor": 5
}
