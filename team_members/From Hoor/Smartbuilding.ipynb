{
 "cells": [
  {
   "cell_type": "code",
   "execution_count": 2,
   "id": "7865347f-601e-41c3-852c-ccf68546781e",
   "metadata": {},
   "outputs": [
    {
     "name": "stdout",
     "output_type": "stream",
     "text": [
      "[(0, 22.74507123, 58.31440634, 1005.2853063 )\n",
      " (1, 21.79260355, 60.86736929, 1005.63789954)\n",
      " (2, 22.97153281, 55.90510779, 1010.17940447)]\n"
     ]
    }
   ],
   "source": [
    "import numpy as np\n",
    "\n",
    "np.random.seed(42)\n",
    "\n",
    "# Time in minutes\n",
    "time = np.arange(1440)\n",
    "\n",
    "# Function to simulate sensor data with bounds\n",
    "def generate_data(base, std_dev, size, min_val=None, max_val=None):\n",
    "    data = base + np.random.normal(0, std_dev, size)\n",
    "    if min_val is not None or max_val is not None:\n",
    "        data = np.clip(data, min_val, max_val)\n",
    "    return data\n",
    "\n",
    "temperature = generate_data(22, 1.5, 1440)\n",
    "humidity = generate_data(55, 5, 1440, 0, 100)\n",
    "pressure = generate_data(1012, 3, 1440)\n",
    "\n",
    "# Structured data using dictionary (alternative to column_stack)\n",
    "sensor_data_alt = np.rec.fromarrays([time, temperature, humidity, pressure],\n",
    "                                    names='time,temp,humidity,pressure')\n",
    "print(sensor_data_alt[:3])\n"
   ]
  },
  {
   "cell_type": "code",
   "execution_count": 4,
   "id": "e0a80d8b-87c8-42db-b6fe-228495641624",
   "metadata": {},
   "outputs": [
    {
     "name": "stdout",
     "output_type": "stream",
     "text": [
      "             Time  Temperature   Humidity     Pressure\n",
      "mean   719.500000    22.059766  55.132802  1011.887002\n",
      "min      0.000000    17.138099  39.902439  1002.977103\n",
      "max   1439.000000    27.779097  70.965538  1023.778713\n",
      "std    415.836506     1.480999   4.887209     3.081130\n"
     ]
    }
   ],
   "source": [
    "import pandas as pd\n",
    "\n",
    "df = pd.DataFrame({\n",
    "    'Time': time,\n",
    "    'Temperature': temperature,\n",
    "    'Humidity': humidity,\n",
    "    'Pressure': pressure\n",
    "})\n",
    "\n",
    "# Summary statistics\n",
    "summary = df.describe().loc[['mean', 'min', 'max', 'std']]\n",
    "print(summary)\n"
   ]
  },
  {
   "cell_type": "code",
   "execution_count": 5,
   "id": "904924ab-d70c-42a7-b8da-65eb1bb152b5",
   "metadata": {},
   "outputs": [
    {
     "name": "stdout",
     "output_type": "stream",
     "text": [
      "      Temperature   Humidity     Pressure\n",
      "Hour                                     \n",
      "0       21.768018  56.349887  1012.048283\n",
      "1       21.994475  55.000500  1011.970714\n",
      "2       22.137871  54.370007  1011.219726\n"
     ]
    }
   ],
   "source": [
    "df['Hour'] = df['Time'] // 60  # Convert minute to hour bin\n",
    "\n",
    "hourly_means = df.groupby('Hour')[['Temperature', 'Humidity', 'Pressure']].mean()\n",
    "\n",
    "print(hourly_means.head(3))  # First 3 hours\n"
   ]
  },
  {
   "cell_type": "code",
   "execution_count": 6,
   "id": "c254d977-3623-4455-80a0-6eec493ad289",
   "metadata": {},
   "outputs": [
    {
     "name": "stdout",
     "output_type": "stream",
     "text": [
      "Count above 25°C: 41\n",
      "Time of min temp: 262 minutes\n"
     ]
    }
   ],
   "source": [
    "# Boolean mask for temperature > threshold\n",
    "mask = temperature > 25\n",
    "count_exceed = np.count_nonzero(mask)\n",
    "min_temp_time = time[np.argmin(temperature)]\n",
    "\n",
    "print(f\"Count above 25°C: {count_exceed}\")\n",
    "print(f\"Time of min temp: {min_temp_time} minutes\")\n"
   ]
  },
  {
   "cell_type": "code",
   "execution_count": 7,
   "id": "6232a351-f5fa-49cf-a24c-2df84524045f",
   "metadata": {},
   "outputs": [
    {
     "name": "stdout",
     "output_type": "stream",
     "text": [
      "Data exported as 'sensor_data_alt.csv'\n"
     ]
    }
   ],
   "source": [
    "df.to_csv(\"sensor_data_alt.csv\", index=False)\n",
    "print(\"Data exported as 'sensor_data_alt.csv'\")\n"
   ]
  },
  {
   "cell_type": "code",
   "execution_count": null,
   "id": "fe8b925b-89ad-4c6d-af4c-bd4da14f6bcb",
   "metadata": {},
   "outputs": [],
   "source": []
  }
 ],
 "metadata": {
  "kernelspec": {
   "display_name": "Python 3 (ipykernel)",
   "language": "python",
   "name": "python3"
  },
  "language_info": {
   "codemirror_mode": {
    "name": "ipython",
    "version": 3
   },
   "file_extension": ".py",
   "mimetype": "text/x-python",
   "name": "python",
   "nbconvert_exporter": "python",
   "pygments_lexer": "ipython3",
   "version": "3.11.9"
  }
 },
 "nbformat": 4,
 "nbformat_minor": 5
}
