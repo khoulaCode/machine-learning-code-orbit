{
 "cells": [
  {
   "cell_type": "code",
   "execution_count": 1,
   "id": "fd982b56-aa10-49a0-ae8c-a4dc38966c93",
   "metadata": {},
   "outputs": [],
   "source": [
    "import numpy as np"
   ]
  },
  {
   "cell_type": "code",
   "execution_count": 2,
   "id": "fe47c2a1-5cf9-4066-86c6-426ac71429be",
   "metadata": {},
   "outputs": [
    {
     "name": "stdout",
     "output_type": "stream",
     "text": [
      "Original image:\n",
      " [[  8 166 105 234  52  35 165 178 226   0]\n",
      " [152 174 184 181  77 248  72  70 193 149]\n",
      " [124  14 187 102 139 230 186 223 155  62]\n",
      " [103 218 195 132  70  39 168 182 182  76]\n",
      " [146  29 235  76  57   5 149 156  34 135]\n",
      " [101 173  40 153  90 220 223 133  68 228]\n",
      " [179 233 244  34  72  74 164 165 173  29]\n",
      " [173  25 144  45 113  17  36  23 163 207]\n",
      " [ 67 201 118 102 149 178  85 148 101  98]\n",
      " [202 189  82 130  66 249 108 163  60 149]]\n"
     ]
    }
   ],
   "source": [
    "#1\n",
    "img = np.random.randint(0,256,(10,10),dtype=np.uint8)\n",
    "    #0-256 -- the range of int\n",
    "    #10,10 -- shape (row,col)\n",
    "    #dtype=np.uint8 -- Data type\n",
    "print(\"Original image:\\n\", img)"
   ]
  },
  {
   "cell_type": "code",
   "execution_count": 14,
   "id": "f4572cc3-6c8f-411f-ba8a-d6ebc4a3671d",
   "metadata": {},
   "outputs": [
    {
     "name": "stdout",
     "output_type": "stream",
     "text": [
      "Requirement already satisfied: matplotlib in c:\\users\\admin\\appdata\\local\\programs\\python\\python313\\lib\\site-packages (3.10.3)\n",
      "Requirement already satisfied: contourpy>=1.0.1 in c:\\users\\admin\\appdata\\local\\programs\\python\\python313\\lib\\site-packages (from matplotlib) (1.3.2)\n",
      "Requirement already satisfied: cycler>=0.10 in c:\\users\\admin\\appdata\\local\\programs\\python\\python313\\lib\\site-packages (from matplotlib) (0.12.1)\n",
      "Requirement already satisfied: fonttools>=4.22.0 in c:\\users\\admin\\appdata\\local\\programs\\python\\python313\\lib\\site-packages (from matplotlib) (4.58.4)\n",
      "Requirement already satisfied: kiwisolver>=1.3.1 in c:\\users\\admin\\appdata\\local\\programs\\python\\python313\\lib\\site-packages (from matplotlib) (1.4.8)\n",
      "Requirement already satisfied: numpy>=1.23 in c:\\users\\admin\\appdata\\local\\programs\\python\\python313\\lib\\site-packages (from matplotlib) (2.3.1)\n",
      "Requirement already satisfied: packaging>=20.0 in c:\\users\\admin\\appdata\\local\\programs\\python\\python313\\lib\\site-packages (from matplotlib) (25.0)\n",
      "Requirement already satisfied: pillow>=8 in c:\\users\\admin\\appdata\\local\\programs\\python\\python313\\lib\\site-packages (from matplotlib) (11.3.0)\n",
      "Requirement already satisfied: pyparsing>=2.3.1 in c:\\users\\admin\\appdata\\local\\programs\\python\\python313\\lib\\site-packages (from matplotlib) (3.2.3)\n",
      "Requirement already satisfied: python-dateutil>=2.7 in c:\\users\\admin\\appdata\\local\\programs\\python\\python313\\lib\\site-packages (from matplotlib) (2.9.0.post0)\n",
      "Requirement already satisfied: six>=1.5 in c:\\users\\admin\\appdata\\local\\programs\\python\\python313\\lib\\site-packages (from python-dateutil>=2.7->matplotlib) (1.17.0)\n"
     ]
    }
   ],
   "source": [
    "#2\n",
    "!pip install matplotlib"
   ]
  },
  {
   "cell_type": "code",
   "execution_count": 18,
   "id": "8ced64ab-7385-46b8-856d-26e151babe3e",
   "metadata": {},
   "outputs": [
    {
     "data": {
      "image/png": "[encoded data removed]",
      "text/plain": [
       "<Figure size 640x480 with 2 Axes>"
      ]
     },
     "metadata": {},
     "output_type": "display_data"
    }
   ],
   "source": [
    "import matplotlib.pyplot as plt\n",
    "\n",
    "plt.imshow(img, cmap='gray')\n",
    "plt.title(\"Grayscale Image\")\n",
    "plt.colorbar()\n",
    "plt.show()"
   ]
  },
  {
   "cell_type": "code",
   "execution_count": 7,
   "id": "f9f7fba2-24ac-46d9-96ec-cffcac80eedf",
   "metadata": {},
   "outputs": [
    {
     "name": "stdout",
     "output_type": "stream",
     "text": [
      "Inverted image result:\n",
      " [[247  89 150  21 203 220  90  77  29 255]\n",
      " [103  81  71  74 178   7 183 185  62 106]\n",
      " [131 241  68 153 116  25  69  32 100 193]\n",
      " [152  37  60 123 185 216  87  73  73 179]\n",
      " [109 226  20 179 198 250 106  99 221 120]\n",
      " [154  82 215 102 165  35  32 122 187  27]\n",
      " [ 76  22  11 221 183 181  91  90  82 226]\n",
      " [ 82 230 111 210 142 238 219 232  92  48]\n",
      " [188  54 137 153 106  77 170 107 154 157]\n",
      " [ 53  66 173 125 189   6 147  92 195 106]]\n"
     ]
    }
   ],
   "source": [
    "#3\n",
    "#For black to becomes white, and white becomes black\n",
    "invert_img = 255 - img\n",
    "print(\"Inverted image result:\\n\", invert_img)"
   ]
  },
  {
   "cell_type": "code",
   "execution_count": 8,
   "id": "b155924a-b60b-484f-8a13-dab639fda5cc",
   "metadata": {},
   "outputs": [
    {
     "name": "stdout",
     "output_type": "stream",
     "text": [
      "Thresholded Image result:\n",
      " [[  0 255   0 255   0   0 255 255 255   0]\n",
      " [255 255 255 255   0 255   0   0 255 255]\n",
      " [  0   0 255   0 255 255 255 255 255   0]\n",
      " [  0 255 255 255   0   0 255 255 255   0]\n",
      " [255   0 255   0   0   0 255 255   0 255]\n",
      " [  0 255   0 255   0 255 255 255   0 255]\n",
      " [255 255 255   0   0   0 255 255 255   0]\n",
      " [255   0 255   0   0   0   0   0 255 255]\n",
      " [  0 255   0   0 255 255   0 255   0   0]\n",
      " [255 255   0 255   0 255   0 255   0 255]]\n"
     ]
    }
   ],
   "source": [
    "#4Thresholding\n",
    "thresholded_img = (img>=128) * 255  # true=255, false=0\n",
    "thresholded_image = thresholded_img.astype(np.uint8)\n",
    "print(\"Thresholded Image result:\\n\", thresholded_img)"
   ]
  },
  {
   "cell_type": "code",
   "execution_count": 9,
   "id": "798164c1-299a-40d1-a918-d30fe4d1a7a7",
   "metadata": {},
   "outputs": [
    {
     "name": "stdout",
     "output_type": "stream",
     "text": [
      "Cropped image result:\n",
      " [[132  70  39 168]\n",
      " [ 76  57   5 149]\n",
      " [153  90 220 223]\n",
      " [ 34  72  74 164]]\n"
     ]
    }
   ],
   "source": [
    "#5\n",
    "crop_img = img[3:7 , 3:7]\n",
    "print(\"Cropped image result:\\n\", crop_img)"
   ]
  },
  {
   "cell_type": "code",
   "execution_count": 11,
   "id": "68743b47-92d9-476d-b93a-7431a0c9a3e2",
   "metadata": {},
   "outputs": [
    {
     "name": "stdout",
     "output_type": "stream",
     "text": [
      "Horizontal edge:\n",
      " [[158 195 129  74 239 130  13  48  30]\n",
      " [ 22  10 253 152 171  80 254 123 212]\n",
      " [146 173 171  37  91 212  37 188 163]\n",
      " [115 233 193 194 225 129  14   0 150]\n",
      " [139 206  97 237 204 144   7 134 101]\n",
      " [ 72 123 113 193 130   3 166 191 160]\n",
      " [ 54  11  46  38   2  90   1   8 112]\n",
      " [108 119 157  68 160  19 243 140  44]\n",
      " [134 173 240  47  29 163  63 209 253]\n",
      " [243 149  48 192 183 115  55 153  89]]\n"
     ]
    }
   ],
   "source": [
    "#6\n",
    "h_edge = img[: , 1:] - img[: , :-1] #righr edge - left edge\n",
    "print(\"Horizontal edge:\\n\", h_edge)"
   ]
  },
  {
   "cell_type": "code",
   "execution_count": 17,
   "id": "1c59282e-6925-4f5d-bfd3-56dd06352c7e",
   "metadata": {},
   "outputs": [
    {
     "data": {
      "image/png": "[encoded data removed]",
      "text/plain": [
       "<Figure size 640x480 with 2 Axes>"
      ]
     },
     "metadata": {},
     "output_type": "display_data"
    }
   ],
   "source": [
    "# Display the image \n",
    "plt.imshow(img, cmap='gray')    # Show img as grayscale\n",
    "plt.title(\"Grayscale Image\")    # title\n",
    "plt.colorbar()                  # Show color scale\n",
    "plt.axis('off')                 \n",
    "plt.show()         "
   ]
  },
  {
   "cell_type": "code",
   "execution_count": null,
   "id": "9d6b365a-60f3-415f-b815-287fac706dfd",
   "metadata": {},
   "outputs": [],
   "source": []
  }
 ],
 "metadata": {
  "kernelspec": {
   "display_name": "Python 3 (ipykernel)",
   "language": "python",
   "name": "python3"
  },
  "language_info": {
   "codemirror_mode": {
    "name": "ipython",
    "version": 3
   },
   "file_extension": ".py",
   "mimetype": "text/x-python",
   "name": "python",
   "nbconvert_exporter": "python",
   "pygments_lexer": "ipython3",
   "version": "3.13.3"
  }
 },
 "nbformat": 4,
 "nbformat_minor": 5
}
