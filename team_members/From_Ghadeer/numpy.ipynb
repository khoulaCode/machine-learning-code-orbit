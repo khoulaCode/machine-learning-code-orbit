{
 "cells": [
  {
   "cell_type": "markdown",
   "id": "8ff17102",
   "metadata": {},
   "source": [
    "## Part 1: Array Creation and Properties"
   ]
  },
  {
   "cell_type": "markdown",
   "id": "56c90932",
   "metadata": {},
   "source": [
    "1- Create a 1D array named arr1d with integers from 0 to 9."
   ]
  },
  {
   "cell_type": "code",
   "execution_count": 197,
   "id": "4e5e4192",
   "metadata": {},
   "outputs": [
    {
     "name": "stdout",
     "output_type": "stream",
     "text": [
      "arr1d: [0 1 2 3 4 5 6 7 8 9]\n"
     ]
    }
   ],
   "source": [
    "import numpy as np\n",
    "arr1d = np.arange(10)\n",
    "print(\"arr1d:\", arr1d)\n"
   ]
  },
  {
   "cell_type": "markdown",
   "id": "c1e2e2c4",
   "metadata": {},
   "source": [
    "2- Create a 2D array named arr2d with shape (3, 3) filled with ones."
   ]
  },
  {
   "cell_type": "code",
   "execution_count": 198,
   "id": "4b077ce8",
   "metadata": {},
   "outputs": [
    {
     "name": "stdout",
     "output_type": "stream",
     "text": [
      "arr2d:\n",
      " [[1. 1. 1.]\n",
      " [1. 1. 1.]\n",
      " [1. 1. 1.]]\n"
     ]
    }
   ],
   "source": [
    "arr2d = np.ones((3, 3))\n",
    "print(\"arr2d:\\n\", arr2d)\n"
   ]
  },
  {
   "cell_type": "markdown",
   "id": "4d311daf",
   "metadata": {},
   "source": [
    "3- Create a 3x3 array named random_matrix with random floating-point numbers from a standard normal distribution."
   ]
  },
  {
   "cell_type": "code",
   "execution_count": 199,
   "id": "8ff2c4e9",
   "metadata": {},
   "outputs": [
    {
     "name": "stdout",
     "output_type": "stream",
     "text": [
      "random_matrix:\n",
      " [[-0.62087687  1.78916665  0.60438277]\n",
      " [-1.31859903 -0.65513394  0.42316964]\n",
      " [-0.14283571 -0.35324435  0.35326695]]\n"
     ]
    }
   ],
   "source": [
    "random_matrix = np.random.randn(3, 3)\n",
    "print(\"random_matrix:\\n\", random_matrix)\n"
   ]
  },
  {
   "cell_type": "markdown",
   "id": "348f0e42",
   "metadata": {},
   "source": [
    "4- Create an array named even_numbers containing even numbers from 10 to 50 (inclusive)."
   ]
  },
  {
   "cell_type": "code",
   "execution_count": 200,
   "id": "6e36a923",
   "metadata": {},
   "outputs": [
    {
     "name": "stdout",
     "output_type": "stream",
     "text": [
      "even_numbers: [10 12 14 16 18 20 22 24 26 28 30 32 34 36 38 40 42 44 46 48 50]\n"
     ]
    }
   ],
   "source": [
    "even_numbers = np.arange(10, 51, 2)\n",
    "print(\"even_numbers:\", even_numbers)\n"
   ]
  },
  {
   "cell_type": "markdown",
   "id": "083a2a53",
   "metadata": {},
   "source": [
    "5- Create an array named linspace_array containing 7 equally spaced numbers between 0 and 1 (inclusive)."
   ]
  },
  {
   "cell_type": "code",
   "execution_count": 201,
   "id": "fbee0f80",
   "metadata": {},
   "outputs": [
    {
     "name": "stdout",
     "output_type": "stream",
     "text": [
      "linspace_array: [0.         0.16666667 0.33333333 0.5        0.66666667 0.83333333\n",
      " 1.        ]\n"
     ]
    }
   ],
   "source": [
    "linspace_array = np.linspace(0, 1, 7)\n",
    "print(\"linspace_array:\", linspace_array)\n"
   ]
  },
  {
   "cell_type": "markdown",
   "id": "64eb2357",
   "metadata": {},
   "source": [
    "6- Given arr = np.array([[1, 2, 3], [4, 5, 6]]), what is its shape, ndim, and dtype? Print them."
   ]
  },
  {
   "cell_type": "code",
   "execution_count": 202,
   "id": "58719075",
   "metadata": {},
   "outputs": [
    {
     "name": "stdout",
     "output_type": "stream",
     "text": [
      "Shape: (2, 3)\n",
      "Number of dimensions: 2\n",
      "Data type: int64\n"
     ]
    }
   ],
   "source": [
    "arr = np.array([[1, 2, 3], [4, 5, 6]])\n",
    "print(\"Shape:\", arr.shape)\n",
    "print(\"Number of dimensions:\", arr.ndim)\n",
    "print(\"Data type:\", arr.dtype)\n"
   ]
  },
  {
   "cell_type": "markdown",
   "id": "dcbcf3c7",
   "metadata": {},
   "source": [
    "## Part 2: Array Manipulation"
   ]
  },
  {
   "cell_type": "markdown",
   "id": "a97e628f",
   "metadata": {},
   "source": [
    "7- Reshape arr1d (from Q1) into a 2x5 2D array. Name the new array reshaped_arr."
   ]
  },
  {
   "cell_type": "code",
   "execution_count": 203,
   "id": "f7f370aa",
   "metadata": {},
   "outputs": [
    {
     "name": "stdout",
     "output_type": "stream",
     "text": [
      "reshaped_arr:\n",
      " [[0 1 2 3 4]\n",
      " [5 6 7 8 9]]\n"
     ]
    }
   ],
   "source": [
    "reshaped_arr = arr1d.reshape(2, 5)\n",
    "print(\"reshaped_arr:\\n\", reshaped_arr)\n"
   ]
  },
  {
   "cell_type": "markdown",
   "id": "3b7e44f7",
   "metadata": {},
   "source": [
    "8- Transpose reshaped_arr (from Q7). Name the result transposed_arr."
   ]
  },
  {
   "cell_type": "code",
   "execution_count": 204,
   "id": "d6ab01c0",
   "metadata": {},
   "outputs": [
    {
     "name": "stdout",
     "output_type": "stream",
     "text": [
      "transposed_arr:\n",
      " [[0 5]\n",
      " [1 6]\n",
      " [2 7]\n",
      " [3 8]\n",
      " [4 9]]\n"
     ]
    }
   ],
   "source": [
    "transposed_arr = reshaped_arr.T\n",
    "print(\"transposed_arr:\\n\", transposed_arr)\n"
   ]
  },
  {
   "cell_type": "markdown",
   "id": "7694227c",
   "metadata": {},
   "source": [
    "9- Stack two 1D arrays a = np.array([1, 2, 3]) and b = np.array([4, 5, 6]) vertically."
   ]
  },
  {
   "cell_type": "code",
   "execution_count": 205,
   "id": "d2420556",
   "metadata": {},
   "outputs": [
    {
     "name": "stdout",
     "output_type": "stream",
     "text": [
      "Vertically stacked:\n",
      " [[1 2 3]\n",
      " [4 5 6]]\n"
     ]
    }
   ],
   "source": [
    "a = np.array([1, 2, 3])\n",
    "b = np.array([4, 5, 6])\n",
    "stacked_vertical = np.vstack((a, b))\n",
    "print(\"Vertically stacked:\\n\", stacked_vertical)\n"
   ]
  },
  {
   "cell_type": "markdown",
   "id": "8f4ab6a4",
   "metadata": {},
   "source": [
    "10- Stack two 2D arrays m1 = np.array([[1, 2], [3, 4]]) and m2 = np.array([[5, 6], [7, 8]]) horizontally."
   ]
  },
  {
   "cell_type": "code",
   "execution_count": 206,
   "id": "0f10e6cf",
   "metadata": {},
   "outputs": [
    {
     "name": "stdout",
     "output_type": "stream",
     "text": [
      "Horizontally stacked:\n",
      " [[1 2 5 6]\n",
      " [3 4 7 8]]\n"
     ]
    }
   ],
   "source": [
    "m1 = np.array([[1, 2], [3, 4]])\n",
    "m2 = np.array([[5, 6], [7, 8]])\n",
    "stacked_horizontal = np.hstack((m1, m2))\n",
    "print(\"Horizontally stacked:\\n\", stacked_horizontal)\n"
   ]
  },
  {
   "cell_type": "markdown",
   "id": "29224b40",
   "metadata": {},
   "source": [
    "11- Split the array arr_to_split = np.arange(16).reshape(4, 4) horizontally into 2 equal parts. Print both parts."
   ]
  },
  {
   "cell_type": "code",
   "execution_count": 207,
   "id": "637db9b7",
   "metadata": {},
   "outputs": [
    {
     "name": "stdout",
     "output_type": "stream",
     "text": [
      "Left half:\n",
      " [[ 0  1]\n",
      " [ 4  5]\n",
      " [ 8  9]\n",
      " [12 13]]\n",
      "Right half:\n",
      " [[ 2  3]\n",
      " [ 6  7]\n",
      " [10 11]\n",
      " [14 15]]\n"
     ]
    }
   ],
   "source": [
    "arr_to_split = np.arange(16).reshape(4, 4)\n",
    "left_part, right_part = np.hsplit(arr_to_split, 2)\n",
    "print(\"Left half:\\n\", left_part)\n",
    "print(\"Right half:\\n\", right_part)\n"
   ]
  },
  {
   "cell_type": "markdown",
   "id": "e50e409f",
   "metadata": {},
   "source": [
    "12- Split the array arr_to_split (from Q11) vertically at index 2 (i.e., into two parts: first two rows, and last two rows). Print both parts."
   ]
  },
  {
   "cell_type": "code",
   "execution_count": 208,
   "id": "5c1e30b7",
   "metadata": {},
   "outputs": [
    {
     "name": "stdout",
     "output_type": "stream",
     "text": [
      "Top half:\n",
      " [[0 1 2 3]\n",
      " [4 5 6 7]]\n",
      "Bottom half:\n",
      " [[ 8  9 10 11]\n",
      " [12 13 14 15]]\n"
     ]
    }
   ],
   "source": [
    "top_part, bottom_part = np.vsplit(arr_to_split, 2)\n",
    "print(\"Top half:\\n\", top_part)\n",
    "print(\"Bottom half:\\n\", bottom_part)\n"
   ]
  },
  {
   "cell_type": "markdown",
   "id": "bfb0f41f",
   "metadata": {},
   "source": [
    "## Part 3: Indexing, Slicing, and Boolean Indexing"
   ]
  },
  {
   "cell_type": "markdown",
   "id": "aac90906",
   "metadata": {},
   "source": [
    "13- Given data = np.array([[10, 11, 12], [13, 14, 15], [16, 17, 18]]), extract the element at row 1, column 2."
   ]
  },
  {
   "cell_type": "code",
   "execution_count": 209,
   "id": "b2633d3a",
   "metadata": {},
   "outputs": [
    {
     "name": "stdout",
     "output_type": "stream",
     "text": [
      "Element at row 1, col 2: 15\n"
     ]
    }
   ],
   "source": [
    "data = np.array([[10, 11, 12], [13, 14, 15], [16, 17, 18]])\n",
    "print(\"Element at row 1, col 2:\", data[1, 2])\n"
   ]
  },
  {
   "cell_type": "markdown",
   "id": "2ad28bbd",
   "metadata": {},
   "source": [
    "14- From the data array (from Q13), extract the first two rows and all columns."
   ]
  },
  {
   "cell_type": "code",
   "execution_count": 210,
   "id": "76432d6f",
   "metadata": {},
   "outputs": [
    {
     "name": "stdout",
     "output_type": "stream",
     "text": [
      "First two rows:\n",
      " [[10 11 12]\n",
      " [13 14 15]]\n"
     ]
    }
   ],
   "source": [
    "print(\"First two rows:\\n\", data[:2, :])\n"
   ]
  },
  {
   "cell_type": "markdown",
   "id": "bac62d97",
   "metadata": {},
   "source": [
    "15- From the data array (from Q13), extract the elements 11, 15, and 17 using fancy indexing (hint: you'll need to specify rows and columns)."
   ]
  },
  {
   "cell_type": "code",
   "execution_count": 211,
   "id": "0da76677",
   "metadata": {},
   "outputs": [
    {
     "name": "stdout",
     "output_type": "stream",
     "text": [
      "Fancy indexed elements: [11 15 17]\n"
     ]
    }
   ],
   "source": [
    "rows = [0, 1, 2]\n",
    "cols = [1, 2, 1]\n",
    "fancy = data[rows, cols]\n",
    "print(\"Fancy indexed elements:\", fancy)\n"
   ]
  },
  {
   "cell_type": "markdown",
   "id": "167abe64",
   "metadata": {},
   "source": [
    "16- Given scores = np.array([85, 92, 78, 65, 95, 88]), use boolean indexing to find all scores greater than 80."
   ]
  },
  {
   "cell_type": "code",
   "execution_count": 212,
   "id": "c885f374",
   "metadata": {},
   "outputs": [
    {
     "name": "stdout",
     "output_type": "stream",
     "text": [
      "Scores > 80: [85 92 95 88]\n"
     ]
    }
   ],
   "source": [
    "scores = np.array([85, 92, 78, 65, 95, 88])\n",
    "high_scores = scores[scores > 80]\n",
    "print(\"Scores > 80:\", high_scores)\n"
   ]
  },
  {
   "cell_type": "markdown",
   "id": "f9504998",
   "metadata": {},
   "source": [
    "## Part 4: Numerical Operations and Aggregations"
   ]
  },
  {
   "cell_type": "markdown",
   "id": "1c37acbb",
   "metadata": {},
   "source": [
    "17- Perform element-wise multiplication and division."
   ]
  },
  {
   "cell_type": "code",
   "execution_count": 213,
   "id": "005a4466",
   "metadata": {},
   "outputs": [
    {
     "name": "stdout",
     "output_type": "stream",
     "text": [
      "Multiplication: [ 20  80 180]\n",
      "Division: [5. 5. 5.]\n"
     ]
    }
   ],
   "source": [
    "arr_op1 = np.array([10, 20, 30])\n",
    "arr_op2 = np.array([2, 4, 6])\n",
    "print(\"Multiplication:\", arr_op1 * arr_op2)\n",
    "print(\"Division:\", arr_op1 / arr_op2)\n"
   ]
  },
  {
   "cell_type": "markdown",
   "id": "8d2a4ca7",
   "metadata": {},
   "source": [
    "18- Calculate the sum of all elements in the matrix."
   ]
  },
  {
   "cell_type": "code",
   "execution_count": 214,
   "id": "c5970e46",
   "metadata": {},
   "outputs": [
    {
     "name": "stdout",
     "output_type": "stream",
     "text": [
      "Sum of all elements: 45\n"
     ]
    }
   ],
   "source": [
    "matrix = np.array([[1, 2, 3], [4, 5, 6], [7, 8, 9]])\n",
    "total_sum = np.sum(matrix)\n",
    "print(\"Sum of all elements:\", total_sum)\n"
   ]
  },
  {
   "cell_type": "markdown",
   "id": "1cb09f15",
   "metadata": {},
   "source": [
    "19- Calculate the mean of each column in the matrix."
   ]
  },
  {
   "cell_type": "code",
   "execution_count": 215,
   "id": "39bb4253",
   "metadata": {},
   "outputs": [
    {
     "name": "stdout",
     "output_type": "stream",
     "text": [
      "Mean of each column: [4. 5. 6.]\n"
     ]
    }
   ],
   "source": [
    "column_mean = np.mean(matrix, axis=0)\n",
    "print(\"Mean of each column:\", column_mean)\n"
   ]
  },
  {
   "cell_type": "markdown",
   "id": "6a55f863",
   "metadata": {},
   "source": [
    "20- Apply a 10% discount to all prices."
   ]
  },
  {
   "cell_type": "code",
   "execution_count": 216,
   "id": "7d5e70c5",
   "metadata": {},
   "outputs": [
    {
     "name": "stdout",
     "output_type": "stream",
     "text": [
      "Prices after 10% discount: [ 90. 135. 180. 225.]\n"
     ]
    }
   ],
   "source": [
    "price_array = np.array([100, 150, 200, 250])\n",
    "discounted = price_array * (1 - 0.10)\n",
    "print(\"Prices after 10% discount:\", discounted)\n"
   ]
  }
 ],
 "metadata": {
  "kernelspec": {
   "display_name": "Python 3",
   "language": "python",
   "name": "python3"
  },
  "language_info": {
   "codemirror_mode": {
    "name": "ipython",
    "version": 3
   },
   "file_extension": ".py",
   "mimetype": "text/x-python",
   "name": "python",
   "nbconvert_exporter": "python",
   "pygments_lexer": "ipython3",
   "version": "3.13.3"
  }
 },
 "nbformat": 4,
 "nbformat_minor": 5
}
