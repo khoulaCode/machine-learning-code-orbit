{
 "cells": [
  {
   "cell_type": "code",
   "execution_count": 2,
   "id": "1d93de52-41e3-4bfb-a51d-9eaa846e46bd",
   "metadata": {},
   "outputs": [],
   "source": [
    "import numpy as np"
   ]
  },
  {
   "cell_type": "code",
   "execution_count": 2,
   "id": "63795a2a-4988-4d03-ba4e-d1c6caf3d6d7",
   "metadata": {},
   "outputs": [],
   "source": [
    "# Part 1: Array Creation and Properties"
   ]
  },
  {
   "cell_type": "code",
   "execution_count": 3,
   "id": "0ee2d09c-eca9-4d9e-8d02-6f1decd592d0",
   "metadata": {},
   "outputs": [
    {
     "name": "stdout",
     "output_type": "stream",
     "text": [
      "1D array: [0 1 2 3 4 5 6 7 8 9]\n"
     ]
    }
   ],
   "source": [
    "# 1. Create a 1D array named arr1d with integers from 0 to 9.\n",
    "arr1d = np.arange(10)\n",
    "print(\"1D array:\", arr1d)"
   ]
  },
  {
   "cell_type": "code",
   "execution_count": 7,
   "id": "34f55dd1-f980-4d88-ae17-bfe5e60df26d",
   "metadata": {},
   "outputs": [
    {
     "name": "stdout",
     "output_type": "stream",
     "text": [
      "2D array: \n",
      " [[1. 1. 1.]\n",
      " [1. 1. 1.]\n",
      " [1. 1. 1.]]\n"
     ]
    }
   ],
   "source": [
    "# 2. Create a 2D array named arr2d with shape (3, 3) filled with ones. \n",
    "arr2d = np.ones ((3,3))\n",
    "print(\"2D array: \\n\", arr2d)"
   ]
  },
  {
   "cell_type": "code",
   "execution_count": 8,
   "id": "bc66fd8d-fc80-43db-8b0d-e43df82de0b7",
   "metadata": {},
   "outputs": [
    {
     "name": "stdout",
     "output_type": "stream",
     "text": [
      "3x3 array: \n",
      " [[-1.01671936  0.41232577  2.46714391]\n",
      " [-0.96087737 -0.62143034  0.81780207]\n",
      " [ 0.24087094 -0.46937424  0.2898255 ]]\n"
     ]
    }
   ],
   "source": [
    "# 3. Create a 3x3 array named random_matrix with random floating-point numbers from a standard normal distribution.\n",
    "random_matrix = np.random.randn(3, 3)\n",
    "print(\"3x3 array: \\n\",random_matrix ) "
   ]
  },
  {
   "cell_type": "code",
   "execution_count": 9,
   "id": "11ee0cb6-eeeb-4cf7-9f74-b5d8e3fc4d91",
   "metadata": {},
   "outputs": [
    {
     "name": "stdout",
     "output_type": "stream",
     "text": [
      "even numbers from 10 to 50: \n",
      " [10 12 14 16 18 20 22 24 26 28 30 32 34 36 38 40 42 44 46 48 50]\n"
     ]
    }
   ],
   "source": [
    "# 4. Create an array named even_numbers containing even numbers from 10 to 50 (inclusive).\n",
    "even_numbers= np.arange(10, 51, 2)\n",
    "print(\"even numbers from 10 to 50: \\n\", even_numbers)"
   ]
  },
  {
   "cell_type": "code",
   "execution_count": 10,
   "id": "33142c1e-df8c-42b1-8da2-6faa15960fa2",
   "metadata": {},
   "outputs": [
    {
     "name": "stdout",
     "output_type": "stream",
     "text": [
      "7 equally spaced numbers: \n",
      " [0.         0.16666667 0.33333333 0.5        0.66666667 0.83333333\n",
      " 1.        ]\n"
     ]
    }
   ],
   "source": [
    "# 5. Create an array named linspace_array containing 7 equally spaced numbers between 0 and 1 (inclusive).\n",
    "linspace_array= np.linspace(0,1,7)\n",
    "print(\"7 equally spaced numbers: \\n\", linspace_array)"
   ]
  },
  {
   "cell_type": "code",
   "execution_count": 12,
   "id": "4a44dd65-bb9b-4bda-93a0-fa2d160e1800",
   "metadata": {},
   "outputs": [
    {
     "name": "stdout",
     "output_type": "stream",
     "text": [
      "shape:  (2, 3)\n",
      "ndim:  2\n",
      "dtype:  int64\n"
     ]
    }
   ],
   "source": [
    "# 6. Given arr = np.array([[1, 2, 3], [4, 5, 6]]), what is its shape, ndim, and dtype? Print them.\n",
    "arr = np.array([[1, 2, 3], [4, 5, 6]])\n",
    "print(\"shape: \", arr.shape)\n",
    "print(\"ndim: \", arr.ndim)\n",
    "print(\"dtype: \", arr.dtype)"
   ]
  },
  {
   "cell_type": "code",
   "execution_count": 13,
   "id": "e0b44242-c13d-4fb1-bef9-da6bbc6745d1",
   "metadata": {},
   "outputs": [],
   "source": [
    "# Part 2: Array Manipulation"
   ]
  },
  {
   "cell_type": "code",
   "execution_count": 16,
   "id": "06b7f5e7-e178-42a6-bdf4-5038b51594f0",
   "metadata": {},
   "outputs": [
    {
     "name": "stdout",
     "output_type": "stream",
     "text": [
      "2x5 2D array: \n",
      " [[0 1 2 3 4]\n",
      " [5 6 7 8 9]]\n"
     ]
    }
   ],
   "source": [
    "# 1. Reshape arr1d (from Q1) into a 2x5 2D array. Name the new array reshaped_arr.\n",
    "arr1d= np.arange(10)\n",
    "reshaped_arr= arr1d.reshape(2,5)\n",
    "print(\"2x5 2D array: \\n\", reshaped_arr)"
   ]
  },
  {
   "cell_type": "code",
   "execution_count": 17,
   "id": "855c7e5c-a495-43ec-a42c-58e3fc3f7bd7",
   "metadata": {},
   "outputs": [
    {
     "name": "stdout",
     "output_type": "stream",
     "text": [
      "Transpose array: \n",
      " [[0 5]\n",
      " [1 6]\n",
      " [2 7]\n",
      " [3 8]\n",
      " [4 9]]\n"
     ]
    }
   ],
   "source": [
    "# 2. Transpose reshaped_arr (from part 2 Q1). Name the result transposed_arr.\n",
    "arr1d= np.arange(10)\n",
    "reshaped_arr= arr1d.reshape(2,5)\n",
    "transposed_arr= reshaped_arr.T\n",
    "print(\"Transpose array: \\n\", transposed_arr)"
   ]
  },
  {
   "cell_type": "code",
   "execution_count": 20,
   "id": "7809e490-966c-4d79-81fe-bd4d2733d6e1",
   "metadata": {},
   "outputs": [
    {
     "name": "stdout",
     "output_type": "stream",
     "text": [
      "Vertically stacked array: \n",
      " [[1 2 3]\n",
      " [4 5 6]]\n"
     ]
    }
   ],
   "source": [
    "# 3. Stack two 1D arrays a = np.array([1, 2, 3]) and b = np.array([4, 5, 6]) vertically.\n",
    "a = np.array([1, 2, 3])\n",
    "b = np.array([4, 5, 6])\n",
    "stacked= np.vstack((a, b))\n",
    "print(\"Vertically stacked array: \\n\", stacked)"
   ]
  },
  {
   "cell_type": "code",
   "execution_count": 19,
   "id": "458e9f56-f96c-4e33-b2bc-6a2c92e40604",
   "metadata": {},
   "outputs": [
    {
     "name": "stdout",
     "output_type": "stream",
     "text": [
      "Horizontally stacked array:\n",
      " [[1 2 5 6]\n",
      " [3 4 7 8]]\n"
     ]
    }
   ],
   "source": [
    "# 4. Stack two 2D arrays m1 = np.array([[1, 2], [3, 4]]) and m2 = np.array([[5, 6], [7, 8]]) horizontally.\n",
    "m1 = np.array([[1, 2], [3, 4]]) \n",
    "m2 = np.array([[5, 6], [7, 8]])\n",
    "stacked= np.hstack((m1, m2))\n",
    "print(\"Horizontally stacked array:\\n\", stacked)"
   ]
  },
  {
   "cell_type": "code",
   "execution_count": 21,
   "id": "090a2032-015b-4942-a17b-44821c811ce8",
   "metadata": {},
   "outputs": [
    {
     "name": "stdout",
     "output_type": "stream",
     "text": [
      "Left part:\n",
      " [array([[ 0,  1],\n",
      "       [ 4,  5],\n",
      "       [ 8,  9],\n",
      "       [12, 13]]), array([[ 2,  3],\n",
      "       [ 6,  7],\n",
      "       [10, 11],\n",
      "       [14, 15]])]\n",
      "Right part:\n",
      " [array([[ 0,  1],\n",
      "       [ 4,  5],\n",
      "       [ 8,  9],\n",
      "       [12, 13]]), array([[ 2,  3],\n",
      "       [ 6,  7],\n",
      "       [10, 11],\n",
      "       [14, 15]])]\n"
     ]
    }
   ],
   "source": [
    "# 5. Split the array arr_to_split = np.arange(16).reshape(4, 4) horizontally into 2 equal parts. Print both parts.\n",
    "arr_to_split = np.arange(16).reshape(4, 4)\n",
    "left_part= np.hsplit(arr_to_split, 2)\n",
    "right_part= np.hsplit(arr_to_split, 2)\n",
    "print(\"Left part:\\n\", left_part)\n",
    "print(\"Right part:\\n\", right_part)"
   ]
  },
  {
   "cell_type": "code",
   "execution_count": 22,
   "id": "2e732d5e-5d3c-402c-9195-55610937133c",
   "metadata": {},
   "outputs": [
    {
     "name": "stdout",
     "output_type": "stream",
     "text": [
      "Top part:\n",
      " [array([[0, 1, 2, 3],\n",
      "       [4, 5, 6, 7]]), array([[ 8,  9, 10, 11],\n",
      "       [12, 13, 14, 15]])]\n",
      "Bottom part:\n",
      " [array([[0, 1, 2, 3],\n",
      "       [4, 5, 6, 7]]), array([[ 8,  9, 10, 11],\n",
      "       [12, 13, 14, 15]])]\n"
     ]
    }
   ],
   "source": [
    "# 6. Split the array arr_to_split (from part 2 Q5 ) vertically at index 2 (i.e., into two parts: first two rows, and last two rows). Print both parts.\n",
    "arr_to_split = np.arange(16).reshape(4, 4)\n",
    "top_part = np.vsplit(arr_to_split, [2])\n",
    "bottom_part = np.vsplit(arr_to_split, [2])\n",
    "print(\"Top part:\\n\", top_part)\n",
    "print(\"Bottom part:\\n\", bottom_part)"
   ]
  },
  {
   "cell_type": "code",
   "execution_count": 23,
   "id": "b349865b-b96c-457a-848a-c227006a7e52",
   "metadata": {},
   "outputs": [],
   "source": [
    "# Part 3: Indexing, Slicing, and Boolean Indexing"
   ]
  },
  {
   "cell_type": "code",
   "execution_count": 24,
   "id": "429322c0-2359-44dd-81cd-26bbbe7a1503",
   "metadata": {},
   "outputs": [
    {
     "name": "stdout",
     "output_type": "stream",
     "text": [
      "element at row 1, column 2:  15\n"
     ]
    }
   ],
   "source": [
    "# 1. Given data = np.array([[10, 11, 12], [13, 14, 15], [16, 17, 18]]), extract the element at row 1, column 2.\n",
    "data = np.array([[10, 11, 12], [13, 14, 15], [16, 17, 18]])\n",
    "element = data[1, 2]\n",
    "print(\"element at row 1, column 2: \", element)"
   ]
  },
  {
   "cell_type": "code",
   "execution_count": 25,
   "id": "a036e889-ecf0-45d1-9eb7-0897fced356d",
   "metadata": {},
   "outputs": [
    {
     "name": "stdout",
     "output_type": "stream",
     "text": [
      "the first two rows and all columns: \n",
      " [[10 11 12]\n",
      " [13 14 15]]\n"
     ]
    }
   ],
   "source": [
    "# 2. From the data array (from part 3 Q1), extract the first two rows and all columns.\n",
    "data = np.array([[10, 11, 12], [13, 14, 15], [16, 17, 18]])\n",
    "extracted_data= data[:2, :]\n",
    "print(\"the first two rows and all columns: \\n\", extracted_data)"
   ]
  },
  {
   "cell_type": "code",
   "execution_count": 26,
   "id": "2e440a1c-8f8b-4f63-8634-7a7dd937e66d",
   "metadata": {},
   "outputs": [
    {
     "name": "stdout",
     "output_type": "stream",
     "text": [
      "Extracted elements using fancy indexing: [11 15 17]\n"
     ]
    }
   ],
   "source": [
    "# 3. From the data array (from part 3 Q1), extract the elements 11, 15, and 17 using fancy indexing (hint: you'll need to specify rows and columns).\n",
    "data = np.array([[10, 11, 12], [13, 14, 15], [16, 17, 18]])\n",
    "rows = [0, 1, 2]\n",
    "cols = [1, 2, 1]\n",
    "extracted_elements = data[rows, cols]\n",
    "print(\"Extracted elements using fancy indexing:\", extracted_elements)"
   ]
  },
  {
   "cell_type": "code",
   "execution_count": 27,
   "id": "99f1725e-88cc-4ef3-a537-63e4bde54d93",
   "metadata": {},
   "outputs": [
    {
     "name": "stdout",
     "output_type": "stream",
     "text": [
      "Scores greater than 80: [85 92 95 88]\n"
     ]
    }
   ],
   "source": [
    "# 4. Given scores = np.array([85, 92, 78, 65, 95, 88]), use boolean indexing to find all scores greater than 80.\n",
    "scores = np.array([85, 92, 78, 65, 95, 88])\n",
    "high_scores = scores[scores > 80]\n",
    "print(\"Scores greater than 80:\", high_scores)"
   ]
  },
  {
   "cell_type": "code",
   "execution_count": 28,
   "id": "3b339c22-614f-4364-86d2-9035d33dfb32",
   "metadata": {},
   "outputs": [],
   "source": [
    "# Part 4: Numerical Operations and Aggregations"
   ]
  },
  {
   "cell_type": "code",
   "execution_count": 29,
   "id": "434b3df4-5922-4b7b-8304-f1d9bea8793f",
   "metadata": {},
   "outputs": [
    {
     "name": "stdout",
     "output_type": "stream",
     "text": [
      "Element-wise multiplication: [ 20  80 180]\n",
      "Element-wise division: [5. 5. 5.]\n"
     ]
    }
   ],
   "source": [
    "# 1. Given arr_op1 = np.array([10, 20, 30]) and arr_op2 = np.array([2, 4, 6]), perform element-wise multiplication and division (arr_op1 / arr_op2).\n",
    "arr_op1 = np.array([10, 20, 30])\n",
    "arr_op2 = np.array([2, 4, 6])\n",
    "mul_result = arr_op1 * arr_op2\n",
    "div_result = arr_op1 / arr_op2\n",
    "print(\"Element-wise multiplication:\", mul_result)\n",
    "print(\"Element-wise division:\", div_result)"
   ]
  },
  {
   "cell_type": "code",
   "execution_count": 3,
   "id": "2821ef11-4765-4d59-ae6b-d74d3e96d09d",
   "metadata": {},
   "outputs": [
    {
     "name": "stdout",
     "output_type": "stream",
     "text": [
      "Sum of all elements in the matrix: 45\n"
     ]
    }
   ],
   "source": [
    "# 2. Given matrix = np.array([[1, 2, 3], [4, 5, 6], [7, 8, 9]]), calculate the sum of all elements in the matrix.\n",
    "matrix = np.array([[1, 2, 3], [4, 5, 6], [7, 8, 9]])\n",
    "sum = matrix.sum()\n",
    "print(\"Sum of all elements in the matrix:\", sum)"
   ]
  },
  {
   "cell_type": "code",
   "execution_count": 4,
   "id": "50d37e07-9542-475f-bf12-0fb08021e9f8",
   "metadata": {},
   "outputs": [
    {
     "name": "stdout",
     "output_type": "stream",
     "text": [
      "Mean of each column: [4. 5. 6.]\n"
     ]
    }
   ],
   "source": [
    "# 3. From the matrix (from part 4 Q2), calculate the mean of each column.\n",
    "matrix = np.array([[1, 2, 3], [4, 5, 6], [7, 8, 9]])\n",
    "column_means = matrix.mean(axis=0)\n",
    "print(\"Mean of each column:\", column_means)"
   ]
  },
  {
   "cell_type": "code",
   "execution_count": 6,
   "id": "30f2fb51-0e8d-4581-82a2-919f7222b0b8",
   "metadata": {},
   "outputs": [
    {
     "name": "stdout",
     "output_type": "stream",
     "text": [
      "Discounted prices: [ 90. 135. 180. 225.]\n"
     ]
    }
   ],
   "source": [
    "# 4. Given price_array = np.array([100, 150, 200, 250]) and discount_percentage = 0.10, apply a 10% discount to all prices using broadcasting.\n",
    "price_array = np.array([100, 150, 200, 250])\n",
    "discount_percentage = 0.10\n",
    "discounted_prices = price_array * (1 - discount_percentage)\n",
    "print(\"Discounted prices:\", discounted_prices)"
   ]
  },
  {
   "cell_type": "code",
   "execution_count": null,
   "id": "4ae11f42-2c36-4979-93cf-54db80e4789e",
   "metadata": {},
   "outputs": [],
   "source": []
  }
 ],
 "metadata": {
  "kernelspec": {
   "display_name": "Python 3 (ipykernel)",
   "language": "python",
   "name": "python3"
  },
  "language_info": {
   "codemirror_mode": {
    "name": "ipython",
    "version": 3
   },
   "file_extension": ".py",
   "mimetype": "text/x-python",
   "name": "python",
   "nbconvert_exporter": "python",
   "pygments_lexer": "ipython3",
   "version": "3.13.3"
  }
 },
 "nbformat": 4,
 "nbformat_minor": 5
}
