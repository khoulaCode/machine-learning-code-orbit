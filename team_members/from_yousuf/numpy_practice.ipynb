{
 "cells": [
  {
   "cell_type": "code",
   "execution_count": 1,
   "id": "2484fecf",
   "metadata": {},
   "outputs": [],
   "source": [
    "import numpy as np"
   ]
  },
  {
   "cell_type": "markdown",
   "id": "240e2631",
   "metadata": {},
   "source": [
    "Array Creation and Properties"
   ]
  },
  {
   "cell_type": "code",
   "execution_count": 2,
   "id": "e3469655",
   "metadata": {},
   "outputs": [
    {
     "name": "stdout",
     "output_type": "stream",
     "text": [
      "[0 1 2 3 4 5 6 7 8 9]\n"
     ]
    }
   ],
   "source": [
    "arr1d = np.array([0, 1, 2, 3, 4, 5, 6, 7, 8, 9])\n",
    "print(arr1d)"
   ]
  },
  {
   "cell_type": "code",
   "execution_count": 3,
   "id": "3eda0b7f",
   "metadata": {},
   "outputs": [
    {
     "name": "stdout",
     "output_type": "stream",
     "text": [
      "[[1. 1. 1.]\n",
      " [1. 1. 1.]\n",
      " [1. 1. 1.]]\n"
     ]
    }
   ],
   "source": [
    "arr2d = np.ones((3, 3))\n",
    "print(arr2d)"
   ]
  },
  {
   "cell_type": "code",
   "execution_count": 4,
   "id": "a0f482c4",
   "metadata": {},
   "outputs": [
    {
     "name": "stdout",
     "output_type": "stream",
     "text": [
      "[[ 0.93678355  0.05984774  0.18266929]\n",
      " [ 0.46135855 -0.30235422 -0.26067487]\n",
      " [ 1.05825534  1.45148601 -0.22491535]]\n"
     ]
    }
   ],
   "source": [
    "random_matrix = np.random.randn(3, 3)\n",
    "print(random_matrix)"
   ]
  },
  {
   "cell_type": "code",
   "execution_count": 5,
   "id": "c5d6f5d6",
   "metadata": {},
   "outputs": [
    {
     "name": "stdout",
     "output_type": "stream",
     "text": [
      "[10 12 14 16 18]\n"
     ]
    }
   ],
   "source": [
    "evennumbers = np.arange(10, 20, 2)\n",
    "print(evennumbers)"
   ]
  },
  {
   "cell_type": "code",
   "execution_count": 6,
   "id": "2e64ec19",
   "metadata": {},
   "outputs": [
    {
     "name": "stdout",
     "output_type": "stream",
     "text": [
      "[0.         0.16666667 0.33333333 0.5        0.66666667 0.83333333\n",
      " 1.        ]\n"
     ]
    }
   ],
   "source": [
    "linespace_array = np.linspace(0, 1, 7)\n",
    "print(linespace_array)"
   ]
  },
  {
   "cell_type": "code",
   "execution_count": 7,
   "id": "059fc6da",
   "metadata": {},
   "outputs": [
    {
     "name": "stdout",
     "output_type": "stream",
     "text": [
      "[[1 2 3]\n",
      " [4 5 6]]\n",
      "(2, 3)\n",
      "int64\n"
     ]
    }
   ],
   "source": [
    "arr = np.array([[1, 2, 3], [4, 5, 6]])\n",
    "print(arr)\n",
    "shape = arr.shape\n",
    "print(shape)\n",
    "dtype = arr.dtype\n",
    "print(dtype)"
   ]
  },
  {
   "cell_type": "markdown",
   "id": "72d4dbb0",
   "metadata": {},
   "source": [
    "Array Manipulation"
   ]
  },
  {
   "cell_type": "code",
   "execution_count": 8,
   "id": "c7f259d1",
   "metadata": {},
   "outputs": [
    {
     "name": "stdout",
     "output_type": "stream",
     "text": [
      "[[0 1 2 3 4]\n",
      " [5 6 7 8 9]]\n"
     ]
    }
   ],
   "source": [
    "reshape = arr1d.reshape(2, 5)\n",
    "print(reshape)"
   ]
  },
  {
   "cell_type": "code",
   "execution_count": 9,
   "id": "372a937e",
   "metadata": {},
   "outputs": [
    {
     "name": "stdout",
     "output_type": "stream",
     "text": [
      "[[0 5]\n",
      " [1 6]\n",
      " [2 7]\n",
      " [3 8]\n",
      " [4 9]]\n"
     ]
    }
   ],
   "source": [
    "transpose = reshape.T\n",
    "print(transpose)    "
   ]
  },
  {
   "cell_type": "code",
   "execution_count": 10,
   "id": "add1bff9",
   "metadata": {},
   "outputs": [
    {
     "name": "stdout",
     "output_type": "stream",
     "text": [
      "[[1 2 3]\n",
      " [4 5 6]]\n"
     ]
    }
   ],
   "source": [
    "a = np.array([1, 2, 3]) \n",
    "b = np.array([4, 5, 6])\n",
    "stake = np.stack((a, b), axis=0)\n",
    "print(stake)"
   ]
  },
  {
   "cell_type": "code",
   "execution_count": 11,
   "id": "3b68bb4e",
   "metadata": {},
   "outputs": [
    {
     "name": "stdout",
     "output_type": "stream",
     "text": [
      "[[1 2 5 6]\n",
      " [3 4 7 8]]\n"
     ]
    }
   ],
   "source": [
    "m1 = np.array([[1, 2], [3, 4]]) \n",
    "m2 = np.array([[5, 6], [7, 8]])\n",
    "hstake = np.hstack((m1, m2))\n",
    "print(hstake)"
   ]
  },
  {
   "cell_type": "code",
   "execution_count": 14,
   "id": "2fec2417",
   "metadata": {},
   "outputs": [
    {
     "name": "stdout",
     "output_type": "stream",
     "text": [
      "[[ 0  1]\n",
      " [ 4  5]\n",
      " [ 8  9]\n",
      " [12 13]]\n",
      "[[ 2  3]\n",
      " [ 6  7]\n",
      " [10 11]\n",
      " [14 15]]\n"
     ]
    }
   ],
   "source": [
    "arr_to_split = np.arange(16).reshape(4, 4)\n",
    "part1, part2 = np.hsplit(arr_to_split, 2,)\n",
    "print(part1)\n",
    "print(part2)"
   ]
  },
  {
   "cell_type": "code",
   "execution_count": 13,
   "id": "f0311618",
   "metadata": {},
   "outputs": [
    {
     "name": "stdout",
     "output_type": "stream",
     "text": [
      "[[0 1 2 3]\n",
      " [4 5 6 7]]\n",
      "[[ 8  9 10 11]\n",
      " [12 13 14 15]]\n"
     ]
    }
   ],
   "source": [
    "part1, part2 = np.vsplit(arr_to_split, 2,)\n",
    "print(part1)\n",
    "print(part2)"
   ]
  },
  {
   "cell_type": "markdown",
   "id": "7d808dbf",
   "metadata": {},
   "source": [
    " Indexing, Slicing, and Boolean Indexing"
   ]
  },
  {
   "cell_type": "code",
   "execution_count": 16,
   "id": "4a444cc9",
   "metadata": {},
   "outputs": [
    {
     "name": "stdout",
     "output_type": "stream",
     "text": [
      "11\n"
     ]
    }
   ],
   "source": [
    "data = np.array([[10, 11, 12], [13, 14, 15], [16, 17, 18]])\n",
    "element = data[0, 1]\n",
    "print(element)"
   ]
  },
  {
   "cell_type": "code",
   "execution_count": 17,
   "id": "ecf4035e",
   "metadata": {},
   "outputs": [
    {
     "name": "stdout",
     "output_type": "stream",
     "text": [
      "[[10 11 12]\n",
      " [13 14 15]]\n"
     ]
    }
   ],
   "source": [
    "element2 = data[:2,:]\n",
    "print(element2)"
   ]
  },
  {
   "cell_type": "code",
   "execution_count": 18,
   "id": "a289f3a7",
   "metadata": {},
   "outputs": [
    {
     "name": "stdout",
     "output_type": "stream",
     "text": [
      "[11 15 17]\n"
     ]
    }
   ],
   "source": [
    "element3 = data[(0, 1, 2),(1, 2, 1)]\n",
    "print(element3)"
   ]
  },
  {
   "cell_type": "code",
   "execution_count": 19,
   "id": "aaafa488",
   "metadata": {},
   "outputs": [
    {
     "name": "stdout",
     "output_type": "stream",
     "text": [
      "[85 92 95 88]\n"
     ]
    }
   ],
   "source": [
    "scores = np.array([85, 92, 78, 65, 95, 88])\n",
    "high_scores = scores[scores > 80]\n",
    "print(high_scores)"
   ]
  },
  {
   "cell_type": "markdown",
   "id": "033e813c",
   "metadata": {},
   "source": [
    "Numerical Operations and Aggregations"
   ]
  },
  {
   "cell_type": "code",
   "execution_count": 20,
   "id": "37d958a0",
   "metadata": {},
   "outputs": [
    {
     "name": "stdout",
     "output_type": "stream",
     "text": [
      "[ 20  80 180]\n",
      "[5. 5. 5.]\n"
     ]
    }
   ],
   "source": [
    "arr_op1 = np.array([10, 20, 30]) \n",
    "arr_op2 = np.array([2, 4, 6])\n",
    "arr_multiply = arr_op1 * arr_op2\n",
    "arr_divide = arr_op1 / arr_op2\n",
    "print(arr_multiply)    \n",
    "print(arr_divide)"
   ]
  },
  {
   "cell_type": "code",
   "execution_count": 21,
   "id": "6db9743d",
   "metadata": {},
   "outputs": [
    {
     "name": "stdout",
     "output_type": "stream",
     "text": [
      "45\n"
     ]
    }
   ],
   "source": [
    "matrix = np.array([[1, 2, 3], [4, 5, 6], [7, 8, 9]])\n",
    "matrix_sum = np.sum(matrix)\n",
    "print(matrix_sum)   "
   ]
  },
  {
   "cell_type": "code",
   "execution_count": 23,
   "id": "cb0118d6",
   "metadata": {},
   "outputs": [
    {
     "name": "stdout",
     "output_type": "stream",
     "text": [
      "[4. 5. 6.]\n"
     ]
    }
   ],
   "source": [
    "mean = np.mean(matrix, axis=0)\n",
    "print(mean)"
   ]
  },
  {
   "cell_type": "code",
   "execution_count": 24,
   "id": "af5a9334",
   "metadata": {},
   "outputs": [
    {
     "name": "stdout",
     "output_type": "stream",
     "text": [
      "[ 90. 135. 180. 225.]\n"
     ]
    }
   ],
   "source": [
    "price_array = np.array([100, 150, 200, 250])\n",
    "discount = 0.1\n",
    "discount = price_array * (1 - discount)\n",
    "print(discount)"
   ]
  }
 ],
 "metadata": {
  "kernelspec": {
   "display_name": "Python 3",
   "language": "python",
   "name": "python3"
  },
  "language_info": {
   "codemirror_mode": {
    "name": "ipython",
    "version": 3
   },
   "file_extension": ".py",
   "mimetype": "text/x-python",
   "name": "python",
   "nbconvert_exporter": "python",
   "pygments_lexer": "ipython3",
   "version": "3.13.5"
  }
 },
 "nbformat": 4,
 "nbformat_minor": 5
}
