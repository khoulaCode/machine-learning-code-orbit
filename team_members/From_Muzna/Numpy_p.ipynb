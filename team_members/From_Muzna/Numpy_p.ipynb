{
 "cells": [
  {
   "cell_type": "code",
   "execution_count": 1,
   "id": "9eba9a94-3443-42f7-b66e-dc461af83183",
   "metadata": {},
   "outputs": [],
   "source": [
    "import numpy as np"
   ]
  },
  {
   "cell_type": "markdown",
   "id": "4e35005a-f462-40b6-ad01-d0835bb5de7c",
   "metadata": {},
   "source": [
    "# Part 1: Array Creation and Properties"
   ]
  },
  {
   "cell_type": "markdown",
   "id": "beb0cfc9-1fd2-4e32-a1fc-9d998437a6e9",
   "metadata": {},
   "source": [
    "### 1.Create a 1D array named arr1d with integers from 0 to 9."
   ]
  },
  {
   "cell_type": "code",
   "execution_count": 3,
   "id": "58522aa6-672e-4988-9c6e-5396c0ff8c67",
   "metadata": {},
   "outputs": [
    {
     "data": {
      "text/plain": [
       "array([0, 1, 2, 3, 4, 5, 6, 7, 8, 9])"
      ]
     },
     "execution_count": 3,
     "metadata": {},
     "output_type": "execute_result"
    }
   ],
   "source": [
    "arr1d=np.arange(0,10)\n",
    "arr1d"
   ]
  },
  {
   "cell_type": "markdown",
   "id": "29577796-87b0-4252-91b3-e472c6a2197c",
   "metadata": {},
   "source": [
    "### 2.Create a 2D array named arr2d with shape (3, 3) filled with ones."
   ]
  },
  {
   "cell_type": "code",
   "execution_count": 4,
   "id": "09ee8052-8da6-42cf-80d7-5038ab603167",
   "metadata": {},
   "outputs": [
    {
     "data": {
      "text/plain": [
       "array([[1., 1., 1.],\n",
       "       [1., 1., 1.],\n",
       "       [1., 1., 1.]])"
      ]
     },
     "execution_count": 4,
     "metadata": {},
     "output_type": "execute_result"
    }
   ],
   "source": [
    "arr2d=np.ones((3,3))\n",
    "arr2d"
   ]
  },
  {
   "cell_type": "markdown",
   "id": "f2c6a9c5-5197-4b61-b616-33e0f87c417e",
   "metadata": {},
   "source": [
    "### 3.Create a 3x3 array named random_matrix with random floating-point numbers from a standard normal distribution."
   ]
  },
  {
   "cell_type": "code",
   "execution_count": 7,
   "id": "c6629ea3-63ab-476a-842d-c9c559c67e51",
   "metadata": {},
   "outputs": [
    {
     "data": {
      "text/plain": [
       "array([[ 2.33926385, -1.35138099,  0.4919155 ],\n",
       "       [-1.09971363, -0.04752665, -0.29635518],\n",
       "       [ 0.26198372,  1.88191134,  0.98175359]])"
      ]
     },
     "execution_count": 7,
     "metadata": {},
     "output_type": "execute_result"
    }
   ],
   "source": [
    " random_matrix=np.random.randn(3,3)\n",
    " random_matrix"
   ]
  },
  {
   "cell_type": "markdown",
   "id": "2c4abe90-0035-49c6-a678-e3b378deed8f",
   "metadata": {},
   "source": [
    "### 4.Create an array named even_numbers containing even numbers from 10 to 50 (inclusive)."
   ]
  },
  {
   "cell_type": "code",
   "execution_count": 8,
   "id": "c3053eff-1744-48a2-87b6-3073f5a21226",
   "metadata": {},
   "outputs": [
    {
     "data": {
      "text/plain": [
       "array([10, 12, 14, 16, 18, 20, 22, 24, 26, 28, 30, 32, 34, 36, 38, 40, 42,\n",
       "       44, 46, 48, 50])"
      ]
     },
     "execution_count": 8,
     "metadata": {},
     "output_type": "execute_result"
    }
   ],
   "source": [
    "even_numbers=np.arange(10,51,2)\n",
    "even_numbers"
   ]
  },
  {
   "cell_type": "markdown",
   "id": "bd432b4c-1eee-4fda-b68b-42c3704cca65",
   "metadata": {},
   "source": [
    "### 5.Create an array named linspace_array containing 7 equally spaced numbers between 0 and 1 (inclusive)."
   ]
  },
  {
   "cell_type": "code",
   "execution_count": 10,
   "id": "b09ce580-04bb-43fd-b872-4406f649241c",
   "metadata": {},
   "outputs": [
    {
     "data": {
      "text/plain": [
       "array([0.        , 0.16666667, 0.33333333, 0.5       , 0.66666667,\n",
       "       0.83333333, 1.        ])"
      ]
     },
     "execution_count": 10,
     "metadata": {},
     "output_type": "execute_result"
    }
   ],
   "source": [
    "linspace_array=np.linspace(0,1,7)\n",
    "linspace_array"
   ]
  },
  {
   "cell_type": "markdown",
   "id": "ced2a1a2-821e-4659-8a97-6efc25879c69",
   "metadata": {},
   "source": [
    "### 6.Given arr = np.array([[1, 2, 3], [4, 5, 6]]), what is its shape, ndim, and dtype? Print them."
   ]
  },
  {
   "cell_type": "code",
   "execution_count": 27,
   "id": "478417da-9127-4469-a3af-a2ea08fbe899",
   "metadata": {},
   "outputs": [
    {
     "name": "stdout",
     "output_type": "stream",
     "text": [
      "<class 'numpy.ndarray'>\n",
      "int64\n",
      "2\n",
      "(2, 3)\n",
      "[[1 2 3]\n",
      " [4 5 6]]\n"
     ]
    }
   ],
   "source": [
    "arr=np.array([[1, 2, 3],[4, 5, 6]])\n",
    "print(type(arr)) # Type of the object\n",
    "print(arr.dtype)# Data type of elements\n",
    "print(arr.ndim)  # Number of dimensions\n",
    "print(arr.shape) # Shape (rows, columns)\n",
    "print(arr)"
   ]
  },
  {
   "cell_type": "markdown",
   "id": "f242cda9-9b41-428e-ab28-3b8f99a37ca1",
   "metadata": {},
   "source": [
    "# Part 2: Array Manipulation"
   ]
  },
  {
   "cell_type": "markdown",
   "id": "f8d76529-dfcc-4748-8d78-3f18bcce8ca6",
   "metadata": {},
   "source": [
    "### 1.Reshape arr1d (from Q1) into a 2x5 2D array. Name the new array reshaped_arr."
   ]
  },
  {
   "cell_type": "code",
   "execution_count": 30,
   "id": "3cc97250-9fe7-4313-aa3a-dd84470ce815",
   "metadata": {},
   "outputs": [
    {
     "data": {
      "text/plain": [
       "array([[0, 1, 2, 3, 4],\n",
       "       [5, 6, 7, 8, 9]])"
      ]
     },
     "execution_count": 30,
     "metadata": {},
     "output_type": "execute_result"
    }
   ],
   "source": [
    "reshaped_arr=arr1d.reshape((2,5))\n",
    "reshaped_arr"
   ]
  },
  {
   "cell_type": "markdown",
   "id": "d67df616-e91f-4af0-843f-054b9f31d4a7",
   "metadata": {},
   "source": [
    "### Transpose reshaped_arr (from Q7). Name the result transposed_arr."
   ]
  },
  {
   "cell_type": "code",
   "execution_count": 32,
   "id": "9a3baf74-b0a8-4743-b176-ad530aec91af",
   "metadata": {},
   "outputs": [
    {
     "data": {
      "text/plain": [
       "array([[0, 5],\n",
       "       [1, 6],\n",
       "       [2, 7],\n",
       "       [3, 8],\n",
       "       [4, 9]])"
      ]
     },
     "execution_count": 32,
     "metadata": {},
     "output_type": "execute_result"
    }
   ],
   "source": [
    "reshaped_arr.T"
   ]
  },
  {
   "cell_type": "markdown",
   "id": "1b14a5f6-9916-4eeb-974b-263041d418c2",
   "metadata": {},
   "source": [
    "### Stack two 1D arrays a = np.array([1, 2, 3]) and b = np.array([4, 5, 6]) vertically."
   ]
  },
  {
   "cell_type": "code",
   "execution_count": 33,
   "id": "96977c18-a8b1-4063-b3ef-cf68887e9af8",
   "metadata": {},
   "outputs": [
    {
     "name": "stdout",
     "output_type": "stream",
     "text": [
      "[[1 2 3]\n",
      " [4 5 6]]\n"
     ]
    }
   ],
   "source": [
    "a = np.array([1, 2, 3])\n",
    "b = np.array([4, 5, 6])\n",
    "print(np.vstack((a,b)))"
   ]
  },
  {
   "cell_type": "markdown",
   "id": "f72e9cb9-577d-4c81-ba4d-c51e6121846a",
   "metadata": {},
   "source": [
    "### Stack two 2D arrays m1 = np.array([[1, 2], [3, 4]]) and m2 = np.array([[5, 6], [7, 8]]) horizontally."
   ]
  },
  {
   "cell_type": "code",
   "execution_count": 35,
   "id": "8201b1a8-d8a8-46da-8ddc-bf13470bda32",
   "metadata": {},
   "outputs": [
    {
     "name": "stdout",
     "output_type": "stream",
     "text": [
      "[[1 2 5 6]\n",
      " [3 4 7 8]]\n"
     ]
    }
   ],
   "source": [
    "m1 = np.array([[1, 2], [3, 4]]) \n",
    "m2 = np.array([[5, 6], [7, 8]]) \n",
    "print(np.hstack((m1,m2)))"
   ]
  },
  {
   "cell_type": "markdown",
   "id": "d2e7e858-f8f7-4956-93a0-3807cd5102ee",
   "metadata": {},
   "source": [
    "### Split the array arr_to_split = np.arange(16).reshape(4, 4) horizontally into 2 equal parts. Print both parts."
   ]
  },
  {
   "cell_type": "code",
   "execution_count": 38,
   "id": "96317479-08ea-4148-84ab-6a559639bd03",
   "metadata": {},
   "outputs": [
    {
     "name": "stdout",
     "output_type": "stream",
     "text": [
      "[[ 0  1  2  3]\n",
      " [ 4  5  6  7]\n",
      " [ 8  9 10 11]\n",
      " [12 13 14 15]]\n",
      "----------------\n",
      "[array([[ 0,  1],\n",
      "       [ 4,  5],\n",
      "       [ 8,  9],\n",
      "       [12, 13]]), array([[ 2,  3],\n",
      "       [ 6,  7],\n",
      "       [10, 11],\n",
      "       [14, 15]])]\n"
     ]
    }
   ],
   "source": [
    "arr_to_split = np.arange(16).reshape(4, 4)\n",
    "print(arr_to_split)\n",
    "print(\"----------------\")\n",
    "print(np.hsplit(arr_to_split,2))"
   ]
  },
  {
   "cell_type": "markdown",
   "id": "fef07355-8103-4840-b547-efa0bc846a72",
   "metadata": {},
   "source": [
    "### Split the array arr_to_split (from Q11) vertically at index 2 (i.e., into two parts: first two rows, and last two rows). Print both parts"
   ]
  },
  {
   "cell_type": "code",
   "execution_count": 39,
   "id": "05c101ce-be4a-4b70-82c2-5b00349dfa00",
   "metadata": {},
   "outputs": [
    {
     "name": "stdout",
     "output_type": "stream",
     "text": [
      "vartical split:\n",
      " [[0 1 2 3]\n",
      " [4 5 6 7]] \n",
      "------\n",
      " [[ 8  9 10 11]\n",
      " [12 13 14 15]]\n"
     ]
    }
   ],
   "source": [
    "v_split=np.vsplit(arr_to_split,2)\n",
    "print('vartical split:\\n',v_split[0],\"\\n------\\n\",v_split[1])\n"
   ]
  },
  {
   "cell_type": "markdown",
   "id": "ba002022-58ca-4a24-9cda-32b79f631097",
   "metadata": {},
   "source": [
    "# Part 3: Indexing, Slicing, and Boolean Indexing"
   ]
  },
  {
   "cell_type": "markdown",
   "id": "ec0b601a-1095-4cb3-a900-e8b920e6b4a0",
   "metadata": {},
   "source": [
    "### Given data = np.array([[10, 11, 12], [13, 14, 15], [16, 17, 18]]), extract the element at row 1, column 2."
   ]
  },
  {
   "cell_type": "code",
   "execution_count": 40,
   "id": "fb67111d-2e7a-40a0-9945-89878804b2dc",
   "metadata": {},
   "outputs": [
    {
     "data": {
      "text/plain": [
       "np.int64(15)"
      ]
     },
     "execution_count": 40,
     "metadata": {},
     "output_type": "execute_result"
    }
   ],
   "source": [
    "data = np.array([[10, 11, 12],\n",
    "                 [13, 14, 15],\n",
    "                 [16, 17, 18]])\n",
    "data[1,2]"
   ]
  },
  {
   "cell_type": "markdown",
   "id": "b0366a7a-f0f7-489e-9823-ac37700d2df1",
   "metadata": {},
   "source": [
    "### From the data array (from Q13), extract the first two rows and all columns."
   ]
  },
  {
   "cell_type": "code",
   "execution_count": 42,
   "id": "bb3335d4-1f25-4dbc-8a1e-976f101a48d9",
   "metadata": {},
   "outputs": [
    {
     "data": {
      "text/plain": [
       "array([[10, 11, 12],\n",
       "       [13, 14, 15]])"
      ]
     },
     "execution_count": 42,
     "metadata": {},
     "output_type": "execute_result"
    }
   ],
   "source": [
    "data[:2,:]"
   ]
  },
  {
   "cell_type": "markdown",
   "id": "992d0787-7e83-4e19-af56-faa5ec6d4d82",
   "metadata": {},
   "source": [
    "### From the data array (from Q13), extract the elements 11, 15, and 17 using fancy indexing (hint: you'll need to specify rows and columns)."
   ]
  },
  {
   "cell_type": "code",
   "execution_count": 45,
   "id": "feb8e2ee-7697-4549-bc74-28c4976c3046",
   "metadata": {},
   "outputs": [
    {
     "data": {
      "text/plain": [
       "array([11, 15, 17])"
      ]
     },
     "execution_count": 45,
     "metadata": {},
     "output_type": "execute_result"
    }
   ],
   "source": [
    "data[0, 1]#-->11\n",
    "data[1, 2] #-->15\n",
    "data[2, 1] #--> 17\n",
    "\n",
    "\n",
    "rows = [0, 1, 2]\n",
    "cols = [1, 2, 1]\n",
    "data[rows,cols]"
   ]
  },
  {
   "cell_type": "markdown",
   "id": "f8c9474b-8989-42fb-a38d-995524574ee5",
   "metadata": {},
   "source": [
    "### Given scores = np.array([85, 92, 78, 65, 95, 88]), use boolean indexing to find all scores greater than 80."
   ]
  },
  {
   "cell_type": "code",
   "execution_count": 48,
   "id": "1da10d4d-4851-4e5c-bc6a-794b1cea4014",
   "metadata": {},
   "outputs": [
    {
     "data": {
      "text/plain": [
       "array([ True,  True, False, False,  True,  True])"
      ]
     },
     "execution_count": 48,
     "metadata": {},
     "output_type": "execute_result"
    }
   ],
   "source": [
    "scores = np.array([85, 92, 78, 65, 95, 88])\n",
    "condition= scores > 80\n",
    "condition"
   ]
  },
  {
   "cell_type": "markdown",
   "id": "b25f66f6-c51e-4689-b813-718ee338e32e",
   "metadata": {},
   "source": [
    "# Part 4: Numerical Operations and Aggregations\n"
   ]
  },
  {
   "cell_type": "markdown",
   "id": "762f109c-e487-4771-a689-c58a30fd64db",
   "metadata": {},
   "source": [
    "### Given arr_op1 = np.array([10, 20, 30]) and arr_op2 = np.array([2, 4, 6]), perform element-wise multiplication and division (arr_op1 / arr_op2).\n"
   ]
  },
  {
   "cell_type": "code",
   "execution_count": 51,
   "id": "c1190232-93a8-4017-a796-57c37a9a35d8",
   "metadata": {},
   "outputs": [
    {
     "name": "stdout",
     "output_type": "stream",
     "text": [
      "[ 20  80 180] \n",
      "\n",
      "[5. 5. 5.] \n",
      "\n"
     ]
    }
   ],
   "source": [
    "arr_op1 = np.array([10, 20, 30])\n",
    "arr_op2 = np.array([2, 4, 6])\n",
    "print(arr_op1*arr_op2,\"\\n\")\n",
    "print(arr_op1/arr_op2,\"\\n\")\n",
    "\n"
   ]
  },
  {
   "cell_type": "markdown",
   "id": "fe3eb7a0-b913-4f87-bd86-0844bfb76775",
   "metadata": {},
   "source": [
    "### Given matrix = np.array([[1, 2, 3], [4, 5, 6], [7, 8, 9]]), calculatethe sum of all elements in the matrix."
   ]
  },
  {
   "cell_type": "code",
   "execution_count": 52,
   "id": "43132b86-830f-4dc6-ba90-ab138b12e04e",
   "metadata": {},
   "outputs": [
    {
     "data": {
      "text/plain": [
       "np.int64(45)"
      ]
     },
     "execution_count": 52,
     "metadata": {},
     "output_type": "execute_result"
    }
   ],
   "source": [
    "matrix = np.array([[1, 2, 3], [4, 5, 6], [7, 8, 9]])\n",
    "np.sum(matrix)"
   ]
  },
  {
   "cell_type": "markdown",
   "id": "7f897df3-acce-4b2b-99ce-0919f3f4ff4a",
   "metadata": {},
   "source": [
    "### From the matrix (from Q18), calculate the mean of each column."
   ]
  },
  {
   "cell_type": "code",
   "execution_count": 53,
   "id": "5b03b8fa-6af1-4ac1-a34b-a1942de6cd62",
   "metadata": {},
   "outputs": [
    {
     "data": {
      "text/plain": [
       "np.float64(5.0)"
      ]
     },
     "execution_count": 53,
     "metadata": {},
     "output_type": "execute_result"
    }
   ],
   "source": [
    "np.mean(matrix)"
   ]
  },
  {
   "cell_type": "markdown",
   "id": "10b1da9f-babb-4682-ad2e-c76772d9a7dd",
   "metadata": {},
   "source": [
    "### Given price_array = np.array([100, 150, 200, 250]) and discount_percentage = 0.10, apply a 10% discount to all prices using broadcasting."
   ]
  },
  {
   "cell_type": "code",
   "execution_count": 57,
   "id": "2146fc12-c6b6-45fb-a16c-a0ba5047cbfa",
   "metadata": {},
   "outputs": [
    {
     "name": "stdout",
     "output_type": "stream",
     "text": [
      "[ 90. 135. 180. 225.]\n"
     ]
    }
   ],
   "source": [
    "price_array = np.array([100, 150, 200, 250])\n",
    "discount_percentage = 0.10\n",
    "price_after_disc=price_array *(1-discount_percentage)\n",
    "print(price_after_disc)"
   ]
  },
  {
   "cell_type": "code",
   "execution_count": null,
   "id": "d58b289b-7fdb-4eed-b31e-267dc89f393a",
   "metadata": {},
   "outputs": [],
   "source": []
  }
 ],
 "metadata": {
  "kernelspec": {
   "display_name": "Python 3 (ipykernel)",
   "language": "python",
   "name": "python3"
  },
  "language_info": {
   "codemirror_mode": {
    "name": "ipython",
    "version": 3
   },
   "file_extension": ".py",
   "mimetype": "text/x-python",
   "name": "python",
   "nbconvert_exporter": "python",
   "pygments_lexer": "ipython3",
   "version": "3.13.5"
  }
 },
 "nbformat": 4,
 "nbformat_minor": 5
}
