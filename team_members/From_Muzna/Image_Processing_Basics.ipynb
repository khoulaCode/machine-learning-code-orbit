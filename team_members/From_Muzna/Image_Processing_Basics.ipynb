{
 "cells": [
  {
   "cell_type": "code",
   "execution_count": 2,
   "id": "a4803b37-d522-4ec4-9aa9-d31c2d6b93d6",
   "metadata": {
    "scrolled": true
   },
   "outputs": [
    {
     "name": "stdout",
     "output_type": "stream",
     "text": [
      "Defaulting to user installation because normal site-packages is not writeable\n",
      "Collecting matplotlib\n",
      "  Downloading matplotlib-3.10.3-cp313-cp313-win_amd64.whl.metadata (11 kB)\n",
      "Collecting contourpy>=1.0.1 (from matplotlib)\n",
      "  Downloading contourpy-1.3.2-cp313-cp313-win_amd64.whl.metadata (5.5 kB)\n",
      "Collecting cycler>=0.10 (from matplotlib)\n",
      "  Downloading cycler-0.12.1-py3-none-any.whl.metadata (3.8 kB)\n",
      "Collecting fonttools>=4.22.0 (from matplotlib)\n",
      "  Downloading fonttools-4.58.4-cp313-cp313-win_amd64.whl.metadata (108 kB)\n",
      "Collecting kiwisolver>=1.3.1 (from matplotlib)\n",
      "  Downloading kiwisolver-1.4.8-cp313-cp313-win_amd64.whl.metadata (6.3 kB)\n",
      "Requirement already satisfied: numpy>=1.23 in c:\\users\\admin\\appdata\\local\\packages\\pythonsoftwarefoundation.python.3.13_qbz5n2kfra8p0\\localcache\\local-packages\\python313\\site-packages (from matplotlib) (2.3.1)\n",
      "Requirement already satisfied: packaging>=20.0 in c:\\users\\admin\\appdata\\local\\packages\\pythonsoftwarefoundation.python.3.13_qbz5n2kfra8p0\\localcache\\local-packages\\python313\\site-packages (from matplotlib) (25.0)\n",
      "Collecting pillow>=8 (from matplotlib)\n",
      "  Downloading pillow-11.3.0-cp313-cp313-win_amd64.whl.metadata (9.2 kB)\n",
      "Collecting pyparsing>=2.3.1 (from matplotlib)\n",
      "  Downloading pyparsing-3.2.3-py3-none-any.whl.metadata (5.0 kB)\n",
      "Requirement already satisfied: python-dateutil>=2.7 in c:\\users\\admin\\appdata\\local\\packages\\pythonsoftwarefoundation.python.3.13_qbz5n2kfra8p0\\localcache\\local-packages\\python313\\site-packages (from matplotlib) (2.9.0.post0)\n",
      "Requirement already satisfied: six>=1.5 in c:\\users\\admin\\appdata\\local\\packages\\pythonsoftwarefoundation.python.3.13_qbz5n2kfra8p0\\localcache\\local-packages\\python313\\site-packages (from python-dateutil>=2.7->matplotlib) (1.17.0)\n",
      "Downloading matplotlib-3.10.3-cp313-cp313-win_amd64.whl (8.1 MB)\n",
      "   ---------------------------------------- 0.0/8.1 MB ? eta -:--:--\n",
      "   - -------------------------------------- 0.3/8.1 MB ? eta -:--:--\n",
      "   ------ --------------------------------- 1.3/8.1 MB 4.0 MB/s eta 0:00:02\n",
      "   ------------------- -------------------- 3.9/8.1 MB 8.5 MB/s eta 0:00:01\n",
      "   ---------------------------------------- 8.1/8.1 MB 11.9 MB/s eta 0:00:00\n",
      "Downloading contourpy-1.3.2-cp313-cp313-win_amd64.whl (223 kB)\n",
      "Downloading cycler-0.12.1-py3-none-any.whl (8.3 kB)\n",
      "Downloading fonttools-4.58.4-cp313-cp313-win_amd64.whl (2.2 MB)\n",
      "   ---------------------------------------- 0.0/2.2 MB ? eta -:--:--\n",
      "   ---------------------------------------- 2.2/2.2 MB 29.5 MB/s eta 0:00:00\n",
      "Downloading kiwisolver-1.4.8-cp313-cp313-win_amd64.whl (71 kB)\n",
      "Downloading pillow-11.3.0-cp313-cp313-win_amd64.whl (7.0 MB)\n",
      "   ---------------------------------------- 0.0/7.0 MB ? eta -:--:--\n",
      "   ---------------------------------------  6.8/7.0 MB 35.1 MB/s eta 0:00:01\n",
      "   ---------------------------------------- 7.0/7.0 MB 28.0 MB/s eta 0:00:00\n",
      "Downloading pyparsing-3.2.3-py3-none-any.whl (111 kB)\n",
      "Installing collected packages: pyparsing, pillow, kiwisolver, fonttools, cycler, contourpy, matplotlib\n",
      "\n",
      "   ---------------------------------------- 0/7 [pyparsing]\n",
      "   ---------------------------------------- 0/7 [pyparsing]\n",
      "   ----- ---------------------------------- 1/7 [pillow]\n",
      "   ----- ---------------------------------- 1/7 [pillow]\n",
      "   ----- ---------------------------------- 1/7 [pillow]\n",
      "   ----- ---------------------------------- 1/7 [pillow]\n",
      "   ----- ---------------------------------- 1/7 [pillow]\n",
      "   ----- ---------------------------------- 1/7 [pillow]\n",
      "   ----- ---------------------------------- 1/7 [pillow]\n",
      "   ----- ---------------------------------- 1/7 [pillow]\n",
      "   ----- ---------------------------------- 1/7 [pillow]\n",
      "   ----- ---------------------------------- 1/7 [pillow]\n",
      "   ----- ---------------------------------- 1/7 [pillow]\n",
      "   ----------------- ---------------------- 3/7 [fonttools]\n",
      "   ----------------- ---------------------- 3/7 [fonttools]\n",
      "   ----------------- ---------------------- 3/7 [fonttools]\n",
      "   ----------------- ---------------------- 3/7 [fonttools]\n",
      "   ----------------- ---------------------- 3/7 [fonttools]\n",
      "   ----------------- ---------------------- 3/7 [fonttools]\n",
      "   ----------------- ---------------------- 3/7 [fonttools]\n",
      "   ----------------- ---------------------- 3/7 [fonttools]\n",
      "   ----------------- ---------------------- 3/7 [fonttools]\n",
      "   ----------------- ---------------------- 3/7 [fonttools]\n",
      "   ----------------- ---------------------- 3/7 [fonttools]\n",
      "   ----------------- ---------------------- 3/7 [fonttools]\n",
      "   ----------------- ---------------------- 3/7 [fonttools]\n",
      "   ----------------- ---------------------- 3/7 [fonttools]\n",
      "   ----------------- ---------------------- 3/7 [fonttools]\n",
      "   ----------------- ---------------------- 3/7 [fonttools]\n",
      "   ----------------- ---------------------- 3/7 [fonttools]\n",
      "   ----------------- ---------------------- 3/7 [fonttools]\n",
      "   ----------------- ---------------------- 3/7 [fonttools]\n",
      "   ----------------- ---------------------- 3/7 [fonttools]\n",
      "   ----------------- ---------------------- 3/7 [fonttools]\n",
      "   ----------------- ---------------------- 3/7 [fonttools]\n",
      "   ----------------- ---------------------- 3/7 [fonttools]\n",
      "   ----------------- ---------------------- 3/7 [fonttools]\n",
      "   ----------------- ---------------------- 3/7 [fonttools]\n",
      "   ----------------- ---------------------- 3/7 [fonttools]\n",
      "   ----------------- ---------------------- 3/7 [fonttools]\n",
      "   ----------------- ---------------------- 3/7 [fonttools]\n",
      "   ----------------- ---------------------- 3/7 [fonttools]\n",
      "   ----------------- ---------------------- 3/7 [fonttools]\n",
      "   ----------------- ---------------------- 3/7 [fonttools]\n",
      "   ---------------------------- ----------- 5/7 [contourpy]\n",
      "   ---------------------------- ----------- 5/7 [contourpy]\n",
      "   ---------------------------------- ----- 6/7 [matplotlib]\n",
      "   ---------------------------------- ----- 6/7 [matplotlib]\n",
      "   ---------------------------------- ----- 6/7 [matplotlib]\n",
      "   ---------------------------------- ----- 6/7 [matplotlib]\n",
      "   ---------------------------------- ----- 6/7 [matplotlib]\n",
      "   ---------------------------------- ----- 6/7 [matplotlib]\n",
      "   ---------------------------------- ----- 6/7 [matplotlib]\n",
      "   ---------------------------------- ----- 6/7 [matplotlib]\n",
      "   ---------------------------------- ----- 6/7 [matplotlib]\n",
      "   ---------------------------------- ----- 6/7 [matplotlib]\n",
      "   ---------------------------------- ----- 6/7 [matplotlib]\n",
      "   ---------------------------------- ----- 6/7 [matplotlib]\n",
      "   ---------------------------------- ----- 6/7 [matplotlib]\n",
      "   ---------------------------------- ----- 6/7 [matplotlib]\n",
      "   ---------------------------------- ----- 6/7 [matplotlib]\n",
      "   ---------------------------------- ----- 6/7 [matplotlib]\n",
      "   ---------------------------------- ----- 6/7 [matplotlib]\n",
      "   ---------------------------------- ----- 6/7 [matplotlib]\n",
      "   ---------------------------------- ----- 6/7 [matplotlib]\n",
      "   ---------------------------------- ----- 6/7 [matplotlib]\n",
      "   ---------------------------------- ----- 6/7 [matplotlib]\n",
      "   ---------------------------------- ----- 6/7 [matplotlib]\n",
      "   ---------------------------------- ----- 6/7 [matplotlib]\n",
      "   ---------------------------------- ----- 6/7 [matplotlib]\n",
      "   ---------------------------------- ----- 6/7 [matplotlib]\n",
      "   ---------------------------------- ----- 6/7 [matplotlib]\n",
      "   ---------------------------------- ----- 6/7 [matplotlib]\n",
      "   ---------------------------------- ----- 6/7 [matplotlib]\n",
      "   ---------------------------------- ----- 6/7 [matplotlib]\n",
      "   ---------------------------------- ----- 6/7 [matplotlib]\n",
      "   ---------------------------------- ----- 6/7 [matplotlib]\n",
      "   ---------------------------------- ----- 6/7 [matplotlib]\n",
      "   ---------------------------------- ----- 6/7 [matplotlib]\n",
      "   ---------------------------------- ----- 6/7 [matplotlib]\n",
      "   ---------------------------------- ----- 6/7 [matplotlib]\n",
      "   ---------------------------------- ----- 6/7 [matplotlib]\n",
      "   ---------------------------------- ----- 6/7 [matplotlib]\n",
      "   ---------------------------------- ----- 6/7 [matplotlib]\n",
      "   ---------------------------------- ----- 6/7 [matplotlib]\n",
      "   ---------------------------------- ----- 6/7 [matplotlib]\n",
      "   ---------------------------------- ----- 6/7 [matplotlib]\n",
      "   ---------------------------------- ----- 6/7 [matplotlib]\n",
      "   ---------------------------------- ----- 6/7 [matplotlib]\n",
      "   ---------------------------------- ----- 6/7 [matplotlib]\n",
      "   ---------------------------------- ----- 6/7 [matplotlib]\n",
      "   ---------------------------------------- 7/7 [matplotlib]\n",
      "\n",
      "Successfully installed contourpy-1.3.2 cycler-0.12.1 fonttools-4.58.4 kiwisolver-1.4.8 matplotlib-3.10.3 pillow-11.3.0 pyparsing-3.2.3\n"
     ]
    },
    {
     "name": "stderr",
     "output_type": "stream",
     "text": [
      "  WARNING: The scripts fonttools.exe, pyftmerge.exe, pyftsubset.exe and ttx.exe are installed in 'C:\\Users\\admin\\AppData\\Local\\Packages\\PythonSoftwareFoundation.Python.3.13_qbz5n2kfra8p0\\LocalCache\\local-packages\\Python313\\Scripts' which is not on PATH.\n",
      "  Consider adding this directory to PATH or, if you prefer to suppress this warning, use --no-warn-script-location.\n"
     ]
    }
   ],
   "source": [
    "! pip install matplotlib"
   ]
  },
  {
   "cell_type": "code",
   "execution_count": 4,
   "id": "acffe916-cfc3-4f49-9a03-b7743ecc81a5",
   "metadata": {},
   "outputs": [],
   "source": [
    "import numpy as np\n",
    "import matplotlib.pyplot as plt"
   ]
  },
  {
   "cell_type": "code",
   "execution_count": 8,
   "id": "d77d190c-4c98-4fb6-9cc3-522d74cabca9",
   "metadata": {},
   "outputs": [
    {
     "name": "stdout",
     "output_type": "stream",
     "text": [
      "Original Image:\n",
      " [[130   2 207  98 155  20 148  83 138  33]\n",
      " [208  47 195  35  50  64  42 224  82 155]\n",
      " [ 99 163 136 212   2  76  61  56 157  37]\n",
      " [ 69 109 220  51  32  62  92 246 177 245]\n",
      " [ 12  20  90   2  63 222   0  40 107 156]\n",
      " [ 80 233 184 127 162  79 107 237 191 205]\n",
      " [ 58  46 221  10 127 230   1 111  78 189]\n",
      " [ 32  78 201 177  42  36 250 117  52   7]\n",
      " [155  39 180 236 116  33 120 170 140 213]\n",
      " [129  72  51 139 132 108 136  85  63 122]]\n"
     ]
    }
   ],
   "source": [
    "\n",
    "# Create a 10x10 image with random pixel values between 0 and 255\n",
    "image = np.random.randint(0, 256, (10, 10))\n",
    "print(\"Original Image:\\n\", image)\n"
   ]
  },
  {
   "cell_type": "code",
   "execution_count": 9,
   "id": "38196dc6-c565-4bb9-94da-586e75fbe16c",
   "metadata": {},
   "outputs": [
    {
     "data": {
      "image/png": "[encoded data removed]",
      "text/plain": [
       "<Figure size 640x480 with 2 Axes>"
      ]
     },
     "metadata": {},
     "output_type": "display_data"
    }
   ],
   "source": [
    "\n",
    "# Display the image using matplotlib\n",
    "plt.imshow(image, cmap='gray')\n",
    "plt.title(\"Grayscale Image\")\n",
    "plt.colorbar()\n",
    "plt.show()\n"
   ]
  },
  {
   "cell_type": "code",
   "execution_count": 18,
   "id": "26febca2-bbe4-49a4-b6e4-00238f9c8ad6",
   "metadata": {},
   "outputs": [
    {
     "name": "stdout",
     "output_type": "stream",
     "text": [
      "Original Image:\n",
      " [[130   2 207  98 155  20 148  83 138  33]\n",
      " [208  47 195  35  50  64  42 224  82 155]\n",
      " [ 99 163 136 212   2  76  61  56 157  37]\n",
      " [ 69 109 220  51  32  62  92 246 177 245]\n",
      " [ 12  20  90   2  63 222   0  40 107 156]\n",
      " [ 80 233 184 127 162  79 107 237 191 205]\n",
      " [ 58  46 221  10 127 230   1 111  78 189]\n",
      " [ 32  78 201 177  42  36 250 117  52   7]\n",
      " [155  39 180 236 116  33 120 170 140 213]\n",
      " [129  72  51 139 132 108 136  85  63 122]]\n",
      "\n",
      "Inverted Image:\n",
      " [[125 253  48 157 100 235 107 172 117 222]\n",
      " [ 47 208  60 220 205 191 213  31 173 100]\n",
      " [156  92 119  43 253 179 194 199  98 218]\n",
      " [186 146  35 204 223 193 163   9  78  10]\n",
      " [243 235 165 253 192  33 255 215 148  99]\n",
      " [175  22  71 128  93 176 148  18  64  50]\n",
      " [197 209  34 245 128  25 254 144 177  66]\n",
      " [223 177  54  78 213 219   5 138 203 248]\n",
      " [100 216  75  19 139 222 135  85 115  42]\n",
      " [126 183 204 116 123 147 119 170 192 133]]\n"
     ]
    },
    {
     "data": {
      "image/png": "[encoded data removed]",
      "text/plain": [
       "<Figure size 640x480 with 2 Axes>"
      ]
     },
     "metadata": {},
     "output_type": "display_data"
    }
   ],
   "source": [
    "\n",
    "# Invert the image: 255 - pixel value\n",
    "#black becomes white, white becomes black\n",
    "inverted_image = 255 - image\n",
    "print(\"Original Image:\\n\", image)\n",
    "print(\"\\nInverted Image:\\n\", inverted_image)\n",
    "\n",
    "plt.imshow(inverted_image, cmap='gray')\n",
    "plt.colorbar()\n",
    "plt.show()"
   ]
  },
  {
   "cell_type": "code",
   "execution_count": 20,
   "id": "294339bb-2458-4e49-a6e8-64b6c90a593a",
   "metadata": {},
   "outputs": [
    {
     "name": "stdout",
     "output_type": "stream",
     "text": [
      "\n",
      "Thresholded Image:\n",
      " [[255   0 255   0 255   0 255   0 255   0]\n",
      " [255   0 255   0   0   0   0 255   0 255]\n",
      " [  0 255 255 255   0   0   0   0 255   0]\n",
      " [  0   0 255   0   0   0   0 255 255 255]\n",
      " [  0   0   0   0   0 255   0   0   0 255]\n",
      " [  0 255 255   0 255   0   0 255 255 255]\n",
      " [  0   0 255   0   0 255   0   0   0 255]\n",
      " [  0   0 255 255   0   0 255   0   0   0]\n",
      " [255   0 255 255   0   0   0 255 255 255]\n",
      " [255   0   0 255 255   0 255   0   0   0]]\n"
     ]
    },
    {
     "data": {
      "image/png": "[encoded data removed]",
      "text/plain": [
       "<Figure size 640x480 with 2 Axes>"
      ]
     },
     "metadata": {},
     "output_type": "display_data"
    }
   ],
   "source": [
    "\n",
    "# Apply threshold: pixels < 128 → 0, pixels ≥ 128 → 255\n",
    "condition=image < 128\n",
    "thresholded_image = np.where(condition, 0, 255)\n",
    "print(\"\\nThresholded Image:\\n\", thresholded_image)\n",
    "\n",
    "plt.imshow(thresholded_image, cmap='gray')\n",
    "plt.colorbar()\n",
    "plt.show()"
   ]
  },
  {
   "cell_type": "code",
   "execution_count": 30,
   "id": "fec93937-3fbb-43ee-ba29-f04f9238c5e0",
   "metadata": {},
   "outputs": [
    {
     "name": "stdout",
     "output_type": "stream",
     "text": [
      "(10, 10)\n",
      "[[130   2 207  98 155  20 148  83 138  33]\n",
      " [208  47 195  35  50  64  42 224  82 155]\n",
      " [ 99 163 136 212   2  76  61  56 157  37]\n",
      " [ 69 109 220  51  32  62  92 246 177 245]\n",
      " [ 12  20  90   2  63 222   0  40 107 156]\n",
      " [ 80 233 184 127 162  79 107 237 191 205]\n",
      " [ 58  46 221  10 127 230   1 111  78 189]\n",
      " [ 32  78 201 177  42  36 250 117  52   7]\n",
      " [155  39 180 236 116  33 120 170 140 213]\n",
      " [129  72  51 139 132 108 136  85  63 122]]\n",
      "\n",
      "Cropped 4x4 Center Region:\n",
      " [[ 51  32  62  92]\n",
      " [  2  63 222   0]\n",
      " [127 162  79 107]\n",
      " [ 10 127 230   1]]\n"
     ]
    }
   ],
   "source": [
    "#Cropping\n",
    "print(\n",
    "image.shape\n",
    ")\n",
    "# Crop the 4x4 region\n",
    "#cropped_image =image[:5,:5]\n",
    "cropped_image =image[3:7,3:7]\n",
    "#start_row = (image.shape[0] - 4) // 2\n",
    "#start_col = (image.shape[1] - 4) // 2\n",
    "#cropped_image = image[start_row:start_row+4, start_col:start_col+4]\n",
    "print(image)\n",
    "print(\"\\nCropped 4x4 Center Region:\\n\", cropped_image)\n"
   ]
  },
  {
   "cell_type": "code",
   "execution_count": 15,
   "id": "3a7025fe-ee1f-46a6-ab91-b366cdc5477d",
   "metadata": {},
   "outputs": [
    {
     "name": "stdout",
     "output_type": "stream",
     "text": [
      "\n",
      "Horizontal Edge Detection Result:\n",
      " [[-128  205 -109   57 -135  128  -65   55 -105    0]\n",
      " [-161  148 -160   15   14  -22  182 -142   73    0]\n",
      " [  64  -27   76 -210   74  -15   -5  101 -120    0]\n",
      " [  40  111 -169  -19   30   30  154  -69   68    0]\n",
      " [   8   70  -88   61  159 -222   40   67   49    0]\n",
      " [ 153  -49  -57   35  -83   28  130  -46   14    0]\n",
      " [ -12  175 -211  117  103 -229  110  -33  111    0]\n",
      " [  46  123  -24 -135   -6  214 -133  -65  -45    0]\n",
      " [-116  141   56 -120  -83   87   50  -30   73    0]\n",
      " [ -57  -21   88   -7  -24   28  -51  -22   59    0]]\n"
     ]
    }
   ],
   "source": [
    "\n",
    "#Create an empty array for edge detection result\n",
    "edge_image = np.zeros_like(image, dtype=int)\n",
    "\n",
    "# Compute horizontal differences\n",
    "edge_image[:, :-1] = image[:, 1:] - image[:, :-1]\n",
    "print(\"\\nHorizontal Edge Detection Result:\\n\", edge_image)\n"
   ]
  },
  {
   "cell_type": "code",
   "execution_count": null,
   "id": "b689fc86-5ff1-4eaf-9b61-8b6a7b496bf8",
   "metadata": {},
   "outputs": [],
   "source": []
  }
 ],
 "metadata": {
  "kernelspec": {
   "display_name": "Python 3 (ipykernel)",
   "language": "python",
   "name": "python3"
  },
  "language_info": {
   "codemirror_mode": {
    "name": "ipython",
    "version": 3
   },
   "file_extension": ".py",
   "mimetype": "text/x-python",
   "name": "python",
   "nbconvert_exporter": "python",
   "pygments_lexer": "ipython3",
   "version": "3.13.5"
  }
 },
 "nbformat": 4,
 "nbformat_minor": 5
}
