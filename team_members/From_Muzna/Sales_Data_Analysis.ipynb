{
 "cells": [
  {
   "cell_type": "code",
   "execution_count": 1,
   "id": "a14c3c65-d0e0-438b-bee6-02478bf9e8c2",
   "metadata": {},
   "outputs": [],
   "source": [
    "import numpy as np "
   ]
  },
  {
   "cell_type": "markdown",
   "id": "88e78e57-22b2-48f3-a684-d1978c503511",
   "metadata": {},
   "source": [
    "# 1. Sales Data Generation:"
   ]
  },
  {
   "cell_type": "code",
   "execution_count": 21,
   "id": "79f20277-9569-4daa-8665-2e5b5b6205eb",
   "metadata": {},
   "outputs": [
    {
     "data": {
      "text/plain": [
       "array([1099.3428306 ,  972.34713977, 1129.53770762, 1304.60597128,\n",
       "        953.16932506,  953.17260861, 1315.8425631 , 1153.48694583,\n",
       "        906.10512281, 1108.51200872,  907.31646144,  906.85404929,\n",
       "       1048.39245431,  617.34395107,  655.0164335 ,  887.54249415,\n",
       "        797.43377593, 1062.84946652,  818.3951849 ,  717.53925973,\n",
       "       1293.12975378,  954.8447399 , 1013.50564094,  715.05036276,\n",
       "        891.12345509, 1022.18451794,  769.80128452, 1075.13960367,\n",
       "        879.87226202,  941.66125004])"
      ]
     },
     "execution_count": 21,
     "metadata": {},
     "output_type": "execute_result"
    }
   ],
   "source": [
    "#sales_revenue\n",
    "np.random.seed(42)\n",
    "sales_revenue=np.random.normal(loc=1000, scale=200, size=30)\n",
    "sales_revenue=np.clip(sales_revenue, 0, None)\n",
    "sales_revenue"
   ]
  },
  {
   "cell_type": "code",
   "execution_count": 22,
   "id": "5537fc5f-bfcf-440e-8267-ea63333ff2d2",
   "metadata": {},
   "outputs": [
    {
     "data": {
      "text/plain": [
       "array([106.92575   , 106.4961049 , 112.88628464, 125.17204248,\n",
       "        99.42965707,  89.21304261, 132.62857429, 105.55034396,\n",
       "        83.96958204, 111.83550705,  94.42397904,  91.54224633,\n",
       "       104.26100402,  60.22887663,  58.1090334 ,  85.15502837,\n",
       "        77.44018374, 111.57055778,  83.55760994,  62.9387252 ,\n",
       "       130.93339523,  93.55906259,  97.96595409,  74.56341772,\n",
       "        94.26734312, 106.87485239,  72.78404084, 105.96789849,\n",
       "        89.64354336,  99.04385064])"
      ]
     },
     "execution_count": 22,
     "metadata": {},
     "output_type": "execute_result"
    }
   ],
   "source": [
    "#  units_sold\n",
    "#assume average item price = 10\n",
    "units_sold=(sales_revenue/10) +np.random.normal(loc=0, scale=5, size=30)\n",
    "units_sold=np.clip(units_sold, 0, None)\n",
    "units_sold"
   ]
  },
  {
   "cell_type": "markdown",
   "id": "e58ab481-0deb-4183-82df-00470f002da5",
   "metadata": {},
   "source": [
    "# 2. Combine Data:"
   ]
  },
  {
   "cell_type": "code",
   "execution_count": 23,
   "id": "db5f9124-c4ef-4ec9-9764-fc76d835ebb8",
   "metadata": {},
   "outputs": [
    {
     "data": {
      "text/plain": [
       "array([[1099.3428306 ,  106.92575   ],\n",
       "       [ 972.34713977,  106.4961049 ],\n",
       "       [1129.53770762,  112.88628464],\n",
       "       [1304.60597128,  125.17204248],\n",
       "       [ 953.16932506,   99.42965707],\n",
       "       [ 953.17260861,   89.21304261],\n",
       "       [1315.8425631 ,  132.62857429],\n",
       "       [1153.48694583,  105.55034396],\n",
       "       [ 906.10512281,   83.96958204],\n",
       "       [1108.51200872,  111.83550705],\n",
       "       [ 907.31646144,   94.42397904],\n",
       "       [ 906.85404929,   91.54224633],\n",
       "       [1048.39245431,  104.26100402],\n",
       "       [ 617.34395107,   60.22887663],\n",
       "       [ 655.0164335 ,   58.1090334 ],\n",
       "       [ 887.54249415,   85.15502837],\n",
       "       [ 797.43377593,   77.44018374],\n",
       "       [1062.84946652,  111.57055778],\n",
       "       [ 818.3951849 ,   83.55760994],\n",
       "       [ 717.53925973,   62.9387252 ],\n",
       "       [1293.12975378,  130.93339523],\n",
       "       [ 954.8447399 ,   93.55906259],\n",
       "       [1013.50564094,   97.96595409],\n",
       "       [ 715.05036276,   74.56341772],\n",
       "       [ 891.12345509,   94.26734312],\n",
       "       [1022.18451794,  106.87485239],\n",
       "       [ 769.80128452,   72.78404084],\n",
       "       [1075.13960367,  105.96789849],\n",
       "       [ 879.87226202,   89.64354336],\n",
       "       [ 941.66125004,   99.04385064]])"
      ]
     },
     "execution_count": 23,
     "metadata": {},
     "output_type": "execute_result"
    }
   ],
   "source": [
    "combined_data=np.column_stack((sales_revenue, units_sold))\n",
    "combined_data"
   ]
  },
  {
   "cell_type": "code",
   "execution_count": 29,
   "id": "5a364d80-dee2-4831-a70c-9062861391c9",
   "metadata": {},
   "outputs": [
    {
     "data": {
      "text/plain": [
       "(30, 2)"
      ]
     },
     "execution_count": 29,
     "metadata": {},
     "output_type": "execute_result"
    }
   ],
   "source": [
    "combined_data.shape"
   ]
  },
  {
   "cell_type": "markdown",
   "id": "4d6edb23-1d12-41d1-855e-b7c28f2aaeee",
   "metadata": {},
   "source": [
    "# 3. Key Performance Indicators (KPIs):"
   ]
  },
  {
   "cell_type": "code",
   "execution_count": 10,
   "id": "23662bac-70fd-44e6-bc88-e7e7de24601c",
   "metadata": {},
   "outputs": [
    {
     "data": {
      "text/plain": [
       "np.float64(28871.11862489377)"
      ]
     },
     "execution_count": 10,
     "metadata": {},
     "output_type": "execute_result"
    }
   ],
   "source": [
    "#Calculate the total sales_revenue for the month.\n",
    "np.sum(sales_revenue)"
   ]
  },
  {
   "cell_type": "code",
   "execution_count": 11,
   "id": "96b7b4af-200a-4af4-a00d-4a4c3d2d57bd",
   "metadata": {},
   "outputs": [
    {
     "data": {
      "text/plain": [
       "np.float64(95.63124973152954)"
      ]
     },
     "execution_count": 11,
     "metadata": {},
     "output_type": "execute_result"
    }
   ],
   "source": [
    "#Calculate the average units_sold per day.\n",
    "np.mean(units_sold)"
   ]
  },
  {
   "cell_type": "code",
   "execution_count": 15,
   "id": "cedcc4c8-b018-4bd2-b5ed-124221888942",
   "metadata": {},
   "outputs": [
    {
     "name": "stdout",
     "output_type": "stream",
     "text": [
      "1315.8425631014784\n",
      "day: 7\n"
     ]
    }
   ],
   "source": [
    "#Determine the maximum daily sales_revenue and the day (index) it occurred.\n",
    "print(np.max(sales_revenue))\n",
    "print('day:',np.argmax(sales_revenue) + 1)"
   ]
  },
  {
   "cell_type": "code",
   "execution_count": 16,
   "id": "616fca77-3d62-4007-95c3-49aa41060d37",
   "metadata": {},
   "outputs": [
    {
     "data": {
      "text/plain": [
       "np.float64(10.063348785376164)"
      ]
     },
     "execution_count": 16,
     "metadata": {},
     "output_type": "execute_result"
    }
   ],
   "source": [
    "#calculate the average revenue per unit sold for the entire month (total revenue / total units sold).\n",
    "avg_revenue_per_unit =  np.sum(sales_revenue)   /np.sum(units_sold)\n",
    "avg_revenue_per_unit\n"
   ]
  },
  {
   "cell_type": "markdown",
   "id": "1872f9de-8fb4-4217-9d1a-865edb0addfb",
   "metadata": {},
   "source": [
    "# 4. Conditional Analysis:"
   ]
  },
  {
   "cell_type": "code",
   "execution_count": 17,
   "id": "cdd9d0d7-368a-4e17-9149-7426d9a98e15",
   "metadata": {},
   "outputs": [
    {
     "data": {
      "text/plain": [
       "np.int64(3)"
      ]
     },
     "execution_count": 17,
     "metadata": {},
     "output_type": "execute_result"
    }
   ],
   "source": [
    "# days above 1200\n",
    "np.sum(sales_revenue > 1200)"
   ]
  },
  {
   "cell_type": "code",
   "execution_count": 19,
   "id": "1e2161dc-8a08-4e2a-b055-469142da298c",
   "metadata": {},
   "outputs": [
    {
     "data": {
      "text/plain": [
       "np.float64(75.86878023084118)"
      ]
     },
     "execution_count": 19,
     "metadata": {},
     "output_type": "execute_result"
    }
   ],
   "source": [
    "#sales below 900\n",
    "np.mean(units_sold[sales_revenue < 900])"
   ]
  },
  {
   "cell_type": "markdown",
   "id": "cd57abe0-4695-428c-97ce-9bc8a2f50e37",
   "metadata": {},
   "source": [
    "# 5. Weekly Aggregations:"
   ]
  },
  {
   "cell_type": "code",
   "execution_count": 26,
   "id": "859092fa-eb07-4285-a8e9-79aebd3c27e1",
   "metadata": {},
   "outputs": [],
   "source": [
    "weekly= sales_revenue[:28].reshape(4, 7)\n"
   ]
  },
  {
   "cell_type": "code",
   "execution_count": 27,
   "id": "41c4f083-1380-401f-9436-11664ae65543",
   "metadata": {},
   "outputs": [
    {
     "data": {
      "text/plain": [
       "array([7728.01814604, 6648.01099347, 6231.90636851, 6441.64960482])"
      ]
     },
     "execution_count": 27,
     "metadata": {},
     "output_type": "execute_result"
    }
   ],
   "source": [
    "np.sum(weekly, axis=1) "
   ]
  },
  {
   "cell_type": "code",
   "execution_count": null,
   "id": "f969ed7a-f948-4482-ae7e-89fa5f949522",
   "metadata": {},
   "outputs": [],
   "source": []
  }
 ],
 "metadata": {
  "kernelspec": {
   "display_name": "Python 3 (ipykernel)",
   "language": "python",
   "name": "python3"
  },
  "language_info": {
   "codemirror_mode": {
    "name": "ipython",
    "version": 3
   },
   "file_extension": ".py",
   "mimetype": "text/x-python",
   "name": "python",
   "nbconvert_exporter": "python",
   "pygments_lexer": "ipython3",
   "version": "3.13.5"
  }
 },
 "nbformat": 4,
 "nbformat_minor": 5
}
