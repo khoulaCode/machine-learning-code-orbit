{
 "cells": [
  {
   "cell_type": "code",
   "execution_count": 140,
   "id": "00f89f9a",
   "metadata": {},
   "outputs": [],
   "source": [
    "import numpy as np"
   ]
  },
  {
   "cell_type": "markdown",
   "id": "1a226974",
   "metadata": {},
   "source": [
    "Array Creation and properties"
   ]
  },
  {
   "cell_type": "code",
   "execution_count": 141,
   "id": "9a5bbeea",
   "metadata": {},
   "outputs": [
    {
     "name": "stdout",
     "output_type": "stream",
     "text": [
      "[0 1 2 3 4 5 6 7 8 9]\n"
     ]
    }
   ],
   "source": [
    "arr1d = np.array([0, 1, 2, 3, 4, 5, 6, 7, 8, 9])\n",
    "print(arr1d)"
   ]
  },
  {
   "cell_type": "code",
   "execution_count": 142,
   "id": "939e7f0c",
   "metadata": {},
   "outputs": [
    {
     "name": "stdout",
     "output_type": "stream",
     "text": [
      "[[1. 1. 1.]\n",
      " [1. 1. 1.]\n",
      " [1. 1. 1.]]\n"
     ]
    }
   ],
   "source": [
    "arr2d = np.ones((3, 3))\n",
    "print(arr2d)"
   ]
  },
  {
   "cell_type": "code",
   "execution_count": 143,
   "id": "4ff1617b",
   "metadata": {},
   "outputs": [
    {
     "name": "stdout",
     "output_type": "stream",
     "text": [
      "[[-0.66614677  0.27791991  0.77114963]\n",
      " [ 0.79591044 -1.93880155  0.99567566]\n",
      " [ 0.75218314  0.5216301   1.16768875]]\n"
     ]
    }
   ],
   "source": [
    "random_matrix = np.random.randn(3, 3)\n",
    "print(random_matrix)"
   ]
  },
  {
   "cell_type": "code",
   "execution_count": 144,
   "id": "07480de4",
   "metadata": {},
   "outputs": [
    {
     "name": "stdout",
     "output_type": "stream",
     "text": [
      "[10 12 14 16 18]\n"
     ]
    }
   ],
   "source": [
    "evennumbers = np.arange(10, 20, 2)\n",
    "print(evennumbers)"
   ]
  },
  {
   "cell_type": "code",
   "execution_count": 145,
   "id": "8c112389",
   "metadata": {},
   "outputs": [
    {
     "name": "stdout",
     "output_type": "stream",
     "text": [
      "[0.         0.16666667 0.33333333 0.5        0.66666667 0.83333333\n",
      " 1.        ]\n"
     ]
    }
   ],
   "source": [
    "lineSpace_array = np.linspace(0, 1, 7)\n",
    "print(lineSpace_array)"
   ]
  },
  {
   "cell_type": "code",
   "execution_count": 146,
   "id": "d0e2b089",
   "metadata": {},
   "outputs": [
    {
     "name": "stdout",
     "output_type": "stream",
     "text": [
      "[[1 2 3]\n",
      " [4 5 6]]\n",
      "(2, 3)\n",
      "int64\n"
     ]
    }
   ],
   "source": [
    "arr = np.array([[1, 2, 3], [4, 5, 6]])\n",
    "print(arr)\n",
    "shape = arr.shape\n",
    "print(shape)\n",
    "dtype = arr.dtype\n",
    "print(dtype)"
   ]
  },
  {
   "cell_type": "markdown",
   "id": "b4530525",
   "metadata": {},
   "source": [
    "Array Manipulation"
   ]
  },
  {
   "cell_type": "code",
   "execution_count": 147,
   "id": "68c7509a",
   "metadata": {},
   "outputs": [
    {
     "name": "stdout",
     "output_type": "stream",
     "text": [
      "[[0 1 2 3 4]\n",
      " [5 6 7 8 9]]\n"
     ]
    }
   ],
   "source": [
    "reshape = arr1d.reshape(2, 5)\n",
    "print(reshape)"
   ]
  },
  {
   "cell_type": "code",
   "execution_count": 148,
   "id": "7cf6a5a0",
   "metadata": {},
   "outputs": [
    {
     "name": "stdout",
     "output_type": "stream",
     "text": [
      "[[0 5]\n",
      " [1 6]\n",
      " [2 7]\n",
      " [3 8]\n",
      " [4 9]]\n"
     ]
    }
   ],
   "source": [
    "transpose = reshape.T\n",
    "print(transpose) "
   ]
  },
  {
   "cell_type": "code",
   "execution_count": 149,
   "id": "54320060",
   "metadata": {},
   "outputs": [
    {
     "name": "stdout",
     "output_type": "stream",
     "text": [
      "[[1 2 3]\n",
      " [4 5 6]]\n"
     ]
    }
   ],
   "source": [
    "a = np.array([1, 2, 3]) \n",
    "b = np.array([4, 5, 6])\n",
    "stake = np.stack((a, b), axis=0)\n",
    "print(stake)"
   ]
  },
  {
   "cell_type": "code",
   "execution_count": 150,
   "id": "55b876b1",
   "metadata": {},
   "outputs": [
    {
     "name": "stdout",
     "output_type": "stream",
     "text": [
      "[[1 2 5 6]\n",
      " [3 4 7 8]]\n"
     ]
    }
   ],
   "source": [
    "m1 = np.array([[1, 2], [3, 4]]) \n",
    "m2 = np.array([[5, 6], [7, 8]])\n",
    "hstake = np.hstack((m1, m2))\n",
    "print(hstake)"
   ]
  },
  {
   "cell_type": "code",
   "execution_count": 151,
   "id": "155e7681",
   "metadata": {},
   "outputs": [
    {
     "name": "stdout",
     "output_type": "stream",
     "text": [
      "[[ 0  1]\n",
      " [ 4  5]\n",
      " [ 8  9]\n",
      " [12 13]]\n",
      "[[ 2  3]\n",
      " [ 6  7]\n",
      " [10 11]\n",
      " [14 15]]\n"
     ]
    }
   ],
   "source": [
    "arr_to_split = np.arange(16).reshape(4, 4)\n",
    "part1, part2 = np.hsplit(arr_to_split, 2,)\n",
    "print(part1)\n",
    "print(part2)"
   ]
  },
  {
   "cell_type": "code",
   "execution_count": 152,
   "id": "2e2de7cb",
   "metadata": {},
   "outputs": [
    {
     "name": "stdout",
     "output_type": "stream",
     "text": [
      "[[0 1 2 3]\n",
      " [4 5 6 7]]\n",
      "[[ 8  9 10 11]\n",
      " [12 13 14 15]]\n"
     ]
    }
   ],
   "source": [
    "part1, part2 = np.vsplit(arr_to_split, 2,)\n",
    "print(part1)\n",
    "print(part2)"
   ]
  },
  {
   "cell_type": "markdown",
   "id": "e9e87926",
   "metadata": {},
   "source": [
    " Indexing, Slicing, and Boolean Indexing"
   ]
  },
  {
   "cell_type": "code",
   "execution_count": 153,
   "id": "934affb7",
   "metadata": {},
   "outputs": [
    {
     "name": "stdout",
     "output_type": "stream",
     "text": [
      "11\n"
     ]
    }
   ],
   "source": [
    "data = np.array([[10, 11, 12], [13, 14, 15], [16, 17, 18]])\n",
    "element = data[0, 1]\n",
    "print(element)"
   ]
  },
  {
   "cell_type": "code",
   "execution_count": 154,
   "id": "5949d6fc",
   "metadata": {},
   "outputs": [
    {
     "name": "stdout",
     "output_type": "stream",
     "text": [
      "[[10 11 12]\n",
      " [13 14 15]]\n"
     ]
    }
   ],
   "source": [
    "element2 = data[:2,:]\n",
    "print(element2)"
   ]
  },
  {
   "cell_type": "code",
   "execution_count": 155,
   "id": "22ec83b6",
   "metadata": {},
   "outputs": [
    {
     "name": "stdout",
     "output_type": "stream",
     "text": [
      "[11 15 17]\n"
     ]
    }
   ],
   "source": [
    "element3 = data[(0, 1, 2),(1, 2, 1)]\n",
    "print(element3)"
   ]
  },
  {
   "cell_type": "code",
   "execution_count": 156,
   "id": "99f6f724",
   "metadata": {},
   "outputs": [
    {
     "name": "stdout",
     "output_type": "stream",
     "text": [
      "[85 92 95 88]\n"
     ]
    }
   ],
   "source": [
    "scores = np.array([85, 92, 78, 65, 95, 88])\n",
    "high_scores = scores[scores > 80]\n",
    "print(high_scores)"
   ]
  },
  {
   "cell_type": "markdown",
   "id": "a3549ce7",
   "metadata": {},
   "source": [
    "Numerical Operations and Aggregations"
   ]
  },
  {
   "cell_type": "code",
   "execution_count": 157,
   "id": "b9b7256c",
   "metadata": {},
   "outputs": [
    {
     "name": "stdout",
     "output_type": "stream",
     "text": [
      "[ 20  80 180]\n",
      "[5. 5. 5.]\n"
     ]
    }
   ],
   "source": [
    "arr_op1 = np.array([10, 20, 30]) \n",
    "arr_op2 = np.array([2, 4, 6])\n",
    "arr_multiply = arr_op1 * arr_op2\n",
    "arr_divide = arr_op1 / arr_op2\n",
    "print(arr_multiply)    \n",
    "print(arr_divide)"
   ]
  },
  {
   "cell_type": "code",
   "execution_count": 158,
   "id": "ebe13876",
   "metadata": {},
   "outputs": [
    {
     "name": "stdout",
     "output_type": "stream",
     "text": [
      "45\n"
     ]
    }
   ],
   "source": [
    "matrix = np.array([[1, 2, 3], [4, 5, 6], [7, 8, 9]])\n",
    "matrix_sum = np.sum(matrix)\n",
    "print(matrix_sum)  "
   ]
  },
  {
   "cell_type": "code",
   "execution_count": 159,
   "id": "db6de0e9",
   "metadata": {},
   "outputs": [
    {
     "name": "stdout",
     "output_type": "stream",
     "text": [
      "[4. 5. 6.]\n"
     ]
    }
   ],
   "source": [
    "mean = np.mean(matrix, axis=0)\n",
    "print(mean)"
   ]
  },
  {
   "cell_type": "code",
   "execution_count": 160,
   "id": "b524c016",
   "metadata": {},
   "outputs": [
    {
     "name": "stdout",
     "output_type": "stream",
     "text": [
      "[ 90. 135. 180. 225.]\n"
     ]
    }
   ],
   "source": [
    "price_array = np.array([100, 150, 200, 250])\n",
    "discount = 0.1\n",
    "discount = price_array * (1 - discount)\n",
    "print(discount)"
   ]
  }
 ],
 "metadata": {
  "kernelspec": {
   "display_name": "Python 3",
   "language": "python",
   "name": "python3"
  },
  "language_info": {
   "codemirror_mode": {
    "name": "ipython",
    "version": 3
   },
   "file_extension": ".py",
   "mimetype": "text/x-python",
   "name": "python",
   "nbconvert_exporter": "python",
   "pygments_lexer": "ipython3",
   "version": "3.13.3"
  }
 },
 "nbformat": 4,
 "nbformat_minor": 5
}
