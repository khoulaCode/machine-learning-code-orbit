{
 "cells": [
  {
   "cell_type": "code",
   "execution_count": 10,
   "id": "118d7ca8",
   "metadata": {},
   "outputs": [],
   "source": [
    "import numpy as np\n"
   ]
  },
  {
   "cell_type": "markdown",
   "id": "97688e6e",
   "metadata": {},
   "source": [
    "1. Data Generation\n"
   ]
  },
  {
   "cell_type": "code",
   "execution_count": 11,
   "id": "22b07593",
   "metadata": {},
   "outputs": [],
   "source": [
    "time_in_minutes = np.arange(1440)\n",
    "\n",
    "\n",
    "temperature_data = np.random.normal(22,5,size=1440)\n",
    "humidity_data = np.random.normal(55,5,size=1440)\n",
    "pressure_data =  np.random.normal(1012,10,size=1440)\n",
    "\n",
    "environmental_data = np.column_stack((time_in_minutes, temperature_data, humidity_data, pressure_data))\n",
    "\n",
    "environmental_data = environmental_data.astype(np.float32)"
   ]
  },
  {
   "cell_type": "markdown",
   "id": "b6745a23",
   "metadata": {},
   "source": [
    "2. Basic Statistics\n"
   ]
  },
  {
   "cell_type": "code",
   "execution_count": 12,
   "id": "972c56bc",
   "metadata": {},
   "outputs": [
    {
     "name": "stdout",
     "output_type": "stream",
     "text": [
      "\n",
      "Temperature (°C) stats\n",
      "  mean :  22.20\n",
      "  min  :   5.79\n",
      "  max  :  41.26\n",
      "  std  :   4.93\n",
      "\n",
      "Humidity    (%) stats\n",
      "  mean :  55.13\n",
      "  min  :  39.90\n",
      "  max  :  70.97\n",
      "  std  :   4.89\n",
      "\n",
      "Pressure   (hPa) stats\n",
      "  mean : 1011.62\n",
      "  min  : 981.92\n",
      "  max  : 1051.26\n",
      "  std  :  10.27\n"
     ]
    }
   ],
   "source": [
    "def print_stats(name: str, vector: np.ndarray) -> None:\n",
    "    print(f\"\\n{name} stats\")\n",
    "    print(f\"  mean : {vector.mean():6.2f}\")\n",
    "    print(f\"  min  : {vector.min():6.2f}\")\n",
    "    print(f\"  max  : {vector.max():6.2f}\")\n",
    "    print(f\"  std  : {vector.std():6.2f}\")\n",
    "\n",
    "print_stats(\"Temperature (°C)\", env_matrix[:, 1])\n",
    "print_stats(\"Humidity    (%)\", env_matrix[:, 2])\n",
    "print_stats(\"Pressure   (hPa)\", env_matrix[:, 3])"
   ]
  },
  {
   "cell_type": "markdown",
   "id": "5d02dd27",
   "metadata": {},
   "source": [
    "3. Hour-by-hour averages"
   ]
  },
  {
   "cell_type": "code",
   "execution_count": 13,
   "id": "f989b64c",
   "metadata": {},
   "outputs": [
    {
     "name": "stdout",
     "output_type": "stream",
     "text": [
      "Hour  1: 21.23 °C\n",
      "Hour  2: 21.98 °C\n",
      "Hour  3: 22.46 °C\n",
      "Hour  4: 22.28 °C\n",
      "Hour  5: 21.91 °C\n",
      "Hour  6: 22.19 °C\n",
      "Hour  7: 22.64 °C\n",
      "Hour  8: 21.97 °C\n",
      "Hour  9: 20.66 °C\n",
      "Hour 10: 22.00 °C\n",
      "Hour 11: 22.49 °C\n",
      "Hour 12: 21.58 °C\n",
      "Hour 13: 21.97 °C\n",
      "Hour 14: 22.44 °C\n",
      "Hour 15: 23.58 °C\n",
      "Hour 16: 22.47 °C\n",
      "Hour 17: 22.48 °C\n",
      "Hour 18: 22.33 °C\n",
      "Hour 19: 23.39 °C\n",
      "Hour 20: 21.78 °C\n",
      "Hour 21: 22.16 °C\n",
      "Hour 22: 22.21 °C\n",
      "Hour 23: 21.31 °C\n",
      "Hour 24: 23.26 °C\n",
      "Hour  1: 56.35 %\n",
      "Hour  2: 55.00 %\n",
      "Hour  3: 54.37 %\n",
      "Hour  4: 56.15 %\n",
      "Hour  5: 55.62 %\n",
      "Hour  6: 54.93 %\n",
      "Hour  7: 54.60 %\n",
      "Hour  8: 54.93 %\n",
      "Hour  9: 55.50 %\n",
      "Hour 10: 54.78 %\n",
      "Hour 11: 54.58 %\n",
      "Hour 12: 54.84 %\n",
      "Hour 13: 55.24 %\n",
      "Hour 14: 54.59 %\n",
      "Hour 15: 56.15 %\n",
      "Hour 16: 53.90 %\n",
      "Hour 17: 55.30 %\n",
      "Hour 18: 55.30 %\n",
      "Hour 19: 55.50 %\n",
      "Hour 20: 55.44 %\n",
      "Hour 21: 54.73 %\n",
      "Hour 22: 56.40 %\n",
      "Hour 23: 54.26 %\n",
      "Hour 24: 54.73 %\n",
      "Hour  1: 1012.16 hPa\n",
      "Hour  2: 1011.90 hPa\n",
      "Hour  3: 1009.40 hPa\n",
      "Hour  4: 1012.80 hPa\n",
      "Hour  5: 1009.07 hPa\n",
      "Hour  6: 1013.05 hPa\n",
      "Hour  7: 1012.94 hPa\n",
      "Hour  8: 1013.13 hPa\n",
      "Hour  9: 1012.15 hPa\n",
      "Hour 10: 1012.43 hPa\n",
      "Hour 11: 1011.51 hPa\n",
      "Hour 12: 1013.47 hPa\n",
      "Hour 13: 1011.58 hPa\n",
      "Hour 14: 1014.60 hPa\n",
      "Hour 15: 1009.43 hPa\n",
      "Hour 16: 1009.34 hPa\n",
      "Hour 17: 1010.88 hPa\n",
      "Hour 18: 1012.60 hPa\n",
      "Hour 19: 1011.23 hPa\n",
      "Hour 20: 1011.17 hPa\n",
      "Hour 21: 1013.10 hPa\n",
      "Hour 22: 1010.33 hPa\n",
      "Hour 23: 1010.91 hPa\n",
      "Hour 24: 1009.77 hPa\n"
     ]
    }
   ],
   "source": [
    "def hourly_average(series: np.ndarray, unit: str) -> None:\n",
    "    for hr in range(24):\n",
    "        seg = series[hr*60:(hr+1)*60]\n",
    "        print(f\"Hour {hr+1:2d}: {seg.mean():.2f} {unit}\")\n",
    "\n",
    "hourly_average(env_matrix[:, 1], \"°C\")\n",
    "hourly_average(env_matrix[:, 2], \"%\")\n",
    "hourly_average(env_matrix[:, 3], \"hPa\")"
   ]
  },
  {
   "cell_type": "markdown",
   "id": "11dc054a",
   "metadata": {},
   "source": [
    "simple anomaly checks"
   ]
  },
  {
   "cell_type": "code",
   "execution_count": 14,
   "id": "406b4de3",
   "metadata": {},
   "outputs": [
    {
     "name": "stdout",
     "output_type": "stream",
     "text": [
      "\n",
      "Minutes with T > 25 °C: 400\n",
      "Coldest measurement 5.79 °C at minute 262\n"
     ]
    }
   ],
   "source": [
    "threshold_c = 25\n",
    "above_thresh = np.sum(env_matrix[:, 1] > threshold_c)\n",
    "print(f\"\\nMinutes with T > {threshold_c} °C: {above_thresh}\")\n",
    "\n",
    "\n",
    "coldest_idx = env_matrix[:, 1].argmin()\n",
    "print(f\"Coldest measurement {env_matrix[coldest_idx,1]:.2f} °C \"\n",
    "      f\"at minute {int(env_matrix[coldest_idx,0])}\")"
   ]
  }
 ],
 "metadata": {
  "kernelspec": {
   "display_name": "Python 3",
   "language": "python",
   "name": "python3"
  },
  "language_info": {
   "codemirror_mode": {
    "name": "ipython",
    "version": 3
   },
   "file_extension": ".py",
   "mimetype": "text/x-python",
   "name": "python",
   "nbconvert_exporter": "python",
   "pygments_lexer": "ipython3",
   "version": "3.13.3"
  }
 },
 "nbformat": 4,
 "nbformat_minor": 5
}
