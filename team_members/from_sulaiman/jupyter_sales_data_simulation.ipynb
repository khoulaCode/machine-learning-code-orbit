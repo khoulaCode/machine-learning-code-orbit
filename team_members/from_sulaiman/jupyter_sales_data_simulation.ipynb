{
 "cells": [
  {
   "cell_type": "markdown",
   "id": "7fbde0c8",
   "metadata": {},
   "source": [
    "# Sales Data Simulation"
   ]
  },
  {
   "cell_type": "markdown",
   "id": "7d8db792",
   "metadata": {},
   "source": [
    "## 1. Sales Data Generation"
   ]
  },
  {
   "cell_type": "code",
   "execution_count": 1,
   "id": "c44616c4",
   "metadata": {},
   "outputs": [
    {
     "name": "stdout",
     "output_type": "stream",
     "text": [
      "Daily Sales Revenue for 30 Days:\n",
      "[1122.61978167 1152.56256494  717.83217348 1337.06539362  836.98425088\n",
      "  953.81622474  932.66480936 1519.81534829  671.66133738 1123.99852934\n",
      " 1363.06751312  753.30899958  927.15468403  849.1510119  1045.00189541\n",
      "  827.21449266  743.53922057  909.67931087 1152.28281724  968.34144381\n",
      " 1069.95367753  988.00307558  745.03943735  928.01095918 1247.2773189\n",
      " 1100.56546928 1037.33497148 1285.41474818  638.62368386 1164.33476987]\n"
     ]
    }
   ],
   "source": [
    "import numpy as np\n",
    "\n",
    "daily_sales_revenue = np.random.normal(loc=1000, scale=200, size=30)\n",
    "print(\"Daily Sales Revenue for 30 Days:\")\n",
    "print(daily_sales_revenue)"
   ]
  },
  {
   "cell_type": "code",
   "execution_count": 2,
   "id": "dea5d8ad",
   "metadata": {},
   "outputs": [
    {
     "name": "stdout",
     "output_type": "stream",
     "text": [
      "\n",
      "Units Sold for 30 Days:\n",
      "[66.35049585 46.64583238 57.38940251 52.36755622 40.549709   53.20498346\n",
      " 44.79179598 57.11239386 42.8755903  61.90156044 53.93894594 41.03863815\n",
      " 54.80150239 64.57107173 49.85682899 38.77894755 35.78261147 38.54487672\n",
      " 43.06143124 54.53057824 45.80330842 75.91069468 33.07614409 48.6831916\n",
      " 41.37899523 46.56247213 75.38130923 48.80920802 54.25899508 33.4815319 ]\n"
     ]
    }
   ],
   "source": [
    "units_sold = np.random.normal(loc=50, scale=10, size=30)\n",
    "print(\"\\nUnits Sold for 30 Days:\")\n",
    "print(units_sold)"
   ]
  },
  {
   "cell_type": "markdown",
   "id": "ec244f01",
   "metadata": {},
   "source": [
    "## 2. Combine Data"
   ]
  },
  {
   "cell_type": "code",
   "execution_count": 8,
   "id": "922bc928",
   "metadata": {},
   "outputs": [
    {
     "name": "stdout",
     "output_type": "stream",
     "text": [
      "\n",
      "Combined Daily Sales Revenue and Units Sold:\n",
      "[[1122.61978167   66.35049585]\n",
      " [1152.56256494   46.64583238]\n",
      " [ 717.83217348   57.38940251]\n",
      " [1337.06539362   52.36755622]\n",
      " [ 836.98425088   40.549709  ]\n",
      " [ 953.81622474   53.20498346]\n",
      " [ 932.66480936   44.79179598]\n",
      " [1519.81534829   57.11239386]\n",
      " [ 671.66133738   42.8755903 ]\n",
      " [1123.99852934   61.90156044]\n",
      " [1363.06751312   53.93894594]\n",
      " [ 753.30899958   41.03863815]\n",
      " [ 927.15468403   54.80150239]\n",
      " [ 849.1510119    64.57107173]\n",
      " [1045.00189541   49.85682899]\n",
      " [ 827.21449266   38.77894755]\n",
      " [ 743.53922057   35.78261147]\n",
      " [ 909.67931087   38.54487672]\n",
      " [1152.28281724   43.06143124]\n",
      " [ 968.34144381   54.53057824]\n",
      " [1069.95367753   45.80330842]\n",
      " [ 988.00307558   75.91069468]\n",
      " [ 745.03943735   33.07614409]\n",
      " [ 928.01095918   48.6831916 ]\n",
      " [1247.2773189    41.37899523]\n",
      " [1100.56546928   46.56247213]\n",
      " [1037.33497148   75.38130923]\n",
      " [1285.41474818   48.80920802]\n",
      " [ 638.62368386   54.25899508]\n",
      " [1164.33476987   33.4815319 ]]\n"
     ]
    }
   ],
   "source": [
    "d2_array = np.column_stack((daily_sales_revenue, units_sold))\n",
    "print(\"\\nCombined Daily Sales Revenue and Units Sold:\")\n",
    "print(d2_array)"
   ]
  },
  {
   "cell_type": "markdown",
   "id": "af283921",
   "metadata": {},
   "source": [
    "## 3. Key Performance Indicators(KPIs):"
   ]
  },
  {
   "cell_type": "code",
   "execution_count": 6,
   "id": "5ff138ed",
   "metadata": {},
   "outputs": [
    {
     "name": "stdout",
     "output_type": "stream",
     "text": [
      "\n",
      "Total Sales Revenue for 30 Days:\n",
      "30112.31991409995\n"
     ]
    }
   ],
   "source": [
    "d2_array_sales_revenue_sum = np.sum(d2_array[:, 0])\n",
    "print(\"\\nTotal Sales Revenue for 30 Days:\")\n",
    "print(d2_array_sales_revenue_sum)"
   ]
  },
  {
   "cell_type": "code",
   "execution_count": 7,
   "id": "eb1b09a5",
   "metadata": {},
   "outputs": [
    {
     "name": "stdout",
     "output_type": "stream",
     "text": [
      "\n",
      "Average Units Sold per Day:\n",
      "50.048020093509884\n"
     ]
    }
   ],
   "source": [
    "d2_array_average_units_sold = np.mean(d2_array[:, 1])\n",
    "print(\"\\nAverage Units Sold per Day:\")\n",
    "print(d2_array_average_units_sold)"
   ]
  },
  {
   "cell_type": "code",
   "execution_count": 9,
   "id": "b03bf270",
   "metadata": {},
   "outputs": [
    {
     "name": "stdout",
     "output_type": "stream",
     "text": [
      "\n",
      "Day with Maximum Sales Revenue: Day 8 with Revenue 1519.8153482946498\n"
     ]
    }
   ],
   "source": [
    "max_sales_revenue = np.max(d2_array[:, 0])\n",
    "for i in range(len(d2_array)):\n",
    "    if d2_array[i, 0] == max_sales_revenue:\n",
    "        print(f\"\\nDay with Maximum Sales Revenue: Day {i + 1} with Revenue {max_sales_revenue}\")"
   ]
  },
  {
   "cell_type": "code",
   "execution_count": 12,
   "id": "1929e677",
   "metadata": {},
   "outputs": [
    {
     "name": "stdout",
     "output_type": "stream",
     "text": [
      "\n",
      "Average Sales Revenue per Unit Sold:\n",
      "20.055618489228273\n"
     ]
    }
   ],
   "source": [
    "d2_units_sold_sum = np.sum(d2_array[:, 1])\n",
    "average_sales_revenue_per_unit = d2_array_sales_revenue_sum / d2_units_sold_sum\n",
    "print(\"\\nAverage Sales Revenue per Unit Sold:\")\n",
    "print(average_sales_revenue_per_unit)"
   ]
  },
  {
   "cell_type": "code",
   "execution_count": null,
   "id": "5ef3b280",
   "metadata": {},
   "outputs": [],
   "source": []
  }
 ],
 "metadata": {
  "kernelspec": {
   "display_name": "Python 3",
   "language": "python",
   "name": "python3"
  },
  "language_info": {
   "codemirror_mode": {
    "name": "ipython",
    "version": 3
   },
   "file_extension": ".py",
   "mimetype": "text/x-python",
   "name": "python",
   "nbconvert_exporter": "python",
   "pygments_lexer": "ipython3",
   "version": "3.13.3"
  }
 },
 "nbformat": 4,
 "nbformat_minor": 5
}
