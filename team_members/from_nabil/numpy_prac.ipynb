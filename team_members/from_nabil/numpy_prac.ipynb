{
 "cells": [
  {
   "cell_type": "markdown",
   "id": "77d55f87",
   "metadata": {},
   "source": [
    "Array Creation and Properties"
   ]
  },
  {
   "cell_type": "code",
   "execution_count": 85,
   "id": "bccfd102-b324-4296-a07e-2b939b37379e",
   "metadata": {},
   "outputs": [
    {
     "data": {
      "text/plain": [
       "array([0, 1, 2, 3, 4, 5, 6, 7, 8, 9])"
      ]
     },
     "execution_count": 85,
     "metadata": {},
     "output_type": "execute_result"
    }
   ],
   "source": [
    "import numpy as np\n",
    "arr1d = np.arange(10)\n",
    "arr1d "
   ]
  },
  {
   "cell_type": "code",
   "execution_count": 86,
   "id": "916cf960-50d4-449e-9450-e3f1faadf9a7",
   "metadata": {},
   "outputs": [
    {
     "data": {
      "text/plain": [
       "array([[1., 1., 1.],\n",
       "       [1., 1., 1.],\n",
       "       [1., 1., 1.]])"
      ]
     },
     "execution_count": 86,
     "metadata": {},
     "output_type": "execute_result"
    }
   ],
   "source": [
    "\n",
    "arr2d = np.ones((3,3))\n",
    "arr2d"
   ]
  },
  {
   "cell_type": "code",
   "execution_count": 88,
   "id": "3dc302d9-bbd6-48cd-a5d5-8fd2be67fc68",
   "metadata": {},
   "outputs": [
    {
     "data": {
      "text/plain": [
       "array([[-0.25860429, -0.23145205, -1.51987982],\n",
       "       [ 0.57336306, -0.24448677,  2.07853984],\n",
       "       [-1.29972121,  0.70173206, -1.0285794 ]])"
      ]
     },
     "execution_count": 88,
     "metadata": {},
     "output_type": "execute_result"
    }
   ],
   "source": [
    "random_matrix = np.random.randn(3,3)\n",
    "random_matrix"
   ]
  },
  {
   "cell_type": "code",
   "execution_count": 89,
   "id": "41e0afe8-2fe3-4a31-bb4d-8a4c5b22019e",
   "metadata": {},
   "outputs": [
    {
     "data": {
      "text/plain": [
       "array([10, 12, 14, 16, 18, 20, 22, 24, 26, 28, 30, 32, 34, 36, 38, 40, 42,\n",
       "       44, 46, 48])"
      ]
     },
     "execution_count": 89,
     "metadata": {},
     "output_type": "execute_result"
    }
   ],
   "source": [
    "even_numbers = np.arange(10, 50, 2)\n",
    "even_numbers"
   ]
  },
  {
   "cell_type": "code",
   "execution_count": 90,
   "id": "a623fe6d-0429-4da9-af77-d459e2cc6cb3",
   "metadata": {},
   "outputs": [
    {
     "data": {
      "text/plain": [
       "array([0.        , 0.16666667, 0.33333333, 0.5       , 0.66666667,\n",
       "       0.83333333, 1.        ])"
      ]
     },
     "execution_count": 90,
     "metadata": {},
     "output_type": "execute_result"
    }
   ],
   "source": [
    "linspace_array = np.linspace(0, 1, 7)\n",
    "linspace_array"
   ]
  },
  {
   "cell_type": "code",
   "execution_count": 91,
   "id": "48c6f2da-6d04-4297-8a02-96d647528684",
   "metadata": {},
   "outputs": [
    {
     "name": "stdout",
     "output_type": "stream",
     "text": [
      "[[1 2 3]\n",
      " [4 5 6]]\n",
      "shape: (2, 3)\n",
      "dtype: int64\n",
      "ndim: 2\n"
     ]
    }
   ],
   "source": [
    "arr = np.array([[1,2,3], [4,5,6]])\n",
    "print(arr)\n",
    "print(\"shape:\", arr.shape)\n",
    "print(\"dtype:\" , arr.dtype)\n",
    "print(\"ndim:\" , arr.ndim)"
   ]
  },
  {
   "cell_type": "markdown",
   "id": "e2c5f61f",
   "metadata": {},
   "source": [
    "Array Manipulation "
   ]
  },
  {
   "cell_type": "code",
   "execution_count": 92,
   "id": "350217ba",
   "metadata": {},
   "outputs": [
    {
     "name": "stdout",
     "output_type": "stream",
     "text": [
      "reshaped_arr:\n",
      " [[0 1 2 3 4]\n",
      " [5 6 7 8 9]]\n"
     ]
    }
   ],
   "source": [
    "reshaped_arr = arr1d.reshape((2, 5))\n",
    "print(\"reshaped_arr:\\n\", reshaped_arr)"
   ]
  },
  {
   "cell_type": "code",
   "execution_count": 93,
   "id": "573f2b85",
   "metadata": {},
   "outputs": [
    {
     "name": "stdout",
     "output_type": "stream",
     "text": [
      "transposed_arr:\n",
      " [[0 5]\n",
      " [1 6]\n",
      " [2 7]\n",
      " [3 8]\n",
      " [4 9]]\n"
     ]
    }
   ],
   "source": [
    "transposed_arr = reshaped_arr.T\n",
    "print(\"transposed_arr:\\n\", transposed_arr)\n"
   ]
  },
  {
   "cell_type": "code",
   "execution_count": 94,
   "id": "1cd3fbb5",
   "metadata": {},
   "outputs": [
    {
     "name": "stdout",
     "output_type": "stream",
     "text": [
      "stack_vertically:\n",
      " [[1 2 3]\n",
      " [4 5 6]]\n"
     ]
    }
   ],
   "source": [
    "a = np.array([1,2,3])\n",
    "b = np.array([4,5,6])\n",
    "stack_vertically = np.vstack((a,b))\n",
    "print(\"stack_vertically:\\n\", stack_vertically)"
   ]
  },
  {
   "cell_type": "code",
   "execution_count": 95,
   "id": "ce2f83b8",
   "metadata": {},
   "outputs": [
    {
     "name": "stdout",
     "output_type": "stream",
     "text": [
      "stack_horizontal:\n",
      " [[1 2 5 6]\n",
      " [3 4 7 8]]\n"
     ]
    }
   ],
   "source": [
    "m1 = np.array([[1,2],[3,4]])\n",
    "m2 = np.array([[5,6],[7,8]])\n",
    "stack_horizontally = np.hstack((m1,m2))\n",
    "print(\"stack_horizontal:\\n\", stack_horizontally)"
   ]
  },
  {
   "cell_type": "code",
   "execution_count": 96,
   "id": "32e1ff94",
   "metadata": {},
   "outputs": [
    {
     "name": "stdout",
     "output_type": "stream",
     "text": [
      "Split horizontally into 2 parts:\n",
      "\n",
      "part 1:\n",
      " [[ 0  1]\n",
      " [ 4  5]\n",
      " [ 8  9]\n",
      " [12 13]]\n",
      "part 2:\n",
      " [[ 2  3]\n",
      " [ 6  7]\n",
      " [10 11]\n",
      " [14 15]]\n"
     ]
    }
   ],
   "source": [
    "arr_to_split = np.arange(16).reshape(4,4)\n",
    "split_horizontal = np.hsplit(arr_to_split, 2)\n",
    "print(\"Split horizontally into 2 parts:\\n\")\n",
    "print(\"part 1:\\n\",split_horizontal[0])\n",
    "print(\"part 2:\\n\",split_horizontal[1])"
   ]
  },
  {
   "cell_type": "code",
   "execution_count": 97,
   "id": "c68c354a",
   "metadata": {},
   "outputs": [
    {
     "name": "stdout",
     "output_type": "stream",
     "text": [
      "split vertically at index 2:\n",
      "\n",
      "part 1: \n",
      " [[0 1 2 3]\n",
      " [4 5 6 7]]\n",
      "part 2: \n",
      " [[ 8  9 10 11]\n",
      " [12 13 14 15]]\n"
     ]
    }
   ],
   "source": [
    "split = np.vsplit(arr_to_split, 2)\n",
    "print(\"split vertically at index 2:\\n\")\n",
    "print(\"part 1: \\n\",split[0])\n",
    "print(\"part 2: \\n\",split[1])"
   ]
  },
  {
   "cell_type": "markdown",
   "id": "eebeaf6c",
   "metadata": {},
   "source": [
    "Indexing, Slicing, and Boolean Indexing"
   ]
  },
  {
   "cell_type": "code",
   "execution_count": 98,
   "id": "352617e1",
   "metadata": {},
   "outputs": [
    {
     "name": "stdout",
     "output_type": "stream",
     "text": [
      "ectract element:\n",
      " 15\n"
     ]
    }
   ],
   "source": [
    "Given_data = np.array([[10,11,12],\n",
    "                       [13,14,15],\n",
    "                       [16,17,18]])\n",
    "extract_element = Given_data[1,2]\n",
    "print(\"ectract element:\\n\",extract_element)"
   ]
  },
  {
   "cell_type": "code",
   "execution_count": 99,
   "id": "51f85314",
   "metadata": {},
   "outputs": [
    {
     "name": "stdout",
     "output_type": "stream",
     "text": [
      "extract:\n",
      " [[10 11 12]\n",
      " [13 14 15]]\n"
     ]
    }
   ],
   "source": [
    "Extract_elem = Given_data[:2,:]\n",
    "print(\"extract:\\n\", Extract_elem)"
   ]
  },
  {
   "cell_type": "code",
   "execution_count": 100,
   "id": "1c95178d",
   "metadata": {},
   "outputs": [
    {
     "data": {
      "text/plain": [
       "array([11, 15, 17])"
      ]
     },
     "execution_count": 100,
     "metadata": {},
     "output_type": "execute_result"
    }
   ],
   "source": [
    "rows = [0,1,2]\n",
    "cols = [1,2,1]\n",
    "part_t = Given_data[rows,cols]\n",
    "part_t"
   ]
  },
  {
   "cell_type": "code",
   "execution_count": 101,
   "id": "95678677",
   "metadata": {},
   "outputs": [
    {
     "name": "stdout",
     "output_type": "stream",
     "text": [
      "Scores greater than 80:\n",
      " [85 92 95 88]\n"
     ]
    }
   ],
   "source": [
    "Given_scores = np.array([85, 92, 78, 65, 95, 88])\n",
    "condition = Given_scores [Given_scores> 80 ]\n",
    "print(\"Scores greater than 80:\\n\", condition)"
   ]
  },
  {
   "cell_type": "markdown",
   "id": "2add7b24",
   "metadata": {},
   "source": [
    "Numerical Operations and Aggregations"
   ]
  },
  {
   "cell_type": "code",
   "execution_count": 103,
   "id": "2627540d",
   "metadata": {},
   "outputs": [
    {
     "name": "stdout",
     "output_type": "stream",
     "text": [
      "multiplication of arr_op1 and arr_op2: \n",
      " [ 20  80 180]\n",
      "division of arr_op1 and arr_op2: \n",
      " [5. 5. 5.]\n"
     ]
    }
   ],
   "source": [
    "arr_op1 = np.array([10, 20, 30])\n",
    "arr_op2 = np.array([2, 4, 6])\n",
    "multiplication = arr_op1 * arr_op2\n",
    "division = arr_op1 / arr_op2\n",
    "print(\"multiplication of arr_op1 and arr_op2: \\n\", multiplication)\n",
    "print(\"division of arr_op1 and arr_op2: \\n\", division)"
   ]
  },
  {
   "cell_type": "code",
   "execution_count": 104,
   "id": "698a5854",
   "metadata": {},
   "outputs": [
    {
     "data": {
      "text/plain": [
       "np.int64(45)"
      ]
     },
     "execution_count": 104,
     "metadata": {},
     "output_type": "execute_result"
    }
   ],
   "source": [
    "Given_matrix = np.array([[1, 2, 3], [4, 5, 6], [7, 8, 9]])\n",
    "calculate_sum = np.sum (Given_matrix)\n",
    "calculate_sum"
   ]
  },
  {
   "cell_type": "code",
   "execution_count": 105,
   "id": "7158e4a4",
   "metadata": {},
   "outputs": [
    {
     "data": {
      "text/plain": [
       "array([4., 5., 6.])"
      ]
     },
     "execution_count": 105,
     "metadata": {},
     "output_type": "execute_result"
    }
   ],
   "source": [
    "Given_matrix = np.array([[1, 2, 3], [4, 5, 6], [7, 8, 9]])\n",
    "get_mean = np.mean(Given_matrix , axis=0)\n",
    "get_mean"
   ]
  },
  {
   "cell_type": "code",
   "execution_count": 106,
   "id": "2fc4fd73",
   "metadata": {},
   "outputs": [
    {
     "data": {
      "text/plain": [
       "array([ 90., 135., 180., 225.])"
      ]
     },
     "execution_count": 106,
     "metadata": {},
     "output_type": "execute_result"
    }
   ],
   "source": [
    "Given_price_array = np.array([100, 150, 200, 250])\n",
    "discount_percentage = 0.10\n",
    "apply = Given_price_array * (1 - discount_percentage)\n",
    "apply"
   ]
  }
 ],
 "metadata": {
  "kernelspec": {
   "display_name": "Python 3",
   "language": "python",
   "name": "python3"
  },
  "language_info": {
   "codemirror_mode": {
    "name": "ipython",
    "version": 3
   },
   "file_extension": ".py",
   "mimetype": "text/x-python",
   "name": "python",
   "nbconvert_exporter": "python",
   "pygments_lexer": "ipython3",
   "version": "3.13.3"
  }
 },
 "nbformat": 4,
 "nbformat_minor": 5
}
