{
 "cells": [
  {
   "cell_type": "code",
   "execution_count": 5,
   "id": "c05cb55f-37fb-41e8-9734-65263f79c916",
   "metadata": {},
   "outputs": [
    {
     "name": "stdout",
     "output_type": "stream",
     "text": [
      "[[0.00000000e+00 2.29934283e+01 5.83144063e+01 1.00976177e+03]\n",
      " [1.00000000e+00 2.17234714e+01 6.08673693e+01 1.00987930e+03]\n",
      " [2.00000000e+00 2.32953771e+01 5.59051078e+01 1.01139313e+03]\n",
      " ...\n",
      " [1.43700000e+03 2.52146912e+01 5.16611022e+01 1.01312791e+03]\n",
      " [1.43800000e+03 2.29819499e+01 5.64609636e+01 1.01215449e+03]\n",
      " [1.43900000e+03 2.34697556e+01 5.40633549e+01 1.01166345e+03]]\n"
     ]
    }
   ],
   "source": [
    "import numpy as np\n",
    "import time\n",
    "\n",
    "\n",
    "# Seed for reproducibility\n",
    "np.random.seed(42)\n",
    "\n",
    "# Create time array for every minute in 24 hours\n",
    "time_in_minutes = np.arange(0, 1440)  # 0 to 1439\n",
    "\n",
    "# Generate synthetic data\n",
    "temperature = 22 + np.random.normal(0, 2, size=1440)\n",
    "humidity = np.clip(55 + np.random.normal(0, 5, size=1440), 0, 100)\n",
    "pressure = 1012 + np.random.normal(0, 1, size=1440)\n",
    "\n",
    "# Combine all into a single array\n",
    "data = np.column_stack((time_in_minutes, temperature, humidity, pressure))\n",
    "np.set_printoptions(suppress=True, pre\n",
    "print(data)"
   ]
  },
  {
   "cell_type": "code",
   "execution_count": 2,
   "id": "c82b0189-df49-4200-9d71-004fc67b3e71",
   "metadata": {},
   "outputs": [
    {
     "name": "stdout",
     "output_type": "stream",
     "text": [
      "Basic Statistics:\n",
      "Avg Temp: 22.08°C | Min: 15.52°C | Max: 29.71°C | Std: 1.97\n",
      "Avg Hum:  55.13%  | Min: 39.90%  | Max: 70.97%  | Std: 4.89\n",
      "Avg Pres: 1011.96 hPa | Min: 1008.99 hPa | Max: 1015.93 hPa | Std: 1.03\n"
     ]
    }
   ],
   "source": [
    "# Basic Statistics\n",
    "avg_temp = np.mean(temperature)\n",
    "min_temp = np.min(temperature)\n",
    "max_temp = np.max(temperature)\n",
    "std_temp = np.std(temperature)\n",
    "\n",
    "avg_hum = np.mean(humidity)\n",
    "min_hum = np.min(humidity)\n",
    "max_hum = np.max(humidity)\n",
    "std_hum = np.std(humidity)\n",
    "\n",
    "avg_pres = np.mean(pressure)\n",
    "min_pres = np.min(pressure)\n",
    "max_pres = np.max(pressure)\n",
    "std_pres = np.std(pressure)\n",
    "print(\"Basic Statistics:\")\n",
    "print(f\"Avg Temp: {avg_temp:.2f}°C | Min: {min_temp:.2f}°C | Max: {max_temp:.2f}°C | Std: {std_temp:.2f}\")\n",
    "print(f\"Avg Hum:  {avg_hum:.2f}%  | Min: {min_hum:.2f}%  | Max: {max_hum:.2f}%  | Std: {std_hum:.2f}\")\n",
    "print(f\"Avg Pres: {avg_pres:.2f} hPa | Min: {min_pres:.2f} hPa | Max: {max_pres:.2f} hPa | Std: {std_pres:.2f}\")"
   ]
  },
  {
   "cell_type": "code",
   "execution_count": 3,
   "id": "1a03632d-c7b6-4338-8752-a298ba93988e",
   "metadata": {},
   "outputs": [
    {
     "name": "stdout",
     "output_type": "stream",
     "text": [
      "\n",
      "Hourly Average Temperatures (°C):\n",
      "Hour 00: 21.69\n",
      "Hour 01: 21.99\n",
      "Hour 02: 22.18\n",
      "Hour 03: 22.11\n",
      "Hour 04: 21.96\n",
      "Hour 05: 22.08\n",
      "Hour 06: 22.26\n",
      "Hour 07: 21.99\n",
      "Hour 08: 21.47\n",
      "Hour 09: 22.00\n",
      "Hour 10: 22.20\n",
      "Hour 11: 21.83\n",
      "Hour 12: 21.99\n",
      "Hour 13: 22.18\n",
      "Hour 14: 22.63\n",
      "Hour 15: 22.19\n",
      "Hour 16: 22.19\n",
      "Hour 17: 22.13\n",
      "Hour 18: 22.56\n",
      "Hour 19: 21.91\n",
      "Hour 20: 22.07\n",
      "Hour 21: 22.08\n",
      "Hour 22: 21.72\n",
      "Hour 23: 22.50\n"
     ]
    }
   ],
   "source": [
    "# Hourly Averages\n",
    "temp_hourly = temperature.reshape(24, 60)\n",
    "hum_hourly = humidity.reshape(24, 60)\n",
    "pres_hourly = pressure.reshape(24, 60)\n",
    "\n",
    "avg_temp_hourly = np.mean(temp_hourly, axis=1)\n",
    "avg_hum_hourly = np.mean(hum_hourly, axis=1)\n",
    "avg_pres_hourly = np.mean(pres_hourly, axis=1)\n",
    "\n",
    "print(\"\\nHourly Average Temperatures (°C):\")\n",
    "for hour, temp in enumerate(avg_temp_hourly):\n",
    "    print(f\"Hour {hour:02d}: {temp:.2f}\")\n"
   ]
  },
  {
   "cell_type": "code",
   "execution_count": 4,
   "id": "d8559064-af09-47d5-9d2e-1be3e8c9eef9",
   "metadata": {},
   "outputs": [
    {
     "name": "stdout",
     "output_type": "stream",
     "text": [
      "\n",
      "Minutes with temperature > 25°C: 114\n",
      "Minimum temperature occurred at minute 262 (04:22)\n"
     ]
    }
   ],
   "source": [
    "# Anomaly Detection\n",
    "threshold_temp = 25\n",
    "minutes_above_25 = np.sum(temperature > threshold_temp)\n",
    "\n",
    "min_temp_index = np.argmin(temperature)\n",
    "min_temp_minute = time_in_minutes[min_temp_index]\n",
    "\n",
    "# Convert minute to HH:MM format\n",
    "min_temp_hhmm = time.strftime('%H:%M', time.gmtime(min_temp_minute * 60))\n",
    "\n",
    "\n",
    "print(f\"\\nMinutes with temperature > 25°C: {minutes_above_25}\")\n",
    "print(f\"Minimum temperature occurred at minute {min_temp_minute} ({min_temp_hhmm})\")"
   ]
  },
  {
   "cell_type": "code",
   "execution_count": null,
   "id": "41cf674e-307f-457b-83f0-aa146a65c54c",
   "metadata": {},
   "outputs": [],
   "source": []
  }
 ],
 "metadata": {
  "kernelspec": {
   "display_name": "Python 3 (ipykernel)",
   "language": "python",
   "name": "python3"
  },
  "language_info": {
   "codemirror_mode": {
    "name": "ipython",
    "version": 3
   },
   "file_extension": ".py",
   "mimetype": "text/x-python",
   "name": "python",
   "nbconvert_exporter": "python",
   "pygments_lexer": "ipython3",
   "version": "3.13.3"
  }
 },
 "nbformat": 4,
 "nbformat_minor": 5
}
