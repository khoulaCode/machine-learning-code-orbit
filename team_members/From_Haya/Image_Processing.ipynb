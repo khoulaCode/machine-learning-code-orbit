{
 "cells": [
  {
   "cell_type": "markdown",
   "id": "f989c9af",
   "metadata": {},
   "source": [
    "# Simple Image Processing in Python using NumPy\n",
    "\n",
    "This notebook demonstrates basic grayscale image operations using a 2D NumPy array."
   ]
  },
  {
   "cell_type": "markdown",
   "id": "b12d326f",
   "metadata": {},
   "source": [
    "## Image Representation"
   ]
  },
  {
   "cell_type": "code",
   "execution_count": 1,
   "id": "7eab6edf",
   "metadata": {},
   "outputs": [
    {
     "name": "stdout",
     "output_type": "stream",
     "text": [
      "Original Image:\n",
      " [[191 106 139  26   5 113 153  48 250 220]\n",
      " [ 88  70 146 238  86 253 194 198 163  15]\n",
      " [ 40 159  64 151 207  59 161 187 116  73]\n",
      " [170 240 229 172 148 230 102 116 228 139]\n",
      " [187 185  81 205  97 235 204 219 253  79]\n",
      " [143   5  32 214  44  35 161 150 100 148]\n",
      " [239 158  40  93 216 230 188 227 160 238]\n",
      " [223  31 150 149 100 150  63  85  76  96]\n",
      " [  0 240  38 130 222 129 237  92  36  98]\n",
      " [127 204  61  60 161 205  28 182 153 245]]\n"
     ]
    }
   ],
   "source": [
    "import numpy as np\n",
    "\n",
    "# Create a 10x10 image with random pixel values (0-255)\n",
    "image = np.random.randint(0, 256, (10, 10))\n",
    "print(\"Original Image:\\n\", image)"
   ]
  },
  {
   "cell_type": "markdown",
   "id": "c386772f",
   "metadata": {},
   "source": [
    "## Display (Conceptual)\n",
    "\n",
    "Use `matplotlib.pyplot.imshow()` with `cmap='gray'` to display the image."
   ]
  },
  {
   "cell_type": "code",
   "execution_count": 2,
   "id": "a26a4047",
   "metadata": {},
   "outputs": [
    {
     "data": {
      "image/png": "[encoded data removed]",
      "text/plain": [
       "<Figure size 640x480 with 2 Axes>"
      ]
     },
     "metadata": {},
     "output_type": "display_data"
    }
   ],
   "source": [
    "import matplotlib.pyplot as plt\n",
    "\n",
    "plt.imshow(image, cmap='gray')\n",
    "plt.title(\"Grayscale Image\")\n",
    "plt.colorbar()\n",
    "plt.show()"
   ]
  },
  {
   "cell_type": "markdown",
   "id": "60391449",
   "metadata": {},
   "source": [
    "## Grayscale Inversion"
   ]
  },
  {
   "cell_type": "code",
   "execution_count": 3,
   "id": "15fd6615",
   "metadata": {},
   "outputs": [
    {
     "name": "stdout",
     "output_type": "stream",
     "text": [
      "Inverted Image:\n",
      " [[ 64 149 116 229 250 142 102 207   5  35]\n",
      " [167 185 109  17 169   2  61  57  92 240]\n",
      " [215  96 191 104  48 196  94  68 139 182]\n",
      " [ 85  15  26  83 107  25 153 139  27 116]\n",
      " [ 68  70 174  50 158  20  51  36   2 176]\n",
      " [112 250 223  41 211 220  94 105 155 107]\n",
      " [ 16  97 215 162  39  25  67  28  95  17]\n",
      " [ 32 224 105 106 155 105 192 170 179 159]\n",
      " [255  15 217 125  33 126  18 163 219 157]\n",
      " [128  51 194 195  94  50 227  73 102  10]]\n"
     ]
    }
   ],
   "source": [
    "inverted_image = 255 - image\n",
    "print(\"Inverted Image:\\n\", inverted_image)"
   ]
  },
  {
   "cell_type": "markdown",
   "id": "6cc1b2e6",
   "metadata": {},
   "source": [
    "## Thresholding"
   ]
  },
  {
   "cell_type": "code",
   "execution_count": 4,
   "id": "5e992d74",
   "metadata": {},
   "outputs": [
    {
     "name": "stdout",
     "output_type": "stream",
     "text": [
      "Thresholded Image:\n",
      " [[255   0 255   0   0   0 255   0 255 255]\n",
      " [  0   0 255 255   0 255 255 255 255   0]\n",
      " [  0 255   0 255 255   0 255 255   0   0]\n",
      " [255 255 255 255 255 255   0   0 255 255]\n",
      " [255 255   0 255   0 255 255 255 255   0]\n",
      " [255   0   0 255   0   0 255 255   0 255]\n",
      " [255 255   0   0 255 255 255 255 255 255]\n",
      " [255   0 255 255   0 255   0   0   0   0]\n",
      " [  0 255   0 255 255 255 255   0   0   0]\n",
      " [  0 255   0   0 255 255   0 255 255 255]]\n"
     ]
    }
   ],
   "source": [
    "threshold = 128\n",
    "thresholded_image = np.where(image < threshold, 0, 255)\n",
    "print(\"Thresholded Image:\\n\", thresholded_image)"
   ]
  },
  {
   "cell_type": "markdown",
   "id": "8977b707",
   "metadata": {},
   "source": [
    "## Cropping (4x4 region from center)"
   ]
  },
  {
   "cell_type": "code",
   "execution_count": 5,
   "id": "75dfdc32",
   "metadata": {},
   "outputs": [
    {
     "name": "stdout",
     "output_type": "stream",
     "text": [
      "Cropped 4x4 Region:\n",
      " [[172 148 230 102]\n",
      " [205  97 235 204]\n",
      " [214  44  35 161]\n",
      " [ 93 216 230 188]]\n"
     ]
    }
   ],
   "source": [
    "cropped_image = image[3:7, 3:7]\n",
    "print(\"Cropped 4x4 Region:\\n\", cropped_image)"
   ]
  },
  {
   "cell_type": "markdown",
   "id": "2a1fa128",
   "metadata": {},
   "source": [
    "## Simple Horizontal Edge Detection"
   ]
  },
  {
   "cell_type": "code",
   "execution_count": 6,
   "id": "75f38172",
   "metadata": {},
   "outputs": [
    {
     "name": "stdout",
     "output_type": "stream",
     "text": [
      "Simple Edge Detection:\n",
      " [[ -85   33 -113  -21  108   40 -105  202  -30    0]\n",
      " [ -18   76   92 -152  167  -59    4  -35 -148    0]\n",
      " [ 119  -95   87   56 -148  102   26  -71  -43    0]\n",
      " [  70  -11  -57  -24   82 -128   14  112  -89    0]\n",
      " [  -2 -104  124 -108  138  -31   15   34 -174    0]\n",
      " [-138   27  182 -170   -9  126  -11  -50   48    0]\n",
      " [ -81 -118   53  123   14  -42   39  -67   78    0]\n",
      " [-192  119   -1  -49   50  -87   22   -9   20    0]\n",
      " [ 240 -202   92   92  -93  108 -145  -56   62    0]\n",
      " [  77 -143   -1  101   44 -177  154  -29   92    0]]\n"
     ]
    }
   ],
   "source": [
    "edge_image = np.zeros_like(image)\n",
    "\n",
    "for i in range(image.shape[0]):\n",
    "    for j in range(image.shape[1] - 1):\n",
    "        edge_image[i, j] = image[i, j+1] - image[i, j]\n",
    "\n",
    "print(\"Simple Edge Detection:\\n\", edge_image)"
   ]
  }
 ],
 "metadata": {
  "kernelspec": {
   "display_name": "Python 3",
   "language": "python",
   "name": "python3"
  },
  "language_info": {
   "codemirror_mode": {
    "name": "ipython",
    "version": 3
   },
   "file_extension": ".py",
   "mimetype": "text/x-python",
   "name": "python",
   "nbconvert_exporter": "python",
   "pygments_lexer": "ipython3",
   "version": "3.13.3"
  }
 },
 "nbformat": 4,
 "nbformat_minor": 5
}
