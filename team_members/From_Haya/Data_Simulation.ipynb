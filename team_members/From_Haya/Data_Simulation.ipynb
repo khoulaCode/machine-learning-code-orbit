{
 "cells": [
  {
   "cell_type": "markdown",
   "id": "15aac722",
   "metadata": {},
   "source": [
    "## Sales Data Simulation and Analysis"
   ]
  },
  {
   "cell_type": "code",
   "execution_count": 7,
   "id": "307cccac",
   "metadata": {},
   "outputs": [],
   "source": [
    "import numpy as np"
   ]
  },
  {
   "cell_type": "code",
   "execution_count": 8,
   "id": "0261abf6",
   "metadata": {},
   "outputs": [],
   "source": [
    "# Sales Data Generation\n",
    "np.random.seed(42)  # for reproducibility\n",
    "days = 30\n",
    "base_revenue = 1000"
   ]
  },
  {
   "cell_type": "code",
   "execution_count": 9,
   "id": "183bd0d3",
   "metadata": {},
   "outputs": [],
   "source": [
    "# Simulate daily sales revenue with random normal fluctuations (mean=0, std=200)\n",
    "sales_revenue = base_revenue + np.random.normal(0, 200, days)\n",
    "sales_revenue = np.clip(sales_revenue, 0, None)  # ensure no negative revenue"
   ]
  },
  {
   "cell_type": "code",
   "execution_count": 10,
   "id": "e14c5390",
   "metadata": {},
   "outputs": [],
   "source": [
    "# Simulate units sold, correlated but with own fluctuations\n",
    "# Units sold is proportional to revenue, but with random noise\n",
    "units_sold = (sales_revenue / 20) + np.random.normal(0, 5, days)\n",
    "units_sold = np.clip(units_sold, 0, None)  # ensure no negative units sold\n",
    "units_sold = np.round(units_sold)"
   ]
  },
  {
   "cell_type": "code",
   "execution_count": 11,
   "id": "4e729afc",
   "metadata": {},
   "outputs": [],
   "source": [
    "# Combine Data  \n",
    "data = np.column_stack((sales_revenue, units_sold))"
   ]
  },
  {
   "cell_type": "code",
   "execution_count": 12,
   "id": "6b1b56c8",
   "metadata": {},
   "outputs": [],
   "source": [
    "# Key Performance Indicators (KPIs)\n",
    "total_revenue = np.sum(sales_revenue)\n",
    "average_units_sold = np.mean(units_sold)\n",
    "max_revenue = np.max(sales_revenue)\n",
    "max_revenue_day = np.argmax(sales_revenue)\n",
    "average_revenue_per_unit = total_revenue / np.sum(units_sold)"
   ]
  },
  {
   "cell_type": "code",
   "execution_count": 13,
   "id": "6496ca8b",
   "metadata": {},
   "outputs": [],
   "source": [
    "# Conditional Analysis\n",
    "target_revenue = 1200\n",
    "threshold_revenue = 900\n",
    "days_above_target = np.sum(sales_revenue > target_revenue)\n",
    "average_units_below_threshold = np.mean(units_sold[sales_revenue < threshold_revenue])"
   ]
  },
  {
   "cell_type": "code",
   "execution_count": 14,
   "id": "a96abd15",
   "metadata": {},
   "outputs": [
    {
     "name": "stdout",
     "output_type": "stream",
     "text": [
      "Key Performance Indicators\n",
      "Total revenue for the month: $28871.12\n",
      "Average units sold per day: 47.5\n",
      "Maximum daily revenue: $1315.84 on day 7\n",
      "Average revenue per unit sold: $20.25\n",
      "\n",
      " Conditional Analysis\n",
      "Number of days with revenue above $1200: 3\n",
      "Average units sold on days with revenue below $900: 37.2\n",
      "\n",
      " Weekly Revenue Totals\n",
      "Week 1: $7728.02\n",
      "Week 2: $6648.01\n",
      "Week 3: $6231.91\n",
      "Week 4: $6441.65\n"
     ]
    }
   ],
   "source": [
    "\n",
    "# Weekly Aggregations  \n",
    "# Assume days 0-6 = Week 1, 7-13 = Week 2, 14-20 = Week 3, 21-27 = Week 4\n",
    "# 28-29 are leftover days not in full weeks\n",
    "\n",
    "weeks_revenue = [\n",
    "    np.sum(sales_revenue[0:7]),\n",
    "    np.sum(sales_revenue[7:14]),\n",
    "    np.sum(sales_revenue[14:21]),\n",
    "    np.sum(sales_revenue[21:28])\n",
    "]\n",
    "\n",
    "# Print Results\n",
    "print(\"Key Performance Indicators\")\n",
    "print(f\"Total revenue for the month: ${total_revenue:.2f}\")\n",
    "print(f\"Average units sold per day: {average_units_sold:.1f}\")\n",
    "print(f\"Maximum daily revenue: ${max_revenue:.2f} on day {max_revenue_day+1}\")\n",
    "print(f\"Average revenue per unit sold: ${average_revenue_per_unit:.2f}\")\n",
    "\n",
    "print(\"\\n Conditional Analysis\")\n",
    "print(f\"Number of days with revenue above ${target_revenue}: {days_above_target}\")\n",
    "print(f\"Average units sold on days with revenue below ${threshold_revenue}: {average_units_below_threshold:.1f}\")\n",
    "\n",
    "print(\"\\n Weekly Revenue Totals\")\n",
    "for i, week_total in enumerate(weeks_revenue, start=1):\n",
    "    print(f\"Week {i}: ${week_total:.2f}\")"
   ]
  }
 ],
 "metadata": {
  "kernelspec": {
   "display_name": "Python 3",
   "language": "python",
   "name": "python3"
  },
  "language_info": {
   "codemirror_mode": {
    "name": "ipython",
    "version": 3
   },
   "file_extension": ".py",
   "mimetype": "text/x-python",
   "name": "python",
   "nbconvert_exporter": "python",
   "pygments_lexer": "ipython3",
   "version": "3.13.3"
  }
 },
 "nbformat": 4,
 "nbformat_minor": 5
}
