{
 "cells": [
  {
   "cell_type": "markdown",
   "id": "15aac722",
   "metadata": {},
   "source": [
    "## Sales Data Simulation and Analysis"
   ]
  }
 ],
 "metadata": {
  "language_info": {
   "name": "python"
  }
 },
 "nbformat": 4,
 "nbformat_minor": 5
}
