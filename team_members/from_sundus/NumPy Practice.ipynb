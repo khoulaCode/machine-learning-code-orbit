{
 "cells": [
  {
   "cell_type": "code",
   "execution_count": 3,
   "id": "fa3f6bfe-a06d-4bfb-8eb5-6e4f019dca4d",
   "metadata": {},
   "outputs": [],
   "source": [
    "import numpy as np"
   ]
  },
  {
   "cell_type": "markdown",
   "id": "364661ee-faef-4259-b5de-24e6b3fe90f4",
   "metadata": {},
   "source": [
    "### Part 1: Array Creation and Properties"
   ]
  },
  {
   "cell_type": "markdown",
   "id": "f783d163-b531-4d58-9aad-0306b8a51c12",
   "metadata": {},
   "source": [
    "1.Create a 1D array named arr1d with integers from 0 to 9"
   ]
  },
  {
   "cell_type": "code",
   "execution_count": 6,
   "id": "5ca1b4ae-36cf-4e2b-b1cd-d1f15b13dde5",
   "metadata": {},
   "outputs": [
    {
     "data": {
      "text/plain": [
       "array([0, 1, 2, 3, 4, 5, 6, 7, 8, 9])"
      ]
     },
     "execution_count": 6,
     "metadata": {},
     "output_type": "execute_result"
    }
   ],
   "source": [
    "arr1 = np.arange(10)\n",
    "arr1"
   ]
  },
  {
   "cell_type": "markdown",
   "id": "2f954b0b-2a3c-4fee-905e-7310914b01a5",
   "metadata": {},
   "source": [
    "2.Create a 2D array named arr2d with shape (3, 3) filled with ones"
   ]
  },
  {
   "cell_type": "code",
   "execution_count": 7,
   "id": "e84c504e-6a9c-4db8-a1e0-34328b2f8bec",
   "metadata": {},
   "outputs": [
    {
     "data": {
      "text/plain": [
       "array([[1., 1., 1.],\n",
       "       [1., 1., 1.],\n",
       "       [1., 1., 1.]])"
      ]
     },
     "execution_count": 7,
     "metadata": {},
     "output_type": "execute_result"
    }
   ],
   "source": [
    "arr2 = np.ones((3,3))\n",
    "arr2"
   ]
  },
  {
   "cell_type": "markdown",
   "id": "c8b7d11f-f813-4c8c-bf9e-75dbc4a4369d",
   "metadata": {},
   "source": [
    "3.Create a 3x3 array named random_matrix with random floating-point numbers from a standard normal distribution"
   ]
  },
  {
   "cell_type": "code",
   "execution_count": 8,
   "id": "aed2df92-3fd3-4f50-b1b4-3a5371b4c685",
   "metadata": {},
   "outputs": [
    {
     "data": {
      "text/plain": [
       "array([[ 1.5285445 ,  2.13066638,  0.23984521],\n",
       "       [ 0.42034054,  0.32575194,  0.15496106],\n",
       "       [ 3.22657572, -0.15239874,  0.25380351]])"
      ]
     },
     "execution_count": 8,
     "metadata": {},
     "output_type": "execute_result"
    }
   ],
   "source": [
    "random_matrix = np.random.randn(3, 3) \n",
    "random_matrix"
   ]
  },
  {
   "cell_type": "markdown",
   "id": "91790b37-d2e3-4ec7-a4a7-e5846d12eeca",
   "metadata": {},
   "source": [
    "4.Create an array named even_numbers containing even numbers from 10 to 50 (inclusive)"
   ]
  },
  {
   "cell_type": "code",
   "execution_count": 9,
   "id": "eb8baa59-fcd4-441f-b559-3528b10b250c",
   "metadata": {},
   "outputs": [
    {
     "data": {
      "text/plain": [
       "array([10, 12, 14, 16, 18, 20, 22, 24, 26, 28, 30, 32, 34, 36, 38, 40, 42,\n",
       "       44, 46, 48, 50])"
      ]
     },
     "execution_count": 9,
     "metadata": {},
     "output_type": "execute_result"
    }
   ],
   "source": [
    "even_numbers = np.arange(10, 52, 2) \n",
    "even_numbers"
   ]
  },
  {
   "cell_type": "markdown",
   "id": "905513ae-4b43-4885-9d8f-7acd01773bb6",
   "metadata": {},
   "source": [
    "5.Create an array named linspace_array containing 7 equally spaced numbers between 0 and 1 (inclusive)"
   ]
  },
  {
   "cell_type": "code",
   "execution_count": 12,
   "id": "66a468be-2716-40fe-a7e9-8f036eccb8b8",
   "metadata": {},
   "outputs": [
    {
     "data": {
      "text/plain": [
       "array([0.        , 0.16666667, 0.33333333, 0.5       , 0.66666667,\n",
       "       0.83333333, 1.        ])"
      ]
     },
     "execution_count": 12,
     "metadata": {},
     "output_type": "execute_result"
    }
   ],
   "source": [
    "linspace_array = np.linspace(0 , 1, 7)\n",
    "linspace_array"
   ]
  },
  {
   "cell_type": "markdown",
   "id": "48620aac-6b99-4c29-a6cc-32aae2abcb42",
   "metadata": {},
   "source": [
    "6- Given arr = np.array([[1, 2, 3], [4, 5, 6]]), what is its shape, ndim, and dtype? Print them"
   ]
  },
  {
   "cell_type": "code",
   "execution_count": 13,
   "id": "4e6baa9a-7b56-43cd-9d0f-272ae1423020",
   "metadata": {},
   "outputs": [
    {
     "name": "stdout",
     "output_type": "stream",
     "text": [
      "Shape: (2, 3)\n",
      "Dimensions: 2\n",
      "Data type: int64\n"
     ]
    }
   ],
   "source": [
    "arr = np.array([[1, 2, 3], [4, 5, 6]]) \n",
    "print(\"Shape:\", arr.shape)\n",
    "print(\"Dimensions:\", arr.ndim)\n",
    "print(\"Data type:\", arr.dtype)"
   ]
  },
  {
   "cell_type": "markdown",
   "id": "c642b9bf-3b0f-4975-9894-8c467aa77a57",
   "metadata": {},
   "source": [
    "### Part 2: Array Manipulation "
   ]
  },
  {
   "cell_type": "markdown",
   "id": "75ecbc25-c657-4b4a-855a-3650d4d01cc2",
   "metadata": {},
   "source": [
    "1.Reshape arr1d (from Q1) into a 2x5 2D array. Name the new array reshaped_arr "
   ]
  },
  {
   "cell_type": "code",
   "execution_count": 14,
   "id": "d00ff17b-38a9-4eb2-8f70-547d3bc5bd8e",
   "metadata": {},
   "outputs": [
    {
     "data": {
      "text/plain": [
       "array([[0, 1, 2, 3, 4],\n",
       "       [5, 6, 7, 8, 9]])"
      ]
     },
     "execution_count": 14,
     "metadata": {},
     "output_type": "execute_result"
    }
   ],
   "source": [
    "reshaped_arr = arr1.reshape(2, 5) \n",
    "reshaped_arr"
   ]
  },
  {
   "cell_type": "markdown",
   "id": "3134c9b6-9e00-4215-a488-ffe91bc5a375",
   "metadata": {},
   "source": [
    "2.Transpose reshaped_arr (from Q7). Name the result transposed_arr "
   ]
  },
  {
   "cell_type": "code",
   "execution_count": 16,
   "id": "ea1908bb-10c0-4959-a60c-a8b64b1abc05",
   "metadata": {},
   "outputs": [
    {
     "data": {
      "text/plain": [
       "array([[0, 5],\n",
       "       [1, 6],\n",
       "       [2, 7],\n",
       "       [3, 8],\n",
       "       [4, 9]])"
      ]
     },
     "execution_count": 16,
     "metadata": {},
     "output_type": "execute_result"
    }
   ],
   "source": [
    "transposed_arr = reshaped_arr.T\n",
    "transposed_arr"
   ]
  },
  {
   "cell_type": "markdown",
   "id": "c577acc7-2580-4bc6-b03c-3812b08c4615",
   "metadata": {},
   "source": [
    "3.Stack two 1D arrays a = np.array([1, 2, 3]) and b = np.array([4, 5, 6]) vertically"
   ]
  },
  {
   "cell_type": "code",
   "execution_count": 17,
   "id": "7e7bf756-8a0f-443c-aad9-325a614520d5",
   "metadata": {},
   "outputs": [
    {
     "data": {
      "text/plain": [
       "array([[1, 2, 3],\n",
       "       [4, 5, 6]])"
      ]
     },
     "execution_count": 17,
     "metadata": {},
     "output_type": "execute_result"
    }
   ],
   "source": [
    "a = np.array([1, 2, 3])\n",
    "b = np.array([4, 5, 6])\n",
    "vertical_stack = np.vstack((a, b))\n",
    "vertical_stack "
   ]
  },
  {
   "cell_type": "markdown",
   "id": "354483f5-c272-4e49-a0b0-13fbc2ffc06f",
   "metadata": {},
   "source": [
    "4.Stack two 2D arrays m1 = np.array([[1, 2], [3, 4]]) and m2 = np.array([[5, 6], [7, 8]]) horizontally"
   ]
  },
  {
   "cell_type": "code",
   "execution_count": 19,
   "id": "a483f0e8-bbe8-477f-8351-c6bb89565649",
   "metadata": {},
   "outputs": [
    {
     "data": {
      "text/plain": [
       "array([[1, 2, 5, 6],\n",
       "       [3, 4, 7, 8]])"
      ]
     },
     "execution_count": 19,
     "metadata": {},
     "output_type": "execute_result"
    }
   ],
   "source": [
    "m1 = np.array([[1, 2], [3, 4]])\n",
    "m2 = np.array([[5, 6], [7, 8]]) \n",
    "horizontal_stack = np.hstack ((m1,m2))\n",
    "horizontal_stack "
   ]
  },
  {
   "cell_type": "markdown",
   "id": "4e476044-b3e1-4c1e-98f9-fe14191ff01f",
   "metadata": {},
   "source": [
    "5.Split the array arr_to_split = np.arange(16).reshape(4, 4) horizontally into 2 equal parts. Print both parts"
   ]
  },
  {
   "cell_type": "code",
   "execution_count": 20,
   "id": "089041a0-db52-4064-867d-a99823eebbbf",
   "metadata": {},
   "outputs": [
    {
     "data": {
      "text/plain": [
       "array([[ 2,  3],\n",
       "       [ 6,  7],\n",
       "       [10, 11],\n",
       "       [14, 15]])"
      ]
     },
     "execution_count": 20,
     "metadata": {},
     "output_type": "execute_result"
    }
   ],
   "source": [
    "arr_to_split = np.arange(16).reshape(4, 4) \n",
    "h_split1, h_split2 = np.hsplit(arr_to_split, 2) \n",
    "h_split1\n",
    "h_split2"
   ]
  },
  {
   "cell_type": "markdown",
   "id": "3af34a57-632e-4517-8690-48deb46f4277",
   "metadata": {},
   "source": [
    "6.Split the array arr_to_split (from Q11) vertically at index 2 (i.e., into two parts: first two rows, and last two rows). Print both parts"
   ]
  },
  {
   "cell_type": "code",
   "execution_count": 21,
   "id": "3fc10412-f01b-483e-9e4c-5c0c9bc4fc64",
   "metadata": {},
   "outputs": [
    {
     "data": {
      "text/plain": [
       "array([[ 8,  9, 10, 11],\n",
       "       [12, 13, 14, 15]])"
      ]
     },
     "execution_count": 21,
     "metadata": {},
     "output_type": "execute_result"
    }
   ],
   "source": [
    "v_split1, v_split2 = np.vsplit(arr_to_split, [2])\n",
    "v_split1\n",
    "v_split2"
   ]
  },
  {
   "cell_type": "markdown",
   "id": "224d1027-36dd-4c96-b34f-f8b67074880f",
   "metadata": {},
   "source": [
    "### Part 3: Indexing, Slicing, and Boolean Indexing"
   ]
  },
  {
   "cell_type": "markdown",
   "id": "9e10fc1b-1702-4459-ba9d-dabf0a1bbe35",
   "metadata": {},
   "source": [
    "1.Given data = np.array([[10, 11, 12], [13, 14, 15], [16, 17, 18]]), extract the element at row 1, column 2 "
   ]
  },
  {
   "cell_type": "code",
   "execution_count": 27,
   "id": "b0441913-f197-4646-a31a-7bdbb7f76cc6",
   "metadata": {},
   "outputs": [
    {
     "name": "stdout",
     "output_type": "stream",
     "text": [
      "Element at at row 1, column 2: 15\n"
     ]
    }
   ],
   "source": [
    "data = np.array([[10, 11, 12], [13, 14, 15], [16, 17, 18]]) \n",
    "element = data[1, 2]\n",
    "print(\"Element at at row 1, column 2:\", element) "
   ]
  },
  {
   "cell_type": "markdown",
   "id": "d6c887b9-8dd9-4191-835b-0d20385cbaa3",
   "metadata": {},
   "source": [
    "2.From the data array (from Q13), extract the first two rows and all columns"
   ]
  },
  {
   "cell_type": "code",
   "execution_count": 28,
   "id": "ff4d52d1-adcb-482b-bd3b-99ee987b7a99",
   "metadata": {},
   "outputs": [
    {
     "name": "stdout",
     "output_type": "stream",
     "text": [
      "First two rows:\n",
      " [[10 11 12]\n",
      " [13 14 15]]\n"
     ]
    }
   ],
   "source": [
    "first_two_rows = data[:2, :]\n",
    "print(\"First two rows:\\n\", first_two_rows) "
   ]
  },
  {
   "cell_type": "markdown",
   "id": "f48aa844-15fd-49af-a9ec-d8fd24e38328",
   "metadata": {},
   "source": [
    "3.From the data array (from Q13), extract the elements 11, 15, and 17 using fancy indexing (hint: you'll need to specify rows and columns)"
   ]
  },
  {
   "cell_type": "code",
   "execution_count": 31,
   "id": "792f0534-92ce-4685-a07a-2350d1ee2458",
   "metadata": {},
   "outputs": [
    {
     "name": "stdout",
     "output_type": "stream",
     "text": [
      "Selected_elements: [11 15 17]\n"
     ]
    }
   ],
   "source": [
    "rows = [0, 1, 2]\n",
    "cols = [1, 2, 1]\n",
    "selected_elements = data[rows, cols] \n",
    "print(\"Selected_elements:\", selected_elements) "
   ]
  },
  {
   "cell_type": "markdown",
   "id": "a452b93b-63c4-48e3-acbf-980dc7fb34dd",
   "metadata": {},
   "source": [
    "4.Given scores = np.array([85, 92, 78, 65, 95, 88]), use boolean indexing to find all scores greater than 80 "
   ]
  },
  {
   "cell_type": "code",
   "execution_count": 32,
   "id": "42498516-b41e-4b5e-bed6-f486b19b374b",
   "metadata": {},
   "outputs": [
    {
     "name": "stdout",
     "output_type": "stream",
     "text": [
      "Scores > 80: [85 92 95 88]\n"
     ]
    }
   ],
   "source": [
    "scores = np.array([85, 92, 78, 65, 95, 88]) \n",
    "high_scores = scores[scores > 80]\n",
    "print(\"Scores > 80:\", high_scores) "
   ]
  },
  {
   "cell_type": "markdown",
   "id": "c96e2d28-7e30-4c36-a17c-a51a8acde3e9",
   "metadata": {},
   "source": [
    "### Part 4: Numerical Operations and Aggregations"
   ]
  },
  {
   "cell_type": "markdown",
   "id": "7eeeab4f-f34e-4a2d-afde-2b972278bb93",
   "metadata": {},
   "source": [
    "1.Given arr_op1 = np.array([10, 20, 30]) and arr_op2 = np.array([2, 4, 6]), perform element-wise multiplication and division (arr_op1 / arr_op2)"
   ]
  },
  {
   "cell_type": "code",
   "execution_count": 33,
   "id": "cfb06c94-ff89-4a96-aa49-f50864065481",
   "metadata": {},
   "outputs": [
    {
     "name": "stdout",
     "output_type": "stream",
     "text": [
      "Multiplication:  [ 20  80 180]\n",
      "Division:  [5. 5. 5.]\n"
     ]
    }
   ],
   "source": [
    "arr_op1 = np.array([10, 20, 30])\n",
    "arr_op2 = np.array([2, 4, 6])\n",
    "multiplication = arr_op1 * arr_op2\n",
    "division = arr_op1 / arr_op2\n",
    "print(\"Multiplication: \", multiplication)\n",
    "print(\"Division: \",division) "
   ]
  },
  {
   "cell_type": "markdown",
   "id": "5293023e-4209-4064-8c20-a574f52b0733",
   "metadata": {},
   "source": [
    "2.Given matrix = np.array([[1, 2, 3], [4, 5, 6], [7, 8, 9]]), calculatethe sum of all elements in the matrix"
   ]
  },
  {
   "cell_type": "code",
   "execution_count": 34,
   "id": "fb03618e-0e99-4454-a5b5-c27b95fb77b6",
   "metadata": {},
   "outputs": [
    {
     "name": "stdout",
     "output_type": "stream",
     "text": [
      "Sum of all elements: 45\n"
     ]
    }
   ],
   "source": [
    "matrix = np.array([[1, 2, 3], [4, 5, 6], [7, 8, 9]]) \n",
    "total_sum = np.sum(matrix)\n",
    "print(\"Sum of all elements:\", total_sum) "
   ]
  },
  {
   "cell_type": "markdown",
   "id": "838e933d-1a3e-4898-a164-8df1f6a8dda9",
   "metadata": {},
   "source": [
    "3.From the matrix (from Q18), calculate the mean of each column"
   ]
  },
  {
   "cell_type": "code",
   "execution_count": 35,
   "id": "0796186c-0aa6-4761-91d4-9efbaecd8d27",
   "metadata": {},
   "outputs": [
    {
     "name": "stdout",
     "output_type": "stream",
     "text": [
      "Mean of each column: [4. 5. 6.]\n"
     ]
    }
   ],
   "source": [
    "column_means = matrix.mean(axis=0)\n",
    "print(\"Mean of each column:\", column_means)"
   ]
  },
  {
   "cell_type": "markdown",
   "id": "8bf98e46-2166-470a-a218-be8efeb8259b",
   "metadata": {},
   "source": [
    "4.Given price_array = np.array([100, 150, 200, 250]) and discount_percentage = 0.10, apply a 10% discount to all prices using broadcasting"
   ]
  },
  {
   "cell_type": "code",
   "execution_count": 36,
   "id": "a678ac66-3753-4d7f-876f-6eb2d0ad6cff",
   "metadata": {},
   "outputs": [
    {
     "name": "stdout",
     "output_type": "stream",
     "text": [
      "Discounted prices: [ 90. 135. 180. 225.]\n"
     ]
    }
   ],
   "source": [
    "price_array = np.array([100, 150, 200, 250])\n",
    "discount_percentage = 0.10\n",
    "discounted_prices = price_array * (1 - discount_percentage)\n",
    "print(\"Discounted prices:\",discounted_prices)"
   ]
  },
  {
   "cell_type": "code",
   "execution_count": null,
   "id": "9b3637c3-b3a1-4efc-8a0f-6eb48c4d4625",
   "metadata": {},
   "outputs": [],
   "source": []
  }
 ],
 "metadata": {
  "kernelspec": {
   "display_name": "Python 3 (ipykernel)",
   "language": "python",
   "name": "python3"
  },
  "language_info": {
   "codemirror_mode": {
    "name": "ipython",
    "version": 3
   },
   "file_extension": ".py",
   "mimetype": "text/x-python",
   "name": "python",
   "nbconvert_exporter": "python",
   "pygments_lexer": "ipython3",
   "version": "3.13.3"
  }
 },
 "nbformat": 4,
 "nbformat_minor": 5
}
