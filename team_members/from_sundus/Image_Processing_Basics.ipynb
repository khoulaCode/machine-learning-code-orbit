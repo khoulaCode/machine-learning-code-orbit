{
 "cells": [
  {
   "cell_type": "code",
   "execution_count": 1,
   "id": "6723b871-85e6-4f1a-8f61-b3d924b6157a",
   "metadata": {},
   "outputs": [],
   "source": [
    "import numpy as np"
   ]
  },
  {
   "cell_type": "code",
   "execution_count": 2,
   "id": "17f324c2-d92a-4b8f-a18c-09eba6dd8ff8",
   "metadata": {},
   "outputs": [
    {
     "name": "stdout",
     "output_type": "stream",
     "text": [
      "Original Image:\n",
      " [[ 14  43 136  86 132 197 212  84  78  82]\n",
      " [225  95 200 247 141  34 101 192 145  73]\n",
      " [104 144 154  47 186 240 182 112 240 225]\n",
      " [  7  65 152  79 101 135 252 254  52 239]\n",
      " [145 119 187  70 175  73  40 137  37 201]\n",
      " [ 47  36 222 152 179  41  72  18 171 183]\n",
      " [111  42  87 177 196 232 121 255  14 123]\n",
      " [ 43 197 131 194  95 199  51 245 163 149]\n",
      " [156 193 143 227  97 132  44 209 248 204]\n",
      " [116 107 201 142  38  76 228 223  89  95]]\n"
     ]
    }
   ],
   "source": [
    "image = np.random.randint(0, 256, size=(10, 10), dtype=np.uint8)\n",
    "print(\"Original Image:\\n\", image)"
   ]
  },
  {
   "cell_type": "code",
   "execution_count": 7,
   "id": "03050473-d4dd-486c-bfb1-f139fe014054",
   "metadata": {},
   "outputs": [
    {
     "name": "stdout",
     "output_type": "stream",
     "text": [
      "Requirement already satisfied: matplotlib in c:\\users\\admin\\appdata\\local\\programs\\python\\python313\\lib\\site-packages (3.10.3)\n",
      "Requirement already satisfied: contourpy>=1.0.1 in c:\\users\\admin\\appdata\\local\\programs\\python\\python313\\lib\\site-packages (from matplotlib) (1.3.2)\n",
      "Requirement already satisfied: cycler>=0.10 in c:\\users\\admin\\appdata\\local\\programs\\python\\python313\\lib\\site-packages (from matplotlib) (0.12.1)\n",
      "Requirement already satisfied: fonttools>=4.22.0 in c:\\users\\admin\\appdata\\local\\programs\\python\\python313\\lib\\site-packages (from matplotlib) (4.58.4)\n",
      "Requirement already satisfied: kiwisolver>=1.3.1 in c:\\users\\admin\\appdata\\local\\programs\\python\\python313\\lib\\site-packages (from matplotlib) (1.4.8)\n",
      "Requirement already satisfied: numpy>=1.23 in c:\\users\\admin\\appdata\\local\\programs\\python\\python313\\lib\\site-packages (from matplotlib) (2.3.1)\n",
      "Requirement already satisfied: packaging>=20.0 in c:\\users\\admin\\appdata\\local\\programs\\python\\python313\\lib\\site-packages (from matplotlib) (25.0)\n",
      "Requirement already satisfied: pillow>=8 in c:\\users\\admin\\appdata\\local\\programs\\python\\python313\\lib\\site-packages (from matplotlib) (11.3.0)\n",
      "Requirement already satisfied: pyparsing>=2.3.1 in c:\\users\\admin\\appdata\\local\\programs\\python\\python313\\lib\\site-packages (from matplotlib) (3.2.3)\n",
      "Requirement already satisfied: python-dateutil>=2.7 in c:\\users\\admin\\appdata\\local\\programs\\python\\python313\\lib\\site-packages (from matplotlib) (2.9.0.post0)\n",
      "Requirement already satisfied: six>=1.5 in c:\\users\\admin\\appdata\\local\\programs\\python\\python313\\lib\\site-packages (from python-dateutil>=2.7->matplotlib) (1.17.0)\n"
     ]
    }
   ],
   "source": [
    "!pip install matplotlib"
   ]
  },
  {
   "cell_type": "code",
   "execution_count": 9,
   "id": "f9cc2cd4-17e3-4b1b-b7bd-29c16bc9a007",
   "metadata": {},
   "outputs": [],
   "source": [
    "import matplotlib.pyplot as plt "
   ]
  },
  {
   "cell_type": "markdown",
   "id": "b53975ef-3e69-4475-a297-4d398ca1289f",
   "metadata": {},
   "source": [
    "To display the grayscale image, we can use the `matplotlib.pyplot.imshow()` function. \n",
    "By setting `cmap='gray'` and `vmin=0`, `vmax=255`, we ensure it's shown in proper grayscale.\n",
    "\n",
    "```python\n",
    "import matplotlib.pyplot as plt\n",
    "\n",
    "plt.imshow(image, cmap='gray', vmin=0, vmax=255)\n",
    "plt.colorbar(label='Pixel Intensity')\n",
    "plt.title('Grayscale Image')\n",
    "plt.show()\n",
    "```\n",
    "The 'gray' colormap ensures proper grayscale visualization where:\n",
    "- 0 appears as black\n",
    "- 255 appears as white\n",
    "- Values in between appear as corresponding shades of gray"
   ]
  },
  {
   "cell_type": "code",
   "execution_count": 10,
   "id": "37dbb9d8-cbc4-42f3-8e3b-8a08df64378a",
   "metadata": {},
   "outputs": [
    {
     "name": "stdout",
     "output_type": "stream",
     "text": [
      "Inverted Image:\n",
      " [[241 212 119 169 123  58  43 171 177 173]\n",
      " [ 30 160  55   8 114 221 154  63 110 182]\n",
      " [151 111 101 208  69  15  73 143  15  30]\n",
      " [248 190 103 176 154 120   3   1 203  16]\n",
      " [110 136  68 185  80 182 215 118 218  54]\n",
      " [208 219  33 103  76 214 183 237  84  72]\n",
      " [144 213 168  78  59  23 134   0 241 132]\n",
      " [212  58 124  61 160  56 204  10  92 106]\n",
      " [ 99  62 112  28 158 123 211  46   7  51]\n",
      " [139 148  54 113 217 179  27  32 166 160]]\n"
     ]
    }
   ],
   "source": [
    "inverted_image = 255 - image \n",
    "print(\"Inverted Image:\\n\", inverted_image) "
   ]
  },
  {
   "cell_type": "code",
   "execution_count": 11,
   "id": "586c3815-bbd8-4e67-8550-e38b7d6e241f",
   "metadata": {},
   "outputs": [
    {
     "name": "stdout",
     "output_type": "stream",
     "text": [
      "Thresholded Image:\n",
      " [[  0   0 255   0 255 255 255   0   0   0]\n",
      " [255   0 255 255 255   0   0 255 255   0]\n",
      " [  0 255 255   0 255 255 255   0 255 255]\n",
      " [  0   0 255   0   0 255 255 255   0 255]\n",
      " [255   0 255   0 255   0   0 255   0 255]\n",
      " [  0   0 255 255 255   0   0   0 255 255]\n",
      " [  0   0   0 255 255 255   0 255   0   0]\n",
      " [  0 255 255 255   0 255   0 255 255 255]\n",
      " [255 255 255 255   0 255   0 255 255 255]\n",
      " [  0   0 255 255   0   0 255 255   0   0]]\n"
     ]
    }
   ],
   "source": [
    "threshold = 128 \n",
    "thresholded_image = np.where(image < threshold, 0, 255).astype(np.uint8)\n",
    "print(\"Thresholded Image:\\n\", thresholded_image) "
   ]
  },
  {
   "cell_type": "code",
   "execution_count": 12,
   "id": "7820cc64-c37c-4257-87b1-edc9bb7a99c3",
   "metadata": {},
   "outputs": [
    {
     "name": "stdout",
     "output_type": "stream",
     "text": [
      "Cropped 4x4 Center Region:\n",
      " [[ 79 101 135 252]\n",
      " [ 70 175  73  40]\n",
      " [152 179  41  72]\n",
      " [177 196 232 121]]\n"
     ]
    }
   ],
   "source": [
    "center_row = image.shape[0] // 2\n",
    "center_col = image.shape[1] // 2\n",
    "crop_size = 4\n",
    "start_row = center_row - crop_size // 2\n",
    "end_row = start_row + crop_size\n",
    "\n",
    "start_col = center_col - crop_size // 2\n",
    "end_col = start_col + crop_size\n",
    "\n",
    "cropped_image = image[start_row:end_row, start_col:end_col]\n",
    "print(\"Cropped 4x4 Center Region:\\n\", cropped_image)"
   ]
  },
  {
   "cell_type": "code",
   "execution_count": 13,
   "id": "a7dbdcc4-de7b-4fcc-ac5d-469baad269a0",
   "metadata": {},
   "outputs": [
    {
     "name": "stdout",
     "output_type": "stream",
     "text": [
      "Horizontal Edge Detection:\n",
      " [[  29   93  -50   46   65   15 -128   -6    4    0]\n",
      " [-130  105   47 -106 -107   67   91  -47  -72    0]\n",
      " [  40   10 -107  139   54  -58  -70  128  -15    0]\n",
      " [  58   87  -73   22   34  117    2 -202  187    0]\n",
      " [ -26   68 -117  105 -102  -33   97 -100  164    0]\n",
      " [ -11  186  -70   27 -138   31  -54  153   12    0]\n",
      " [ -69   45   90   19   36 -111  134 -241  109    0]\n",
      " [ 154  -66   63  -99  104 -148  194  -82  -14    0]\n",
      " [  37  -50   84 -130   35  -88  165   39  -44    0]\n",
      " [  -9   94  -59 -104   38  152   -5 -134    6    0]]\n"
     ]
    }
   ],
   "source": [
    "edge_image = np.zeros_like(image, dtype=int) \n",
    "\n",
    "for i in range(image.shape[0]): # For each row\n",
    "    for j in range(image.shape[1] - 1): # Skip last column to avoid boundary issues\n",
    "        edge_image [i, j] = int(image[i, j+1]) - int(image[i, j]) \n",
    "\n",
    "print(\"Horizontal Edge Detection:\\n\", edge_image)"
   ]
  },
  {
   "cell_type": "code",
   "execution_count": 15,
   "id": "5a72177a-7e2f-420c-ab80-5d0c1e2fac78",
   "metadata": {},
   "outputs": [
    {
     "data": {
      "image/png": "[encoded data removed]",
      "text/plain": [
       "<Figure size 640x480 with 2 Axes>"
      ]
     },
     "metadata": {},
     "output_type": "display_data"
    }
   ],
   "source": [
    "plt.imshow(image, cmap='gray', vmin=0, vmax=255)\n",
    "plt.title(\"Grayscale Image\")\n",
    "plt.colorbar(label=\"Pixel Intensity\")\n",
    "plt.axis('off')  # Optional: hide axis ticks\n",
    "plt.show() "
   ]
  },
  {
   "cell_type": "code",
   "execution_count": null,
   "id": "16308426-007e-4826-a6e3-3bc9288a62c1",
   "metadata": {},
   "outputs": [],
   "source": []
  }
 ],
 "metadata": {
  "kernelspec": {
   "display_name": "Python 3 (ipykernel)",
   "language": "python",
   "name": "python3"
  },
  "language_info": {
   "codemirror_mode": {
    "name": "ipython",
    "version": 3
   },
   "file_extension": ".py",
   "mimetype": "text/x-python",
   "name": "python",
   "nbconvert_exporter": "python",
   "pygments_lexer": "ipython3",
   "version": "3.13.3"
  }
 },
 "nbformat": 4,
 "nbformat_minor": 5
}
