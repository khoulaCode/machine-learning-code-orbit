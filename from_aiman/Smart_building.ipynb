{
 "cells": [
  {
   "cell_type": "code",
   "execution_count": 1,
   "id": "5004f24a",
   "metadata": {},
   "outputs": [],
   "source": [
    "import numpy as np"
   ]
  },
  {
   "cell_type": "markdown",
   "id": "7d3938af",
   "metadata": {},
   "source": [
    "### 1. Data Generation"
   ]
  },
  {
   "cell_type": "code",
   "execution_count": 2,
   "id": "3511795f",
   "metadata": {},
   "outputs": [
    {
     "data": {
      "text/plain": [
       "array([[0.00000000e+00, 2.12654401e+01, 4.75232480e+01, 1.00018629e+03],\n",
       "       [1.00000000e+00, 1.65275872e+01, 5.43433593e+01, 9.95182745e+02],\n",
       "       [2.00000000e+00, 1.30815618e+01, 5.79007557e+01, 1.01211480e+03],\n",
       "       ...,\n",
       "       [1.43700000e+03, 2.13915920e+01, 6.09695045e+01, 1.01800823e+03],\n",
       "       [1.43800000e+03, 1.34647419e+01, 5.47374614e+01, 1.02713718e+03],\n",
       "       [1.43900000e+03, 2.07705275e+01, 5.13951426e+01, 1.02537948e+03]],\n",
       "      shape=(1440, 4))"
      ]
     },
     "execution_count": 2,
     "metadata": {},
     "output_type": "execute_result"
    }
   ],
   "source": [
    "time_in_minutes = np.arange(1440)\n",
    "\n",
    "\n",
    "temperature_data = np.random.normal(22,5,size=1440)\n",
    "humidity_data = np.random.normal(55,5,size=1440)\n",
    "pressure_data =  np.random.normal(1012,10,size=1440)\n",
    "\n",
    "environmental_data = np.column_stack((time_in_minutes, temperature_data, humidity_data, pressure_data))\n",
    "\n",
    "environmental_data\n"
   ]
  },
  {
   "cell_type": "markdown",
   "id": "f3e01150",
   "metadata": {},
   "source": [
    "### 2. Basic Statistics"
   ]
  },
  {
   "cell_type": "code",
   "execution_count": 3,
   "id": "ad983333",
   "metadata": {},
   "outputs": [
    {
     "name": "stdout",
     "output_type": "stream",
     "text": [
      "\n",
      "Temperature (°C) Statistics:\n",
      "  Mean:  21.96\n",
      "  Min:   6.07\n",
      "  Max:   36.63\n",
      "  Std:   4.79\n",
      "\n",
      "Humidity (%) Statistics:\n",
      "  Mean:  55.14\n",
      "  Min:   34.05\n",
      "  Max:   68.85\n",
      "  Std:   4.95\n",
      "\n",
      "Pressure (hPa) Statistics:\n",
      "  Mean:  1011.95\n",
      "  Min:   978.53\n",
      "  Max:   1039.67\n",
      "  Std:   9.88\n"
     ]
    }
   ],
   "source": [
    "temp = environmental_data[:, 1]\n",
    "humidity = environmental_data[:, 2]\n",
    "pressure = environmental_data[:, 3]\n",
    "\n",
    "def display_stats(label, data):\n",
    "    print(f\"\\n{label} Statistics:\")\n",
    "    print(f\"  Mean:  {np.mean(data):.2f}\")\n",
    "    print(f\"  Min:   {np.min(data):.2f}\")\n",
    "    print(f\"  Max:   {np.max(data):.2f}\")\n",
    "    print(f\"  Std:   {np.std(data):.2f}\")\n",
    "\n",
    "display_stats(\"Temperature (°C)\", temp)\n",
    "display_stats(\"Humidity (%)\", humidity)\n",
    "display_stats(\"Pressure (hPa)\", pressure)\n",
    "\n"
   ]
  },
  {
   "cell_type": "markdown",
   "id": "384ebcf4",
   "metadata": {},
   "source": [
    "### 3. Hourly Averages"
   ]
  },
  {
   "cell_type": "code",
   "execution_count": 9,
   "id": "a121fba7",
   "metadata": {},
   "outputs": [
    {
     "name": "stdout",
     "output_type": "stream",
     "text": [
      "Hour 1: 22.93\n",
      "Hour 2: 22.67\n",
      "Hour 3: 21.77\n",
      "Hour 4: 22.31\n",
      "Hour 5: 21.79\n",
      "Hour 6: 22.28\n",
      "Hour 7: 21.72\n",
      "Hour 8: 21.91\n",
      "Hour 9: 21.53\n",
      "Hour 10: 22.70\n",
      "Hour 11: 22.45\n",
      "Hour 12: 21.08\n",
      "Hour 13: 21.52\n",
      "Hour 14: 20.76\n",
      "Hour 15: 22.53\n",
      "Hour 16: 21.22\n",
      "Hour 17: 21.50\n",
      "Hour 18: 21.18\n",
      "Hour 19: 21.69\n",
      "Hour 20: 22.49\n",
      "Hour 21: 22.39\n",
      "Hour 22: 21.36\n",
      "Hour 23: 23.09\n",
      "Hour 24: 22.23\n"
     ]
    }
   ],
   "source": [
    "for hour in range(24):\n",
    "    hour_count = hour + 1\n",
    "    start_index = hour * 60\n",
    "    end_index = start_index + 60\n",
    "    avg_hour_temp = np.mean(temp[start_index:end_index])\n",
    "    print(f\"Hour {hour_count}: {avg_hour_temp:.2f}\")\n",
    "\n"
   ]
  },
  {
   "cell_type": "code",
   "execution_count": 10,
   "id": "c03a7a64",
   "metadata": {},
   "outputs": [
    {
     "name": "stdout",
     "output_type": "stream",
     "text": [
      "Hour 1: 55.95\n",
      "Hour 2: 54.45\n",
      "Hour 3: 54.70\n",
      "Hour 4: 55.91\n",
      "Hour 5: 55.40\n",
      "Hour 6: 55.11\n",
      "Hour 7: 54.45\n",
      "Hour 8: 54.33\n",
      "Hour 9: 54.59\n",
      "Hour 10: 55.56\n",
      "Hour 11: 54.38\n",
      "Hour 12: 54.73\n",
      "Hour 13: 54.93\n",
      "Hour 14: 55.82\n",
      "Hour 15: 55.41\n",
      "Hour 16: 56.44\n",
      "Hour 17: 55.50\n",
      "Hour 18: 55.87\n",
      "Hour 19: 54.67\n",
      "Hour 20: 54.72\n",
      "Hour 21: 55.05\n",
      "Hour 22: 55.81\n",
      "Hour 23: 55.32\n",
      "Hour 24: 54.23\n"
     ]
    }
   ],
   "source": [
    "for hour in range(24):\n",
    "    hour_count = hour + 1\n",
    "    start_index = hour * 60\n",
    "    end_index = start_index + 60\n",
    "    avg_hour_humidity = np.mean(humidity[start_index:end_index])\n",
    "    print(f\"Hour {hour_count}: {avg_hour_humidity:.2f}\")"
   ]
  },
  {
   "cell_type": "code",
   "execution_count": 11,
   "id": "5fe84e3f",
   "metadata": {},
   "outputs": [
    {
     "name": "stdout",
     "output_type": "stream",
     "text": [
      "Hour 1: 1010.10\n",
      "Hour 2: 1013.43\n",
      "Hour 3: 1013.09\n",
      "Hour 4: 1012.14\n",
      "Hour 5: 1011.43\n",
      "Hour 6: 1012.25\n",
      "Hour 7: 1011.38\n",
      "Hour 8: 1011.77\n",
      "Hour 9: 1011.41\n",
      "Hour 10: 1014.91\n",
      "Hour 11: 1012.45\n",
      "Hour 12: 1010.95\n",
      "Hour 13: 1010.83\n",
      "Hour 14: 1013.04\n",
      "Hour 15: 1012.20\n",
      "Hour 16: 1012.50\n",
      "Hour 17: 1010.01\n",
      "Hour 18: 1012.64\n",
      "Hour 19: 1011.62\n",
      "Hour 20: 1011.86\n",
      "Hour 21: 1012.42\n",
      "Hour 22: 1010.26\n",
      "Hour 23: 1012.99\n",
      "Hour 24: 1011.13\n"
     ]
    }
   ],
   "source": [
    "for hour in range(24):\n",
    "    hour_count = hour + 1\n",
    "    start_index = hour * 60\n",
    "    end_index = start_index + 60\n",
    "    avg_hour_pressure = np.mean(pressure[start_index:end_index])\n",
    "    print(f\"Hour {hour_count}: {avg_hour_pressure:.2f}\")"
   ]
  },
  {
   "cell_type": "markdown",
   "id": "f03bbc89",
   "metadata": {},
   "source": [
    "### 4. Anomaly Detection (Simple)"
   ]
  },
  {
   "cell_type": "code",
   "execution_count": 12,
   "id": "f36dfe3a",
   "metadata": {},
   "outputs": [
    {
     "name": "stdout",
     "output_type": "stream",
     "text": [
      "Number of minutes where temperature exceeded 25°C: 380\n"
     ]
    }
   ],
   "source": [
    "threshold = 25\n",
    "exceed_count = np.sum(temp > threshold)\n",
    "print(f\"Number of minutes where temperature exceeded {threshold}°C: {exceed_count}\")"
   ]
  },
  {
   "cell_type": "code",
   "execution_count": 13,
   "id": "022d44ec",
   "metadata": {},
   "outputs": [
    {
     "name": "stdout",
     "output_type": "stream",
     "text": [
      "Minimum temperature was 6.07°C at minute 699\n"
     ]
    }
   ],
   "source": [
    "min_temp_index = np.argmin(temp)\n",
    "min_temp_time = time_in_minutes[min_temp_index]\n",
    "min_temp_value = temp[min_temp_index]\n",
    "print(f\"Minimum temperature was {min_temp_value:.2f}°C at minute {min_temp_time}\")"
   ]
  }
 ],
 "metadata": {
  "kernelspec": {
   "display_name": "Python 3",
   "language": "python",
   "name": "python3"
  },
  "language_info": {
   "codemirror_mode": {
    "name": "ipython",
    "version": 3
   },
   "file_extension": ".py",
   "mimetype": "text/x-python",
   "name": "python",
   "nbconvert_exporter": "python",
   "pygments_lexer": "ipython3",
   "version": "3.13.3"
  }
 },
 "nbformat": 4,
 "nbformat_minor": 5
}
