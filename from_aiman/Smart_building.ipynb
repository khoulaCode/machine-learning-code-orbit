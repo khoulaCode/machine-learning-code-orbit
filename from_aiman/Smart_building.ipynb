{
 "cells": [
  {
   "cell_type": "code",
   "execution_count": 15,
   "id": "5004f24a",
   "metadata": {},
   "outputs": [],
   "source": [
    "import numpy as np"
   ]
  },
  {
   "cell_type": "markdown",
   "id": "7d3938af",
   "metadata": {},
   "source": [
    "### 1. Data Generation"
   ]
  },
  {
   "cell_type": "code",
   "execution_count": 16,
   "id": "3511795f",
   "metadata": {},
   "outputs": [
    {
     "data": {
      "text/plain": [
       "array([[0.00000000e+00, 2.09372040e+01, 4.81625793e+01, 1.01895051e+03],\n",
       "       [1.00000000e+00, 2.07144844e+01, 4.96867426e+01, 1.00353209e+03],\n",
       "       [2.00000000e+00, 2.14562038e+01, 5.04118162e+01, 1.00418988e+03],\n",
       "       ...,\n",
       "       [1.43700000e+03, 2.54734989e+01, 5.73645422e+01, 1.01369216e+03],\n",
       "       [1.43800000e+03, 1.62165602e+01, 5.57926530e+01, 9.98552241e+02],\n",
       "       [1.43900000e+03, 1.85857551e+01, 5.56250905e+01, 1.01670123e+03]],\n",
       "      shape=(1440, 4))"
      ]
     },
     "execution_count": 16,
     "metadata": {},
     "output_type": "execute_result"
    }
   ],
   "source": [
    "time_in_minutes = np.arange(1440)\n",
    "\n",
    "\n",
    "temperature_data = np.random.normal(22,5,size=1440)\n",
    "humidity_data = np.random.normal(55,5,size=1440)\n",
    "pressure_data =  np.random.normal(1012,10,size=1440)\n",
    "\n",
    "environmental_data = np.column_stack((time_in_minutes, temperature_data, humidity_data, pressure_data))\n",
    "\n",
    "environmental_data\n"
   ]
  },
  {
   "cell_type": "markdown",
   "id": "f3e01150",
   "metadata": {},
   "source": [
    "### 2. Basic Statistics"
   ]
  },
  {
   "cell_type": "code",
   "execution_count": 17,
   "id": "ad983333",
   "metadata": {},
   "outputs": [
    {
     "name": "stdout",
     "output_type": "stream",
     "text": [
      "\n",
      "Temperature (°C) Statistics:\n",
      "  Mean:  22.32\n",
      "  Min:   7.64\n",
      "  Max:   39.50\n",
      "  Std:   4.91\n",
      "\n",
      "Humidity (%) Statistics:\n",
      "  Mean:  54.99\n",
      "  Min:   38.59\n",
      "  Max:   70.52\n",
      "  Std:   4.98\n",
      "\n",
      "Pressure (hPa) Statistics:\n",
      "  Mean:  1011.91\n",
      "  Min:   976.64\n",
      "  Max:   1045.31\n",
      "  Std:   9.79\n"
     ]
    }
   ],
   "source": [
    "temp = environmental_data[:, 1]\n",
    "humidity = environmental_data[:, 2]\n",
    "pressure = environmental_data[:, 3]\n",
    "\n",
    "def display_stats(label, data):\n",
    "    print(f\"\\n{label} Statistics:\")\n",
    "    print(f\"  Mean:  {np.mean(data):.2f}\")\n",
    "    print(f\"  Min:   {np.min(data):.2f}\")\n",
    "    print(f\"  Max:   {np.max(data):.2f}\")\n",
    "    print(f\"  Std:   {np.std(data):.2f}\")\n",
    "\n",
    "display_stats(\"Temperature (°C)\", temp)\n",
    "display_stats(\"Humidity (%)\", humidity)\n",
    "display_stats(\"Pressure (hPa)\", pressure)\n",
    "\n"
   ]
  },
  {
   "cell_type": "markdown",
   "id": "384ebcf4",
   "metadata": {},
   "source": [
    "### 3. Hourly Averages"
   ]
  },
  {
   "cell_type": "code",
   "execution_count": 18,
   "id": "a121fba7",
   "metadata": {},
   "outputs": [
    {
     "name": "stdout",
     "output_type": "stream",
     "text": [
      "Hour 1: 22.58\n",
      "Hour 2: 22.63\n",
      "Hour 3: 22.29\n",
      "Hour 4: 21.58\n",
      "Hour 5: 23.17\n",
      "Hour 6: 22.99\n",
      "Hour 7: 22.92\n",
      "Hour 8: 20.67\n",
      "Hour 9: 22.79\n",
      "Hour 10: 22.39\n",
      "Hour 11: 22.27\n",
      "Hour 12: 21.87\n",
      "Hour 13: 22.75\n",
      "Hour 14: 22.34\n",
      "Hour 15: 22.19\n",
      "Hour 16: 21.92\n",
      "Hour 17: 22.10\n",
      "Hour 18: 21.93\n",
      "Hour 19: 21.67\n",
      "Hour 20: 22.28\n",
      "Hour 21: 23.30\n",
      "Hour 22: 22.57\n",
      "Hour 23: 22.21\n",
      "Hour 24: 22.25\n"
     ]
    }
   ],
   "source": [
    "for hour in range(24):\n",
    "    hour_count = hour + 1\n",
    "    start_index = hour * 60\n",
    "    end_index = start_index + 60\n",
    "    avg_hour_temp = np.mean(temp[start_index:end_index])\n",
    "    print(f\"Hour {hour_count}: {avg_hour_temp:.2f}\")\n",
    "\n"
   ]
  },
  {
   "cell_type": "code",
   "execution_count": 19,
   "id": "c03a7a64",
   "metadata": {},
   "outputs": [
    {
     "name": "stdout",
     "output_type": "stream",
     "text": [
      "Hour 1: 54.33\n",
      "Hour 2: 54.81\n",
      "Hour 3: 54.69\n",
      "Hour 4: 54.86\n",
      "Hour 5: 55.33\n",
      "Hour 6: 55.84\n",
      "Hour 7: 54.43\n",
      "Hour 8: 54.78\n",
      "Hour 9: 54.37\n",
      "Hour 10: 55.35\n",
      "Hour 11: 54.61\n",
      "Hour 12: 54.83\n",
      "Hour 13: 55.57\n",
      "Hour 14: 55.83\n",
      "Hour 15: 53.87\n",
      "Hour 16: 55.91\n",
      "Hour 17: 55.04\n",
      "Hour 18: 55.43\n",
      "Hour 19: 55.30\n",
      "Hour 20: 55.54\n",
      "Hour 21: 54.70\n",
      "Hour 22: 55.14\n",
      "Hour 23: 54.72\n",
      "Hour 24: 54.45\n"
     ]
    }
   ],
   "source": [
    "for hour in range(24):\n",
    "    hour_count = hour + 1\n",
    "    start_index = hour * 60\n",
    "    end_index = start_index + 60\n",
    "    avg_hour_humidity = np.mean(humidity[start_index:end_index])\n",
    "    print(f\"Hour {hour_count}: {avg_hour_humidity:.2f}\")"
   ]
  },
  {
   "cell_type": "code",
   "execution_count": 20,
   "id": "5fe84e3f",
   "metadata": {},
   "outputs": [
    {
     "name": "stdout",
     "output_type": "stream",
     "text": [
      "Hour 1: 1011.10\n",
      "Hour 2: 1012.21\n",
      "Hour 3: 1009.90\n",
      "Hour 4: 1012.97\n",
      "Hour 5: 1012.86\n",
      "Hour 6: 1010.50\n",
      "Hour 7: 1012.90\n",
      "Hour 8: 1010.65\n",
      "Hour 9: 1012.82\n",
      "Hour 10: 1012.92\n",
      "Hour 11: 1011.18\n",
      "Hour 12: 1013.58\n",
      "Hour 13: 1008.20\n",
      "Hour 14: 1012.04\n",
      "Hour 15: 1011.49\n",
      "Hour 16: 1012.98\n",
      "Hour 17: 1011.94\n",
      "Hour 18: 1013.27\n",
      "Hour 19: 1011.22\n",
      "Hour 20: 1010.56\n",
      "Hour 21: 1011.92\n",
      "Hour 22: 1014.04\n",
      "Hour 23: 1013.50\n",
      "Hour 24: 1011.09\n"
     ]
    }
   ],
   "source": [
    "for hour in range(24):\n",
    "    hour_count = hour + 1\n",
    "    start_index = hour * 60\n",
    "    end_index = start_index + 60\n",
    "    avg_hour_pressure = np.mean(pressure[start_index:end_index])\n",
    "    print(f\"Hour {hour_count}: {avg_hour_pressure:.2f}\")"
   ]
  },
  {
   "cell_type": "markdown",
   "id": "f03bbc89",
   "metadata": {},
   "source": [
    "### 4. Anomaly Detection (Simple)"
   ]
  },
  {
   "cell_type": "code",
   "execution_count": 21,
   "id": "f36dfe3a",
   "metadata": {},
   "outputs": [
    {
     "name": "stdout",
     "output_type": "stream",
     "text": [
      "Number of minutes where temperature exceeded 25°C: 402\n"
     ]
    }
   ],
   "source": [
    "threshold = 25\n",
    "exceed_count = np.sum(temp > threshold)\n",
    "print(f\"Number of minutes where temperature exceeded {threshold}°C: {exceed_count}\")"
   ]
  },
  {
   "cell_type": "code",
   "execution_count": 22,
   "id": "022d44ec",
   "metadata": {},
   "outputs": [
    {
     "name": "stdout",
     "output_type": "stream",
     "text": [
      "Minimum temperature was 7.64°C at minute 392\n"
     ]
    }
   ],
   "source": [
    "min_temp_index = np.argmin(temp)\n",
    "min_temp_time = time_in_minutes[min_temp_index]\n",
    "min_temp_value = temp[min_temp_index]\n",
    "print(f\"Minimum temperature was {min_temp_value:.2f}°C at minute {min_temp_time}\")"
   ]
  }
 ],
 "metadata": {
  "kernelspec": {
   "display_name": "Python 3",
   "language": "python",
   "name": "python3"
  },
  "language_info": {
   "codemirror_mode": {
    "name": "ipython",
    "version": 3
   },
   "file_extension": ".py",
   "mimetype": "text/x-python",
   "name": "python",
   "nbconvert_exporter": "python",
   "pygments_lexer": "ipython3",
   "version": "3.13.3"
  }
 },
 "nbformat": 4,
 "nbformat_minor": 5
}
