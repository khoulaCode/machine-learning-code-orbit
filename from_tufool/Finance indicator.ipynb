{
 "cells": [
  {
   "cell_type": "code",
   "execution_count": 19,
   "id": "cc58e477",
   "metadata": {},
   "outputs": [
    {
     "name": "stdout",
     "output_type": "stream",
     "text": [
      "Requirement already satisfied: pandas in c:\\users\\admin\\appdata\\local\\programs\\python\\python313\\lib\\site-packages (2.3.1)\n",
      "Requirement already satisfied: numpy>=1.26.0 in c:\\users\\admin\\appdata\\local\\programs\\python\\python313\\lib\\site-packages (from pandas) (2.3.1)\n",
      "Requirement already satisfied: python-dateutil>=2.8.2 in c:\\users\\admin\\appdata\\local\\programs\\python\\python313\\lib\\site-packages (from pandas) (2.9.0.post0)\n",
      "Requirement already satisfied: pytz>=2020.1 in c:\\users\\admin\\appdata\\local\\programs\\python\\python313\\lib\\site-packages (from pandas) (2025.2)\n",
      "Requirement already satisfied: tzdata>=2022.7 in c:\\users\\admin\\appdata\\local\\programs\\python\\python313\\lib\\site-packages (from pandas) (2025.2)\n",
      "Requirement already satisfied: six>=1.5 in c:\\users\\admin\\appdata\\local\\programs\\python\\python313\\lib\\site-packages (from python-dateutil>=2.8.2->pandas) (1.17.0)\n"
     ]
    }
   ],
   "source": [
    "!pip install pandas"
   ]
  },
  {
   "cell_type": "code",
   "execution_count": 20,
   "id": "134fc9d2",
   "metadata": {},
   "outputs": [],
   "source": [
    "import pandas as pd"
   ]
  },
  {
   "cell_type": "code",
   "execution_count": 21,
   "id": "ea6bbfea",
   "metadata": {},
   "outputs": [
    {
     "name": "stdout",
     "output_type": "stream",
     "text": [
      "Requirement already satisfied: matplotlib in c:\\users\\admin\\appdata\\local\\programs\\python\\python313\\lib\\site-packages (3.10.3)\n",
      "Requirement already satisfied: contourpy>=1.0.1 in c:\\users\\admin\\appdata\\local\\programs\\python\\python313\\lib\\site-packages (from matplotlib) (1.3.2)\n",
      "Requirement already satisfied: cycler>=0.10 in c:\\users\\admin\\appdata\\local\\programs\\python\\python313\\lib\\site-packages (from matplotlib) (0.12.1)\n",
      "Requirement already satisfied: fonttools>=4.22.0 in c:\\users\\admin\\appdata\\local\\programs\\python\\python313\\lib\\site-packages (from matplotlib) (4.58.4)\n",
      "Requirement already satisfied: kiwisolver>=1.3.1 in c:\\users\\admin\\appdata\\local\\programs\\python\\python313\\lib\\site-packages (from matplotlib) (1.4.8)\n",
      "Requirement already satisfied: numpy>=1.23 in c:\\users\\admin\\appdata\\local\\programs\\python\\python313\\lib\\site-packages (from matplotlib) (2.3.1)\n",
      "Requirement already satisfied: packaging>=20.0 in c:\\users\\admin\\appdata\\local\\programs\\python\\python313\\lib\\site-packages (from matplotlib) (25.0)\n",
      "Requirement already satisfied: pillow>=8 in c:\\users\\admin\\appdata\\local\\programs\\python\\python313\\lib\\site-packages (from matplotlib) (11.3.0)\n",
      "Requirement already satisfied: pyparsing>=2.3.1 in c:\\users\\admin\\appdata\\local\\programs\\python\\python313\\lib\\site-packages (from matplotlib) (3.2.3)\n",
      "Requirement already satisfied: python-dateutil>=2.7 in c:\\users\\admin\\appdata\\local\\programs\\python\\python313\\lib\\site-packages (from matplotlib) (2.9.0.post0)\n",
      "Requirement already satisfied: six>=1.5 in c:\\users\\admin\\appdata\\local\\programs\\python\\python313\\lib\\site-packages (from python-dateutil>=2.7->matplotlib) (1.17.0)\n"
     ]
    }
   ],
   "source": [
    "!pip install matplotlib"
   ]
  },
  {
   "cell_type": "code",
   "execution_count": 22,
   "id": "af42394b",
   "metadata": {},
   "outputs": [],
   "source": [
    "import matplotlib.pyplot as plt"
   ]
  },
  {
   "cell_type": "code",
   "execution_count": 23,
   "id": "be1f6b4b",
   "metadata": {},
   "outputs": [],
   "source": [
    "df = pd.read_csv(r\"C:\\Users\\admin\\Desktop\\Global Economy Indicators.csv\")"
   ]
  },
  {
   "cell_type": "code",
   "execution_count": 24,
   "id": "611bb8a7",
   "metadata": {},
   "outputs": [
    {
     "data": {
      "text/html": [
       "<div>\n",
       "<style scoped>\n",
       "    .dataframe tbody tr th:only-of-type {\n",
       "        vertical-align: middle;\n",
       "    }\n",
       "\n",
       "    .dataframe tbody tr th {\n",
       "        vertical-align: top;\n",
       "    }\n",
       "\n",
       "    .dataframe thead th {\n",
       "        text-align: right;\n",
       "    }\n",
       "</style>\n",
       "<table border=\"1\" class=\"dataframe\">\n",
       "  <thead>\n",
       "    <tr style=\"text-align: right;\">\n",
       "      <th></th>\n",
       "      <th>CountryID</th>\n",
       "      <th>Country</th>\n",
       "      <th>Year</th>\n",
       "      <th>AMA exchange rate</th>\n",
       "      <th>IMF based exchange rate</th>\n",
       "      <th>Population</th>\n",
       "      <th>Currency</th>\n",
       "      <th>Per capita GNI</th>\n",
       "      <th>Agriculture, hunting, forestry, fishing (ISIC A-B)</th>\n",
       "      <th>Changes in inventories</th>\n",
       "      <th>...</th>\n",
       "      <th>Household consumption expenditure (including Non-profit institutions serving households)</th>\n",
       "      <th>Imports of goods and services</th>\n",
       "      <th>Manufacturing (ISIC D)</th>\n",
       "      <th>Mining, Manufacturing, Utilities (ISIC C-E)</th>\n",
       "      <th>Other Activities (ISIC J-P)</th>\n",
       "      <th>Total Value Added</th>\n",
       "      <th>Transport, storage and communication (ISIC I)</th>\n",
       "      <th>Wholesale, retail trade, restaurants and hotels (ISIC G-H)</th>\n",
       "      <th>Gross National Income(GNI) in USD</th>\n",
       "      <th>Gross Domestic Product (GDP)</th>\n",
       "    </tr>\n",
       "  </thead>\n",
       "  <tbody>\n",
       "    <tr>\n",
       "      <th>0</th>\n",
       "      <td>4</td>\n",
       "      <td>Afghanistan</td>\n",
       "      <td>1970</td>\n",
       "      <td>0.044998</td>\n",
       "      <td>0.044998</td>\n",
       "      <td>10752971</td>\n",
       "      <td>Afghani</td>\n",
       "      <td>164</td>\n",
       "      <td>8.699174e+08</td>\n",
       "      <td>NaN</td>\n",
       "      <td>...</td>\n",
       "      <td>1.551094e+09</td>\n",
       "      <td>195277226.0</td>\n",
       "      <td>370146827.0</td>\n",
       "      <td>376690811.0</td>\n",
       "      <td>127747843.0</td>\n",
       "      <td>1.731454e+09</td>\n",
       "      <td>83917200.0</td>\n",
       "      <td>226387091.0</td>\n",
       "      <td>1.766528e+09</td>\n",
       "      <td>1.731436e+09</td>\n",
       "    </tr>\n",
       "    <tr>\n",
       "      <th>1</th>\n",
       "      <td>4</td>\n",
       "      <td>Afghanistan</td>\n",
       "      <td>1971</td>\n",
       "      <td>0.044998</td>\n",
       "      <td>0.044998</td>\n",
       "      <td>11015857</td>\n",
       "      <td>Afghani</td>\n",
       "      <td>168</td>\n",
       "      <td>9.108281e+08</td>\n",
       "      <td>NaN</td>\n",
       "      <td>...</td>\n",
       "      <td>1.675426e+09</td>\n",
       "      <td>276296480.0</td>\n",
       "      <td>387549502.0</td>\n",
       "      <td>394401164.0</td>\n",
       "      <td>133754097.0</td>\n",
       "      <td>1.812857e+09</td>\n",
       "      <td>87860382.0</td>\n",
       "      <td>237019196.0</td>\n",
       "      <td>1.850122e+09</td>\n",
       "      <td>1.812838e+09</td>\n",
       "    </tr>\n",
       "    <tr>\n",
       "      <th>2</th>\n",
       "      <td>4</td>\n",
       "      <td>Afghanistan</td>\n",
       "      <td>1972</td>\n",
       "      <td>0.044998</td>\n",
       "      <td>0.044998</td>\n",
       "      <td>11286753</td>\n",
       "      <td>Afghani</td>\n",
       "      <td>149</td>\n",
       "      <td>8.279453e+08</td>\n",
       "      <td>NaN</td>\n",
       "      <td>...</td>\n",
       "      <td>1.498812e+09</td>\n",
       "      <td>290370350.0</td>\n",
       "      <td>352284669.0</td>\n",
       "      <td>358512865.0</td>\n",
       "      <td>121582672.0</td>\n",
       "      <td>1.647918e+09</td>\n",
       "      <td>79864525.0</td>\n",
       "      <td>215477287.0</td>\n",
       "      <td>1.683948e+09</td>\n",
       "      <td>1.647900e+09</td>\n",
       "    </tr>\n",
       "    <tr>\n",
       "      <th>3</th>\n",
       "      <td>4</td>\n",
       "      <td>Afghanistan</td>\n",
       "      <td>1973</td>\n",
       "      <td>0.044998</td>\n",
       "      <td>0.044998</td>\n",
       "      <td>11575305</td>\n",
       "      <td>Afghani</td>\n",
       "      <td>150</td>\n",
       "      <td>8.554869e+08</td>\n",
       "      <td>NaN</td>\n",
       "      <td>...</td>\n",
       "      <td>1.508024e+09</td>\n",
       "      <td>262962880.0</td>\n",
       "      <td>364010279.0</td>\n",
       "      <td>370445793.0</td>\n",
       "      <td>125630236.0</td>\n",
       "      <td>1.702735e+09</td>\n",
       "      <td>82528885.0</td>\n",
       "      <td>222624293.0</td>\n",
       "      <td>1.739998e+09</td>\n",
       "      <td>1.702716e+09</td>\n",
       "    </tr>\n",
       "    <tr>\n",
       "      <th>4</th>\n",
       "      <td>4</td>\n",
       "      <td>Afghanistan</td>\n",
       "      <td>1974</td>\n",
       "      <td>0.044998</td>\n",
       "      <td>0.044998</td>\n",
       "      <td>11869879</td>\n",
       "      <td>Afghani</td>\n",
       "      <td>177</td>\n",
       "      <td>1.035913e+09</td>\n",
       "      <td>NaN</td>\n",
       "      <td>...</td>\n",
       "      <td>1.778819e+09</td>\n",
       "      <td>305679151.0</td>\n",
       "      <td>440760406.0</td>\n",
       "      <td>448552790.0</td>\n",
       "      <td>152119162.0</td>\n",
       "      <td>2.061752e+09</td>\n",
       "      <td>99918604.0</td>\n",
       "      <td>269525910.0</td>\n",
       "      <td>2.106420e+09</td>\n",
       "      <td>2.061729e+09</td>\n",
       "    </tr>\n",
       "  </tbody>\n",
       "</table>\n",
       "<p>5 rows × 26 columns</p>\n",
       "</div>"
      ],
      "text/plain": [
       "   CountryID        Country   Year   AMA exchange rate   \\\n",
       "0           4   Afghanistan    1970            0.044998   \n",
       "1           4   Afghanistan    1971            0.044998   \n",
       "2           4   Afghanistan    1972            0.044998   \n",
       "3           4   Afghanistan    1973            0.044998   \n",
       "4           4   Afghanistan    1974            0.044998   \n",
       "\n",
       "   IMF based exchange rate   Population   Currency   Per capita GNI   \\\n",
       "0                  0.044998     10752971   Afghani               164   \n",
       "1                  0.044998     11015857   Afghani               168   \n",
       "2                  0.044998     11286753   Afghani               149   \n",
       "3                  0.044998     11575305   Afghani               150   \n",
       "4                  0.044998     11869879   Afghani               177   \n",
       "\n",
       "   Agriculture, hunting, forestry, fishing (ISIC A-B)   \\\n",
       "0                                       8.699174e+08     \n",
       "1                                       9.108281e+08     \n",
       "2                                       8.279453e+08     \n",
       "3                                       8.554869e+08     \n",
       "4                                       1.035913e+09     \n",
       "\n",
       "   Changes in inventories   ...  \\\n",
       "0                      NaN  ...   \n",
       "1                      NaN  ...   \n",
       "2                      NaN  ...   \n",
       "3                      NaN  ...   \n",
       "4                      NaN  ...   \n",
       "\n",
       "   Household consumption expenditure (including Non-profit institutions serving households)   \\\n",
       "0                                       1.551094e+09                                           \n",
       "1                                       1.675426e+09                                           \n",
       "2                                       1.498812e+09                                           \n",
       "3                                       1.508024e+09                                           \n",
       "4                                       1.778819e+09                                           \n",
       "\n",
       "   Imports of goods and services   Manufacturing (ISIC D)   \\\n",
       "0                     195277226.0              370146827.0   \n",
       "1                     276296480.0              387549502.0   \n",
       "2                     290370350.0              352284669.0   \n",
       "3                     262962880.0              364010279.0   \n",
       "4                     305679151.0              440760406.0   \n",
       "\n",
       "   Mining, Manufacturing, Utilities (ISIC C-E)   Other Activities (ISIC J-P)   \\\n",
       "0                                   376690811.0                   127747843.0   \n",
       "1                                   394401164.0                   133754097.0   \n",
       "2                                   358512865.0                   121582672.0   \n",
       "3                                   370445793.0                   125630236.0   \n",
       "4                                   448552790.0                   152119162.0   \n",
       "\n",
       "   Total Value Added   Transport, storage and communication (ISIC I)   \\\n",
       "0        1.731454e+09                                      83917200.0   \n",
       "1        1.812857e+09                                      87860382.0   \n",
       "2        1.647918e+09                                      79864525.0   \n",
       "3        1.702735e+09                                      82528885.0   \n",
       "4        2.061752e+09                                      99918604.0   \n",
       "\n",
       "   Wholesale, retail trade, restaurants and hotels (ISIC G-H)   \\\n",
       "0                                        226387091.0             \n",
       "1                                        237019196.0             \n",
       "2                                        215477287.0             \n",
       "3                                        222624293.0             \n",
       "4                                        269525910.0             \n",
       "\n",
       "   Gross National Income(GNI) in USD   Gross Domestic Product (GDP)   \n",
       "0                        1.766528e+09                   1.731436e+09  \n",
       "1                        1.850122e+09                   1.812838e+09  \n",
       "2                        1.683948e+09                   1.647900e+09  \n",
       "3                        1.739998e+09                   1.702716e+09  \n",
       "4                        2.106420e+09                   2.061729e+09  \n",
       "\n",
       "[5 rows x 26 columns]"
      ]
     },
     "execution_count": 24,
     "metadata": {},
     "output_type": "execute_result"
    }
   ],
   "source": [
    "df.head()"
   ]
  },
  {
   "cell_type": "code",
   "execution_count": 25,
   "id": "7cbebe0b",
   "metadata": {},
   "outputs": [
    {
     "name": "stdout",
     "output_type": "stream",
     "text": [
      "[' CountryID ', ' Country ', ' Year ', ' AMA exchange rate ', ' IMF based exchange rate ', ' Population ', ' Currency ', ' Per capita GNI ', ' Agriculture, hunting, forestry, fishing (ISIC A-B) ', ' Changes in inventories ', ' Construction (ISIC F) ', ' Exports of goods and services ', ' Final consumption expenditure ', ' General government final consumption expenditure ', ' Gross capital formation ', ' Gross fixed capital formation (including Acquisitions less disposals of valuables) ', ' Household consumption expenditure (including Non-profit institutions serving households) ', ' Imports of goods and services ', ' Manufacturing (ISIC D) ', ' Mining, Manufacturing, Utilities (ISIC C-E) ', ' Other Activities (ISIC J-P) ', ' Total Value Added ', ' Transport, storage and communication (ISIC I) ', ' Wholesale, retail trade, restaurants and hotels (ISIC G-H) ', ' Gross National Income(GNI) in USD ', ' Gross Domestic Product (GDP) ']\n"
     ]
    }
   ],
   "source": [
    "print(df.columns.tolist())"
   ]
  },
  {
   "cell_type": "code",
   "execution_count": 26,
   "id": "bd9458d9",
   "metadata": {},
   "outputs": [],
   "source": [
    "df.columns = df.columns.str.strip()"
   ]
  },
  {
   "cell_type": "code",
   "execution_count": 27,
   "id": "79167a38",
   "metadata": {},
   "outputs": [
    {
     "name": "stdout",
     "output_type": "stream",
     "text": [
      "Top 5 countries by average GDP:\n",
      "Country\n",
      "United States      9.321346e+12\n",
      "Japan              3.417731e+12\n",
      "China              3.372873e+12\n",
      "Germany            2.095904e+12\n",
      "United Kingdom     1.515096e+12\n",
      "Name: Gross Domestic Product (GDP), dtype: float64\n"
     ]
    }
   ],
   "source": [
    "top_gdp = df.groupby('Country')['Gross Domestic Product (GDP)'].mean().sort_values(ascending=False).head(5)\n",
    "print(\"Top 5 countries by average GDP:\")\n",
    "print(top_gdp)"
   ]
  },
  {
   "cell_type": "code",
   "execution_count": 28,
   "id": "1cfece2f",
   "metadata": {},
   "outputs": [
    {
     "name": "stdout",
     "output_type": "stream",
     "text": [
      "Top 5 countries by household consumption expenditure in 2021:\n",
      "               Country  \\\n",
      "10144   United States    \n",
      "1999            China    \n",
      "4680            Japan    \n",
      "3484          Germany    \n",
      "4212            India    \n",
      "\n",
      "       Household consumption expenditure (including Non-profit institutions serving households)  \n",
      "10144                                       1.590000e+13                                         \n",
      "1999                                        6.800000e+12                                         \n",
      "4680                                        2.660000e+12                                         \n",
      "3484                                        2.100000e+12                                         \n",
      "4212                                        1.910000e+12                                         \n"
     ]
    }
   ],
   "source": [
    "latest_year = df['Year'].max()\n",
    "latest_data = df[df['Year'] == latest_year]\n",
    "\n",
    "top_consumption = latest_data[['Country', 'Household consumption expenditure (including Non-profit institutions serving households)']].sort_values(\n",
    "    by='Household consumption expenditure (including Non-profit institutions serving households)', ascending=False).head(5)\n",
    "\n",
    "print(f\"Top 5 countries by household consumption expenditure in {latest_year}:\")\n",
    "print(top_consumption)"
   ]
  },
  {
   "cell_type": "code",
   "execution_count": null,
   "id": "968cfd97",
   "metadata": {},
   "outputs": [],
   "source": []
  }
 ],
 "metadata": {
  "kernelspec": {
   "display_name": "Python 3",
   "language": "python",
   "name": "python3"
  },
  "language_info": {
   "codemirror_mode": {
    "name": "ipython",
    "version": 3
   },
   "file_extension": ".py",
   "mimetype": "text/x-python",
   "name": "python",
   "nbconvert_exporter": "python",
   "pygments_lexer": "ipython3",
   "version": "3.13.3"
  }
 },
 "nbformat": 4,
 "nbformat_minor": 5
}
