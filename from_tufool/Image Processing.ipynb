{
 "cells": [
  {
   "cell_type": "markdown",
   "id": "c222c6c6-e935-497d-a549-5f578a33ba4c",
   "metadata": {},
   "source": [
    "## Image Processing Basics"
   ]
  },
  {
   "cell_type": "markdown",
   "id": "a0a4c4ca-f81c-4413-9513-5257a74c110a",
   "metadata": {},
   "source": [
    "### 1. Image Representation:"
   ]
  },
  {
   "cell_type": "code",
   "execution_count": 1,
   "id": "1f0b43c7-32f5-4a1a-a6da-c829e9a1e4af",
   "metadata": {},
   "outputs": [],
   "source": [
    "import numpy as np"
   ]
  },
  {
   "cell_type": "code",
   "execution_count": 2,
   "id": "82b481d1-8c1b-45a8-a6e7-b7899b176b94",
   "metadata": {},
   "outputs": [
    {
     "name": "stdout",
     "output_type": "stream",
     "text": [
      "Original Image:\n",
      " [[ 39 250 238  57 144  44  77  18 243  97]\n",
      " [202  50  57  19   7 102  58 122 247 211]\n",
      " [ 24 232 139 142 224 183 211  61 245 183]\n",
      " [165 172  26  29  94   5  38 148  73 200]\n",
      " [ 36 224 252 174 213  68  59  20 111 138]\n",
      " [101  42 224  20 238 115 122  18 240 226]\n",
      " [252 135  52  12  29 101  84 133 126 246]\n",
      " [139 179  30  58 104 145  71  42 238  44]\n",
      " [150  91 117 180 182  68 236 213  97  82]\n",
      " [238  59 205  22 229  63  16  77  71  45]]\n"
     ]
    }
   ],
   "source": [
    "image = np.random.randint(0, 256, size=(10, 10), dtype=np.uint8)\n",
    "print(\"Original Image:\\n\", image)"
   ]
  },
  {
   "cell_type": "markdown",
   "id": "bafa57d4-358d-4475-854a-47405fc363b4",
   "metadata": {},
   "source": [
    "#### 2. Display (Conceptual)"
   ]
  },
  {
   "cell_type": "code",
   "execution_count": 8,
   "id": "01bfde32-056e-4572-9cb8-9984c3bf7d05",
   "metadata": {},
   "outputs": [
    {
     "name": "stdout",
     "output_type": "stream",
     "text": [
      "Requirement already satisfied: matplotlib in c:\\users\\admin\\appdata\\local\\programs\\python\\python313\\lib\\site-packages (3.10.3)\n",
      "Requirement already satisfied: contourpy>=1.0.1 in c:\\users\\admin\\appdata\\local\\programs\\python\\python313\\lib\\site-packages (from matplotlib) (1.3.2)\n",
      "Requirement already satisfied: cycler>=0.10 in c:\\users\\admin\\appdata\\local\\programs\\python\\python313\\lib\\site-packages (from matplotlib) (0.12.1)\n",
      "Requirement already satisfied: fonttools>=4.22.0 in c:\\users\\admin\\appdata\\local\\programs\\python\\python313\\lib\\site-packages (from matplotlib) (4.58.4)\n",
      "Requirement already satisfied: kiwisolver>=1.3.1 in c:\\users\\admin\\appdata\\local\\programs\\python\\python313\\lib\\site-packages (from matplotlib) (1.4.8)\n",
      "Requirement already satisfied: numpy>=1.23 in c:\\users\\admin\\appdata\\local\\programs\\python\\python313\\lib\\site-packages (from matplotlib) (2.3.1)\n",
      "Requirement already satisfied: packaging>=20.0 in c:\\users\\admin\\appdata\\local\\programs\\python\\python313\\lib\\site-packages (from matplotlib) (25.0)\n",
      "Requirement already satisfied: pillow>=8 in c:\\users\\admin\\appdata\\local\\programs\\python\\python313\\lib\\site-packages (from matplotlib) (11.3.0)\n",
      "Requirement already satisfied: pyparsing>=2.3.1 in c:\\users\\admin\\appdata\\local\\programs\\python\\python313\\lib\\site-packages (from matplotlib) (3.2.3)\n",
      "Requirement already satisfied: python-dateutil>=2.7 in c:\\users\\admin\\appdata\\local\\programs\\python\\python313\\lib\\site-packages (from matplotlib) (2.9.0.post0)\n",
      "Requirement already satisfied: six>=1.5 in c:\\users\\admin\\appdata\\local\\programs\\python\\python313\\lib\\site-packages (from python-dateutil>=2.7->matplotlib) (1.17.0)\n"
     ]
    }
   ],
   "source": [
    "!pip install matplotlib "
   ]
  },
  {
   "cell_type": "code",
   "execution_count": 12,
   "id": "c5eec92a-9395-4d37-b158-d7cb9afeb340",
   "metadata": {},
   "outputs": [],
   "source": [
    "import matplotlib.pyplot as plt"
   ]
  },
  {
   "cell_type": "code",
   "execution_count": 11,
   "id": "ec619e3c-1ad2-4166-a3fe-8706328854e2",
   "metadata": {},
   "outputs": [
    {
     "data": {
      "image/png": "[encoded data removed]",
      "text/plain": [
       "<Figure size 640x480 with 2 Axes>"
      ]
     },
     "metadata": {},
     "output_type": "display_data"
    }
   ],
   "source": [
    "plt.imshow(image, cmap='gray')\n",
    "plt.title(\"Grayscale Image\")\n",
    "plt.colorbar()\n",
    "plt.show()"
   ]
  },
  {
   "cell_type": "markdown",
   "id": "94658355-eb77-45c6-a354-c301d4b5f5ca",
   "metadata": {},
   "source": [
    "#### 3. Grayscale Inversion:"
   ]
  },
  {
   "cell_type": "code",
   "execution_count": 13,
   "id": "f94a9249-60a9-4634-88f0-10c4d29c8cf5",
   "metadata": {},
   "outputs": [
    {
     "name": "stdout",
     "output_type": "stream",
     "text": [
      "Inverted Image:\n",
      " [[216   5  17 198 111 211 178 237  12 158]\n",
      " [ 53 205 198 236 248 153 197 133   8  44]\n",
      " [231  23 116 113  31  72  44 194  10  72]\n",
      " [ 90  83 229 226 161 250 217 107 182  55]\n",
      " [219  31   3  81  42 187 196 235 144 117]\n",
      " [154 213  31 235  17 140 133 237  15  29]\n",
      " [  3 120 203 243 226 154 171 122 129   9]\n",
      " [116  76 225 197 151 110 184 213  17 211]\n",
      " [105 164 138  75  73 187  19  42 158 173]\n",
      " [ 17 196  50 233  26 192 239 178 184 210]]\n"
     ]
    }
   ],
   "source": [
    "inverted_image = 255 - image #(original_pixel)\n",
    "print(\"Inverted Image:\\n\", inverted_image)"
   ]
  },
  {
   "cell_type": "markdown",
   "id": "1b9e5dba-3f5f-4150-af78-16b6097ebcdf",
   "metadata": {},
   "source": [
    "#### 4. Thresholding:"
   ]
  },
  {
   "cell_type": "code",
   "execution_count": 14,
   "id": "c7b0ab93-afc3-4574-9851-378c04e02dcf",
   "metadata": {},
   "outputs": [
    {
     "name": "stdout",
     "output_type": "stream",
     "text": [
      "Thresholded Image:\n",
      " [[  0 255 255   0 255   0   0   0 255   0]\n",
      " [255   0   0   0   0   0   0   0 255 255]\n",
      " [  0 255 255 255 255 255 255   0 255 255]\n",
      " [255 255   0   0   0   0   0 255   0 255]\n",
      " [  0 255 255 255 255   0   0   0   0 255]\n",
      " [  0   0 255   0 255   0   0   0 255 255]\n",
      " [255 255   0   0   0   0   0 255   0 255]\n",
      " [255 255   0   0   0 255   0   0 255   0]\n",
      " [255   0   0 255 255   0 255 255   0   0]\n",
      " [255   0 255   0 255   0   0   0   0   0]]\n"
     ]
    }
   ],
   "source": [
    "# 0 if <128 else 255\n",
    "thresholded_image = np.where(image < 128, 0, 255).astype(np.uint8)\n",
    "print(\"Thresholded Image:\\n\", thresholded_image)"
   ]
  },
  {
   "cell_type": "markdown",
   "id": "4239f4f0-e583-4640-967c-ef88119de198",
   "metadata": {},
   "source": [
    "#### 5. Cropping (4x4 Center Sub-Image):"
   ]
  },
  {
   "cell_type": "code",
   "execution_count": 15,
   "id": "b0387450-edb5-470f-9f3b-4190de74fbb0",
   "metadata": {},
   "outputs": [
    {
     "name": "stdout",
     "output_type": "stream",
     "text": [
      "Cropped 4x4 Image:\n",
      " [[ 29  94   5  38]\n",
      " [174 213  68  59]\n",
      " [ 20 238 115 122]\n",
      " [ 12  29 101  84]]\n"
     ]
    }
   ],
   "source": [
    "cropped_image = image[3:7, 3:7]\n",
    "print(\"Cropped 4x4 Image:\\n\", cropped_image)"
   ]
  },
  {
   "cell_type": "markdown",
   "id": "c469d5b6-f702-4324-a1e0-9e4b0ca8cab3",
   "metadata": {},
   "source": [
    "#### 6. Edge Detection (Simple - Convolution Concept):"
   ]
  },
  {
   "cell_type": "code",
   "execution_count": 16,
   "id": "4c53ebf9-ba42-441b-9e35-0229d2106e22",
   "metadata": {},
   "outputs": [
    {
     "name": "stdout",
     "output_type": "stream",
     "text": [
      "Horizontal Edge Detection:\n",
      " [[211  12 181  87 100  33  59 225 146   0]\n",
      " [152   7  38  12  95  44  64 125  36   0]\n",
      " [208  93   3  82  41  28 150 184  62   0]\n",
      " [  7 146   3  65  89  33 110  75 127   0]\n",
      " [188  28  78  39 145   9  39  91  27   0]\n",
      " [ 59 182 204 218 123   7 104 222  14   0]\n",
      " [117  83  40  17  72  17  49   7 120   0]\n",
      " [ 40 149  28  46  41  74  29 196 194   0]\n",
      " [ 59  26  63   2 114 168  23 116  15   0]\n",
      " [179 146 183 207 166  47  61   6  26   0]]\n"
     ]
    }
   ],
   "source": [
    "horizontal_edges = np.zeros_like(image)\n",
    "\n",
    "for i in range(image.shape[0]):\n",
    "    for j in range(image.shape[1] - 1):  # skip last column\n",
    "        horizontal_edges[i, j] = abs(int(image[i, j+1]) - int(image[i, j]))\n",
    "\n",
    "print(\"Horizontal Edge Detection:\\n\", horizontal_edges)"
   ]
  },
  {
   "cell_type": "markdown",
   "id": "b36f1bde-a060-413d-86da-a455c2cc3acd",
   "metadata": {},
   "source": [
    "#### Final result visualization (Horizontal edge):"
   ]
  },
  {
   "cell_type": "code",
   "execution_count": 17,
   "id": "28d4744d-801f-4506-b7ef-0af13c29c4be",
   "metadata": {},
   "outputs": [
    {
     "data": {
      "image/png": "[encoded data removed]",
      "text/plain": [
       "<Figure size 640x480 with 2 Axes>"
      ]
     },
     "metadata": {},
     "output_type": "display_data"
    }
   ],
   "source": [
    "plt.imshow(horizontal_edges, cmap='gray')  \n",
    "plt.title(\"Horizontal Edge Detection\")     \n",
    "plt.colorbar()                             \n",
    "plt.show()                                 "
   ]
  },
  {
   "cell_type": "markdown",
   "id": "5dbe784e-26aa-4023-8bdc-b8f4159be021",
   "metadata": {},
   "source": [
    "#### Final result (Data as text):"
   ]
  },
  {
   "cell_type": "code",
   "execution_count": 18,
   "id": "76e6c1df-d54b-43ce-87c6-4b62604b4449",
   "metadata": {},
   "outputs": [
    {
     "name": "stdout",
     "output_type": "stream",
     "text": [
      "[[211  12 181  87 100  33  59 225 146   0]\n",
      " [152   7  38  12  95  44  64 125  36   0]\n",
      " [208  93   3  82  41  28 150 184  62   0]\n",
      " [  7 146   3  65  89  33 110  75 127   0]\n",
      " [188  28  78  39 145   9  39  91  27   0]\n",
      " [ 59 182 204 218 123   7 104 222  14   0]\n",
      " [117  83  40  17  72  17  49   7 120   0]\n",
      " [ 40 149  28  46  41  74  29 196 194   0]\n",
      " [ 59  26  63   2 114 168  23 116  15   0]\n",
      " [179 146 183 207 166  47  61   6  26   0]]\n"
     ]
    }
   ],
   "source": [
    "print(horizontal_edges)"
   ]
  },
  {
   "cell_type": "code",
   "execution_count": null,
   "id": "dd3af1cb-cf4b-4868-be11-b7007b5c3ea2",
   "metadata": {},
   "outputs": [],
   "source": []
  }
 ],
 "metadata": {
  "kernelspec": {
   "display_name": "Python 3 (ipykernel)",
   "language": "python",
   "name": "python3"
  },
  "language_info": {
   "codemirror_mode": {
    "name": "ipython",
    "version": 3
   },
   "file_extension": ".py",
   "mimetype": "text/x-python",
   "name": "python",
   "nbconvert_exporter": "python",
   "pygments_lexer": "ipython3",
   "version": "3.13.3"
  }
 },
 "nbformat": 4,
 "nbformat_minor": 5
}
