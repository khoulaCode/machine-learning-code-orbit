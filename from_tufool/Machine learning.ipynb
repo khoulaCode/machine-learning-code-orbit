{
 "cells": [
  {
   "cell_type": "code",
   "execution_count": null,
   "id": "194e00be-0efd-4e2b-9987-c351a16247e3",
   "metadata": {},
   "outputs": [
    {
     "name": "stdout",
     "output_type": "stream",
     "text": [
      "Requirement already satisfied: numpy in c:\\users\\admin\\appdata\\local\\programs\\python\\python313\\lib\\site-packages (2.3.1)\n"
     ]
    }
   ],
   "source": [
    "! Pip install numpy"
   ]
  },
  {
   "cell_type": "markdown",
   "id": "0184b939-615f-4b22-aeef-ec4822d1501a",
   "metadata": {},
   "source": [
    "### Part 1: Array Creation and Properties"
   ]
  },
  {
   "cell_type": "code",
   "execution_count": null,
   "id": "65fed066-bd42-4b3b-839c-1d794a27feb1",
   "metadata": {},
   "outputs": [],
   "source": [
    "import numpy as np "
   ]
  },
  {
   "cell_type": "markdown",
   "id": "4154dba8-b681-4ec7-a38d-ef328fc8193c",
   "metadata": {},
   "source": [
    "1. Create a 1D array named arr1d with integers from 0 to 9"
   ]
  },
  {
   "cell_type": "code",
   "execution_count": null,
   "id": "ee16ccb6-9d86-45c4-8df0-a9ff17629061",
   "metadata": {},
   "outputs": [
    {
     "name": "stdout",
     "output_type": "stream",
     "text": [
      "arr1d: [0 1 2 3 4 5 6 7 8 9]\n"
     ]
    }
   ],
   "source": [
    "arr1d = np.arange(10)\n",
    "print(\"arr1d:\", arr1d)"
   ]
  },
  {
   "cell_type": "markdown",
   "id": "acf56198-52a2-4ab9-8ff3-fbcac7972e8f",
   "metadata": {},
   "source": [
    "2. Create a 2D array named arr2d with shape (3, 3) filled with ones"
   ]
  },
  {
   "cell_type": "code",
   "execution_count": null,
   "id": "884a09c7-1191-4151-92a8-b8724ec3cede",
   "metadata": {},
   "outputs": [
    {
     "name": "stdout",
     "output_type": "stream",
     "text": [
      "arr2d:\n",
      " [[1. 1. 1.]\n",
      " [1. 1. 1.]\n",
      " [1. 1. 1.]]\n"
     ]
    }
   ],
   "source": [
    "arr2d = np.ones((3, 3))\n",
    "print(\"arr2d:\\n\", arr2d)"
   ]
  },
  {
   "cell_type": "markdown",
   "id": "178b909e-c0bc-4f3b-add7-02af06877f5e",
   "metadata": {},
   "source": [
    "3. Create random_matrix with random numbers from standard normal distribution"
   ]
  },
  {
   "cell_type": "code",
   "execution_count": null,
   "id": "233e4523-1057-4d3f-b0c6-6a7ed27deda8",
   "metadata": {},
   "outputs": [
    {
     "name": "stdout",
     "output_type": "stream",
     "text": [
      "random_matrix:\n",
      " [[ 0.66325511 -1.0248142   0.80269271]\n",
      " [ 0.14513984  0.51722085  0.36074736]\n",
      " [ 1.80081613  1.11326884 -1.02643331]]\n"
     ]
    }
   ],
   "source": [
    "random_matrix = np.random.randn(3, 3)\n",
    "print(\"random_matrix:\\n\", random_matrix)"
   ]
  },
  {
   "cell_type": "markdown",
   "id": "c44b2a26-4aee-47bf-b81b-5f391b435296",
   "metadata": {},
   "source": [
    "4. Create even_numbers from 10 to 50"
   ]
  },
  {
   "cell_type": "code",
   "execution_count": null,
   "id": "62919311-f045-43ce-8a5c-963f06202fe7",
   "metadata": {},
   "outputs": [
    {
     "name": "stdout",
     "output_type": "stream",
     "text": [
      "even_numbers: [10 12 14 16 18 20 22 24 26 28 30 32 34 36 38 40 42 44 46 48 50]\n"
     ]
    }
   ],
   "source": [
    "even_numbers = np.arange(10, 51, 2)\n",
    "print(\"even_numbers:\", even_numbers)"
   ]
  },
  {
   "cell_type": "markdown",
   "id": "248244de-53c1-4a7f-b890-5401f35a357b",
   "metadata": {},
   "source": [
    "5. Create linspace_array with 7 values between 0 and 1"
   ]
  },
  {
   "cell_type": "code",
   "execution_count": null,
   "id": "6edd032b-e247-43a3-bd37-1f365b818994",
   "metadata": {},
   "outputs": [
    {
     "name": "stdout",
     "output_type": "stream",
     "text": [
      "linspace_array: [0.         0.16666667 0.33333333 0.5        0.66666667 0.83333333\n",
      " 1.        ]\n"
     ]
    }
   ],
   "source": [
    "linspace_array = np.linspace(0, 1, 7)\n",
    "print(\"linspace_array:\", linspace_array)"
   ]
  },
  {
   "cell_type": "markdown",
   "id": "1a4e0482-9581-4d81-b388-6e3c2936b529",
   "metadata": {},
   "source": [
    "6. Find shape, ndim, and dtype of arr"
   ]
  },
  {
   "cell_type": "code",
   "execution_count": null,
   "id": "5990177f-eabf-4159-814c-69033ce20701",
   "metadata": {},
   "outputs": [
    {
     "name": "stdout",
     "output_type": "stream",
     "text": [
      "Shape: (2, 3)\n",
      "Dimensions (ndim): 2\n",
      "Data type (dtype): int64\n"
     ]
    }
   ],
   "source": [
    "arr = np.array([[1, 2, 3], [4, 5, 6]])\n",
    "print(\"Shape:\", arr.shape)\n",
    "print(\"Dimensions (ndim):\", arr.ndim)\n",
    "print(\"Data type (dtype):\", arr.dtype)"
   ]
  },
  {
   "cell_type": "markdown",
   "id": "b9043a48-80f3-46f8-b799-d5c6db9ac6d0",
   "metadata": {},
   "source": [
    "### Part 2: Array Manipulation"
   ]
  },
  {
   "cell_type": "markdown",
   "id": "aa1a82b1-0374-433d-9eac-17e44278d6b9",
   "metadata": {},
   "source": [
    "1. Reshape arr1d (from Part 1) into a 2x5 2D array. Name the new array reshaped_arr"
   ]
  },
  {
   "cell_type": "code",
   "execution_count": null,
   "id": "9e6caa34-5a28-4803-8b76-696cdb0b3491",
   "metadata": {},
   "outputs": [
    {
     "name": "stdout",
     "output_type": "stream",
     "text": [
      "reshaped_arr:\n",
      " [[0 1 2 3 4]\n",
      " [5 6 7 8 9]]\n"
     ]
    }
   ],
   "source": [
    "reshaped_arr = arr1d.reshape(2, 5)\n",
    "print(\"reshaped_arr:\\n\", reshaped_arr)"
   ]
  },
  {
   "cell_type": "markdown",
   "id": "a5971e1f-b1d1-4208-b4a7-6ae436be10a1",
   "metadata": {},
   "source": [
    "2. Transpose reshaped_arr. Name the result transposed_arr"
   ]
  },
  {
   "cell_type": "code",
   "execution_count": null,
   "id": "bce04620-0c23-45f0-b9dd-198965245da0",
   "metadata": {},
   "outputs": [
    {
     "name": "stdout",
     "output_type": "stream",
     "text": [
      "transposed_arr:\n",
      " [[0 5]\n",
      " [1 6]\n",
      " [2 7]\n",
      " [3 8]\n",
      " [4 9]]\n"
     ]
    }
   ],
   "source": [
    "transposed_arr = reshaped_arr.T\n",
    "print(\"transposed_arr:\\n\", transposed_arr)"
   ]
  },
  {
   "cell_type": "markdown",
   "id": "21dc5e95-7acd-4123-bbef-f99494fa4d1b",
   "metadata": {},
   "source": [
    "3. Stack two 1D arrays a = np.array([1, 2, 3]) and b = np.array([4, 5, 6]) vertically"
   ]
  },
  {
   "cell_type": "code",
   "execution_count": null,
   "id": "3e5e86be-b9be-40c4-b5c1-b8774986e3fe",
   "metadata": {},
   "outputs": [
    {
     "name": "stdout",
     "output_type": "stream",
     "text": [
      "Vertical Stack:\n",
      " [[1 2 3]\n",
      " [4 5 6]]\n"
     ]
    }
   ],
   "source": [
    "a = np.array([1, 2, 3])\n",
    "b = np.array([4, 5, 6])\n",
    "\n",
    "v_stack = np.vstack((a, b))\n",
    "print(\"Vertical Stack:\\n\", v_stack)"
   ]
  },
  {
   "cell_type": "markdown",
   "id": "6fe8ab51-6850-41f6-a396-4ddebd50c97f",
   "metadata": {},
   "source": [
    "4. Stack two 2D arrays m1 and m2 horizontally"
   ]
  },
  {
   "cell_type": "code",
   "execution_count": null,
   "id": "89cf2680-4139-49aa-a972-bc0cdf473ab3",
   "metadata": {},
   "outputs": [
    {
     "name": "stdout",
     "output_type": "stream",
     "text": [
      "Horizontal Stack:\n",
      " [[1 2 5 6]\n",
      " [3 4 7 8]]\n"
     ]
    }
   ],
   "source": [
    "m1 = np.array([[1, 2], [3, 4]])\n",
    "m2 = np.array([[5, 6], [7, 8]])\n",
    "\n",
    "h_stack = np.hstack((m1, m2))\n",
    "print(\"Horizontal Stack:\\n\", h_stack)"
   ]
  },
  {
   "cell_type": "markdown",
   "id": "9dac887f-aaf7-42cc-b962-a9f211525e28",
   "metadata": {},
   "source": [
    "5. Split the array arr_to_split = np.arange(16).reshape(4, 4) horizontally into 2 equal parts"
   ]
  },
  {
   "cell_type": "code",
   "execution_count": null,
   "id": "c74e2809-31b7-4eba-a1c2-c455580c9185",
   "metadata": {},
   "outputs": [
    {
     "name": "stdout",
     "output_type": "stream",
     "text": [
      "Horizontal Split - Left:\n",
      " [[ 0  1]\n",
      " [ 4  5]\n",
      " [ 8  9]\n",
      " [12 13]]\n",
      "Horizontal Split - Right:\n",
      " [[ 2  3]\n",
      " [ 6  7]\n",
      " [10 11]\n",
      " [14 15]]\n"
     ]
    }
   ],
   "source": [
    "arr_to_split = np.arange(16).reshape(4, 4)\n",
    "\n",
    "split_h = np.hsplit(arr_to_split, 2)\n",
    "print(\"Horizontal Split - Left:\\n\", split_h[0])\n",
    "print(\"Horizontal Split - Right:\\n\", split_h[1])"
   ]
  },
  {
   "cell_type": "markdown",
   "id": "0feae25b-96c1-4d1c-8069-51e368095d57",
   "metadata": {},
   "source": [
    "6. Split arr_to_split vertically at index 2 (into first 2 rows and last 2 rows)"
   ]
  },
  {
   "cell_type": "code",
   "execution_count": null,
   "id": "5b33f768-b849-49ce-a547-e216632de02b",
   "metadata": {},
   "outputs": [
    {
     "name": "stdout",
     "output_type": "stream",
     "text": [
      "Vertical Split - Top:\n",
      " [[0 1 2 3]\n",
      " [4 5 6 7]]\n",
      "Vertical Split - Bottom:\n",
      " [[ 8  9 10 11]\n",
      " [12 13 14 15]]\n"
     ]
    }
   ],
   "source": [
    "split_v = np.vsplit(arr_to_split, [2])\n",
    "print(\"Vertical Split - Top:\\n\", split_v[0])\n",
    "print(\"Vertical Split - Bottom:\\n\", split_v[1])\n"
   ]
  },
  {
   "cell_type": "markdown",
   "id": "474e7c96-b218-490c-a526-99f5a29f7d87",
   "metadata": {},
   "source": [
    "### Part 3: Indexing, Slicing, and Boolean Indexing"
   ]
  },
  {
   "cell_type": "markdown",
   "id": "6af877cd-3281-4115-9db1-0804ad4670a6",
   "metadata": {},
   "source": [
    "1. Given data = np.array([[10, 11, 12], [13, 14, 15], [16, 17, 18]]), extract the element at row 1, column 2"
   ]
  },
  {
   "cell_type": "code",
   "execution_count": null,
   "id": "76ba075d-1a0c-4a2b-85f9-9c2ac325a60d",
   "metadata": {},
   "outputs": [
    {
     "name": "stdout",
     "output_type": "stream",
     "text": [
      "Element at row 1, column 2: 15\n"
     ]
    }
   ],
   "source": [
    "data = np.array([[10, 11, 12],\n",
    "                 [13, 14, 15],\n",
    "                 [16, 17, 18]])\n",
    "\n",
    "element = data[1, 2]\n",
    "print(\"Element at row 1, column 2:\", element)"
   ]
  },
  {
   "cell_type": "markdown",
   "id": "c3bba289-7366-4c5d-8ba7-83723c5c6e05",
   "metadata": {},
   "source": [
    "2. From data, extract the first two rows and all columns"
   ]
  },
  {
   "cell_type": "code",
   "execution_count": null,
   "id": "7acd0df3-6763-498c-87c3-7813e681bcde",
   "metadata": {},
   "outputs": [
    {
     "name": "stdout",
     "output_type": "stream",
     "text": [
      "First two rows:\n",
      " [[10 11 12]\n",
      " [13 14 15]]\n"
     ]
    }
   ],
   "source": [
    "first_two_rows = data[:2, :]\n",
    "print(\"First two rows:\\n\", first_two_rows)"
   ]
  },
  {
   "cell_type": "markdown",
   "id": "db347028-747f-4c09-b452-5e29e74fcc98",
   "metadata": {},
   "source": [
    "3. From data, extract the elements 11, 15, and 17 using fancy indexing"
   ]
  },
  {
   "cell_type": "code",
   "execution_count": null,
   "id": "f8dacb7c-1e55-49e6-b339-e04c4b147cd9",
   "metadata": {},
   "outputs": [
    {
     "name": "stdout",
     "output_type": "stream",
     "text": [
      "Fancy indexed elements: [11 15 17]\n"
     ]
    }
   ],
   "source": [
    "fancy_elements = data[[0, 1, 2], [1, 2, 1]]\n",
    "print(\"Fancy indexed elements:\", fancy_elements)"
   ]
  },
  {
   "cell_type": "markdown",
   "id": "314fc4e1-d6a6-4b1b-8b9e-a28f98ad964d",
   "metadata": {},
   "source": [
    "4. Given scores = np.array([85, 92, 78, 65, 95, 88]), use boolean indexing to find all scores greater than 80"
   ]
  },
  {
   "cell_type": "code",
   "execution_count": null,
   "id": "232244fe-fc61-4ef9-97ae-b657aa512f97",
   "metadata": {},
   "outputs": [
    {
     "name": "stdout",
     "output_type": "stream",
     "text": [
      "Scores greater than 80: [85 92 95 88]\n"
     ]
    }
   ],
   "source": [
    "scores = np.array([85, 92, 78, 65, 95, 88])\n",
    "high_scores = scores[scores > 80]\n",
    "print(\"Scores greater than 80:\", high_scores)\n"
   ]
  },
  {
   "cell_type": "markdown",
   "id": "0d8100be-8304-4539-99e4-7363a89d8a28",
   "metadata": {},
   "source": [
    "### Part 4: Numerical Operations and Aggregations"
   ]
  },
  {
   "cell_type": "markdown",
   "id": "e171ecc3-cb6f-4b91-9141-12033a86f477",
   "metadata": {},
   "source": [
    "1. Element-wise multiplication and division of arr_op1 and arr_op2"
   ]
  },
  {
   "cell_type": "code",
   "execution_count": null,
   "id": "6adee079-e7ad-4c58-93de-fa6cba88b1e1",
   "metadata": {},
   "outputs": [
    {
     "name": "stdout",
     "output_type": "stream",
     "text": [
      "Element-wise multiplication: [ 20  80 180]\n",
      "Element-wise division: [5. 5. 5.]\n"
     ]
    }
   ],
   "source": [
    "arr_op1 = np.array([10, 20, 30])\n",
    "arr_op2 = np.array([2, 4, 6])\n",
    "\n",
    "multiplication = arr_op1 * arr_op2\n",
    "division = arr_op1 / arr_op2\n",
    "\n",
    "print(\"Element-wise multiplication:\", multiplication)\n",
    "print(\"Element-wise division:\", division)"
   ]
  },
  {
   "cell_type": "markdown",
   "id": "b39861c6-f0ef-40e4-98b2-4bf70039f48f",
   "metadata": {},
   "source": [
    "2. Calculate the sum of all elements in the matrix"
   ]
  },
  {
   "cell_type": "code",
   "execution_count": null,
   "id": "c70887a5-b86b-44c7-95a6-97d56a93b6e2",
   "metadata": {},
   "outputs": [
    {
     "name": "stdout",
     "output_type": "stream",
     "text": [
      "Sum of all elements in the matrix: 45\n"
     ]
    }
   ],
   "source": [
    "matrix = np.array([[1, 2, 3],\n",
    "                   [4, 5, 6],\n",
    "                   [7, 8, 9]])\n",
    "\n",
    "total_sum = matrix.sum()\n",
    "print(\"Sum of all elements in the matrix:\", total_sum)"
   ]
  },
  {
   "cell_type": "markdown",
   "id": "fe23852d-338d-4022-91c3-ca7db1bb20d0",
   "metadata": {},
   "source": [
    "3. Calculate the mean of each column in the matrix"
   ]
  },
  {
   "cell_type": "code",
   "execution_count": null,
   "id": "0a74440d-41d9-4702-870e-cfaaf2fef6b3",
   "metadata": {},
   "outputs": [
    {
     "name": "stdout",
     "output_type": "stream",
     "text": [
      "Mean of each column: [4. 5. 6.]\n"
     ]
    }
   ],
   "source": [
    "column_means = matrix.mean(axis=0)\n",
    "print(\"Mean of each column:\", column_means)"
   ]
  },
  {
   "cell_type": "markdown",
   "id": "98002c9a",
   "metadata": {},
   "source": []
  },
  {
   "cell_type": "markdown",
   "id": "e100fec1-6687-41c0-bd0c-0678e660f6ef",
   "metadata": {},
   "source": [
    "4. Apply a 10% discount to all prices using broadcasting"
   ]
  },
  {
   "cell_type": "code",
   "execution_count": null,
   "id": "09617c2a-9e3c-45d2-ba7b-ae9c04c20806",
   "metadata": {},
   "outputs": [
    {
     "name": "stdout",
     "output_type": "stream",
     "text": [
      "Prices after 10% discount: [ 90. 135. 180. 225.]\n"
     ]
    }
   ],
   "source": [
    "price_array = np.array([100, 150, 200, 250])\n",
    "discount_percentage = 0.10\n",
    "\n",
    "discounted_prices = price_array * (1 - discount_percentage)\n",
    "print(\"Prices after 10% discount:\", discounted_prices)"
   ]
  },
  {
   "cell_type": "code",
   "execution_count": null,
   "id": "2c1dd8a2-60a4-443f-89f6-ada5363f7992",
   "metadata": {},
   "outputs": [],
   "source": []
  }
 ],
 "metadata": {
  "kernelspec": {
   "display_name": "Python 3 (ipykernel)",
   "language": "python",
   "name": "python3"
  },
  "language_info": {
   "codemirror_mode": {
    "name": "ipython",
    "version": 3
   },
   "file_extension": ".py",
   "mimetype": "text/x-python",
   "name": "python",
   "nbconvert_exporter": "python",
   "pygments_lexer": "ipython3",
   "version": "3.13.3"
  }
 },
 "nbformat": 4,
 "nbformat_minor": 5
}
