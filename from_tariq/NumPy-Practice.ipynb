{
 "cells": [
  {
   "cell_type": "markdown",
   "id": "6d453848",
   "metadata": {},
   "source": [
    "<t1> Array Creation and Properties <t1/>"
   ]
  },
  {
   "cell_type": "code",
   "execution_count": 14,
   "id": "813632f0",
   "metadata": {},
   "outputs": [],
   "source": [
    "import numpy as np"
   ]
  },
  {
   "cell_type": "code",
   "execution_count": 15,
   "id": "58b7711e",
   "metadata": {},
   "outputs": [
    {
     "name": "stdout",
     "output_type": "stream",
     "text": [
      "[ 1  2  3  4  5  6  7  8  9 10]\n"
     ]
    }
   ],
   "source": [
    "aar1d = np.array([1, 2, 3, 4, 5, 6 , 7, 8, 9, 10])\n",
    "print(aar1d)"
   ]
  },
  {
   "cell_type": "code",
   "execution_count": 16,
   "id": "ddc66e0e",
   "metadata": {},
   "outputs": [
    {
     "name": "stdout",
     "output_type": "stream",
     "text": [
      "[[1. 1. 1.]\n",
      " [1. 1. 1.]\n",
      " [1. 1. 1.]]\n"
     ]
    }
   ],
   "source": [
    "aar2d = np.ones((3, 3)) \n",
    "print(aar2d)"
   ]
  },
  {
   "cell_type": "code",
   "execution_count": 17,
   "id": "a2eaa0f8",
   "metadata": {},
   "outputs": [
    {
     "name": "stdout",
     "output_type": "stream",
     "text": [
      "[[ 0.2515414   1.28291515 -0.44582877]\n",
      " [-0.41072581  0.34336032  0.57594025]\n",
      " [ 1.20506925 -0.78765269  0.10433122]]\n"
     ]
    }
   ],
   "source": [
    "random_matrix = np.random.randn(3, 3)\n",
    "print(random_matrix)"
   ]
  },
  {
   "cell_type": "code",
   "execution_count": 18,
   "id": "fc19429a",
   "metadata": {},
   "outputs": [
    {
     "name": "stdout",
     "output_type": "stream",
     "text": [
      "[10 12 14 16 18 20 22 24 26 28 30 32 34 36 38 40 42 44 46 48]\n"
     ]
    }
   ],
   "source": [
    "even_numbers = np.arange(10, 50, 2)\n",
    "print(even_numbers)"
   ]
  },
  {
   "cell_type": "code",
   "execution_count": 19,
   "id": "532d9781",
   "metadata": {},
   "outputs": [
    {
     "name": "stdout",
     "output_type": "stream",
     "text": [
      "[0.         0.16666667 0.33333333 0.5        0.66666667 0.83333333\n",
      " 1.        ]\n"
     ]
    }
   ],
   "source": [
    "linspace_array = np.linspace(0, 1, 7)\n",
    "print(linspace_array)"
   ]
  },
  {
   "cell_type": "code",
   "execution_count": 20,
   "id": "82db1b09",
   "metadata": {},
   "outputs": [
    {
     "name": "stdout",
     "output_type": "stream",
     "text": [
      "[[1 2 3]\n",
      " [4 5 6]]\n",
      "(2, 3)\n",
      "2\n",
      "int64\n"
     ]
    }
   ],
   "source": [
    "arr = np.array([[1, 2, 3], [4, 5, 6]])\n",
    "print(arr)\n",
    "shape = arr.shape\n",
    "print(shape)\n",
    "ndim = arr.ndim\n",
    "print(ndim)\n",
    "dtype = arr.dtype\n",
    "print(dtype)\n"
   ]
  },
  {
   "cell_type": "markdown",
   "id": "7ca65a92",
   "metadata": {},
   "source": [
    "<t2> Array Manipulation <t2/>"
   ]
  },
  {
   "cell_type": "code",
   "execution_count": 24,
   "id": "284d0102",
   "metadata": {},
   "outputs": [
    {
     "name": "stdout",
     "output_type": "stream",
     "text": [
      "[[ 1  2  3  4  5]\n",
      " [ 6  7  8  9 10]]\n"
     ]
    }
   ],
   "source": [
    "arr1d = np.array([1, 2, 3, 4, 5, 6 , 7, 8, 9, 10])\n",
    "reshaped_arr = arr1d.reshape(2, 5)\n",
    "print(reshaped_arr)"
   ]
  },
  {
   "cell_type": "code",
   "execution_count": 25,
   "id": "403936c2",
   "metadata": {},
   "outputs": [
    {
     "name": "stdout",
     "output_type": "stream",
     "text": [
      "[[ 1  6]\n",
      " [ 2  7]\n",
      " [ 3  8]\n",
      " [ 4  9]\n",
      " [ 5 10]]\n"
     ]
    }
   ],
   "source": [
    "transposed_arr = reshaped_arr.T\n",
    "print(transposed_arr)"
   ]
  },
  {
   "cell_type": "code",
   "execution_count": 26,
   "id": "bbbd6854",
   "metadata": {},
   "outputs": [
    {
     "name": "stdout",
     "output_type": "stream",
     "text": [
      "[[1 2 3]\n",
      " [4 5 6]]\n"
     ]
    }
   ],
   "source": [
    "a = np.array([1, 2, 3])\n",
    "b = np.array([4, 5, 6])\n",
    "stacked_arr = np.stack((a, b), axis=0)\n",
    "print(stacked_arr)"
   ]
  },
  {
   "cell_type": "code",
   "execution_count": 27,
   "id": "b4a1adb3",
   "metadata": {},
   "outputs": [
    {
     "name": "stdout",
     "output_type": "stream",
     "text": [
      "[[1 2 5 6]\n",
      " [3 4 7 8]]\n"
     ]
    }
   ],
   "source": [
    "m1 = np.array([[1, 2], [3, 4]])\n",
    "m2 = np.array([[5, 6], [7, 8]])\n",
    "horizontal_stack = np.hstack((m1, m2))\n",
    "print(horizontal_stack)"
   ]
  },
  {
   "cell_type": "code",
   "execution_count": 34,
   "id": "30cad4c3",
   "metadata": {},
   "outputs": [
    {
     "name": "stdout",
     "output_type": "stream",
     "text": [
      "Split arrays:\n",
      " [[ 0  1]\n",
      " [ 4  5]\n",
      " [ 8  9]\n",
      " [12 13]] \n",
      " [[ 2  3]\n",
      " [ 6  7]\n",
      " [10 11]\n",
      " [14 15]]\n"
     ]
    }
   ],
   "source": [
    "arr_to_split = np.arange(16).reshape(4, 4)\n",
    "split_arrays1, split_arrays2  = np.hsplit(arr_to_split, 2)\n",
    "print(\"Split arrays:\\n\", split_arrays1, \"\\n\", split_arrays2)\n"
   ]
  },
  {
   "cell_type": "code",
   "execution_count": 35,
   "id": "97d10557",
   "metadata": {},
   "outputs": [
    {
     "name": "stdout",
     "output_type": "stream",
     "text": [
      "Split arrays:\n",
      " [[0 1 2 3]\n",
      " [4 5 6 7]] \n",
      " [[ 8  9 10 11]\n",
      " [12 13 14 15]]\n"
     ]
    }
   ],
   "source": [
    "split_arrays1, split_arrays2  = np.vsplit(arr_to_split, 2)\n",
    "print(\"Split arrays:\\n\", split_arrays1, \"\\n\", split_arrays2)"
   ]
  },
  {
   "cell_type": "markdown",
   "id": "c6830703",
   "metadata": {},
   "source": [
    "<t3> Indexing, Slicing, and Boolean Indexing </t3>"
   ]
  },
  {
   "cell_type": "code",
   "execution_count": 36,
   "id": "baed5ff1",
   "metadata": {},
   "outputs": [
    {
     "name": "stdout",
     "output_type": "stream",
     "text": [
      "11\n"
     ]
    }
   ],
   "source": [
    "givendata = np.array([[10, 11, 12], [13, 14, 15], [16, 17, 18]])\n",
    "element = givendata[0, 1]\n",
    "print(element)"
   ]
  },
  {
   "cell_type": "code",
   "execution_count": 37,
   "id": "8457698c",
   "metadata": {},
   "outputs": [
    {
     "name": "stdout",
     "output_type": "stream",
     "text": [
      "[[10 11 12]\n",
      " [13 14 15]]\n"
     ]
    }
   ],
   "source": [
    "first_two_rows = givendata[:2, :]\n",
    "print(first_two_rows)"
   ]
  },
  {
   "cell_type": "code",
   "execution_count": 38,
   "id": "8323eb0d",
   "metadata": {},
   "outputs": [
    {
     "name": "stdout",
     "output_type": "stream",
     "text": [
      "[11 15 17]\n"
     ]
    }
   ],
   "source": [
    "selected_elements = givendata[[0, 1, 2], [1, 2, 1]]\n",
    "print(selected_elements)"
   ]
  },
  {
   "cell_type": "code",
   "execution_count": 39,
   "id": "456ed0d2",
   "metadata": {},
   "outputs": [
    {
     "name": "stdout",
     "output_type": "stream",
     "text": [
      "[85 92 95 88]\n"
     ]
    }
   ],
   "source": [
    "givenscores = np.array([85, 92, 78, 65, 95, 88])\n",
    "above_80 = givenscores[givenscores > 80]\n",
    "print(above_80)"
   ]
  },
  {
   "cell_type": "markdown",
   "id": "f6c80c86",
   "metadata": {},
   "source": [
    "<t4> Numerical Operations and Aggregations </t4>"
   ]
  },
  {
   "cell_type": "code",
   "execution_count": 40,
   "id": "20ff567a",
   "metadata": {},
   "outputs": [
    {
     "name": "stdout",
     "output_type": "stream",
     "text": [
      "[ 20  80 180]\n",
      "[5. 5. 5.]\n"
     ]
    }
   ],
   "source": [
    "arr_op1 = np.array([10, 20, 30])\n",
    "arr_op2 = np.array([2, 4, 6])\n",
    "arr_mult = arr_op1 * arr_op2\n",
    "arr_div = arr_op1 / arr_op2\n",
    "print(arr_mult)\n",
    "print(arr_div)\n"
   ]
  },
  {
   "cell_type": "code",
   "execution_count": 43,
   "id": "c3fbefc6",
   "metadata": {},
   "outputs": [
    {
     "name": "stdout",
     "output_type": "stream",
     "text": [
      "45\n"
     ]
    }
   ],
   "source": [
    "matrix = np.array([[1, 2, 3], [4, 5, 6], [7, 8, 9]])\n",
    "sum_of_elements = np.sum(matrix)\n",
    "print(sum_of_elements)"
   ]
  },
  {
   "cell_type": "code",
   "execution_count": 44,
   "id": "261a77cc",
   "metadata": {},
   "outputs": [
    {
     "name": "stdout",
     "output_type": "stream",
     "text": [
      "[4. 5. 6.]\n"
     ]
    }
   ],
   "source": [
    "mean_of_coulmns = np.mean(matrix, axis=0)\n",
    "print(mean_of_coulmns)"
   ]
  },
  {
   "cell_type": "code",
   "execution_count": 45,
   "id": "ae69b4d7",
   "metadata": {},
   "outputs": [
    {
     "name": "stdout",
     "output_type": "stream",
     "text": [
      "[ 90. 135. 180. 225.]\n"
     ]
    }
   ],
   "source": [
    "price_array = np.array([100, 150, 200, 250])\n",
    "discount_percentage = 0.10\n",
    "price_after_discount = price_array * (1 - discount_percentage)\n",
    "print(price_after_discount)"
   ]
  }
 ],
 "metadata": {
  "kernelspec": {
   "display_name": "Python 3",
   "language": "python",
   "name": "python3"
  },
  "language_info": {
   "codemirror_mode": {
    "name": "ipython",
    "version": 3
   },
   "file_extension": ".py",
   "mimetype": "text/x-python",
   "name": "python",
   "nbconvert_exporter": "python",
   "pygments_lexer": "ipython3",
   "version": "3.13.3"
  }
 },
 "nbformat": 4,
 "nbformat_minor": 5
}
