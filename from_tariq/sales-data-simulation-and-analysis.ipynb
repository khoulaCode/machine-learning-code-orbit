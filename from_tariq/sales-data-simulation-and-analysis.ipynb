{
 "cells": [
  {
   "cell_type": "code",
   "execution_count": 2,
   "id": "9f584d0b",
   "metadata": {},
   "outputs": [],
   "source": [
    "import numpy as np"
   ]
  },
  {
   "cell_type": "code",
   "execution_count": 12,
   "id": "9a7e44cb",
   "metadata": {},
   "outputs": [
    {
     "name": "stdout",
     "output_type": "stream",
     "text": [
      "Sales data for the month:  [ 544.93    0.      0.    164.58    0.      0.    923.75  171.98    0.\n",
      "    0.   1154.04  138.44    0.      0.   1228.09 1269.76    0.      0.\n",
      "    0.     28.99  816.21 1218.76    0.      0.      0.      0.    414.18\n",
      "  612.86  113.71  948.43]\n"
     ]
    }
   ],
   "source": [
    "sales = np.random.normal(100, 1000, size=30)\n",
    "sales = np.round(sales, 2)\n",
    "sales = np.clip(sales, 0, None)\n",
    "print(\"Sales data for the month: \", sales)\n"
   ]
  },
  {
   "cell_type": "code",
   "execution_count": 13,
   "id": "04e1db00",
   "metadata": {},
   "outputs": [
    {
     "name": "stdout",
     "output_type": "stream",
     "text": [
      "Units sold for the month:  [71 26 48 39 85 72 75  4 43 45 86 88 34 22 37 27 17 32  5 45 14 39 66 89\n",
      " 49 15 26 61 14 97]\n"
     ]
    }
   ],
   "source": [
    "units_sold = np.random.randint(1, 100, size=30)\n",
    "print(\"Units sold for the month: \", units_sold)"
   ]
  },
  {
   "cell_type": "code",
   "execution_count": 14,
   "id": "5da75761",
   "metadata": {},
   "outputs": [
    {
     "name": "stdout",
     "output_type": "stream",
     "text": [
      "Sales revenue for the month:  [38690.03     0.       0.    6418.62     0.       0.   69281.25   687.92\n",
      "     0.       0.   99247.44 12182.72     0.       0.   45439.33 34283.52\n",
      "     0.       0.       0.    1304.55 11426.94 47531.64     0.       0.\n",
      "     0.       0.   10768.68 37384.46  1591.94 91997.71]\n"
     ]
    }
   ],
   "source": [
    "sales_revenue = sales * units_sold\n",
    "print(\"Sales revenue for the month: \", sales_revenue)\n"
   ]
  },
  {
   "cell_type": "code",
   "execution_count": 16,
   "id": "82ac9c5e",
   "metadata": {},
   "outputs": [
    {
     "name": "stdout",
     "output_type": "stream",
     "text": [
      "[[3.869003e+04 7.100000e+01]\n",
      " [0.000000e+00 2.600000e+01]\n",
      " [0.000000e+00 4.800000e+01]\n",
      " [6.418620e+03 3.900000e+01]\n",
      " [0.000000e+00 8.500000e+01]\n",
      " [0.000000e+00 7.200000e+01]\n",
      " [6.928125e+04 7.500000e+01]\n",
      " [6.879200e+02 4.000000e+00]\n",
      " [0.000000e+00 4.300000e+01]\n",
      " [0.000000e+00 4.500000e+01]\n",
      " [9.924744e+04 8.600000e+01]\n",
      " [1.218272e+04 8.800000e+01]\n",
      " [0.000000e+00 3.400000e+01]\n",
      " [0.000000e+00 2.200000e+01]\n",
      " [4.543933e+04 3.700000e+01]\n",
      " [3.428352e+04 2.700000e+01]\n",
      " [0.000000e+00 1.700000e+01]\n",
      " [0.000000e+00 3.200000e+01]\n",
      " [0.000000e+00 5.000000e+00]\n",
      " [1.304550e+03 4.500000e+01]\n",
      " [1.142694e+04 1.400000e+01]\n",
      " [4.753164e+04 3.900000e+01]\n",
      " [0.000000e+00 6.600000e+01]\n",
      " [0.000000e+00 8.900000e+01]\n",
      " [0.000000e+00 4.900000e+01]\n",
      " [0.000000e+00 1.500000e+01]\n",
      " [1.076868e+04 2.600000e+01]\n",
      " [3.738446e+04 6.100000e+01]\n",
      " [1.591940e+03 1.400000e+01]\n",
      " [9.199771e+04 9.700000e+01]]\n"
     ]
    }
   ],
   "source": [
    "data_2d = np.column_stack((sales_revenue, units_sold))\n",
    "print(data_2d)"
   ]
  },
  {
   "cell_type": "code",
   "execution_count": 17,
   "id": "d3553131",
   "metadata": {},
   "outputs": [
    {
     "name": "stdout",
     "output_type": "stream",
     "text": [
      "Total sales revenue for the month: 508236.75\n"
     ]
    }
   ],
   "source": [
    "total_sales = np.sum(sales_revenue) \n",
    "print(f\"Total sales revenue for the month: {total_sales:.2f}\")\n"
   ]
  },
  {
   "cell_type": "code",
   "execution_count": 22,
   "id": "874fedc8",
   "metadata": {},
   "outputs": [
    {
     "name": "stdout",
     "output_type": "stream",
     "text": [
      "Average sales units_sold for the month: 46\n"
     ]
    }
   ],
   "source": [
    "average_sales = np.mean(units_sold)\n",
    "average_sales = np.round(average_sales, 0)\n",
    "average_sales = int(average_sales)\n",
    "print(f\"Average sales units_sold for the month: {average_sales}\")"
   ]
  },
  {
   "cell_type": "code",
   "execution_count": 23,
   "id": "32f6cb78",
   "metadata": {},
   "outputs": [
    {
     "name": "stdout",
     "output_type": "stream",
     "text": [
      "Maximum sales revenue of 99247.44 occurred at index 10.\n"
     ]
    }
   ],
   "source": [
    "max_sales = np.max(sales_revenue)\n",
    "max_sales_index = np.argmax(sales_revenue)\n",
    "print(f\"Maximum sales revenue of {max_sales:.2f} occurred at index {max_sales_index}.\")"
   ]
  },
  {
   "cell_type": "code",
   "execution_count": 24,
   "id": "e94737ae",
   "metadata": {},
   "outputs": [
    {
     "name": "stdout",
     "output_type": "stream",
     "text": [
      "Average revenue per unit sold for the month: 370.71\n"
     ]
    }
   ],
   "source": [
    "total_units_sold = np.sum(units_sold)\n",
    "average_revenue_per_unit = total_sales / total_units_sold\n",
    "print(f\"Average revenue per unit sold for the month: {average_revenue_per_unit:.2f}\")"
   ]
  },
  {
   "cell_type": "code",
   "execution_count": 25,
   "id": "9191861b",
   "metadata": {},
   "outputs": [
    {
     "name": "stdout",
     "output_type": "stream",
     "text": [
      "Number of days sales revenue above 1200: 14\n"
     ]
    }
   ],
   "source": [
    "days_sales_above_target = np.sum(sales_revenue > 1200)\n",
    "print(f\"Number of days sales revenue above 1200: {days_sales_above_target}\")"
   ]
  },
  {
   "cell_type": "code",
   "execution_count": 26,
   "id": "5918f040",
   "metadata": {},
   "outputs": [
    {
     "name": "stdout",
     "output_type": "stream",
     "text": [
      "Units sold when sales revenue was below 900: 652\n"
     ]
    }
   ],
   "source": [
    "units_sold_when_revenue_blow_target = np.sum(units_sold[sales_revenue < 900])\n",
    "print(f\"Units sold when sales revenue was below 900: {units_sold_when_revenue_blow_target}\")"
   ]
  },
  {
   "cell_type": "code",
   "execution_count": 31,
   "id": "beacb831",
   "metadata": {},
   "outputs": [
    {
     "name": "stdout",
     "output_type": "stream",
     "text": [
      "Total sales revenue for each full week: [114389.9  112118.08  92454.34  95684.78]\n"
     ]
    }
   ],
   "source": [
    "weekly_sales_revenue = np.array([])\n",
    "for week in range(4):\n",
    "    start = week * 7\n",
    "    end = start + 7\n",
    "    week_total = np.sum(sales_revenue[start:end])\n",
    "    weekly_sales_revenue = np.append(weekly_sales_revenue, week_total)\n",
    "print(\"Total sales revenue for each full week:\", weekly_sales_revenue)"
   ]
  },
  {
   "cell_type": "code",
   "execution_count": null,
   "id": "f0270fde",
   "metadata": {},
   "outputs": [],
   "source": []
  }
 ],
 "metadata": {
  "kernelspec": {
   "display_name": "Python 3",
   "language": "python",
   "name": "python3"
  },
  "language_info": {
   "codemirror_mode": {
    "name": "ipython",
    "version": 3
   },
   "file_extension": ".py",
   "mimetype": "text/x-python",
   "name": "python",
   "nbconvert_exporter": "python",
   "pygments_lexer": "ipython3",
   "version": "3.13.3"
  }
 },
 "nbformat": 4,
 "nbformat_minor": 5
}
