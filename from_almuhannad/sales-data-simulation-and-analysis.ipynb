{
 "cells": [
  {
   "cell_type": "code",
   "execution_count": 1,
   "id": "930a9426",
   "metadata": {},
   "outputs": [],
   "source": [
    "import numpy as np"
   ]
  },
  {
   "cell_type": "code",
   "execution_count": 2,
   "id": "baf2aaaa",
   "metadata": {},
   "outputs": [
    {
     "name": "stdout",
     "output_type": "stream",
     "text": [
      "Sales data for the month [   0.   1987.23    0.      0.    454.92  871.    350.48    0.      0.\n",
      "    0.    220.24 1372.61 1507.66 1262.21  649.3   852.58  749.56 1368.78\n",
      "  813.62  818.12    0.     44.39  664.04   82.91   19.38    0.      0.\n",
      "  265.09 1376.43 1012.25]\n"
     ]
    }
   ],
   "source": [
    "sales = np.random.normal(100,1000,size=30)\n",
    "sales = np.round(sales,2)\n",
    "sales = np.clip(sales , 0 , None)\n",
    "print(\"Sales data for the month\" , sales)"
   ]
  },
  {
   "cell_type": "code",
   "execution_count": 3,
   "id": "ee3aeeb1",
   "metadata": {},
   "outputs": [
    {
     "name": "stdout",
     "output_type": "stream",
     "text": [
      "Units sold for the month [48 76  4 25 75 88 44  8 18 58 59 64 86 73 10 83 84 33 79 91 72 98 86 82\n",
      " 74 50  5 49 12 55]\n"
     ]
    }
   ],
   "source": [
    "units_sold = np.random.randint(1,100,size=30)\n",
    "print(\"Units sold for the month\",units_sold)"
   ]
  },
  {
   "cell_type": "code",
   "execution_count": 4,
   "id": "50513f37",
   "metadata": {},
   "outputs": [
    {
     "name": "stdout",
     "output_type": "stream",
     "text": [
      "Sales revenue for the month:  [     0.   151029.48      0.        0.    34119.    76648.    15421.12\n",
      "      0.        0.        0.    12994.16  87847.04 129658.76  92141.33\n",
      "   6493.    70764.14  62963.04  45169.74  64275.98  74448.92      0.\n",
      "   4350.22  57107.44   6798.62   1434.12      0.        0.    12989.41\n",
      "  16517.16  55673.75]\n"
     ]
    }
   ],
   "source": [
    "sales_revenue = sales * units_sold\n",
    "print(\"Sales revenue for the month: \", sales_revenue)"
   ]
  },
  {
   "cell_type": "code",
   "execution_count": 5,
   "id": "04e8a444",
   "metadata": {},
   "outputs": [
    {
     "name": "stdout",
     "output_type": "stream",
     "text": [
      "[[0.0000000e+00 4.8000000e+01]\n",
      " [1.5102948e+05 7.6000000e+01]\n",
      " [0.0000000e+00 4.0000000e+00]\n",
      " [0.0000000e+00 2.5000000e+01]\n",
      " [3.4119000e+04 7.5000000e+01]\n",
      " [7.6648000e+04 8.8000000e+01]\n",
      " [1.5421120e+04 4.4000000e+01]\n",
      " [0.0000000e+00 8.0000000e+00]\n",
      " [0.0000000e+00 1.8000000e+01]\n",
      " [0.0000000e+00 5.8000000e+01]\n",
      " [1.2994160e+04 5.9000000e+01]\n",
      " [8.7847040e+04 6.4000000e+01]\n",
      " [1.2965876e+05 8.6000000e+01]\n",
      " [9.2141330e+04 7.3000000e+01]\n",
      " [6.4930000e+03 1.0000000e+01]\n",
      " [7.0764140e+04 8.3000000e+01]\n",
      " [6.2963040e+04 8.4000000e+01]\n",
      " [4.5169740e+04 3.3000000e+01]\n",
      " [6.4275980e+04 7.9000000e+01]\n",
      " [7.4448920e+04 9.1000000e+01]\n",
      " [0.0000000e+00 7.2000000e+01]\n",
      " [4.3502200e+03 9.8000000e+01]\n",
      " [5.7107440e+04 8.6000000e+01]\n",
      " [6.7986200e+03 8.2000000e+01]\n",
      " [1.4341200e+03 7.4000000e+01]\n",
      " [0.0000000e+00 5.0000000e+01]\n",
      " [0.0000000e+00 5.0000000e+00]\n",
      " [1.2989410e+04 4.9000000e+01]\n",
      " [1.6517160e+04 1.2000000e+01]\n",
      " [5.5673750e+04 5.5000000e+01]]\n"
     ]
    }
   ],
   "source": [
    "data_2d = np.column_stack((sales_revenue,units_sold))\n",
    "print(data_2d)"
   ]
  },
  {
   "cell_type": "code",
   "execution_count": 6,
   "id": "94f42679",
   "metadata": {},
   "outputs": [
    {
     "name": "stdout",
     "output_type": "stream",
     "text": [
      "Total sales revenue for the month: 1078844.4300000002\n"
     ]
    }
   ],
   "source": [
    "total_sales = np.sum(sales_revenue)\n",
    "print(f\"Total sales revenue for the month: {total_sales}\")"
   ]
  },
  {
   "cell_type": "code",
   "execution_count": 7,
   "id": "f0dc10b0",
   "metadata": {},
   "outputs": [
    {
     "name": "stdout",
     "output_type": "stream",
     "text": [
      "Average sales units_sold for the month: 56\n"
     ]
    }
   ],
   "source": [
    "avg_sales = np.mean(units_sold)\n",
    "avg_sales = np.round(avg_sales, 0 )\n",
    "avg_sales = int(avg_sales)\n",
    "print(f\"Average sales units_sold for the month: {avg_sales}\")"
   ]
  },
  {
   "cell_type": "code",
   "execution_count": 8,
   "id": "9fae4d35",
   "metadata": {},
   "outputs": [
    {
     "name": "stdout",
     "output_type": "stream",
     "text": [
      "Maximum sales revenue of 151029.48 at index 1\n"
     ]
    }
   ],
   "source": [
    "max_sales = np.max(sales_revenue)\n",
    "max_sales_index = np.argmax(sales_revenue)\n",
    "print(f\"Maximum sales revenue of {max_sales} at index {max_sales_index}\")"
   ]
  },
  {
   "cell_type": "code",
   "execution_count": 9,
   "id": "fb175eb6",
   "metadata": {},
   "outputs": [
    {
     "name": "stdout",
     "output_type": "stream",
     "text": [
      "Average revenue per unit sold for the month: 638.7474422735347\n"
     ]
    }
   ],
   "source": [
    "total_units_sold = np.sum(units_sold)\n",
    "average_revenue_per_unit = total_sales/total_units_sold\n",
    "print(f\"Average revenue per unit sold for the month: {average_revenue_per_unit}\")"
   ]
  },
  {
   "cell_type": "code",
   "execution_count": 10,
   "id": "897710af",
   "metadata": {},
   "outputs": [
    {
     "name": "stdout",
     "output_type": "stream",
     "text": [
      "21\n"
     ]
    }
   ],
   "source": [
    "days_sales_above_target = np.sum(sales_revenue > 1200)\n",
    "print(days_sales_above_target)"
   ]
  },
  {
   "cell_type": "code",
   "execution_count": 11,
   "id": "f196dff5",
   "metadata": {},
   "outputs": [
    {
     "name": "stdout",
     "output_type": "stream",
     "text": [
      "Units sold when sales revenue was below 900 : 288\n"
     ]
    }
   ],
   "source": [
    "units_sold_when_revenue_blow_target = np.sum(units_sold[sales_revenue < 900])\n",
    "print(f\"Units sold when sales revenue was below 900 : {units_sold_when_revenue_blow_target}\")"
   ]
  },
  {
   "cell_type": "code",
   "execution_count": 12,
   "id": "da22c2f1",
   "metadata": {},
   "outputs": [
    {
     "name": "stdout",
     "output_type": "stream",
     "text": [
      "Total sales revenue for each full week :  [277217.6]\n",
      "Total sales revenue for each full week :  [277217.6  322641.29]\n",
      "Total sales revenue for each full week :  [277217.6  322641.29 324114.82]\n",
      "Total sales revenue for each full week :  [277217.6  322641.29 324114.82  82679.81]\n"
     ]
    }
   ],
   "source": [
    "weekly_sales_revenue = np.array([])\n",
    "for week in range(4):\n",
    "    start = week * 7\n",
    "    end = start + 7\n",
    "    week_total = np.sum(sales_revenue[start:end])\n",
    "    weekly_sales_revenue = np.append(weekly_sales_revenue,week_total)\n",
    "    print(\"Total sales revenue for each full week : \",weekly_sales_revenue)"
   ]
  },
  {
   "cell_type": "code",
   "execution_count": null,
   "id": "2c653d68",
   "metadata": {},
   "outputs": [],
   "source": []
  }
 ],
 "metadata": {
  "kernelspec": {
   "display_name": "Python 3",
   "language": "python",
   "name": "python3"
  },
  "language_info": {
   "codemirror_mode": {
    "name": "ipython",
    "version": 3
   },
   "file_extension": ".py",
   "mimetype": "text/x-python",
   "name": "python",
   "nbconvert_exporter": "python",
   "pygments_lexer": "ipython3",
   "version": "3.13.3"
  }
 },
 "nbformat": 4,
 "nbformat_minor": 5
}
