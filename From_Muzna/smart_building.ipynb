{
 "cells": [
  {
   "cell_type": "code",
   "execution_count": 2,
   "id": "5e19eb19-5f3c-4a17-9ed1-933f3efcd01b",
   "metadata": {},
   "outputs": [],
   "source": [
    "import numpy as np"
   ]
  },
  {
   "cell_type": "markdown",
   "id": "2271c97b-feef-407a-b0a2-af7f4caeaea3",
   "metadata": {},
   "source": [
    "# 1. Data Generation:"
   ]
  },
  {
   "cell_type": "code",
   "execution_count": 5,
   "id": "dfe4b99b-31fa-422b-8c17-ebdb46c9fa18",
   "metadata": {},
   "outputs": [
    {
     "name": "stdout",
     "output_type": "stream",
     "text": [
      "\n",
      " The Data : \n",
      "  [[0.00000000e+00 2.24600944e+01 5.19038776e+01 1.00949338e+03]\n",
      " [1.00000000e+00 2.30552335e+01 5.53060479e+01 1.01251642e+03]\n",
      " [2.00000000e+00 2.28772068e+01 4.29574956e+01 1.01315294e+03]\n",
      " ...\n",
      " [1.43700000e+03 1.95819239e+01 4.70673422e+01 1.01769445e+03]\n",
      " [1.43800000e+03 2.37057501e+01 5.07448837e+01 1.01081323e+03]\n",
      " [1.43900000e+03 2.16759551e+01 5.38851434e+01 1.01084900e+03]]\n"
     ]
    }
   ],
   "source": [
    "#Create a NumPy array for time_in_minutes from 0 to 1439 (24 hours * 60 minutes).\n",
    "time_in_minutes = np.arange(0, 1440)\n",
    "#print(time_in_minutes)\n",
    "\n",
    "#Generate synthetic temperature data: a base temperature (e.g., 22°C) with some random fluctuations (use np.random.normal).\n",
    "#normal(loc=mean, scale=std_dev, size=number_of_values)\n",
    "temperature = np.random.normal(loc=22, scale=1.0, size=1440)\n",
    "#print(temperature)\n",
    "\n",
    "#Generate synthetic humidity data: a base humidity (e.g., 55%) with random fluctuations, ensuring values stay realistic (0-100%).\n",
    "#np.clip(array, min_value, max_value)\n",
    "humidity = np.random.normal(loc=55, scale=5.0, size=1440)\n",
    "#np.clip(array, min_value, max_value)\n",
    "humidity = np.clip(humidity, 0, 100)\n",
    "#print(humidity)\n",
    "\n",
    "#Generate synthetic pressure data: a base pressure (e.g., 1012 hPa) with random fluctuations.\n",
    "pressure = np.random.normal(loc=1012, scale=2.0, size=1440)\n",
    "#print(pressure)\n",
    "#Combine these into a single 2D NumPy array where each row represents a minute and columns are [time, temperature, humidity, pressure].\n",
    "data = np.column_stack((time_in_minutes, temperature, humidity, pressure))\n",
    "print (\"\\n The Data : \\n \",data)"
   ]
  },
  {
   "cell_type": "code",
   "execution_count": 8,
   "id": "c748bda6-0f23-47dc-b222-db5b031facfd",
   "metadata": {},
   "outputs": [
    {
     "data": {
      "text/plain": [
       "(1440, 4)"
      ]
     },
     "execution_count": 8,
     "metadata": {},
     "output_type": "execute_result"
    }
   ],
   "source": [
    "data.shape"
   ]
  },
  {
   "cell_type": "markdown",
   "id": "6799b274-2d16-49f1-b1ca-91b60092f093",
   "metadata": {},
   "source": [
    "# 2. Basic Statistics:"
   ]
  },
  {
   "cell_type": "code",
   "execution_count": 17,
   "id": "c7ea03ab-b0ca-4393-bc04-e6be4c2ae17c",
   "metadata": {},
   "outputs": [
    {
     "name": "stdout",
     "output_type": "stream",
     "text": [
      "22.024863835723256\n",
      "18.98979406941876\n",
      "25.544471392513138\n",
      "1.0509371924157884\n"
     ]
    }
   ],
   "source": [
    "#temperature\n",
    "temperature = data[:, 1] \n",
    "print(np.mean(temperature))\n",
    "print(np.min(temperature))\n",
    "print(np.max(temperature))\n",
    "print(np.std(temperature))"
   ]
  },
  {
   "cell_type": "code",
   "execution_count": 18,
   "id": "61eb38c2-199c-48d4-850d-47fc4410127a",
   "metadata": {},
   "outputs": [
    {
     "name": "stdout",
     "output_type": "stream",
     "text": [
      "54.81191194989093\n",
      "73.11373284258588\n",
      "38.997570870934865\n",
      "5.147217045474342\n"
     ]
    }
   ],
   "source": [
    "#humidity\n",
    "humidity = data[:, 2]\n",
    "print(np.mean(humidity))\n",
    "print(np.max(humidity))\n",
    "print(np.min(humidity))\n",
    "print(np.std(humidity))"
   ]
  },
  {
   "cell_type": "code",
   "execution_count": 19,
   "id": "a0b88342-1695-4dc4-be0f-9d71fb437f0c",
   "metadata": {},
   "outputs": [
    {
     "name": "stdout",
     "output_type": "stream",
     "text": [
      "1012.0471265936109\n",
      "1018.702159502783\n",
      "1006.3692326733951\n",
      "1.9895022431926908\n"
     ]
    }
   ],
   "source": [
    "#pressure\n",
    "pressure = data[:, 3]\n",
    "print(np.mean(pressure))\n",
    "print(np.max(pressure))\n",
    "print(np.min(pressure))\n",
    "print(np.std(pressure))"
   ]
  },
  {
   "cell_type": "markdown",
   "id": "a56c37a3-da69-4bf4-a89a-5bc13f537cf8",
   "metadata": {},
   "source": [
    "# 3. Hourly Averages:"
   ]
  },
  {
   "cell_type": "code",
   "execution_count": 26,
   "id": "10f7dee4-1af3-4faa-af11-53daf4c2b936",
   "metadata": {},
   "outputs": [
    {
     "name": "stdout",
     "output_type": "stream",
     "text": [
      "The mean of temperature par houer \n",
      " [21.93096231 21.99853513 21.98748622 22.14257178 22.05037069 22.18045223\n",
      " 22.00440998 21.77646028 22.02315129 22.04790645 21.98799288 22.09219997\n",
      " 22.3467627  21.86728949 22.16579377 21.96343596 22.02698559 22.04346657\n",
      " 21.81741463 21.93597148 21.9549294  22.00868242 22.19682183 22.04667901]\n"
     ]
    }
   ],
   "source": [
    "##temperature\n",
    "temp_hourly = temperature.reshape(24, 60)\n",
    "#temp_hourly[0]\n",
    "print(\"The mean of temperature par houer \\n\",np.mean(temp_hourly, axis=1))"
   ]
  },
  {
   "cell_type": "code",
   "execution_count": 27,
   "id": "de6aecaa-0d1b-4b77-aa2f-c4ef32c24af1",
   "metadata": {},
   "outputs": [
    {
     "name": "stdout",
     "output_type": "stream",
     "text": [
      "The mean of humidity par houer \n",
      " [54.75844752 55.53007628 55.08103282 55.05048328 54.29573355 55.06894188\n",
      " 54.95446164 54.9240208  55.28543947 54.53451289 54.56958219 55.32164689\n",
      " 55.34078439 54.42495825 54.24556513 54.16845885 54.17263882 55.5813175\n",
      " 54.64221082 54.33853702 54.56212389 54.77675945 55.45435767 54.4037958 ]\n"
     ]
    }
   ],
   "source": [
    "#humidity\n",
    "humidity_hourly = humidity.reshape(24, 60)\n",
    "\n",
    "print(\"The mean of humidity par houer \\n\", np.mean(humidity_hourly, axis=1))"
   ]
  },
  {
   "cell_type": "code",
   "execution_count": 28,
   "id": "d3cf781f-c1cf-4766-9ba4-cca9f1f8bc0e",
   "metadata": {},
   "outputs": [
    {
     "name": "stdout",
     "output_type": "stream",
     "text": [
      "The mean of pressure par houer \n",
      " [1011.86312403 1012.32730737 1012.14203467 1012.06408647 1012.27393678\n",
      " 1011.8567981  1011.97519845 1011.9627308  1012.05255978 1012.24522164\n",
      " 1011.79272873 1011.96327583 1012.05197474 1012.21223348 1012.00416135\n",
      " 1011.91391452 1012.26426992 1012.14352173 1012.00487422 1011.83780447\n",
      " 1011.94898125 1011.66285077 1012.39436833 1012.17308079]\n"
     ]
    }
   ],
   "source": [
    "#pressure\n",
    "pressure_hourly = pressure.reshape(24, 60)\n",
    "\n",
    "print(\"The mean of pressure par houer \\n\",np.mean(pressure_hourly, axis=1))"
   ]
  },
  {
   "cell_type": "code",
   "execution_count": null,
   "id": "3714122f-1a53-4281-810e-c377ca2f780f",
   "metadata": {},
   "outputs": [],
   "source": []
  },
  {
   "cell_type": "markdown",
   "id": "13864796-71b1-401b-a857-74706987fe12",
   "metadata": {},
   "source": [
    "# 4. Anomaly Detection (Simple):"
   ]
  },
  {
   "cell_type": "code",
   "execution_count": 32,
   "id": "5e55b6ee-aee5-4ed9-bad5-e5ceda7f3743",
   "metadata": {},
   "outputs": [
    {
     "name": "stdout",
     "output_type": "stream",
     "text": [
      "tempreter is more then 25C:  4\n"
     ]
    }
   ],
   "source": [
    "temp_mask = temperature > 25\n",
    "count_temp = np.sum(temp_mask)\n",
    "print(\"tempreter is more then 25C: \",count_temp)"
   ]
  },
  {
   "cell_type": "code",
   "execution_count": 43,
   "id": "7a50a5f6-2292-4c68-8c8a-c88ed5861260",
   "metadata": {},
   "outputs": [
    {
     "name": "stdout",
     "output_type": "stream",
     "text": [
      "the minet [1125]\n",
      "the temperature 18.98979406941876\n"
     ]
    }
   ],
   "source": [
    "min_temp=np.min(temperature)\n",
    "\n",
    "min_temp_indices = np.where(temperature == min_temp)[0]\n",
    "#min_temp_indices --> 1125\n",
    "#temperature[1125] -->18.9897\n",
    "\n",
    "print(\"the minet\",min_temp_indices)\n",
    "print(\"the temperature\",temperature[1125])"
   ]
  },
  {
   "cell_type": "markdown",
   "id": "35f559c9-a3c5-497f-84e4-16c278b3b443",
   "metadata": {},
   "source": [
    "# 5. Data Export (Optional):\n"
   ]
  },
  {
   "cell_type": "code",
   "execution_count": 45,
   "id": "a636b61a-0305-42c9-9400-66c3c2d3a7ab",
   "metadata": {},
   "outputs": [],
   "source": [
    "header = \"Time(min),Temperature(°C),Humidity(%),Pressure(hPa)\"\n",
    "# Save to CSV file\n",
    "np.savetxt(\"smart_building_data.csv\", data, delimiter=\",\", header=header, comments='', fmt='%.2f')\n"
   ]
  },
  {
   "cell_type": "code",
   "execution_count": null,
   "id": "62c20075-2d21-4550-b86f-c61a3da77f03",
   "metadata": {},
   "outputs": [],
   "source": []
  }
 ],
 "metadata": {
  "kernelspec": {
   "display_name": "Python 3 (ipykernel)",
   "language": "python",
   "name": "python3"
  },
  "language_info": {
   "codemirror_mode": {
    "name": "ipython",
    "version": 3
   },
   "file_extension": ".py",
   "mimetype": "text/x-python",
   "name": "python",
   "nbconvert_exporter": "python",
   "pygments_lexer": "ipython3",
   "version": "3.13.5"
  }
 },
 "nbformat": 4,
 "nbformat_minor": 5
}
