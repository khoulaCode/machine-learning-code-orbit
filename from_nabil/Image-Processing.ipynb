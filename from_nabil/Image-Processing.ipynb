{
 "cells": [
  {
   "cell_type": "code",
   "execution_count": 2,
   "id": "0d071fd9",
   "metadata": {},
   "outputs": [
    {
     "name": "stdout",
     "output_type": "stream",
     "text": [
      "Collecting Matplotlib\n",
      "  Downloading matplotlib-3.10.3-cp313-cp313-win_amd64.whl.metadata (11 kB)\n",
      "Collecting contourpy>=1.0.1 (from Matplotlib)\n",
      "  Downloading contourpy-1.3.2-cp313-cp313-win_amd64.whl.metadata (5.5 kB)\n",
      "Collecting cycler>=0.10 (from Matplotlib)\n",
      "  Downloading cycler-0.12.1-py3-none-any.whl.metadata (3.8 kB)\n",
      "Collecting fonttools>=4.22.0 (from Matplotlib)\n",
      "  Downloading fonttools-4.58.4-cp313-cp313-win_amd64.whl.metadata (108 kB)\n",
      "Collecting kiwisolver>=1.3.1 (from Matplotlib)\n",
      "  Downloading kiwisolver-1.4.8-cp313-cp313-win_amd64.whl.metadata (6.3 kB)\n",
      "Requirement already satisfied: numpy>=1.23 in c:\\users\\bigge\\appdata\\local\\programs\\python\\python313\\lib\\site-packages (from Matplotlib) (2.3.1)\n",
      "Requirement already satisfied: packaging>=20.0 in c:\\users\\bigge\\appdata\\local\\programs\\python\\python313\\lib\\site-packages (from Matplotlib) (25.0)\n",
      "Collecting pillow>=8 (from Matplotlib)\n",
      "  Downloading pillow-11.3.0-cp313-cp313-win_amd64.whl.metadata (9.2 kB)\n",
      "Collecting pyparsing>=2.3.1 (from Matplotlib)\n",
      "  Downloading pyparsing-3.2.3-py3-none-any.whl.metadata (5.0 kB)\n",
      "Requirement already satisfied: python-dateutil>=2.7 in c:\\users\\bigge\\appdata\\local\\programs\\python\\python313\\lib\\site-packages (from Matplotlib) (2.9.0.post0)\n",
      "Requirement already satisfied: six>=1.5 in c:\\users\\bigge\\appdata\\local\\programs\\python\\python313\\lib\\site-packages (from python-dateutil>=2.7->Matplotlib) (1.17.0)\n",
      "Downloading matplotlib-3.10.3-cp313-cp313-win_amd64.whl (8.1 MB)\n",
      "   ---------------------------------------- 0.0/8.1 MB ? eta -:--:--\n",
      "   - -------------------------------------- 0.3/8.1 MB ? eta -:--:--\n",
      "   ----- ---------------------------------- 1.0/8.1 MB 3.1 MB/s eta 0:00:03\n",
      "   ------------ --------------------------- 2.6/8.1 MB 5.0 MB/s eta 0:00:02\n",
      "   ---------------------------- ----------- 5.8/8.1 MB 8.1 MB/s eta 0:00:01\n",
      "   ---------------------------------------- 8.1/8.1 MB 9.3 MB/s eta 0:00:00\n",
      "Downloading contourpy-1.3.2-cp313-cp313-win_amd64.whl (223 kB)\n",
      "Downloading cycler-0.12.1-py3-none-any.whl (8.3 kB)\n",
      "Downloading fonttools-4.58.4-cp313-cp313-win_amd64.whl (2.2 MB)\n",
      "   ---------------------------------------- 0.0/2.2 MB ? eta -:--:--\n",
      "   ---------------------------------------- 2.2/2.2 MB 22.0 MB/s eta 0:00:00\n",
      "Downloading kiwisolver-1.4.8-cp313-cp313-win_amd64.whl (71 kB)\n",
      "Downloading pillow-11.3.0-cp313-cp313-win_amd64.whl (7.0 MB)\n",
      "   ---------------------------------------- 0.0/7.0 MB ? eta -:--:--\n",
      "   ------------------- -------------------- 3.4/7.0 MB 17.5 MB/s eta 0:00:01\n",
      "   ---------------------------------------- 7.0/7.0 MB 16.8 MB/s eta 0:00:00\n",
      "Downloading pyparsing-3.2.3-py3-none-any.whl (111 kB)\n",
      "Installing collected packages: pyparsing, pillow, kiwisolver, fonttools, cycler, contourpy, Matplotlib\n",
      "Successfully installed Matplotlib-3.10.3 contourpy-1.3.2 cycler-0.12.1 fonttools-4.58.4 kiwisolver-1.4.8 pillow-11.3.0 pyparsing-3.2.3\n",
      "orignal image: \n",
      " [[132 165 245  34 144 171  95 222 101 134]\n",
      " [190   5 134 104   1 194 225 227 163 215]\n",
      " [218 238 153 205 174 113 172 116 191 252]\n",
      " [186 163  61 139 154 232 213 115  42  19]\n",
      " [ 38 103  19  82  37   3 234  62  60 253]\n",
      " [116 139 182 140  16 225 104 151  72   5]\n",
      " [166 248 121  55 154 246  17  88 154 154]\n",
      " [ 43 249 247 163 104   7 253 249 193 216]\n",
      " [134 117 139 185  96  52  67 183  79 212]\n",
      " [250  66 168  19  72  84 134  44 211  26]]\n"
     ]
    },
    {
     "name": "stderr",
     "output_type": "stream",
     "text": [
      "\n",
      "[notice] A new release of pip is available: 25.0.1 -> 25.1.1\n",
      "[notice] To update, run: python.exe -m pip install --upgrade pip\n"
     ]
    }
   ],
   "source": [
    "! pip install Matplotlib"
   ]
  },
  {
   "cell_type": "code",
   "execution_count": 12,
   "id": "6f0fb826",
   "metadata": {},
   "outputs": [
    {
     "name": "stdout",
     "output_type": "stream",
     "text": [
      "orignal image: \n",
      " [[102 220 225  95 179  61 234 203  92   3]\n",
      " [ 98 243  14 149 245  46 106 244  99 187]\n",
      " [ 71 212 153 199 188 174  65 153  20  44]\n",
      " [203 152 102 214 240  39 121  24  34 114]\n",
      " [210  65 239  39 214 244 151  25  74 145]\n",
      " [222  14 202  85 145 117  87 184 189 221]\n",
      " [116 237 109  85  99 172 226 153 103 235]\n",
      " [146  36 151  62  68 181 130 160 160 166]\n",
      " [149   6  69   5  52 253 112  14   1   3]\n",
      " [ 76 248  87 233 212 184 235 245  26 213]]\n"
     ]
    }
   ],
   "source": [
    "import numpy as np\n",
    "np.random.seed(42)\n",
    "image = np.random.randint(0, 255, size=(10,10), dtype=np.uint8)\n",
    "print(\"orignal image: \\n\", image)"
   ]
  },
  {
   "cell_type": "code",
   "execution_count": 13,
   "id": "4b7d901a",
   "metadata": {},
   "outputs": [
    {
     "data": {
      "text/plain": [
       "<function matplotlib.pyplot.show(close=None, block=None)>"
      ]
     },
     "execution_count": 13,
     "metadata": {},
     "output_type": "execute_result"
    },
    {
     "data": {
      "image/png": "[encoded data removed]",
      "text/plain": [
       "<Figure size 640x480 with 1 Axes>"
      ]
     },
     "metadata": {},
     "output_type": "display_data"
    }
   ],
   "source": [
    "import matplotlib.pyplot as plt\n",
    "plt.imshow(image, cmap='gray')\n",
    "plt.title(\"grayscale image\")\n",
    "plt.axis('off')\n",
    "plt.show\n"
   ]
  },
  {
   "cell_type": "code",
   "execution_count": 17,
   "id": "08cb1521",
   "metadata": {},
   "outputs": [
    {
     "data": {
      "text/plain": [
       "<function matplotlib.pyplot.show(close=None, block=None)>"
      ]
     },
     "execution_count": 17,
     "metadata": {},
     "output_type": "execute_result"
    },
    {
     "data": {
      "image/png": "[encoded data removed]",
      "text/plain": [
       "<Figure size 640x480 with 1 Axes>"
      ]
     },
     "metadata": {},
     "output_type": "display_data"
    }
   ],
   "source": [
    "inverted_image = 255 - image\n",
    "plt.imshow(inverted_image, cmap='gray')\n",
    "plt.title(\"grayscale image\")\n",
    "plt.axis('off')\n",
    "plt.show\n"
   ]
  },
  {
   "cell_type": "code",
   "execution_count": 18,
   "id": "6919c198",
   "metadata": {},
   "outputs": [
    {
     "data": {
      "text/plain": [
       "<function matplotlib.pyplot.show(close=None, block=None)>"
      ]
     },
     "execution_count": 18,
     "metadata": {},
     "output_type": "execute_result"
    },
    {
     "data": {
      "image/png": "[encoded data removed]",
      "text/plain": [
       "<Figure size 640x480 with 1 Axes>"
      ]
     },
     "metadata": {},
     "output_type": "display_data"
    }
   ],
   "source": [
    "thresholded_image = np.where(image < 128, 0, 255).astype(np.uint8)\n",
    "plt.imshow(thresholded_image, cmap='gray')\n",
    "plt.title(\"grayscale image\")\n",
    "plt.axis('off')\n",
    "plt.show\n"
   ]
  },
  {
   "cell_type": "code",
   "execution_count": 19,
   "id": "8cdcc9f1",
   "metadata": {},
   "outputs": [
    {
     "data": {
      "text/plain": [
       "<function matplotlib.pyplot.show(close=None, block=None)>"
      ]
     },
     "execution_count": 19,
     "metadata": {},
     "output_type": "execute_result"
    },
    {
     "data": {
      "image/png": "[encoded data removed]",
      "text/plain": [
       "<Figure size 640x480 with 1 Axes>"
      ]
     },
     "metadata": {},
     "output_type": "display_data"
    }
   ],
   "source": [
    "start = 3 \n",
    "end = 7\n",
    "cropped_image = image[start:end, start:end]\n",
    "plt.imshow(cropped_image, cmap='gray')\n",
    "plt.title(\"grayscale image\")\n",
    "plt.axis('off')\n",
    "plt.show\n"
   ]
  },
  {
   "cell_type": "code",
   "execution_count": 20,
   "id": "a906bc36",
   "metadata": {},
   "outputs": [
    {
     "data": {
      "text/plain": [
       "<function matplotlib.pyplot.show(close=None, block=None)>"
      ]
     },
     "execution_count": 20,
     "metadata": {},
     "output_type": "execute_result"
    },
    {
     "data": {
      "image/png": "[encoded data removed]",
      "text/plain": [
       "<Figure size 640x480 with 1 Axes>"
      ]
     },
     "metadata": {},
     "output_type": "display_data"
    }
   ],
   "source": [
    "edges_horizontal = np.zeros_like(image[:, :-1], dtype=np.int16)\n",
    "for i in range(image.shape[0]):\n",
    "    edges_horizontal[i] = image[i, 1:] - image[i, :-1]\n",
    "plt.imshow(image, cmap='gray')\n",
    "plt.title(\"grayscale image\")\n",
    "plt.axis('off')\n",
    "plt.show\n"
   ]
  },
  {
   "cell_type": "code",
   "execution_count": null,
   "id": "65deea9d",
   "metadata": {},
   "outputs": [],
   "source": []
  }
 ],
 "metadata": {
  "kernelspec": {
   "display_name": "Python 3",
   "language": "python",
   "name": "python3"
  },
  "language_info": {
   "codemirror_mode": {
    "name": "ipython",
    "version": 3
   },
   "file_extension": ".py",
   "mimetype": "text/x-python",
   "name": "python",
   "nbconvert_exporter": "python",
   "pygments_lexer": "ipython3",
   "version": "3.13.3"
  }
 },
 "nbformat": 4,
 "nbformat_minor": 5
}
